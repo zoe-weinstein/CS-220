{
 "cells": [
  {
   "cell_type": "code",
   "execution_count": 1,
   "id": "6e42a31a",
   "metadata": {},
   "outputs": [],
   "source": [
    "# project: p3\n",
    "# submitter: zlweinstein\n",
    "# hours: 5\n",
    "# partner: none"
   ]
  },
  {
   "cell_type": "code",
   "execution_count": 2,
   "id": "33599a75",
   "metadata": {},
   "outputs": [],
   "source": [
    "import project\n",
    "import math"
   ]
  },
  {
   "cell_type": "code",
   "execution_count": 3,
   "id": "873aa512",
   "metadata": {},
   "outputs": [
    {
     "name": "stdout",
     "output_type": "stream",
     "text": [
      "Help on module project:\n",
      "\n",
      "NAME\n",
      "    project\n",
      "\n",
      "FUNCTIONS\n",
      "    dump()\n",
      "        prints all the data to the screen\n",
      "    \n",
      "    get_consumption(energy_idx, year=2020)\n",
      "        get_consumption(energy_idx, year) returns the Btu consumed (in Trillions) in the specified energy in specified year.\n",
      "    \n",
      "    get_idx(energy)\n",
      "        get_idx(energy) returns the index of the specified energy.\n",
      "    \n",
      "    init(path)\n",
      "        init(path) must be called to load data before other calls will work.  You should call it like this: init(\"energy.csv\")\n",
      "\n",
      "FILE\n",
      "    /Users/zoeweinstein/Documents/cs220/p3/project.py\n",
      "\n",
      "\n"
     ]
    }
   ],
   "source": [
    "help(project)"
   ]
  },
  {
   "cell_type": "code",
   "execution_count": 4,
   "id": "4b6b3be9",
   "metadata": {},
   "outputs": [],
   "source": [
    "project.init(\"energy.csv\") \n",
    "hydroelectric_idx = project.get_idx(\"Conventional Hydroelectric Power\")\n",
    "solar_idx = project.get_idx(\"Solar Energy\")\n",
    "windenergy_idx = project.get_idx(\"Wind Energy\")\n",
    "woodenergy_idx = project.get_idx(\"Wood Energy\")\n",
    "biomassenergy_idx = project.get_idx(\"Biomass Energy\")"
   ]
  },
  {
   "cell_type": "code",
   "execution_count": 5,
   "id": "dba13aab",
   "metadata": {},
   "outputs": [
    {
     "data": {
      "text/plain": [
       "3"
      ]
     },
     "execution_count": 5,
     "metadata": {},
     "output_type": "execute_result"
    }
   ],
   "source": [
    "#Q1: What is the index of Solar Energy?\n",
    "project.init(\"energy.csv\")\n",
    "project.get_idx(\"Solar Energy\")"
   ]
  },
  {
   "cell_type": "code",
   "execution_count": 6,
   "id": "7d429d2a",
   "metadata": {},
   "outputs": [
    {
     "data": {
      "text/plain": [
       "185.145"
      ]
     },
     "execution_count": 6,
     "metadata": {},
     "output_type": "execute_result"
    }
   ],
   "source": [
    "#Q2: How much of the Wood Energy was consumed by the US electric power sector in 2020?\n",
    "project.get_consumption(project.get_idx(\"Wood Energy\"), 2020)"
   ]
  },
  {
   "cell_type": "code",
   "execution_count": 7,
   "id": "d8cd3a1c",
   "metadata": {},
   "outputs": [
    {
     "data": {
      "text/plain": [
       "2307.717"
      ]
     },
     "execution_count": 7,
     "metadata": {},
     "output_type": "execute_result"
    }
   ],
   "source": [
    "#Q3: How much Conventional Hydroelectric Power was consumed by the US electric power sector in 2015?\n",
    "project.get_consumption(project.get_idx(\"Conventional Hydroelectric Power\"), 2015)"
   ]
  },
  {
   "cell_type": "code",
   "execution_count": 8,
   "id": "d3ff7eed",
   "metadata": {},
   "outputs": [
    {
     "data": {
      "text/plain": [
       "2752.024"
      ]
     },
     "execution_count": 8,
     "metadata": {},
     "output_type": "execute_result"
    }
   ],
   "source": [
    "def year_max(year):\n",
    "    # grab the consumption of each energy source in the given year\n",
    "    hydroelectric_consumption = project.get_consumption(project.get_idx(\"Conventional Hydroelectric Power\"), year)\n",
    "    solar_consumption = project.get_consumption(project.get_idx(\"Solar Energy\"), year)\n",
    "    wind_consumption = project.get_consumption(project.get_idx(\"Wind Energy\"), year)\n",
    "    wood_consumption = project.get_consumption(project.get_idx(\"Wood Energy\"), year)    \n",
    "    biomass_consumption = project.get_consumption(project.get_idx(\"Biomass Energy\"), year)\n",
    "\n",
    "    # use built-in max function to get the maximum of the five values\n",
    "    return max(hydroelectric_consumption, solar_consumption, wind_consumption, wood_consumption, biomass_consumption)\n",
    "\n",
    "#Q4: In 2017, what was the largest amount of energy consumed by the US electric power sector from a single renewable energy source?\n",
    "year_max(2017)\n",
    "\n"
   ]
  },
  {
   "cell_type": "code",
   "execution_count": 9,
   "id": "25e39e34",
   "metadata": {},
   "outputs": [
    {
     "data": {
      "text/plain": [
       "2998.142"
      ]
     },
     "execution_count": 9,
     "metadata": {},
     "output_type": "execute_result"
    }
   ],
   "source": [
    "#Q5: What was the the largest amount of energy consumed by the US electric power sector from a single renewable energy source between 2015 and 2020?\n",
    "max(year_max(2015), year_max(2016), year_max(2017), year_max(2018), year_max(2019), year_max(2020))\n"
   ]
  },
  {
   "cell_type": "code",
   "execution_count": 10,
   "id": "d88bc92c",
   "metadata": {},
   "outputs": [
    {
     "data": {
      "text/plain": [
       "227.901"
      ]
     },
     "execution_count": 10,
     "metadata": {},
     "output_type": "execute_result"
    }
   ],
   "source": [
    "def energy_min(source):\n",
    "    source_idx = project.get_idx(source)    \n",
    "    y15 = project.get_consumption(source_idx, 2015)\n",
    "    y16 = project.get_consumption(source_idx, 2016)\n",
    "    y17 = project.get_consumption(source_idx, 2017)\n",
    "    y18 = project.get_consumption(source_idx, 2018)\n",
    "    y19 = project.get_consumption(source_idx, 2019)\n",
    "    y20 = project.get_consumption(source_idx, 2020)\n",
    "    # grab the consumptions from other years\n",
    "\n",
    "    # use the min function (similar to the max function)\n",
    "    # to get the minimum across the six years\n",
    "    # and return that value\n",
    "    return min(y15, y16, y17, y18, y19, y20)\n",
    "\n",
    "#Q6: What was the minimum amount of Solar Energy consumed by the US electric power sector in a single year?\n",
    "energy_min(\"Solar Energy\")\n",
    "    "
   ]
  },
  {
   "cell_type": "code",
   "execution_count": 11,
   "id": "14766903",
   "metadata": {},
   "outputs": [
    {
     "data": {
      "text/plain": [
       "1775.705"
      ]
     },
     "execution_count": 11,
     "metadata": {},
     "output_type": "execute_result"
    }
   ],
   "source": [
    "#Q7: What was the minimum amount of Wind Energy consumed by the US electric power sector in a single year?\n",
    "energy_min(\"Wind Energy\")"
   ]
  },
  {
   "cell_type": "code",
   "execution_count": 12,
   "id": "44540c08",
   "metadata": {},
   "outputs": [
    {
     "data": {
      "text/plain": [
       "484.5373333333334"
      ]
     },
     "execution_count": 12,
     "metadata": {},
     "output_type": "execute_result"
    }
   ],
   "source": [
    "def energy_avg(energy_source):\n",
    "    source_idx = project.get_idx(energy_source)    \n",
    "    y15 = project.get_consumption(source_idx, 2015)\n",
    "    y16 = project.get_consumption(source_idx, 2016)\n",
    "    y17 = project.get_consumption(source_idx, 2017)\n",
    "    y18 = project.get_consumption(source_idx, 2018)\n",
    "    y19 = project.get_consumption(source_idx, 2019)\n",
    "    y20 = project.get_consumption(source_idx, 2020)\n",
    "    return ((y15+y16+y17+y18+y19+y20)/6)\n",
    "\n",
    "#Q8: How much Biomass Energy was consumed by the US electric power sector on average between 2015 and 2020?\n",
    "energy_avg(\"Biomass Energy\")\n"
   ]
  },
  {
   "cell_type": "code",
   "execution_count": 13,
   "id": "48605fb3",
   "metadata": {},
   "outputs": [
    {
     "data": {
      "text/plain": [
       "2550.4995"
      ]
     },
     "execution_count": 13,
     "metadata": {},
     "output_type": "execute_result"
    }
   ],
   "source": [
    "#Q9: How much Conventional Hydroelectric Power was consumed by the US electric power sector on average between 2015 and 2020?\n",
    "energy_avg(\"Conventional Hydroelectric Power\")\n",
    "\n"
   ]
  },
  {
   "cell_type": "code",
   "execution_count": 14,
   "id": "db3f5a80",
   "metadata": {},
   "outputs": [
    {
     "data": {
      "text/plain": [
       "10.289463926466807"
      ]
     },
     "execution_count": 14,
     "metadata": {},
     "output_type": "execute_result"
    }
   ],
   "source": [
    "#Q10: Relative to its 6 year average, how much more Wind Energy was consumed by the US electric power sector in 2019?\n",
    "wind_avg = energy_avg(\"Wind Energy\")\n",
    "wind_diff = ((project.get_consumption(project.get_idx(\"Wind Energy\"), 2019)) - wind_avg)\n",
    "wind_prop = wind_diff / wind_avg\n",
    "wind_per = wind_prop * 100\n",
    "wind_per\n",
    "\n",
    "\n"
   ]
  },
  {
   "cell_type": "code",
   "execution_count": 15,
   "id": "87b135ac",
   "metadata": {},
   "outputs": [
    {
     "data": {
      "text/plain": [
       "5080.059"
      ]
     },
     "execution_count": 15,
     "metadata": {},
     "output_type": "execute_result"
    }
   ],
   "source": [
    "def year_sum(year = 2015):   \n",
    "    hydroelectric_consumption = project.get_consumption(project.get_idx(\"Conventional Hydroelectric Power\"), year)\n",
    "    solar_consumption = project.get_consumption(project.get_idx(\"Solar Energy\"), year)\n",
    "    wind_consumption = project.get_consumption(project.get_idx(\"Wind Energy\"), year)\n",
    "    wood_consumption = project.get_consumption(project.get_idx(\"Wood Energy\"), year)    \n",
    "    biomass_consumption = project.get_consumption(project.get_idx(\"Biomass Energy\"), year)\n",
    "    return hydroelectric_consumption + solar_consumption +  wind_consumption + wood_consumption +  biomass_consumption\n",
    "\n",
    "\n",
    "#Q11: How much renewable energy was consumed by the US electric power sector in 2015?\n",
    "year_sum()\n",
    "\n"
   ]
  },
  {
   "cell_type": "code",
   "execution_count": 16,
   "id": "26944d98",
   "metadata": {},
   "outputs": [
    {
     "data": {
      "text/plain": [
       "6468.263999999999"
      ]
     },
     "execution_count": 16,
     "metadata": {},
     "output_type": "execute_result"
    }
   ],
   "source": [
    "#Q12: How much renewable energy was consumed by the US electric power sector in 2019\n",
    "year_sum(2019)\n"
   ]
  },
  {
   "cell_type": "code",
   "execution_count": 17,
   "id": "fe0832de",
   "metadata": {},
   "outputs": [
    {
     "data": {
      "text/plain": [
       "-11.742399999999998"
      ]
     },
     "execution_count": 17,
     "metadata": {},
     "output_type": "execute_result"
    }
   ],
   "source": [
    "def change_per_year(energy, start_year = 2015, end_year = 2020):\n",
    "    avg_change = (project.get_consumption(project.get_idx(energy), end_year) - project.get_consumption(project.get_idx(energy), start_year)) / (end_year - start_year)\n",
    "    return avg_change\n",
    "#Q13: How much has the consumption of Wood Energy by the US electric power sector changed per year (on average) from 2015 to 2020?\n",
    "change_per_year(\"Wood Energy\")\n",
    "\n"
   ]
  },
  {
   "cell_type": "code",
   "execution_count": 28,
   "id": "d8b335b1",
   "metadata": {},
   "outputs": [
    {
     "data": {
      "text/plain": [
       "219.11933333333323"
      ]
     },
     "execution_count": 28,
     "metadata": {},
     "output_type": "execute_result"
    }
   ],
   "source": [
    "#Q14: How much has the consumption of Wind Energy by the US electric power sector changed per year (on average) from 2017 to 2020?\n",
    "change_per_year(\"Wind Energy\", 2017)\n",
    "\n",
    "\n"
   ]
  },
  {
   "cell_type": "code",
   "execution_count": 19,
   "id": "22b9e668",
   "metadata": {},
   "outputs": [
    {
     "data": {
      "text/plain": [
       "2028"
      ]
     },
     "execution_count": 19,
     "metadata": {},
     "output_type": "execute_result"
    }
   ],
   "source": [
    "#Q15: In which year is the consumption of Wood Energy by the US electric power sector estimated to reach 100 trillion Btu?\n",
    "\n",
    "def find_threshold_year(energy, threshold = 0):\n",
    "     # TODO: compute the average change in consumption from 2015 to 2020\n",
    "    avg_change = change_per_year(energy)\n",
    "  \n",
    "\n",
    "     # TODO: compute the difference between threshold and consumption in 2020\n",
    "    consumption_2020 = project.get_consumption(project.get_idx(energy), 2020) \n",
    "    difference = threshold - consumption_2020 \n",
    "    \n",
    "\n",
    "     # TODO: compute the number of years it will take from 2020 to reach threshold\n",
    "    year_til_threshold = difference / avg_change\n",
    "    \n",
    "     # TODO: add that number of years to 2020 to compute threshold year\n",
    "    threshold_year = math.ceil(2020 + year_til_threshold)\n",
    "     # TODO: use math.ceil() to round it up.\n",
    "    return threshold_year\n",
    "\n",
    "find_threshold_year(\"Wood Energy\", 100)\n",
    "\n"
   ]
  },
  {
   "cell_type": "code",
   "execution_count": 20,
   "id": "f2e3e655",
   "metadata": {},
   "outputs": [
    {
     "data": {
      "text/plain": [
       "2032"
      ]
     },
     "execution_count": 20,
     "metadata": {},
     "output_type": "execute_result"
    }
   ],
   "source": [
    "#Q16: In which year is the consumption of Biomass Energy by the US electric power sector estimated to reach 200 trillion Btu?\n",
    "\n",
    "find_threshold_year(\"Biomass Energy\", 200)"
   ]
  },
  {
   "cell_type": "code",
   "execution_count": 21,
   "id": "e2e3d6ce",
   "metadata": {},
   "outputs": [
    {
     "data": {
      "text/plain": [
       "2029"
      ]
     },
     "execution_count": 21,
     "metadata": {},
     "output_type": "execute_result"
    }
   ],
   "source": [
    "#Q17: In which year is the consumption of Biomass Energy by the US electric power \n",
    "#sector estimated to be less than the consumption of Wood Energy in 2015?\n",
    "def get_consumption(year):\n",
    "    wood_consump = project.get_consumption(project.get_idx(\"Wood Energy\"), year) \n",
    "    return wood_consump\n",
    "\n",
    "get_consumption(2015)\n",
    "find_threshold_year(\"Biomass Energy\", get_consumption(2015))\n",
    "\n",
    "#find_threshold_year(\"Biomass Energy\", threshold = wood_consump)\n",
    "\n",
    "\n",
    "\n"
   ]
  },
  {
   "cell_type": "code",
   "execution_count": 22,
   "id": "7e6b0332",
   "metadata": {
    "scrolled": true
   },
   "outputs": [
    {
     "data": {
      "text/plain": [
       "2050"
      ]
     },
     "execution_count": 22,
     "metadata": {},
     "output_type": "execute_result"
    }
   ],
   "source": [
    "#Q18: In which year will the consumption of Solar Energy by the US electric power sector overtake Conventional Hydroelectric Power?\n",
    "\n",
    "def find_overtake_year(energy1, energy2):\n",
    "    # TODO: compute the average change in consumption for both energy sources from 2015 to 2020.\n",
    "    energy1_avg = change_per_year(energy1, 2015)\n",
    "    energy2_avg = change_per_year(energy2, 2015)\n",
    "  \n",
    "    \n",
    "    # TODO: calculate the difference in change rate, aka the relative change rate\n",
    "    relative_change_rate = energy2_avg - energy1_avg\n",
    "\n",
    "\n",
    "    # TODO: compute the intial difference between consumption of energy1 and energy2 in 2020.    \n",
    "    consumption_2020_e1 = project.get_consumption(project.get_idx(energy1), 2020) \n",
    " \n",
    "    consumption_2020_e2 = project.get_consumption(project.get_idx(energy2), 2020) \n",
    " \n",
    "    inital_difference = consumption_2020_e1 - consumption_2020_e2\n",
    "\n",
    "   \n",
    "    # TODO: look at the relative change rate you computed, how many years will it take for the gap to close?\n",
    "    years_til_gap_closed = inital_difference / relative_change_rate\n",
    " #   print(years_til_gap_closed)\n",
    "     \n",
    "    # TODO: take the absolute value of this number and add it to 2020 to get the overtake year\n",
    "    actual_year = math.ceil(abs(years_til_gap_closed) + 2020)\n",
    "\n",
    "    # TODO: use math.ceil() to round it up\n",
    "    return actual_year\n",
    "    over_take_year = find_overtake_year(\"Solar Energy\", \"Conventional Hydroelectric Power\")\n",
    "    return over_take_year\n",
    "find_overtake_year(\"Solar Energy\", \"Conventional Hydroelectric Power\")\n",
    "\n",
    "\n",
    "\n"
   ]
  },
  {
   "cell_type": "code",
   "execution_count": 23,
   "id": "472c1aa0",
   "metadata": {},
   "outputs": [
    {
     "data": {
      "text/plain": [
       "4248.813"
      ]
     },
     "execution_count": 23,
     "metadata": {},
     "output_type": "execute_result"
    }
   ],
   "source": [
    "#Q19: Estimate how much Solar Energy will be consumed in the year that you found in Q18.\n",
    "\n",
    "#consumption solar energy 2020 + (average change in consuption per year * 30) \n",
    "total_solar_energy = project.get_consumption(project.get_idx(\"Solar Energy\"), 2020)  + change_per_year(\"Solar Energy\", 2015)*30\n",
    "total_solar_energy\n",
    "\n",
    "\n",
    "\n",
    "\n",
    "\n",
    "\n",
    "\n"
   ]
  },
  {
   "cell_type": "code",
   "execution_count": 24,
   "id": "66adaa6b",
   "metadata": {},
   "outputs": [
    {
     "data": {
      "text/plain": [
       "0.8463882787530359"
      ]
     },
     "execution_count": 24,
     "metadata": {},
     "output_type": "execute_result"
    }
   ],
   "source": [
    "#Q20: What is the increase in the unit market share for Solar Energy from 2018 to 2019?\n",
    "sum_18 = year_sum(2018)\n",
    "sum_19 = year_sum(2019)\n",
    "solar_18 = project.get_consumption(project.get_idx(\"Solar Energy\"), 2018)\n",
    "solar_19 = project.get_consumption(project.get_idx(\"Solar Energy\"), 2019)\n",
    "market_share18 = (solar_18/sum_18 )*100\n",
    "market_share19 = (solar_19/sum_19)*100\n",
    "increase_unit_market_share = market_share19 - market_share18\n",
    "increase_unit_market_share\n",
    "\n",
    "\n"
   ]
  },
  {
   "cell_type": "code",
   "execution_count": null,
   "id": "03345a73",
   "metadata": {},
   "outputs": [],
   "source": []
  }
 ],
 "metadata": {
  "kernelspec": {
   "display_name": "Python 3 (ipykernel)",
   "language": "python",
   "name": "python3"
  },
  "language_info": {
   "codemirror_mode": {
    "name": "ipython",
    "version": 3
   },
   "file_extension": ".py",
   "mimetype": "text/x-python",
   "name": "python",
   "nbconvert_exporter": "python",
   "pygments_lexer": "ipython3",
   "version": "3.9.7"
  }
 },
 "nbformat": 4,
 "nbformat_minor": 5
}

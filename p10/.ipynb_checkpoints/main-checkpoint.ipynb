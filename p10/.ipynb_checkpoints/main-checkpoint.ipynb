{
 "cells": [
  {
   "cell_type": "code",
   "execution_count": 1,
   "id": "cce3f26e",
   "metadata": {},
   "outputs": [],
   "source": [
    "# project: p10\n",
    "# submitter: zlweinstein\n",
    "# partner: none\n",
    "# hours: 9"
   ]
  },
  {
   "cell_type": "code",
   "execution_count": 2,
   "id": "bac84e8f",
   "metadata": {},
   "outputs": [],
   "source": [
    "import os\n",
    "import csv\n",
    "import json\n",
    "from collections import namedtuple\n",
    "# you may use from style of import to import JSONDecodeError"
   ]
  },
  {
   "cell_type": "code",
   "execution_count": 3,
   "id": "f0848f96",
   "metadata": {},
   "outputs": [
    {
     "data": {
      "text/plain": [
       "['.channel_ids0.json',\n",
       " '.hidden.txt',\n",
       " 'channel_ids1.json',\n",
       " 'channel_ids2.json',\n",
       " 'channel_ids3.json',\n",
       " 'channel_ids4.json',\n",
       " 'channel_ids5.json',\n",
       " 'comment_data1.csv',\n",
       " 'comment_data2.csv',\n",
       " 'comment_data3.csv',\n",
       " 'comment_data4.csv',\n",
       " 'comment_data5.csv',\n",
       " 'video_data.csv',\n",
       " 'video_ids.json']"
      ]
     },
     "execution_count": 3,
     "metadata": {},
     "output_type": "execute_result"
    }
   ],
   "source": [
    "data_files = os.listdir(\"data\")\n",
    "sorted(data_files)"
   ]
  },
  {
   "cell_type": "code",
   "execution_count": 4,
   "id": "a5af0c15",
   "metadata": {},
   "outputs": [
    {
     "data": {
      "text/plain": [
       "['channel_ids1.json',\n",
       " 'channel_ids2.json',\n",
       " 'channel_ids3.json',\n",
       " 'channel_ids4.json',\n",
       " 'channel_ids5.json',\n",
       " 'comment_data1.csv',\n",
       " 'comment_data2.csv',\n",
       " 'comment_data3.csv',\n",
       " 'comment_data4.csv',\n",
       " 'comment_data5.csv',\n",
       " 'video_data.csv',\n",
       " 'video_ids.json']"
      ]
     },
     "execution_count": 4,
     "metadata": {},
     "output_type": "execute_result"
    }
   ],
   "source": [
    "#Q1: What are the names of the files present in the data directory?\n",
    "def list_files_in(pathname):\n",
    "    list_at_location = []\n",
    "    for files in os.listdir(pathname):\n",
    "        if not files.startswith(\".\"):\n",
    "            list_at_location.append(files)\n",
    "    return sorted(list_at_location)\n",
    "    \"\"\"\n",
    "    Given a (relative) path called pathname, return a list of files at this path. \n",
    "    Make sure to exclude files that start with a \".\" from your list, \n",
    "    and that your list of files is sorted alphabetically before you return it.\n",
    "    \"\"\"\n",
    "\n",
    "sorted(list_files_in(\"data\"))"
   ]
  },
  {
   "cell_type": "code",
   "execution_count": 5,
   "id": "26531716",
   "metadata": {},
   "outputs": [
    {
     "data": {
      "text/plain": [
       "['data/channel_ids1.json',\n",
       " 'data/channel_ids2.json',\n",
       " 'data/channel_ids3.json',\n",
       " 'data/channel_ids4.json',\n",
       " 'data/channel_ids5.json',\n",
       " 'data/comment_data1.csv',\n",
       " 'data/comment_data2.csv',\n",
       " 'data/comment_data3.csv',\n",
       " 'data/comment_data4.csv',\n",
       " 'data/comment_data5.csv',\n",
       " 'data/video_data.csv',\n",
       " 'data/video_ids.json']"
      ]
     },
     "execution_count": 5,
     "metadata": {},
     "output_type": "execute_result"
    }
   ],
   "source": [
    "#Q2: What are the paths of all the files in the data directory?\n",
    "def list_paths_in(pathname):\n",
    "    list_at_location = []\n",
    "    for files in os.listdir(pathname):\n",
    "        if not files.startswith(\".\"):\n",
    "            pname_dir = os.path.join(\"data\", files)\n",
    "            list_at_location.append(pname_dir)\n",
    "    return sorted(list_at_location)\n",
    "    \"\"\"\n",
    "    Gets a list of files in pathname directory and generates relative paths to all the files,\n",
    "    using os.path.join function.\n",
    "    Returns a list of relative paths to each file inside pathname directory.\n",
    "    \"\"\"\n",
    "data_paths = list_paths_in(\"data\")\n",
    "data_paths"
   ]
  },
  {
   "cell_type": "code",
   "execution_count": 6,
   "id": "3e7eb1dd",
   "metadata": {},
   "outputs": [
    {
     "data": {
      "text/plain": [
       "['data/comment_data1.csv',\n",
       " 'data/comment_data2.csv',\n",
       " 'data/comment_data3.csv',\n",
       " 'data/comment_data4.csv',\n",
       " 'data/comment_data5.csv']"
      ]
     },
     "execution_count": 6,
     "metadata": {},
     "output_type": "execute_result"
    }
   ],
   "source": [
    "#Q3: What are the paths of all the files whose name contains comment_data in our data directory?\n",
    "comment_paths = []\n",
    "for files in data_paths:\n",
    "    if \"comment_data\" in files:\n",
    "        comment_paths.append(files)\n",
    "comment_paths"
   ]
  },
  {
   "cell_type": "code",
   "execution_count": 7,
   "id": "c4121d05",
   "metadata": {},
   "outputs": [
    {
     "data": {
      "text/plain": [
       "['data/channel_ids1.json',\n",
       " 'data/channel_ids2.json',\n",
       " 'data/channel_ids3.json',\n",
       " 'data/channel_ids4.json',\n",
       " 'data/channel_ids5.json']"
      ]
     },
     "execution_count": 7,
     "metadata": {},
     "output_type": "execute_result"
    }
   ],
   "source": [
    "#Q4: What are the paths of all the files whose name contains channel_ids in our data directory?\n",
    "channel_paths = []\n",
    "for files in data_paths:\n",
    "    if \"channel_ids\" in files:\n",
    "        channel_paths.append(files)\n",
    "channel_paths"
   ]
  },
  {
   "cell_type": "code",
   "execution_count": 8,
   "id": "8b5aace2",
   "metadata": {},
   "outputs": [
    {
     "data": {
      "text/plain": [
       "{'UCpi8TJfiA4lKGkaXs__YdBA': 'The Try Guys',\n",
       " 'UCERUmrDh9hmqEXBsnYFNTIA': 'DashieGames',\n",
       " 'UCIOrUVVyfoWnmcwG6IwCULQ': 'Loserfruit',\n",
       " 'UCR_J_SntqJh5eXw66d5hJxA': 'Matthew Beem',\n",
       " 'UCNye-wNBqNL5ZzHSJj3l8Bg': 'Al Jazeera English',\n",
       " 'UCHRTfR2r0Ss3UjFyw7gSA-A': 'Ryguyrocky',\n",
       " 'UCCbDhjYocBWYPTqoUONCPRA': 'Allie Schnacky',\n",
       " 'UCuN9hYw2RpoAW8rZ3VK3isA': 'NASCAR',\n",
       " 'UCugJq15BiB-c1NDYPHiznWQ': 'Total War',\n",
       " 'UCXVxMuWK6l_pCyxEk07EIRw': 'STARZ',\n",
       " 'UCRijo3ddMTht_IHyNSNXpNQ': 'Dude Perfect',\n",
       " 'UCEdTLCzuunuFLbAVfD1-Jpw': 'The Blondie Boys Shorts',\n",
       " 'UCq3QBWXCKvMnltjwqWuB5bQ': 'Cam&Fam',\n",
       " 'UCjbhchq-wEJBNJ-_faXsOmA': 'INTHESOOP_TV',\n",
       " 'UCjmJDM5pRKbUlVIzDYYWb6g': 'Warner Bros. Pictures',\n",
       " 'UC1T0JN1hhHfNsiKtqKn_dEQ': 'Sarah Schauer',\n",
       " 'UCA19mAJURyYHbJzhfpqhpCA': 'Action Lab Shorts',\n",
       " 'UCja8sZ2T4ylIqjggA1Zuukg': 'CBS Sports HQ',\n",
       " 'UC9PIn6-XuRKZ5HmYeu46AIw': 'Barely Sociable',\n",
       " 'UCXOE3YlluOUu_-5DdUUbAtw': 'WSOCTV9',\n",
       " 'UCUKi4zY5ETSqrKAjTBgjM-g': 'sWooZie',\n",
       " 'UCqZQlzSHbVJrwrn5XvzrzcA': 'NBC Sports',\n",
       " 'UCXcMEuLWTxA2D8IZcfouBiA': 'Davidjustinn',\n",
       " 'UCwx2yZG4irNLMDBuB-JGxMw': 'TapWater',\n",
       " 'UClOf1XXinvZsy4wKPAkro2A': 'PlayOverwatch',\n",
       " 'UCeBnbqt4VRhotq2TQjkIi2A': 'LaurenzSide',\n",
       " 'UCSo19KhHogXxu3sFsOpqrcQ': 'TUDN USA',\n",
       " 'UCkDtCKtPKlsg-gJO_m5D0mQ': 'Telepurte',\n",
       " 'UC-SV8-bUJfXjrRMnp7F8Wzw': 'Roman Atwood Vlogs',\n",
       " 'UCJcQeT8LADOXRROXCGM4dRg': 'TheCrazyGorilla',\n",
       " 'UCKaCalz5N5ienIbfPzEbYuA': 'Jordan Matter',\n",
       " 'UCF9imwPMSGz4Vq1NiTWCC7g': 'Paramount Pictures',\n",
       " 'UCY30JRSgfhYXA6i6xX1erWg': 'Smosh',\n",
       " 'UCE86oyLVAcsSkRAEWVtDUlA': '4 Shooters Only',\n",
       " 'UCe7cIhm4_RWsThRzBCXtmOQ': 'ABC11',\n",
       " 'UCOxoGn23BBHWghJelrqGkhg': 'Braydon Price',\n",
       " 'UCzMjRlKVO9XIqH_crIFpi6w': 'Skeppy',\n",
       " 'UCqseWqrl7r-hNoWme7hIfTw': 'Rebecca Rogers (Mrs. Rogers)',\n",
       " 'UCYCOimM5ykUJO4WrZD7kDeQ': 'Jaycoset',\n",
       " 'UCxl79GCsb6-xhrdQuPgnuJA': 'Acura',\n",
       " 'UCq0OueAsdxH6b8nyAspwViw': 'Universal Pictures',\n",
       " 'UCY8SLLJjWpS4sx1dEqECaIw': 'Tyler Oliveira',\n",
       " 'UC4ijq8Cg-8zQKx8OH12dUSw': 'Kara and Nate',\n",
       " 'UCnmGIkw-KdI0W5siakKPKog': 'Ryan Trahan',\n",
       " 'UCHxSZ6vUjipY6rf4bWnIJ1A': 'watchyourhaircut',\n",
       " 'UCE_--R1P5-kfBzHTca0dsnw': 'Complex',\n",
       " 'UCTz8K5TMmkQkRArybXfoVDg': 'Investment Joy',\n",
       " 'UCjpPTefVqOp_sPToSyUaEMg': 'Mr.Askick',\n",
       " 'UC1KsxDW7hhfeq5QQmFtInIw': 'julien solomita',\n",
       " 'UC0h07r_UgTD0Tc-Dn5XLX3g': 'Wisp',\n",
       " 'UC6QWhGQqf0YDYdRb0n6ojWw': 'Brooklyn and Bailey',\n",
       " 'UCDZH6sjXpWd1k9kJyXJZn9g': 'Cj Dachamp',\n",
       " 'UCPgMAS8woHJ_o_OZdTR7kcQ': 'Peacock',\n",
       " 'UCcW055_DGSkCEGWoKsW7gFQ': 'scribblejuice',\n",
       " 'UC-8zLYB2DB1fFCP3KJxe0Sg': 'MiniBloxia',\n",
       " 'UC2D-GCxeE69hCUmRwISXABw': 'Logdotzip',\n",
       " 'UChKqgm5CfsjC_bXiZlVnACA': 'Bigwunna',\n",
       " 'UCRw5sR-ZubiAr3Dxh_sJ64w': 'THE WADS',\n",
       " 'UCVJgocEWT3u49_4GtulGHnQ': 'Off Grid w/ Jake & Nicolle',\n",
       " 'UChFDOD4WPd2FgTCkSA4qzXg': \"Vader's Fortress\",\n",
       " 'UC7FldPQ7aT7Slikg7tZc30g': 'Mitten Squad',\n",
       " 'UCY4AlDv6wL2qhrX29iwdqAg': '2HYPE',\n",
       " 'UCUaT_39o1x6qWjz7K2pWcgw': 'Beast Reacts',\n",
       " 'UC3L9XPe0_FGfRG-CMGtBvFg': 'JxmyHighroller',\n",
       " 'UCSUf5_EPEfl4zlBKZHkZdmw': 'Danny Gonzalez',\n",
       " 'UC9tXyGZiEft9J4ZiI8dHb3Q': 'TapL',\n",
       " 'UCxDZs_ltFFvn0FDHT6kmoXA': 'bald and bankrupt',\n",
       " 'UCQ7Lqg5Czh5djGK6iOG53KQ': 'Wolves',\n",
       " 'UC6nSFpj9HTCZ5t-N3Rm3-HA': 'Vsauce',\n",
       " 'UCKQECjul8nw1KW_JzfBTP1A': 'KPRC 2 Click2Houston',\n",
       " 'UCLaduTRRWdzU8kq9AoqTRlw': 'RellGames',\n",
       " 'UCXMwCQVey4PhdWFJ6WhAVhA': 'SockStudios',\n",
       " 'UCtWIUAvZuWaNorJImG2Riqg': 'Damn Seconds',\n",
       " 'UCo00rI10S3Wpk4hVkL5IDTg': 'Alex Choi',\n",
       " 'UCJbYdyufHR-cxOuY96KIoqA': 'AMP',\n",
       " 'UC-O9o5coq8iFSVthivq__tw': 'Lexi Hensler',\n",
       " 'UCFKDEp9si4RmHFWJW1vYsMA': 'EthosLab',\n",
       " 'UCvNBXWGykQrWb7kPAn5eLUQ': 'Battlefield',\n",
       " 'UCEvC-HQ7ST5h8iC1IDgVtgw': 'Telanthric',\n",
       " 'UCBVEb6W9dMpIConICMS0B5Q': 'ImNotaCasualty',\n",
       " 'UChnGFN2LRHBq-0PM6dOaq5A': 'Bachelor Nation',\n",
       " 'UCIPPMRA040LQr5QPyJEbmXA': 'MrBeast Gaming',\n",
       " 'UCpIafFPGutTAKOBHMtGen7g': 'Gus Johnson',\n",
       " 'UCiS882YPwZt1NfaM0gR0D9Q': 'Genshin Impact',\n",
       " 'UCsEgeyBfOnGGBpjIvkDJbWg': 'Socksfor1',\n",
       " 'UCh8gHdtzO2tXd593_bjErWg': 'Doobydobap',\n",
       " 'UC_ovJB6xS99RQGIq7ik5T_A': 'Benny Soliven',\n",
       " 'UC35TiyFAjzQCyOrFt5ccbhw': 'JGGLS',\n",
       " 'UCpOXWy4Erc4UNoxI9xW-CXw': 'Steel Wool Studios',\n",
       " 'UCSJWlswfVUgyVliZaEFoaBw': 'TheSorryGirls',\n",
       " 'UCfPUcG3oCmXEYgdFuwlFh8w': 'Dingo Doodles',\n",
       " 'UCBgcPSn61UQ4l_-FvcEgLQA': 'NBC 6 South Florida',\n",
       " 'UC0Eqb484X8EiNrFLSUQVsaA': 'SoundSmith'}"
      ]
     },
     "execution_count": 8,
     "metadata": {},
     "output_type": "execute_result"
    }
   ],
   "source": [
    "def read_json(path):\n",
    "    with open(path, encoding=\"utf-8\") as f:\n",
    "        return json.load(f) # dict, list, etc\n",
    "\n",
    "json_data = read_json(os.path.join(\"data\", \"channel_ids1.json\"))\n",
    "json_data"
   ]
  },
  {
   "cell_type": "code",
   "execution_count": 9,
   "id": "5736eba3",
   "metadata": {},
   "outputs": [],
   "source": [
    "def get_mapping(pathname):\n",
    "    try:\n",
    "        return read_json(pathname)\n",
    "    except(json.JSONDecodeError):\n",
    "        empty_dict = {}\n",
    "        return empty_dict"
   ]
  },
  {
   "cell_type": "code",
   "execution_count": 10,
   "id": "08469908",
   "metadata": {},
   "outputs": [
    {
     "data": {
      "text/plain": [
       "'Al Jazeera English'"
      ]
     },
     "execution_count": 10,
     "metadata": {},
     "output_type": "execute_result"
    }
   ],
   "source": [
    "#Q5: What is the name of the channel with the ID UCNye-wNBqNL5ZzHSJj3l8Bg?\n",
    "id_names = get_mapping(os.path.join(\"data\", \"channel_ids1.json\"))\n",
    "id_names.get(\"UCNye-wNBqNL5ZzHSJj3l8Bg\")"
   ]
  },
  {
   "cell_type": "code",
   "execution_count": 11,
   "id": "946d30dc",
   "metadata": {},
   "outputs": [
    {
     "data": {
      "text/plain": [
       "372"
      ]
     },
     "execution_count": 11,
     "metadata": {},
     "output_type": "execute_result"
    }
   ],
   "source": [
    "#Q6: How many channels do we have in the entire dataset?\n",
    "channel_dict = {}\n",
    "for path in channel_paths:\n",
    "    current_path = get_mapping(path)\n",
    "    for channel in current_path:\n",
    "        channel_dict[channel] = current_path[channel]\n",
    "len(channel_dict)"
   ]
  },
  {
   "cell_type": "code",
   "execution_count": 12,
   "id": "63ae185b",
   "metadata": {
    "scrolled": false
   },
   "outputs": [],
   "source": [
    "# You will need process_csv in order to complete get_comment_data.\n",
    "# If you already copy/pasted it from lab, please ignore this copy.\n",
    "def process_csv(filename):\n",
    "    exampleFile = open(filename, encoding=\"utf-8\")  \n",
    "    exampleReader = csv.reader(exampleFile)\n",
    "    exampleData = list(exampleReader)        \n",
    "    exampleFile.close()  \n",
    "    return exampleData\n",
    "\n",
    "Comment = namedtuple(\"Comment\", [\"video_id\", \"comment_length\", \"author_id\", \"likes\", \"published_at\"])\n",
    "\n",
    "def get_comment_data(comment_file):\n",
    "    csv_data = process_csv(comment_file)\n",
    "    header = csv_data[0]\n",
    "    comment_rows = csv_data[1:]\n",
    "    \n",
    "    comment_id_idx = header.index(\"comment_id\")\n",
    "    video_id_idx = header.index(\"video_id\")\n",
    "    comment_length_idx = header.index(\"comment_length\")\n",
    "    author_id_idx = header.index(\"author_id\")\n",
    "    likes_idx = header.index(\"likes\")\n",
    "    published_at_idx = header.index(\"published_at\")\n",
    "    \n",
    "    comment_dict = {}\n",
    "    for row in comment_rows:\n",
    "        if row == \"\":\n",
    "            continue\n",
    "        try:\n",
    "            r = Comment(row[video_id_idx], int(row[comment_length_idx]), row[author_id_idx], int(row[likes_idx]), row[published_at_idx])\n",
    "        except:\n",
    "            continue\n",
    "        comment_dict[row[comment_id_idx]] = r\n",
    "    return comment_dict\n"
   ]
  },
  {
   "cell_type": "code",
   "execution_count": 13,
   "id": "34cf9400",
   "metadata": {},
   "outputs": [
    {
     "data": {
      "text/plain": [
       "Comment(video_id='udNXMAflbU8', comment_length=175, author_id='UCHkk7x38KWgqjQOHqsQwf0Q', likes=47, published_at='2021-10-10 17:48:38')"
      ]
     },
     "execution_count": 13,
     "metadata": {},
     "output_type": "execute_result"
    }
   ],
   "source": [
    "#Q7: What is the Comment object with comment ID UgygOezB4Mvd5o6FgAt4AaABAg?\n",
    "comment_file = os.path.join(\"data\", \"comment_data1.csv\")\n",
    "get_comment_data(comment_file)[\"UgygOezB4Mvd5o6FgAt4AaABAg\"]"
   ]
  },
  {
   "cell_type": "code",
   "execution_count": 34,
   "id": "1459b952",
   "metadata": {},
   "outputs": [],
   "source": [
    "comments = {}\n",
    "for file in comment_paths:\n",
    "    comments.update(get_comment_data(file))"
   ]
  },
  {
   "cell_type": "code",
   "execution_count": 15,
   "id": "d948fa49",
   "metadata": {},
   "outputs": [
    {
     "data": {
      "text/plain": [
       "67"
      ]
     },
     "execution_count": 15,
     "metadata": {},
     "output_type": "execute_result"
    }
   ],
   "source": [
    "#Q8: What is the length of the comment with ID UgztIaGfqFoiGvbOdfp4AaABAg?\n",
    "comments[\"UgztIaGfqFoiGvbOdfp4AaABAg\"].comment_length"
   ]
  },
  {
   "cell_type": "code",
   "execution_count": 16,
   "id": "93652e47",
   "metadata": {},
   "outputs": [
    {
     "data": {
      "text/plain": [
       "86.87012136274309"
      ]
     },
     "execution_count": 16,
     "metadata": {},
     "output_type": "execute_result"
    }
   ],
   "source": [
    "#Q9: What percentage of comments are at most 140 characters long?\n",
    "long_comm = 0\n",
    "for i in comments:\n",
    "    if comments[i].comment_length <= 140:\n",
    "        long_comm += 1 \n",
    "100 * (long_comm / len(comments))"
   ]
  },
  {
   "cell_type": "code",
   "execution_count": 17,
   "id": "b59c878d",
   "metadata": {},
   "outputs": [
    {
     "data": {
      "text/plain": [
       "'UCIPPMRA040LQr5QPyJEbmXA'"
      ]
     },
     "execution_count": 17,
     "metadata": {},
     "output_type": "execute_result"
    }
   ],
   "source": [
    "#Q10: What is the author ID of the comment that has the highest number of likes?\n",
    "high_comment_likes = 0\n",
    "id_num = 0\n",
    "for i in comments:\n",
    "    if comments[i].likes > high_comment_likes:\n",
    "        high_comment_likes = comments[i].likes\n",
    "        id_num = i\n",
    "comments[id_num].author_id\n"
   ]
  },
  {
   "cell_type": "code",
   "execution_count": 18,
   "id": "634b15d1",
   "metadata": {},
   "outputs": [
    {
     "data": {
      "text/plain": [
       "19"
      ]
     },
     "execution_count": 18,
     "metadata": {},
     "output_type": "execute_result"
    }
   ],
   "source": [
    "#Q11: What is the most popular hour for publishing comments?\n",
    "pop_hour = 0\n",
    "dict_hours = {}\n",
    "for i in comments:\n",
    "    publish_hour = comments[i].published_at[11:13]\n",
    "    if publish_hour not in dict_hours:\n",
    "        dict_hours[publish_hour] = 1\n",
    "    if publish_hour in dict_hours:\n",
    "        dict_hours[publish_hour] += 1\n",
    "sorted_freq = dict(sorted(dict_hours.items(), key = lambda item: item[1]))\n",
    "int(list(sorted_freq.keys())[-1])"
   ]
  },
  {
   "cell_type": "code",
   "execution_count": 19,
   "id": "a5554ab5",
   "metadata": {},
   "outputs": [],
   "source": [
    "comment_buckets = {}\n",
    "for i in comments:\n",
    "    video_id = comments[i].video_id\n",
    "    if video_id not in comment_buckets:\n",
    "        comment_buckets[video_id] = []\n",
    "    if video_id in comment_buckets:\n",
    "        comment_buckets[video_id].append(i)"
   ]
  },
  {
   "cell_type": "code",
   "execution_count": 20,
   "id": "288d4454",
   "metadata": {},
   "outputs": [
    {
     "data": {
      "text/plain": [
       "606"
      ]
     },
     "execution_count": 20,
     "metadata": {},
     "output_type": "execute_result"
    }
   ],
   "source": [
    "#Q12: How many comments does the video with ID A8rrr_w8rfk have?\n",
    "len(comment_buckets[\"A8rrr_w8rfk\"])"
   ]
  },
  {
   "cell_type": "code",
   "execution_count": null,
   "id": "a22dfa46",
   "metadata": {},
   "outputs": [],
   "source": []
  },
  {
   "cell_type": "code",
   "execution_count": 22,
   "id": "22e2b225",
   "metadata": {},
   "outputs": [],
   "source": [
    "def get_videos(data_file, video_mapping_file):\n",
    "    data = process_csv(data_file)\n",
    "    header = data[0]\n",
    "    all_videos = data[1:]\n",
    "    video_mapping = get_mapping(video_mapping_file)\n",
    "    videos_dict = dict()\n",
    "    \n",
    "    for video in all_videos:\n",
    "        new_dict = {}\n",
    "        \n",
    "        try:\n",
    "            video_id = video[header.index('video_id')]\n",
    "            title = read_json(video_mapping_file)[video_id]            \n",
    "        except:\n",
    "            continue\n",
    "            \n",
    "        new_dict['title'] = title\n",
    "        for row in header[1:]:\n",
    "            try:\n",
    "                if row == \"likes\" or row == \"dislikes\":\n",
    "                    if video[header.index(\"likes\")] == \"\" or video[header.index(\"dislikes\")] == \"\":\n",
    "                        new_dict['ratings_enabled'] = False\n",
    "                        new_dict['likes'] = None\n",
    "                        new_dict['dislikes'] = None\n",
    "                    else:\n",
    "                        new_dict['ratings_enabled'] = True\n",
    "                        new_dict['likes'] = int(video[header.index(\"likes\")])\n",
    "                        new_dict['dislikes'] = int(video[header.index(\"dislikes\")])\n",
    "                elif row == \"views\":\n",
    "                    new_dict[row] = int(video[header.index(\"views\")])\n",
    "                elif row == \"tags\":\n",
    "                    new_dict[row] = (video[header.index(row)]).split(\"|\")\n",
    "                elif row == \"channel_id\":\n",
    "                    new_dict['channel_name'] = channel_dict[video[header.index('channel_id')]]\n",
    "                else:\n",
    "                    new_dict['comments'] = comment_buckets[video[header.index('video_id')]]\n",
    "                    new_dict[row] = video[header.index(row)]\n",
    "            except:\n",
    "                continue\n",
    "                \n",
    "        videos_dict[video_id] = new_dict\n",
    "\n",
    "    return videos_dict\n",
    "\n",
    "videos = get_videos(os.path.join('data','video_data.csv'), os.path.join('data','video_ids.json'))"
   ]
  },
  {
   "cell_type": "code",
   "execution_count": 23,
   "id": "9984ca3b",
   "metadata": {},
   "outputs": [],
   "source": [
    "sample = ['UgzgwN2JXxjTN4mR5954AaABAg.9TPxukUd20g9TQLnJi3RFU', 'UgzvogxMg82Kj0aW84x4AaABAg']\n",
    "for s in sample:\n",
    "    assert s in videos['fkMW60W180E']['comments']"
   ]
  },
  {
   "cell_type": "code",
   "execution_count": 24,
   "id": "31aac609",
   "metadata": {},
   "outputs": [
    {
     "data": {
      "text/plain": [
       "{'title': 'SWAWS | Totally Accurate Battlegrounds',\n",
       " 'channel_name': 'TheRussianBadger',\n",
       " 'comments': ['UgzgwN2JXxjTN4mR5954AaABAg.9TPxukUd20g9TQLnJi3RFU',\n",
       "  'Ugw8z3sbkSQQpgINHdl4AaABAg',\n",
       "  'UgyjZAl0XlNg-gOZ0jR4AaABAg.9TPyCmI6pbl9TQAXc7oVx_',\n",
       "  'Ugy1W1ldfeXB5VavpEB4AaABAg',\n",
       "  'Ugz-5ND1_48bvR--K-h4AaABAg.9TcESnaSWQO9TwybqLquLh',\n",
       "  'Ugw8yRjg6yeaJ-KJmvN4AaABAg',\n",
       "  'Ugxvp2D5qsf_Kz3qLfJ4AaABAg',\n",
       "  'UgyjZAl0XlNg-gOZ0jR4AaABAg.9TPyCmI6pbl9TS3pUjvdvY',\n",
       "  'Ugx7Z_ZM2zeYpgTo2V54AaABAg.9TPtkn_qSTN9TQ53TeDjlr',\n",
       "  'UgyJSgJPxm3-cOi3bSh4AaABAg',\n",
       "  'UgxpmEEjcu4ATnKp_dt4AaABAg.9TPdawdmb1E9TS4AKca9bH',\n",
       "  'Ugwq8srR6ykQ2_6mgRB4AaABAg',\n",
       "  'UgyjZAl0XlNg-gOZ0jR4AaABAg',\n",
       "  'Ugyvf9XkcWXRZx7icN14AaABAg',\n",
       "  'UgyjZAl0XlNg-gOZ0jR4AaABAg.9TPyCmI6pbl9TQFiNbKjs4',\n",
       "  'UgxHObmG9Ifype4Dtjh4AaABAg',\n",
       "  'Ugy2t0J2rMrLqVCcAxV4AaABAg',\n",
       "  'UgzZWUkzBIwfWd81Azd4AaABAg.9TSUVio8FDs9TX0cFy0cPn',\n",
       "  'Ugxp63hxPOpvnQXfmfN4AaABAg',\n",
       "  'Ugywck2nfxGf1P-jGrV4AaABAg.9TTUaC5BZm99TUWmUYdTW3',\n",
       "  'UgyF54uSxOw317OaxW94AaABAg',\n",
       "  'Ugz-hiG5y5Ifo2hXQRd4AaABAg.9TPd_-XUJf_9TS3y-fezid',\n",
       "  'UgwQZBclHDt-blfzYwh4AaABAg',\n",
       "  'UgzZWUkzBIwfWd81Azd4AaABAg.9TSUVio8FDs9TUQsdd2w1L',\n",
       "  'Ugz-hiG5y5Ifo2hXQRd4AaABAg.9TPd_-XUJf_9TQEttSsTwV',\n",
       "  'Ugz-hiG5y5Ifo2hXQRd4AaABAg.9TPd_-XUJf_9TabMdgwb7s',\n",
       "  'Ugz5310iuzanBWihavR4AaABAg',\n",
       "  'UgzvogxMg82Kj0aW84x4AaABAg',\n",
       "  'UgzZWUkzBIwfWd81Azd4AaABAg.9TSUVio8FDs9TUyS8-BWoG',\n",
       "  'UgwDeZIB2YoH3gT3LNt4AaABAg',\n",
       "  'UgzakPEp05WspBho1RJ4AaABAg.9TlhjvACtRu9TyzsrPsOxh',\n",
       "  'UgyZtlx_fwNidAjBVdR4AaABAg',\n",
       "  'UgwNv3MdCPrD0arufSZ4AaABAg',\n",
       "  'UgyXBz5CH6Q9rmwcRhp4AaABAg.9TQ2wkUS5H99TxG3z1lyQL',\n",
       "  'UgxUGNNhbZQnp9D_Yep4AaABAg',\n",
       "  'Ugxw406F2KiRt6h0Eg54AaABAg.9TQRqjzQH199TQiRp2YQOJ',\n",
       "  'Ugyi22jKbQYthMkJnaN4AaABAg',\n",
       "  'Ugz-5ND1_48bvR--K-h4AaABAg',\n",
       "  'Ugz5jelTNmzEROhDeUB4AaABAg',\n",
       "  'UgyIBw19on3SuDypRTx4AaABAg',\n",
       "  'UgxvNfLi21bGDhlsuGN4AaABAg.9TQRqu-Qzx79TWgpd0gXUF',\n",
       "  'UgzaSBdz7kdutGQnJJJ4AaABAg',\n",
       "  'UgyF54uSxOw317OaxW94AaABAg.9TQ42Lqa9o09Tc8fhL52xl'],\n",
       " 'published_at': '2021-10-12 19:01:41',\n",
       " 'duration': '00:18:46',\n",
       " 'category': 'Gaming',\n",
       " 'tags': ['tot',\n",
       "  'totally accurate battlegrounds',\n",
       "  'tabg',\n",
       "  'totally accurate battle simulator',\n",
       "  'totally accurate battlegrounds gameplay',\n",
       "  'totally accurate battle grounds',\n",
       "  'tabg gameplay',\n",
       "  'tabg game',\n",
       "  'tabs',\n",
       "  'totally accurate',\n",
       "  'totally accurate battle royale',\n",
       "  'battle royale',\n",
       "  'tabg funny',\n",
       "  'fortnite',\n",
       "  'battlegrounds',\n",
       "  'tabs battle royale',\n",
       "  'new battle royale',\n",
       "  'pubg',\n",
       "  'totally accurate battlegrounds funny',\n",
       "  'swaws',\n",
       "  'swaws meme',\n",
       "  'swaws russian badger',\n",
       "  'tabg update',\n",
       "  'tabg win',\n",
       "  'tabg br',\n",
       "  'free to play pc games',\n",
       "  'free to play'],\n",
       " 'views': 3172185,\n",
       " 'ratings_enabled': True,\n",
       " 'likes': 210951,\n",
       " 'dislikes': 1824}"
      ]
     },
     "execution_count": 24,
     "metadata": {},
     "output_type": "execute_result"
    }
   ],
   "source": [
    "#Q13: What is the video with ID fkMW60W180E?\n",
    "videos[\"fkMW60W180E\"]"
   ]
  },
  {
   "cell_type": "code",
   "execution_count": 25,
   "id": "0ac6eafb",
   "metadata": {},
   "outputs": [
    {
     "data": {
      "text/plain": [
       "'A Mukbanger Ate 1 Gallon Pickles. This Is What Happened To Her Brain.'"
      ]
     },
     "execution_count": 25,
     "metadata": {},
     "output_type": "execute_result"
    }
   ],
   "source": [
    "#Q14: What is the title of the video with ID gF69voHU_ys?\n",
    "videos[\"gF69voHU_ys\"][\"title\"]"
   ]
  },
  {
   "cell_type": "code",
   "execution_count": 26,
   "id": "4565394f",
   "metadata": {},
   "outputs": [
    {
     "data": {
      "text/plain": [
       "'[In the SOOP BTS ver. Season 2] Official Teaser 2'"
      ]
     },
     "execution_count": 26,
     "metadata": {},
     "output_type": "execute_result"
    }
   ],
   "source": [
    "#Q15: Among the videos with more than 1 million views, what is the title of the video with the highest \n",
    "# likes to views ratio?\n",
    "max_ratio = 0\n",
    "max_title = None\n",
    "for video in videos:\n",
    "    if videos[video]['ratings_enabled'] == False:\n",
    "        continue\n",
    "    elif videos[video]['views'] > 1000000:\n",
    "        current_ratio = videos[video]['likes'] / videos[video]['views']\n",
    "        if current_ratio > max_ratio:\n",
    "            max_ratio = current_ratio\n",
    "            max_title = videos[video]['title']\n",
    "max_title"
   ]
  },
  {
   "cell_type": "code",
   "execution_count": 27,
   "id": "98ec1f2a",
   "metadata": {},
   "outputs": [
    {
     "data": {
      "text/plain": [
       "'UCRvcDpyxCVmlLI8Q2TjRpmg'"
      ]
     },
     "execution_count": 27,
     "metadata": {},
     "output_type": "execute_result"
    }
   ],
   "source": [
    "#Q16: What is the author ID of the most liked comment under the video titled 'Giving Away My Beard For Charity!'?\n",
    "for video in videos:\n",
    "    title = videos[video]['title']\n",
    "    if title == \"Giving Away My Beard For Charity!\":\n",
    "        max_likes = 0\n",
    "        max_author_id = None\n",
    "        video_comments = comment_buckets[video]\n",
    "        for comment in video_comments:\n",
    "            comment_likes = comments[comment].likes\n",
    "            if comment_likes > max_likes:\n",
    "                max_likes = comment_likes\n",
    "                max_author_id = comments[comment].author_id\n",
    "max_author_id"
   ]
  },
  {
   "cell_type": "code",
   "execution_count": 28,
   "id": "b1683def",
   "metadata": {},
   "outputs": [],
   "source": [
    "def bucketize(attribute, videos=videos):\n",
    "    bucket_dict = {}\n",
    "    for video in videos:\n",
    "        attributes = videos[video][attribute]\n",
    "        if type(attributes) == list:\n",
    "            for item in attributes:\n",
    "                if item not in bucket_dict:\n",
    "                    bucket_dict[item] = []\n",
    "                if item in bucket_dict:\n",
    "                    bucket_dict[item].append(video)\n",
    "        else:\n",
    "            if attributes not in bucket_dict:\n",
    "                bucket_dict[attributes] = []\n",
    "            if attributes in bucket_dict:\n",
    "                bucket_dict[attributes].append(video)\n",
    "    return bucket_dict"
   ]
  },
  {
   "cell_type": "code",
   "execution_count": 29,
   "id": "e0de04eb",
   "metadata": {},
   "outputs": [],
   "source": [
    "category_dict = bucketize('category')\n",
    "assert category_dict['Pets & Animals'] == ['Hz_DslzN2IA', 'AwvyrO_yM4c']"
   ]
  },
  {
   "cell_type": "code",
   "execution_count": 30,
   "id": "1a47e10a",
   "metadata": {},
   "outputs": [
    {
     "data": {
      "text/plain": [
       "['VFX Artists React to SHANG-CHi Bad & Great CGi',\n",
       " 'VFX Artists React to Bad & Great CGi 54 (ft. SETH ROGEN)']"
      ]
     },
     "execution_count": 30,
     "metadata": {},
     "output_type": "execute_result"
    }
   ],
   "source": [
    "#Q17: Which video titles were produced by the \"Corridor Crew\" channel?\n",
    "channel_buckets = bucketize('channel_name', videos)\n",
    "list_title = []\n",
    "for video in channel_buckets['Corridor Crew']:\n",
    "    title = videos[video]['title']\n",
    "    list_title.append(title)\n",
    "    \n",
    "list_title"
   ]
  },
  {
   "cell_type": "code",
   "execution_count": 31,
   "id": "a6a9115a",
   "metadata": {},
   "outputs": [
    {
     "data": {
      "text/plain": [
       "['NFL', 'Minecraft', 'Saturday Night Live', 'SSSniperWolf', 'PBC ON FOX']"
      ]
     },
     "execution_count": 31,
     "metadata": {},
     "output_type": "execute_result"
    }
   ],
   "source": [
    "#Q18: What are the top 5 channels that have the most total comments on their videos?\n",
    "dict_total_comm = {}\n",
    "for channel in channel_buckets:\n",
    "    total_comments = 0\n",
    "    for video in channel_buckets[channel]:\n",
    "        total_comments += len(videos[video]['comments'])\n",
    "    dict_total_comm[channel] = total_comments\n",
    "    \n",
    "sorted_comm = dict(sorted(dict_total_comm.items(), key = lambda item: item[1], reverse = True))\n",
    "list(sorted_comm.keys())[0:5]"
   ]
  },
  {
   "cell_type": "code",
   "execution_count": 32,
   "id": "052f173e",
   "metadata": {},
   "outputs": [
    {
     "data": {
      "text/plain": [
       "['I Designed Custom Minecraft Bosses...',\n",
       " 'LAST TO LEAVE THE MYSTERY MACHINE WINS $10,000',\n",
       " 'Minecraft, But I Add A Marshmallow Every Minute...',\n",
       " '\"Eternal\" - A Minecraft Music Video ♪',\n",
       " 'Jumping SQUID GAME CARS Across ENTIRE MAP In GTA 5! (Mods)',\n",
       " 'What is the Safest Base Possible in Minecraft?',\n",
       " \"2b2t's Obsidian War is Getting Ridiculous\",\n",
       " 'I made a custom mod in minecraft with your ideas',\n",
       " 'Building AUTOMATIC FARMS in Minecraft Hardcore (#52)',\n",
       " 'Minecraft Mobs if they were Superheroes',\n",
       " 'I Survived 100 Days as an ENDER DRAGON in Minecraft',\n",
       " 'So I made Dance Moves control Minecraft...',\n",
       " 'Playing SQUID GAME in Minecraft!',\n",
       " 'I Survived 69 Hours Using Only Minecraft Tools',\n",
       " 'Last Life: Episode 4 - UH OH!',\n",
       " 'Minecraft, But I Add A Marshmallow Every Minute... - Extra Scenes',\n",
       " '100 Days, But There Are Custom Dimensions...',\n",
       " 'Minecraft but you can Eat Mobs',\n",
       " 'We Fought a Viking Horde...',\n",
       " \"Minecraft, But There's Custom End City Items...\",\n",
       " 'She Wants Us DEAD! 💀 Dark Deception Chapter 4 (FGTeeV Telekinesis Gameplay)',\n",
       " 'You Laugh You Lose Is Even Funnier In Real Life...',\n",
       " 'I Was In The Funniest Minecraft Competition With Dream',\n",
       " 'Realistic Golem Transforming',\n",
       " 'Becoming SQUID GAME Host in GTA 5! (GTA 5 Mods)',\n",
       " 'Minecraft Death Shuffle...',\n",
       " 'Minecraft, But You Can Upgrade TNT...',\n",
       " 'Minecraft Mobs if they were Parents',\n",
       " 'Philza And Wilbur TEACH Tommy To FLY And Its SCUFFED LORE! ORIGINS SMP',\n",
       " 'I Trapped 10 YouTubers on One Block',\n",
       " '46 Minecraft Blocks Mojang Had To Remove',\n",
       " 'Minecraft - Last Life #3: Frightening Exploit Tactics',\n",
       " 'I Survived 1,900 Days in HARDCORE Minecraft...',\n",
       " 'SURVIVING SQUID GAME in GTA 5',\n",
       " 'can 1 pixel of water save you?',\n",
       " 'Minecraft Mobs when you log off...',\n",
       " 'Realistic Water in Minecraft...',\n",
       " 'Minecraft but all Mobs are Dragons',\n",
       " 'I Won SQUID GAME In GTA 5! (Mods)',\n",
       " 'I Found the RICHEST Server in Minecraft! *millionaire*',\n",
       " 'MURDER DRONES [OFFICIAL TRAILER]',\n",
       " 'Hermitcraft 8 Episode 14:  BETRAYING BOATEM',\n",
       " 'I Survived 100 Days as a FOX in HARDCORE Minecraft!',\n",
       " 'Playing SQUID GAME In Minecraft!',\n",
       " 'Which Mob Am I Voting For in Minecraft Live 2021?!',\n",
       " 'Minecraft Manhunt but I have CUSTOM COMMANDS',\n",
       " 'I Built an AUTOMATIC Mob Loot Farm in Minecraft Hardcore! (#22)',\n",
       " \"Minecraft, But We're All Mutant Superhumans...\",\n",
       " 'I tested them in Minecraft early and so should you...',\n",
       " \"Minecraft, But You Can't Leave The End...\",\n",
       " 'I Survived 100 Days as a PANDA in HARDCORE Minecraft!',\n",
       " 'I Cheated with a \"FAKE\" Professional Builder in a Building Competition...',\n",
       " 'What Mob Should Be Added To Minecraft?',\n",
       " 'Minecraft But I Upgrade EVERYTHING - The ULTIMATE Survival World! | Part 4']"
      ]
     },
     "execution_count": 32,
     "metadata": {},
     "output_type": "execute_result"
    }
   ],
   "source": [
    "#Q19: List all the unique video titles which have Minecraft tags.\n",
    "tag_buckets = bucketize('tags', videos)\n",
    "minecraft_videos = []\n",
    "for tag in tag_buckets:\n",
    "    if 'minecraft' in tag.lower():\n",
    "        for video in tag_buckets[tag]:\n",
    "            title = videos[video]['title']\n",
    "            minecraft_videos.append(title)\n",
    "\n",
    "list(set(minecraft_videos))"
   ]
  },
  {
   "cell_type": "code",
   "execution_count": 33,
   "id": "44dfdab2",
   "metadata": {},
   "outputs": [
    {
     "data": {
      "text/plain": [
       "['When someone walks in while you using the bathroom😭',\n",
       " 'Smart Appliances, Gadgets For Every Home 🤩 Versatile Utensils, Kitchen, Makeup, Beauty #Shorts',\n",
       " 'Italians reacting to ketchup on pasta 😱🇮🇹 #shorts',\n",
       " 'My hidden talent #shorts',\n",
       " 'Knot']"
      ]
     },
     "execution_count": 33,
     "metadata": {},
     "output_type": "execute_result"
    }
   ],
   "source": [
    "#Q20: List the titles of the 5 shortest videos.\n",
    "duration_vid_dict = {}\n",
    "for video in videos:\n",
    "    duration_vid_dict[videos[video]['title']] = videos[video]['duration']\n",
    "\n",
    "sorted_dur = list(sorted(duration_vid_dict.items(), key = lambda t: t[-1]))\n",
    "\n",
    "title_list = []\n",
    "for item in sorted_dur[:5]:\n",
    "    title_list.append(item[0])\n",
    "\n",
    "title_list"
   ]
  }
 ],
 "metadata": {
  "kernelspec": {
   "display_name": "Python 3 (ipykernel)",
   "language": "python",
   "name": "python3"
  },
  "language_info": {
   "codemirror_mode": {
    "name": "ipython",
    "version": 3
   },
   "file_extension": ".py",
   "mimetype": "text/x-python",
   "name": "python",
   "nbconvert_exporter": "python",
   "pygments_lexer": "ipython3",
   "version": "3.9.7"
  }
 },
 "nbformat": 4,
 "nbformat_minor": 5
}

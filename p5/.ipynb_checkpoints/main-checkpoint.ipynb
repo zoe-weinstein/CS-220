{
 "cells": [
  {
   "cell_type": "code",
   "execution_count": 1,
   "id": "64554ee5",
   "metadata": {},
   "outputs": [],
   "source": [
    "# project: p5\n",
    "# submitter: mhyoung3\n",
    "# partner: mhyoung3\n",
    "# hours: 5"
   ]
  },
  {
   "cell_type": "code",
   "execution_count": 37,
   "id": "85313bcc",
   "metadata": {},
   "outputs": [
    {
     "name": "stdout",
     "output_type": "stream",
     "text": [
      "Help on module project:\n",
      "\n",
      "NAME\n",
      "    project\n",
      "\n",
      "FUNCTIONS\n",
      "    __init__()\n",
      "    \n",
      "    count()\n",
      "        This function will return the number of records in the dataset\n",
      "    \n",
      "    get_damage(idx)\n",
      "        get_damage(idx) returns the damage in dollars of the hurricane in row idx\n",
      "    \n",
      "    get_deaths(idx)\n",
      "        get_deaths(idx) returns the deaths of the hurricane in row idx\n",
      "    \n",
      "    get_dissipated(idx)\n",
      "        get_dissipated(idx) returns the date of dissipation of the hurricane in row idx\n",
      "    \n",
      "    get_formed(idx)\n",
      "        get_formed(idx) returns the date of formation of the hurricane in row idx\n",
      "    \n",
      "    get_mph(idx)\n",
      "        get_mph(idx) returns the mph of the hurricane in row idx\n",
      "    \n",
      "    get_name(idx)\n",
      "        get_name(idx) returns the name of the hurricane in row idx\n",
      "\n",
      "DATA\n",
      "    __hurricane__ = [{'damage': '2.55M', 'deaths': '38', 'dissipated': '09...\n",
      "\n",
      "FILE\n",
      "    /Users/zoeweinstein/Documents/cs220/p5/project.py\n",
      "\n",
      "\n"
     ]
    }
   ],
   "source": [
    "import project\n",
    "import math\n",
    "import datetime\n",
    "help(project)\n"
   ]
  },
  {
   "cell_type": "code",
   "execution_count": 38,
   "id": "899fd4c9",
   "metadata": {},
   "outputs": [
    {
     "data": {
      "text/plain": [
       "144"
      ]
     },
     "execution_count": 38,
     "metadata": {},
     "output_type": "execute_result"
    }
   ],
   "source": [
    "#Q1: How many hurricanes does the dataset have?\n",
    "project.count()"
   ]
  },
  {
   "cell_type": "code",
   "execution_count": 39,
   "id": "45a0fa38",
   "metadata": {},
   "outputs": [
    {
     "data": {
      "text/plain": [
       "37"
      ]
     },
     "execution_count": 39,
     "metadata": {},
     "output_type": "execute_result"
    }
   ],
   "source": [
    "#Q2: How many deaths were caused by the hurricane at index 138?\n",
    "project.get_deaths(138)"
   ]
  },
  {
   "cell_type": "code",
   "execution_count": 40,
   "id": "f900bfa9",
   "metadata": {},
   "outputs": [
    {
     "data": {
      "text/plain": [
       "130"
      ]
     },
     "execution_count": 40,
     "metadata": {},
     "output_type": "execute_result"
    }
   ],
   "source": [
    "#Q3: What is the MPH of the hurricane at the last index?\n",
    "project.get_mph(project.count()-1)"
   ]
  },
  {
   "cell_type": "code",
   "execution_count": 41,
   "id": "7deaac5a",
   "metadata": {},
   "outputs": [
    {
     "data": {
      "text/plain": [
       "2"
      ]
     },
     "execution_count": 41,
     "metadata": {},
     "output_type": "execute_result"
    }
   ],
   "source": [
    "#Q4: How many hurricanes named Sally are in the dataset?\n",
    "num_sally = 0\n",
    "for i in range(project.count()):\n",
    "    name = project.get_name(i)\n",
    "\n",
    "    if name.lower() == \"sally\" or name.upper() == \"sally\":\n",
    "        num_sally += 1\n",
    "num_sally"
   ]
  },
  {
   "cell_type": "code",
   "execution_count": 42,
   "id": "146a2d23",
   "metadata": {},
   "outputs": [
    {
     "data": {
      "text/plain": [
       "195"
      ]
     },
     "execution_count": 42,
     "metadata": {},
     "output_type": "execute_result"
    }
   ],
   "source": [
    "#Q5: What is the fastest speed (in MPH) of a hurricane in the dataset?\n",
    "max_speed = 0\n",
    "for idx in range(project.count()):\n",
    "    current_speed = project.get_mph(idx)\n",
    "    if current_speed > max_speed:\n",
    "        max_speed = current_speed\n",
    "max_speed"
   ]
  },
  {
   "cell_type": "code",
   "execution_count": 43,
   "id": "3d5e2cce",
   "metadata": {},
   "outputs": [
    {
     "data": {
      "text/plain": [
       "75"
      ]
     },
     "execution_count": 43,
     "metadata": {},
     "output_type": "execute_result"
    }
   ],
   "source": [
    "#Q6: What is the speed of the slowest hurricane (in MPH) recorded in the dataset?\n",
    "min_speed = max_speed\n",
    "for idx in range(project.count()):\n",
    "    current_speed = project.get_mph(idx)\n",
    "    if current_speed < min_speed:\n",
    "        min_speed = current_speed\n",
    "min_speed"
   ]
  },
  {
   "cell_type": "code",
   "execution_count": 44,
   "id": "25b57ec5",
   "metadata": {},
   "outputs": [],
   "source": [
    "def format_damage(idx):\n",
    "    damage_bill = 0\n",
    "    damage_thous = 0\n",
    "    damage_mill = 0\n",
    "    damage_done = 0\n",
    "    hurr_damage = project.get_damage(idx)\n",
    "    if hurr_damage[-1] == \"B\":\n",
    "        damage_bill = (float(hurr_damage[:-1])) * (10**9)\n",
    "        int_bill = int(damage_bill)\n",
    "        return int_bill\n",
    "    elif hurr_damage[-1] == \"K\":\n",
    "        damage_thous = float(hurr_damage[:-1]) * (10**3)\n",
    "        int_thous = int(damage_thous)\n",
    "        return int_thous\n",
    "    elif hurr_damage[-1] == \"M\":\n",
    "        damage_mill = float(hurr_damage[:-1]) * (10**6)\n",
    "        int_mill = int(damage_mill)\n",
    "        return int_mill\n",
    "    else:\n",
    "        damage_done = 0\n",
    "        return damage_done"
   ]
  },
  {
   "cell_type": "code",
   "execution_count": 45,
   "id": "fc54717b",
   "metadata": {},
   "outputs": [
    {
     "data": {
      "text/plain": [
       "958107084997"
      ]
     },
     "execution_count": 45,
     "metadata": {},
     "output_type": "execute_result"
    }
   ],
   "source": [
    "#Q7: What is the total damage (in dollars) caused by all hurricanes recorded in the dataset?\n",
    "total = 0\n",
    "for idx in range(project.count()):\n",
    "    total_damage = format_damage(idx)\n",
    "    total += total_damage\n",
    "\n",
    "total"
   ]
  },
  {
   "cell_type": "code",
   "execution_count": 46,
   "id": "33ad5e11",
   "metadata": {},
   "outputs": [
    {
     "data": {
      "text/plain": [
       "2678957142.86"
      ]
     },
     "execution_count": 46,
     "metadata": {},
     "output_type": "execute_result"
    }
   ],
   "source": [
    "#Q8: What is the average damage caused by hurricanes with names starting with the letter G?\n",
    "g_damage = 0\n",
    "g_count = 0\n",
    "\n",
    "for idx in range(project.count()):\n",
    "    hurr_name = project.get_name(idx)\n",
    "    dam_caused = project.get_damage(idx)\n",
    "    if hurr_name[0] == \"G\" or hurr_name[0] == \"g\":\n",
    "        g_damage += format_damage(idx)\n",
    "        g_count += 1\n",
    "    else:\n",
    "        continue \n",
    "g_avg = g_damage / g_count\n",
    "round(g_avg, 2)\n"
   ]
  },
  {
   "cell_type": "code",
   "execution_count": 47,
   "id": "07c3cce9",
   "metadata": {},
   "outputs": [
    {
     "data": {
      "text/plain": [
       "'SALly'"
      ]
     },
     "execution_count": 47,
     "metadata": {},
     "output_type": "execute_result"
    }
   ],
   "source": [
    "#Q9: What is the name of the fastest hurricane in the dataset?\n",
    "fastest_hurr_idx = None\n",
    "max_speed = 0\n",
    "for idx in range(project.count()):\n",
    "    current_speed = project.get_mph(idx)\n",
    "    if fastest_hurr_idx == None or current_speed > max_speed:\n",
    "        max_speed = current_speed\n",
    "        fastest_hurr_idx = idx\n",
    "fastest = project.get_name(fastest_hurr_idx)\n",
    "fastest\n"
   ]
  },
  {
   "cell_type": "code",
   "execution_count": 48,
   "id": "17101db9",
   "metadata": {},
   "outputs": [
    {
     "data": {
      "text/plain": [
       "1370000"
      ]
     },
     "execution_count": 48,
     "metadata": {},
     "output_type": "execute_result"
    }
   ],
   "source": [
    "#Q10: What is the damage (in dollars) caused by the fastest hurricane in the dataset?\n",
    "format_damage(fastest_hurr_idx)"
   ]
  },
  {
   "cell_type": "code",
   "execution_count": 49,
   "id": "373ac509",
   "metadata": {},
   "outputs": [],
   "source": [
    "def get_month(date):\n",
    "    return int(date[:2])\n",
    "\n",
    "def get_day(date):\n",
    "    return int(date[3:5]) \n",
    "\n",
    "def get_year(date):\n",
    "    return int(date[6:10])\n"
   ]
  },
  {
   "cell_type": "code",
   "execution_count": 50,
   "id": "f555735a",
   "metadata": {},
   "outputs": [
    {
     "data": {
      "text/plain": [
       "'San Ciriaco'"
      ]
     },
     "execution_count": 50,
     "metadata": {},
     "output_type": "execute_result"
    }
   ],
   "source": [
    "#Q11: Out of all hurricanes with more than 1000 deaths, what is the name of the hurricane that originated (formed) first?\n",
    "earliest_year = 0 \n",
    "earliest_year_idx = None\n",
    "\n",
    "for idx in range(project.count()):\n",
    "    current_year = get_year(project.get_formed(idx))\n",
    "    if project.get_deaths(idx) > 1000:\n",
    "        if earliest_year_idx == None or current_year < earliest_year:\n",
    "            earliest_year = current_year\n",
    "            earliest_year_idx = idx\n",
    "name = project.get_name(earliest_year_idx)\n",
    "name      "
   ]
  },
  {
   "cell_type": "code",
   "execution_count": 51,
   "id": "5b62a8a0",
   "metadata": {},
   "outputs": [],
   "source": [
    "def deadliest_in_range(year1, year2): \n",
    "    most_deaths_idx = None\n",
    "    max_deaths = 0\n",
    "    \n",
    "    for idx in range(project.count()):\n",
    "        formed_year = get_year(project.get_formed(idx))\n",
    "        diss_year = get_year(project.get_dissipated(idx))\n",
    "        if formed_year >= year1 and formed_year <= year2:\n",
    "            current_deaths = project.get_deaths(idx)\n",
    "            if most_deaths_idx == None or current_deaths > max_deaths:\n",
    "                max_deaths = current_deaths\n",
    "                most_deaths_idx = idx  \n",
    "        elif diss_year >= year1 and diss_year <= year2:\n",
    "            current_deaths = project.get_deaths(idx)\n",
    "            if most_deaths_idx == None or current_deaths > max_deaths:\n",
    "                max_deaths = current_deaths\n",
    "                most_deaths_idx = idx        \n",
    "    return most_deaths_idx\n",
    "\n",
    "\n"
   ]
  },
  {
   "cell_type": "code",
   "execution_count": 52,
   "id": "1ca1b9a8",
   "metadata": {},
   "outputs": [
    {
     "data": {
      "text/plain": [
       "91610000000"
      ]
     },
     "execution_count": 52,
     "metadata": {},
     "output_type": "execute_result"
    }
   ],
   "source": [
    "#Q12: How much damage was done by the deadliest hurricane this century thus far (2001 to 2022, inclusive)?    \n",
    "damage_of_deadliest = format_damage(deadliest_in_range(2001, 2022))\n",
    "damage_of_deadliest    "
   ]
  },
  {
   "cell_type": "code",
   "execution_count": 53,
   "id": "f1ef82c5",
   "metadata": {},
   "outputs": [
    {
     "data": {
      "text/plain": [
       "175"
      ]
     },
     "execution_count": 53,
     "metadata": {},
     "output_type": "execute_result"
    }
   ],
   "source": [
    "#Q13: What was the speed (in MPH) of the deadliest hurricane in the century that spans 1901 to 2000, inclusive?\n",
    "speed_deadliest_hurr = project.get_mph(deadliest_in_range(1901, 2000))\n",
    "speed_deadliest_hurr"
   ]
  },
  {
   "cell_type": "code",
   "execution_count": 54,
   "id": "2598b2a0",
   "metadata": {},
   "outputs": [
    {
     "data": {
      "text/plain": [
       "2017"
      ]
     },
     "execution_count": 54,
     "metadata": {},
     "output_type": "execute_result"
    }
   ],
   "source": [
    "#Q14: In this century (2001 to 2022, inclusive), which year has seen the deadliest hurricane so far?\n",
    "year_of_deadliest = get_year(project.get_formed(deadliest_in_range(2001, 2022)))\n",
    "year_of_deadliest"
   ]
  },
  {
   "cell_type": "code",
   "execution_count": 55,
   "id": "b06c7ef6",
   "metadata": {},
   "outputs": [
    {
     "data": {
      "text/plain": [
       "'Bob'"
      ]
     },
     "execution_count": 55,
     "metadata": {},
     "output_type": "execute_result"
    }
   ],
   "source": [
    "#Q15: What is the name of the slowest hurricane which resulted in exactly 5 deaths?\n",
    "slowest_hurr_idx = None\n",
    "min_speed = 0\n",
    "for idx in range(project.count()):\n",
    "    current_speed = project.get_mph(idx)\n",
    "    if project.get_deaths(idx) == 5:\n",
    "        if slowest_hurr_idx == None or current_speed < min_speed:\n",
    "            min_speed = current_speed\n",
    "            slowest_hurr_idx = idx\n",
    "        \n",
    "name = project.get_name(slowest_hurr_idx)\n",
    "name"
   ]
  },
  {
   "cell_type": "code",
   "execution_count": 56,
   "id": "b5b77306",
   "metadata": {},
   "outputs": [],
   "source": [
    "#Q16: How many hurricanes were formed in the year 2020?\n",
    "def get_year_total(query_year):\n",
    "    hurr_formed = 0 \n",
    "    for idx in range(project.count()):\n",
    "        current_year = get_year(project.get_formed(idx))\n",
    "        if query_year == current_year:\n",
    "            hurr_formed +=1\n",
    "    return hurr_formed\n",
    "        "
   ]
  },
  {
   "cell_type": "code",
   "execution_count": 57,
   "id": "03a54143",
   "metadata": {},
   "outputs": [
    {
     "data": {
      "text/plain": [
       "5"
      ]
     },
     "execution_count": 57,
     "metadata": {},
     "output_type": "execute_result"
    }
   ],
   "source": [
    "#Q16: How many hurricanes were formed in the year 2020?\n",
    "get_year_total(2020)"
   ]
  },
  {
   "cell_type": "code",
   "execution_count": 58,
   "id": "392b9486",
   "metadata": {},
   "outputs": [],
   "source": [
    "def get_decade_total(start_of_decade):\n",
    "    hurr_formed = 0 \n",
    "    for idx in range(project.count()):\n",
    "        current_year = get_year(project.get_formed(idx))\n",
    "        if current_year >= start_of_decade and current_year <= (start_of_decade+9):\n",
    "            hurr_formed +=1\n",
    "    return hurr_formed\n"
   ]
  },
  {
   "cell_type": "code",
   "execution_count": 59,
   "id": "ddd74464",
   "metadata": {},
   "outputs": [
    {
     "data": {
      "text/plain": [
       "25"
      ]
     },
     "execution_count": 59,
     "metadata": {},
     "output_type": "execute_result"
    }
   ],
   "source": [
    "#Q17: How many hurricanes were formed in the last decade (2001 to 2010, inclusive)?\n",
    "get_decade_total(2001)"
   ]
  },
  {
   "cell_type": "code",
   "execution_count": 60,
   "id": "0cb6911b",
   "metadata": {},
   "outputs": [],
   "source": [
    "least_num_hurr = None\n",
    "for start_of_decade in range(1901, 1990, 10):\n",
    "    current_total = get_decade_total(start_of_decade)\n",
    "    if least_num_hurr == None or current_total <= least_num_hurr:\n",
    "        least_num_hurr = current_total\n",
    "        lowest_decade = start_of_decade\n",
    "        \n",
    "least_suffered = str(lowest_decade) + \" to \" + str(lowest_decade +9)"
   ]
  },
  {
   "cell_type": "code",
   "execution_count": 61,
   "id": "f0a58fe8",
   "metadata": {},
   "outputs": [
    {
     "data": {
      "text/plain": [
       "'1901 to 1910'"
      ]
     },
     "execution_count": 61,
     "metadata": {},
     "output_type": "execute_result"
    }
   ],
   "source": [
    "#Q18: Which decade in the 20th century suffered the least number of hurricanes?\n",
    "least_suffered "
   ]
  },
  {
   "cell_type": "code",
   "execution_count": 62,
   "id": "ce0df1f4",
   "metadata": {},
   "outputs": [],
   "source": [
    "total_deaths = 0\n",
    "for idx in range(project.count()):\n",
    "    time_line = get_month(project.get_dissipated(idx)) - get_month(project.get_formed(idx)) \n",
    "    year_diff = get_year(project.get_dissipated(idx)) - get_year(project.get_formed(idx))\n",
    "    if time_line >=1 or year_diff >= 1:\n",
    "        total_deaths += project.get_deaths(idx)"
   ]
  },
  {
   "cell_type": "code",
   "execution_count": 63,
   "id": "cfcaa588",
   "metadata": {},
   "outputs": [
    {
     "data": {
      "text/plain": [
       "15626"
      ]
     },
     "execution_count": 63,
     "metadata": {},
     "output_type": "execute_result"
    }
   ],
   "source": [
    "#Q19: How many deaths were caused by hurricanes that lasted across at least 2 different months?\n",
    "total_deaths"
   ]
  },
  {
   "cell_type": "code",
   "execution_count": 64,
   "id": "c73f6350",
   "metadata": {},
   "outputs": [
    {
     "ename": "NameError",
     "evalue": "name 'get_number_of_days' is not defined",
     "output_type": "error",
     "traceback": [
      "\u001b[0;31m---------------------------------------------------------------------------\u001b[0m",
      "\u001b[0;31mNameError\u001b[0m                                 Traceback (most recent call last)",
      "\u001b[0;32m/var/folders/s6/lgwcjwgx4jn0bkqxh9b7nwb40000gn/T/ipykernel_40283/2057600658.py\u001b[0m in \u001b[0;36m<module>\u001b[0;34m\u001b[0m\n\u001b[1;32m      6\u001b[0m     \u001b[0mdissipation\u001b[0m \u001b[0;34m=\u001b[0m \u001b[0mproject\u001b[0m\u001b[0;34m.\u001b[0m\u001b[0mget_dissipated\u001b[0m\u001b[0;34m(\u001b[0m\u001b[0mmost_deaths_idx\u001b[0m\u001b[0;34m)\u001b[0m\u001b[0;34m\u001b[0m\u001b[0;34m\u001b[0m\u001b[0m\n\u001b[1;32m      7\u001b[0m     \u001b[0mnew_form\u001b[0m \u001b[0;34m=\u001b[0m \u001b[0mproject\u001b[0m\u001b[0;34m.\u001b[0m\u001b[0mget_formed\u001b[0m\u001b[0;34m(\u001b[0m\u001b[0midx\u001b[0m\u001b[0;34m)\u001b[0m\u001b[0;34m\u001b[0m\u001b[0;34m\u001b[0m\u001b[0m\n\u001b[0;32m----> 8\u001b[0;31m     \u001b[0mday_diff\u001b[0m \u001b[0;34m=\u001b[0m \u001b[0mget_number_of_days\u001b[0m\u001b[0;34m(\u001b[0m\u001b[0mdissipation\u001b[0m\u001b[0;34m,\u001b[0m \u001b[0mnew_form\u001b[0m\u001b[0;34m)\u001b[0m\u001b[0;34m\u001b[0m\u001b[0;34m\u001b[0m\u001b[0m\n\u001b[0m\u001b[1;32m      9\u001b[0m     \u001b[0;32mif\u001b[0m \u001b[0mday_diff\u001b[0m \u001b[0;34m>\u001b[0m \u001b[0;36m0\u001b[0m\u001b[0;34m:\u001b[0m\u001b[0;34m\u001b[0m\u001b[0;34m\u001b[0m\u001b[0m\n\u001b[1;32m     10\u001b[0m         \u001b[0;32mif\u001b[0m \u001b[0mfirst_hurr_idx\u001b[0m \u001b[0;34m==\u001b[0m \u001b[0;32mNone\u001b[0m \u001b[0;32mor\u001b[0m \u001b[0mday_diff\u001b[0m \u001b[0;34m<\u001b[0m \u001b[0mconstant\u001b[0m\u001b[0;34m:\u001b[0m\u001b[0;34m\u001b[0m\u001b[0;34m\u001b[0m\u001b[0m\n",
      "\u001b[0;31mNameError\u001b[0m: name 'get_number_of_days' is not defined"
     ]
    }
   ],
   "source": [
    "#Q20: What is the name of the first hurricane to form after the dissipation of the deadliest hurricane  between 1990 and 2010 (inclusive)?\n",
    "first_hurr_idx = None\n",
    "constant = 0\n",
    "for idx in range(project.count()):\n",
    "    most_deaths_idx = deadliest_in_range(1990, 2010)\n",
    "    dissipation = project.get_dissipated(most_deaths_idx)\n",
    "    new_form = project.get_formed(idx)\n",
    "    day_diff = get_number_of_days(dissipation, new_form)\n",
    "    if day_diff > 0:\n",
    "        if first_hurr_idx == None or day_diff < constant:\n",
    "            constant = day_diff\n",
    "            first_hurr_idx = idx\n",
    "\n",
    "name = project.get_name(first_hurr_idx)\n",
    "name"
   ]
  }
 ],
 "metadata": {
  "kernelspec": {
   "display_name": "Python 3 (ipykernel)",
   "language": "python",
   "name": "python3"
  },
  "language_info": {
   "codemirror_mode": {
    "name": "ipython",
    "version": 3
   },
   "file_extension": ".py",
   "mimetype": "text/x-python",
   "name": "python",
   "nbconvert_exporter": "python",
   "pygments_lexer": "ipython3",
   "version": "3.9.7"
  }
 },
 "nbformat": 4,
 "nbformat_minor": 5
}

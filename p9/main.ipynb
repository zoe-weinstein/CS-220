{
 "cells": [
  {
   "cell_type": "code",
   "execution_count": 1,
   "id": "7e984b83",
   "metadata": {},
   "outputs": [],
   "source": [
    "# project: p9\n",
    "# submitter: zlweinstein\n",
    "# partner: mhyoung3\n",
    "# hours: "
   ]
  },
  {
   "cell_type": "code",
   "execution_count": 2,
   "id": "f944b14b",
   "metadata": {},
   "outputs": [],
   "source": [
    "import csv\n",
    "import matplotlib\n",
    "import pandas\n",
    "\n",
    "# Allows you to render matplotlib graphs in the same notebook\n",
    "%matplotlib inline"
   ]
  },
  {
   "cell_type": "code",
   "execution_count": 3,
   "id": "530d8959",
   "metadata": {},
   "outputs": [],
   "source": [
    "def plot_dict(d, label=\"Please Label Me!!!\"):\n",
    "    ax = pandas.Series(d).sort_index().plot.bar(color=\"black\", fontsize=16)\n",
    "    ax.set_ylabel(label, fontsize=16)"
   ]
  },
  {
   "cell_type": "code",
   "execution_count": 4,
   "id": "eb4ce9fe",
   "metadata": {},
   "outputs": [],
   "source": [
    "def year_to_decade(year):\n",
    "    if year % 10 == 0:\n",
    "        decade_start = (year-9)\n",
    "        decade_end = (year) #Complete this line/lines\n",
    "    else:\n",
    "        decade_start = year - (year % 10) + 1\n",
    "        decade_end = decade_start + 9\n",
    "        \n",
    "    # you can either return here, or delete this return statement\n",
    "    # and return above this line\n",
    "    return (str(decade_start) + \" to \" + str(decade_end))"
   ]
  },
  {
   "cell_type": "code",
   "execution_count": 5,
   "id": "986f5ca4",
   "metadata": {},
   "outputs": [],
   "source": [
    "def median(items):\n",
    "    sorted_list = sorted(items)\n",
    "    length = int(len(sorted_list))\n",
    "    if length % 2 != 0:\n",
    "        return sorted_list[int((length-1)/2)]\n",
    "    else:\n",
    "        first_middle =  sorted_list[int((length)/2)]# use appropriate indexing\n",
    "        second_middle = sorted_list[int((length-2)/2)] # use appropriate indexing\n",
    "        median = (first_middle + second_middle) / 2\n",
    "        return median"
   ]
  },
  {
   "cell_type": "code",
   "execution_count": 6,
   "id": "2fc661f4",
   "metadata": {},
   "outputs": [],
   "source": [
    "def process_csv(filename):\n",
    "    example_file = open(filename, encoding=\"utf-8\")\n",
    "    example_reader = csv.reader(example_file)\n",
    "    example_data = list(example_reader)\n",
    "    example_file.close()\n",
    "    return example_data"
   ]
  },
  {
   "cell_type": "code",
   "execution_count": 7,
   "id": "f0f96386",
   "metadata": {},
   "outputs": [],
   "source": [
    "def get_mapping(path):\n",
    "    mapping_rows = process_csv(path)\n",
    "    mapping_dict = {}\n",
    "    for i in range(len(mapping_rows)):\n",
    "        col_val = mapping_rows[i][0]\n",
    "        row_val = mapping_rows[i][1]\n",
    "        if col_val not in mapping_dict:\n",
    "            mapping_dict[col_val] = None\n",
    "        if col_val in mapping_dict:\n",
    "            mapping_dict[col_val] = row_val\n",
    "            \n",
    "    return mapping_dict"
   ]
  },
  {
   "cell_type": "code",
   "execution_count": 8,
   "id": "617347e0",
   "metadata": {},
   "outputs": [],
   "source": [
    "def get_raw_movies(path):\n",
    "    \"\"\"\n",
    "    Converts movies csv list of lists data into a dict with keys as column names and values as corresponding type converted values.\n",
    "    \"\"\"\n",
    "    # Task 2.1 and 2.3c of Lab-P8 have all the necessary steps to complete this function.\n",
    "    # You just need to copy/paste the relevant code, identify the input and output of the function.\n",
    "    csv_rows = process_csv(path)\n",
    "    csv_header = csv_rows[0]\n",
    "    csv_data = csv_rows[1:]\n",
    "    final_movie_list = []\n",
    "    for movie in range(len(csv_data)):\n",
    "\n",
    "        movie_dict = {}\n",
    "        for header in csv_header:\n",
    "            movie_dict[header] = csv_data[movie][csv_header.index(header)]\n",
    "            if header == \"year\" or header == \"duration\":\n",
    "                movie_dict[header] = int(csv_data[movie][csv_header.index(header)])\n",
    "            elif header == \"rating\":\n",
    "                movie_dict[header] = float(csv_data[movie][csv_header.index(header)])\n",
    "            elif header == \"genres\" or header == \"directors\" or header == \"actors\":\n",
    "                new_list = csv_data[movie][csv_header.index(header)].split(\", \")\n",
    "                movie_dict[header] = new_list\n",
    "            else:\n",
    "                movie_dict[header] = csv_data[movie][csv_header.index(header)]\n",
    "        final_movie_list.append(movie_dict)\n",
    "\n",
    "    return final_movie_list"
   ]
  },
  {
   "cell_type": "code",
   "execution_count": 9,
   "id": "e113f99f",
   "metadata": {},
   "outputs": [],
   "source": [
    "def get_movies(movies_path, mapping_path):\n",
    "\n",
    "    raw_movies = get_raw_movies(movies_path)\n",
    "    map_list = get_mapping(mapping_path)\n",
    "    \n",
    "    \n",
    "    for movie in raw_movies:\n",
    "        for j in range(len(movie[\"actors\"])):\n",
    "            movie[\"actors\"][j] = map_list[movie[\"actors\"][j]]\n",
    "        for j in range(len(movie[\"directors\"])):\n",
    "            movie[\"directors\"][j] = map_list[movie[\"directors\"][j]]\n",
    "\n",
    "        movie[\"title\"] = map_list[movie[\"title\"]]\n",
    "\n",
    "    return raw_movies\n",
    "def find_specific_movies(movies, keyword):\n",
    "    '''given a list of movie dictionaries and a keyword,\n",
    "    returns a list of movies that contains the keyword'''\n",
    "    movies_new = list()\n",
    "    for movie in movies:\n",
    "        if (keyword in movie['title']) or (keyword in movie['genres']) \\\n",
    "            or (keyword in movie['directors']) or (keyword in movie['actors']):\n",
    "            movies_new.append(movie)\n",
    "    return movies_new"
   ]
  },
  {
   "cell_type": "code",
   "execution_count": 10,
   "id": "b72051bc",
   "metadata": {},
   "outputs": [
    {
     "data": {
      "text/plain": [
       "{'title': 'They Live',\n",
       " 'year': 1988,\n",
       " 'genres': ['Action', 'Horror', 'Sci-Fi'],\n",
       " 'duration': 94,\n",
       " 'directors': ['John Carpenter'],\n",
       " 'actors': ['Roddy Piper', 'Keith David', 'Meg Foster'],\n",
       " 'rating': 7.3}"
      ]
     },
     "execution_count": 10,
     "metadata": {},
     "output_type": "execute_result"
    }
   ],
   "source": [
    "movies = get_movies(\"movies.csv\", \"mapping.csv\")\n",
    "movies[0]"
   ]
  },
  {
   "cell_type": "code",
   "execution_count": 11,
   "id": "89dc3104",
   "metadata": {},
   "outputs": [
    {
     "data": {
      "text/plain": [
       "7.725"
      ]
     },
     "execution_count": 11,
     "metadata": {},
     "output_type": "execute_result"
    }
   ],
   "source": [
    "#Q1: What is the average rating of the 'Harry Potter' movies directed by 'David Yates'?\n",
    "harry_potter = find_specific_movies(movies, \"Harry Potter\")\n",
    "david_yates = find_specific_movies(harry_potter, \"David Yates\")\n",
    "total = 0\n",
    "for movie in david_yates:\n",
    "    total += movie['rating']\n",
    "\n",
    "average_rating = total / len(david_yates)\n",
    "average_rating"
   ]
  },
  {
   "cell_type": "code",
   "execution_count": 12,
   "id": "720c1955",
   "metadata": {},
   "outputs": [
    {
     "data": {
      "text/plain": [
       "6.8"
      ]
     },
     "execution_count": 12,
     "metadata": {},
     "output_type": "execute_result"
    }
   ],
   "source": [
    "#Q2: What is the median rating of all 'Ice Age' movies?\n",
    "ice_age = find_specific_movies(movies, \"Ice Age\")\n",
    "rating_list = []\n",
    "for movie in ice_age:\n",
    "    rating_list.append(movie[\"rating\"])\n",
    "    \n",
    "median(rating_list)"
   ]
  },
  {
   "cell_type": "code",
   "execution_count": 13,
   "id": "c3c6bd48",
   "metadata": {},
   "outputs": [
    {
     "data": {
      "text/plain": [
       "[{'title': 'Proud American',\n",
       "  'year': 2008,\n",
       "  'genres': ['Drama'],\n",
       "  'duration': 115,\n",
       "  'directors': ['Fred Ashman'],\n",
       "  'actors': ['Michael G. Davis',\n",
       "   'Cecelia Antoinette',\n",
       "   'Marie Antoinette',\n",
       "   'Michelle Ashman'],\n",
       "  'rating': 1.1},\n",
       " {'title': 'Troy: The Resurrection of Aeneas',\n",
       "  'year': 2018,\n",
       "  'genres': ['Animation', 'Action', 'Adventure'],\n",
       "  'duration': 60,\n",
       "  'directors': ['Aeneas Middleton'],\n",
       "  'actors': ['Aeneas Middleton', 'Hardley Davidson'],\n",
       "  'rating': 1.1},\n",
       " {'title': 'Browncoats: Independence War',\n",
       "  'year': 2015,\n",
       "  'genres': ['Action', 'Sci-Fi', 'War'],\n",
       "  'duration': 98,\n",
       "  'directors': ['Francis Hamada'],\n",
       "  'actors': ['Beth Bemis',\n",
       "   'Richard Martinsen',\n",
       "   'Will James Johnson',\n",
       "   'Nathan Cosmo Rahn'],\n",
       "  'rating': 1.1},\n",
       " {'title': 'The Time Machine (I Found at a Yardsale)',\n",
       "  'year': 2011,\n",
       "  'genres': ['Sci-Fi'],\n",
       "  'duration': 84,\n",
       "  'directors': ['Steven A. Sandt'],\n",
       "  'actors': ['George Abdelmalak', 'Steven Ronald Brattman', 'Elise Caloca'],\n",
       "  'rating': 1.1},\n",
       " {'title': 'A Moment of Youth',\n",
       "  'year': 2011,\n",
       "  'genres': ['Adventure', 'Biography', 'Comedy'],\n",
       "  'duration': 143,\n",
       "  'directors': ['Matthew C. Anderson', 'Nicola Barbour'],\n",
       "  'actors': ['Isaac Bonillo Alcaina',\n",
       "   'Gustavo Dettler',\n",
       "   'Yohanna Farrell-Knight',\n",
       "   'Luke Heaney'],\n",
       "  'rating': 1.1}]"
      ]
     },
     "execution_count": 13,
     "metadata": {},
     "output_type": "execute_result"
    }
   ],
   "source": [
    "#Q3: What are all the movies that have the lowest rating?\n",
    "min_rating = None\n",
    "for movie in movies:\n",
    "    current_rating = movie['rating']\n",
    "    if min_rating == None or current_rating <= min_rating:\n",
    "        min_rating = current_rating\n",
    "        \n",
    "low_rating_list = []\n",
    "for movie in movies:\n",
    "    if movie['rating'] == min_rating:\n",
    "        low_rating_list.append(movie)\n",
    "        \n",
    "low_rating_list"
   ]
  },
  {
   "cell_type": "code",
   "execution_count": 14,
   "id": "be25e803",
   "metadata": {},
   "outputs": [],
   "source": [
    "def max_rated_movies(movie_list):\n",
    "    \"\"\"\n",
    "    Input: A list of movies.\n",
    "    Return: A list of highest rated movies among the input list.\n",
    "    \"\"\"\n",
    "    high_rating = 0\n",
    "    for movie in movie_list:\n",
    "        current_rating = movie['rating']\n",
    "        if current_rating >= high_rating:\n",
    "            high_rating = current_rating\n",
    "\n",
    "    high_rated_movies = []\n",
    "    for movie in movie_list:\n",
    "        if movie['rating'] == high_rating:\n",
    "            high_rated_movies.append(movie)\n",
    "\n",
    "    return high_rated_movies"
   ]
  },
  {
   "cell_type": "code",
   "execution_count": 15,
   "id": "c8b21775",
   "metadata": {},
   "outputs": [
    {
     "data": {
      "text/plain": [
       "[{'title': 'Avengers: Infinity War',\n",
       "  'year': 2018,\n",
       "  'genres': ['Action', 'Adventure', 'Sci-Fi'],\n",
       "  'duration': 149,\n",
       "  'directors': ['Anthony Russo', 'Joe Russo'],\n",
       "  'actors': ['Robert Downey Jr.',\n",
       "   'Chris Hemsworth',\n",
       "   'Mark Ruffalo',\n",
       "   'Chris Evans',\n",
       "   'Scarlett Johansson'],\n",
       "  'rating': 8.4},\n",
       " {'title': 'Avengers: Endgame',\n",
       "  'year': 2019,\n",
       "  'genres': ['Action', 'Adventure', 'Drama'],\n",
       "  'duration': 181,\n",
       "  'directors': ['Anthony Russo', 'Joe Russo'],\n",
       "  'actors': ['Robert Downey Jr.',\n",
       "   'Chris Evans',\n",
       "   'Mark Ruffalo',\n",
       "   'Chris Hemsworth',\n",
       "   'Scarlett Johansson'],\n",
       "  'rating': 8.4}]"
      ]
     },
     "execution_count": 15,
     "metadata": {},
     "output_type": "execute_result"
    }
   ],
   "source": [
    "#Q4: Among all the 'Avengers' movies, which ones are highest rated?\n",
    "avengers_movies = find_specific_movies(movies, 'Avengers')\n",
    "max_rated_movies(avengers_movies)"
   ]
  },
  {
   "cell_type": "code",
   "execution_count": 16,
   "id": "c3af76a6",
   "metadata": {},
   "outputs": [],
   "source": [
    "def bucketize(movie_list, category):\n",
    "    \"\"\"\n",
    "    Input: A list of movies and a category string.\n",
    "    Return: A dictionary that bucketizes `movie_list` by `category`.\n",
    "    Requirements: See the instructions in README.md\n",
    "    \"\"\"\n",
    "    bucket_dict = {}\n",
    "    for movie in movie_list:\n",
    "        categories = movie[category]\n",
    "        if type(categories) == list:\n",
    "            for item in categories:\n",
    "                if item not in bucket_dict:\n",
    "                    bucket_dict[item] = []\n",
    "                if item in bucket_dict:\n",
    "                    bucket_dict[item].append(movie)\n",
    "        else:\n",
    "            if categories not in bucket_dict:\n",
    "                bucket_dict[categories] = []\n",
    "            if categories in bucket_dict:\n",
    "                bucket_dict[categories].append(movie)\n",
    "    return bucket_dict"
   ]
  },
  {
   "cell_type": "code",
   "execution_count": 17,
   "id": "d00ff99f",
   "metadata": {},
   "outputs": [],
   "source": [
    "# Buceketize the full list of movies by their actors.\n",
    "actors_buckets = bucketize(movies, 'actors')\n",
    "# Buceketize the full list of movies by their directors.\n",
    "directors_buckets = bucketize(movies, 'directors')\n",
    "# Buceketize the full list of movies by their genre.\n",
    "genre_buckets = bucketize(movies, 'genres')\n",
    "genre_buckets['Crime']\n",
    "# Buceketize the full list of movies by their year.\n",
    "year_buckets = bucketize(movies, 'year')"
   ]
  },
  {
   "cell_type": "code",
   "execution_count": 18,
   "id": "454ee8df",
   "metadata": {},
   "outputs": [
    {
     "data": {
      "text/plain": [
       "[{'title': 'A Kid Like Jake',\n",
       "  'year': 2018,\n",
       "  'genres': ['Drama', 'Family'],\n",
       "  'duration': 92,\n",
       "  'directors': ['Silas Howard'],\n",
       "  'actors': ['Claire Danes',\n",
       "   'Jim Parsons',\n",
       "   'Octavia Spencer',\n",
       "   'Priyanka Chopra'],\n",
       "  'rating': 5.4},\n",
       " {'title': 'Hidden Figures',\n",
       "  'year': 2016,\n",
       "  'genres': ['Biography', 'Drama', 'History'],\n",
       "  'duration': 127,\n",
       "  'directors': ['Theodore Melfi'],\n",
       "  'actors': ['Taraji P. Henson', 'Octavia Spencer', 'Janelle Monáe'],\n",
       "  'rating': 7.8},\n",
       " {'title': 'The Shape of Water',\n",
       "  'year': 2017,\n",
       "  'genres': ['Adventure', 'Drama', 'Fantasy'],\n",
       "  'duration': 123,\n",
       "  'directors': ['Guillermo del Toro'],\n",
       "  'actors': ['Sally Hawkins',\n",
       "   'Michael Shannon',\n",
       "   'Richard Jenkins',\n",
       "   'Octavia Spencer'],\n",
       "  'rating': 7.3},\n",
       " {'title': 'Car Dogs',\n",
       "  'year': 2016,\n",
       "  'genres': ['Comedy', 'Drama'],\n",
       "  'duration': 104,\n",
       "  'directors': ['Adam Collis'],\n",
       "  'actors': ['Octavia Spencer',\n",
       "   'Alessandra Torresani',\n",
       "   'Patrick J. Adams',\n",
       "   'Nia Vardalos'],\n",
       "  'rating': 5.0},\n",
       " {'title': 'Small Town Crime',\n",
       "  'year': 2017,\n",
       "  'genres': ['Crime', 'Mystery', 'Thriller'],\n",
       "  'duration': 91,\n",
       "  'directors': ['Eshom Nelms', 'Ian Nelms'],\n",
       "  'actors': ['John Hawkes',\n",
       "   'Anthony Anderson',\n",
       "   'Octavia Spencer',\n",
       "   'Robert Forster'],\n",
       "  'rating': 6.6},\n",
       " {'title': 'Instant Family',\n",
       "  'year': 2018,\n",
       "  'genres': ['Comedy', 'Drama'],\n",
       "  'duration': 118,\n",
       "  'directors': ['Sean Anders'],\n",
       "  'actors': ['Mark Wahlberg',\n",
       "   'Rose Byrne',\n",
       "   'Isabela Merced',\n",
       "   'Gustavo Escobar',\n",
       "   'Octavia Spencer'],\n",
       "  'rating': 7.3},\n",
       " {'title': 'The Free World',\n",
       "  'year': 2016,\n",
       "  'genres': ['Drama', 'Romance'],\n",
       "  'duration': 100,\n",
       "  'directors': ['Jason Lew'],\n",
       "  'actors': ['Elisabeth Moss',\n",
       "   'Octavia Spencer',\n",
       "   'Boyd Holbrook',\n",
       "   'Sung Kang'],\n",
       "  'rating': 6.1},\n",
       " {'title': 'Being John Malkovich',\n",
       "  'year': 1999,\n",
       "  'genres': ['Comedy', 'Drama', 'Fantasy'],\n",
       "  'duration': 113,\n",
       "  'directors': ['Spike Jonze'],\n",
       "  'actors': ['John Cusack', 'Cameron Diaz', 'Ned Bellamy', 'Octavia Spencer'],\n",
       "  'rating': 7.7},\n",
       " {'title': 'Ma',\n",
       "  'year': 2019,\n",
       "  'genres': ['Horror', 'Mystery', 'Thriller'],\n",
       "  'duration': 99,\n",
       "  'directors': ['Tate Taylor'],\n",
       "  'actors': ['Octavia Spencer', 'Diana Silvers'],\n",
       "  'rating': 5.6},\n",
       " {'title': 'Luce',\n",
       "  'year': 2019,\n",
       "  'genres': ['Drama', 'Mystery'],\n",
       "  'duration': 109,\n",
       "  'directors': ['Julius Onah'],\n",
       "  'actors': ['Naomi Watts', 'Octavia Spencer', 'Kelvin Harrison Jr.'],\n",
       "  'rating': 6.7},\n",
       " {'title': 'Black or White',\n",
       "  'year': 2014,\n",
       "  'genres': ['Drama'],\n",
       "  'duration': 121,\n",
       "  'directors': ['Mike Binder'],\n",
       "  'actors': ['Kevin Costner', 'Octavia Spencer', 'Mpho Koaho'],\n",
       "  'rating': 6.6},\n",
       " {'title': 'Fruitvale Station',\n",
       "  'year': 2013,\n",
       "  'genres': ['Biography', 'Crime', 'Drama'],\n",
       "  'duration': 85,\n",
       "  'directors': ['Ryan Coogler'],\n",
       "  'actors': ['Michael B. Jordan', 'Melonie Diaz', 'Octavia Spencer'],\n",
       "  'rating': 7.5},\n",
       " {'title': 'The Shack',\n",
       "  'year': 2017,\n",
       "  'genres': ['Drama', 'Fantasy'],\n",
       "  'duration': 132,\n",
       "  'directors': ['Stuart Hazeldine'],\n",
       "  'actors': ['Sam Worthington', 'Octavia Spencer', 'Tim McGraw'],\n",
       "  'rating': 6.3}]"
      ]
     },
     "execution_count": 18,
     "metadata": {},
     "output_type": "execute_result"
    }
   ],
   "source": [
    "#Q5: Which movies did 'Octavia Spencer' act in?\n",
    "actors_buckets['Octavia Spencer']"
   ]
  },
  {
   "cell_type": "code",
   "execution_count": 19,
   "id": "f93fee07",
   "metadata": {},
   "outputs": [
    {
     "data": {
      "text/plain": [
       "[{'title': 'Ninja Cheerleaders',\n",
       "  'year': 2008,\n",
       "  'genres': ['Action', 'Comedy'],\n",
       "  'duration': 81,\n",
       "  'directors': ['David Presley'],\n",
       "  'actors': ['Trishelle Cannatella',\n",
       "   'Ginny Weirick',\n",
       "   'Maitland McConnell',\n",
       "   'George Takei'],\n",
       "  'rating': 3.3},\n",
       " {'title': 'Live by the Fist',\n",
       "  'year': 1993,\n",
       "  'genres': ['Action', 'Crime', 'Drama'],\n",
       "  'duration': 77,\n",
       "  'directors': ['Cirio H. Santiago'],\n",
       "  'actors': ['Jerry Trimble', 'George Takei', 'Ted Markland'],\n",
       "  'rating': 4.3},\n",
       " {'title': 'Free Birds',\n",
       "  'year': 2013,\n",
       "  'genres': ['Animation', 'Adventure', 'Comedy'],\n",
       "  'duration': 91,\n",
       "  'directors': ['Jimmy Hayward'],\n",
       "  'actors': ['Owen Wilson', 'Woody Harrelson', 'Amy Poehler', 'George Takei'],\n",
       "  'rating': 5.8}]"
      ]
     },
     "execution_count": 19,
     "metadata": {},
     "output_type": "execute_result"
    }
   ],
   "source": [
    "#Q6: Which movies did 'George Takei' act in.\n",
    "actors_buckets['George Takei']"
   ]
  },
  {
   "cell_type": "code",
   "execution_count": 20,
   "id": "957d1e22",
   "metadata": {},
   "outputs": [
    {
     "data": {
      "text/plain": [
       "{'Action': 5611,\n",
       " 'Horror': 5175,\n",
       " 'Sci-Fi': 2148,\n",
       " 'Crime': 5078,\n",
       " 'Thriller': 5340,\n",
       " 'Comedy': 11130,\n",
       " 'Drama': 16410,\n",
       " 'Romance': 5753,\n",
       " 'History': 627,\n",
       " 'Adventure': 3849,\n",
       " 'Western': 1177,\n",
       " 'Family': 1585,\n",
       " 'Fantasy': 1537,\n",
       " 'War': 779,\n",
       " 'Sport': 565,\n",
       " 'Biography': 1009,\n",
       " 'Mystery': 2479,\n",
       " 'Film-Noir': 647,\n",
       " 'Music': 908,\n",
       " 'Animation': 676,\n",
       " 'Musical': 941,\n",
       " 'Reality-TV': 1,\n",
       " 'Documentary': 1,\n",
       " 'News': 1}"
      ]
     },
     "execution_count": 20,
     "metadata": {},
     "output_type": "execute_result"
    }
   ],
   "source": [
    "#Q7: How many movies are in each genre?\n",
    "genre_frequencies = {}\n",
    "\n",
    "for genre in genre_buckets:\n",
    "    if genre not in genre_frequencies:\n",
    "        genre_frequencies[genre] = 0\n",
    "    if genre in genre_frequencies:\n",
    "        for movie in genre:\n",
    "            genre_frequencies[genre] = len(genre_buckets[genre])\n",
    "            \n",
    "genre_frequencies"
   ]
  },
  {
   "cell_type": "code",
   "execution_count": 21,
   "id": "dbd11943",
   "metadata": {},
   "outputs": [
    {
     "data": {
      "image/png": "[encoded data removed]",
      "text/plain": [
       "<Figure size 432x288 with 1 Axes>"
      ]
     },
     "metadata": {
      "needs_background": "light"
     },
     "output_type": "display_data"
    }
   ],
   "source": [
    "#Q8: Plot the number of movies in each genre as a bar graph.\n",
    "plot_dict(genre_frequencies, 'number of movies')"
   ]
  },
  {
   "cell_type": "code",
   "execution_count": 22,
   "id": "435fcc9e",
   "metadata": {},
   "outputs": [
    {
     "data": {
      "text/plain": [
       "{'1981 to 1990': 2840,\n",
       " '2011 to 2020': 8884,\n",
       " '2001 to 2010': 6271,\n",
       " '1941 to 1950': 2256,\n",
       " '1971 to 1980': 1889,\n",
       " '1951 to 1960': 2201,\n",
       " '1931 to 1940': 2256,\n",
       " '1961 to 1970': 1609,\n",
       " '1991 to 2000': 4280,\n",
       " '1911 to 1920': 120,\n",
       " '1921 to 1930': 496}"
      ]
     },
     "execution_count": 22,
     "metadata": {},
     "output_type": "execute_result"
    }
   ],
   "source": [
    "#Q9: Find the number of movies released in each decade.\n",
    "movies_decade = {}\n",
    "for year in year_buckets:\n",
    "    decade = year_to_decade(year)\n",
    "    if decade not in movies_decade:\n",
    "        movies_decade[decade] = 0\n",
    "    if decade in movies_decade:\n",
    "        movies_decade[decade] += len(year_buckets[year])\n",
    "\n",
    "movies_decade"
   ]
  },
  {
   "cell_type": "code",
   "execution_count": 23,
   "id": "ecb99856",
   "metadata": {},
   "outputs": [
    {
     "data": {
      "image/png": "[encoded data removed]",
      "text/plain": [
       "<Figure size 432x288 with 1 Axes>"
      ]
     },
     "metadata": {
      "needs_background": "light"
     },
     "output_type": "display_data"
    }
   ],
   "source": [
    "#Q10: Plot the number of movies released in each decade as a bar graph.\n",
    "plot_dict(movies_decade, 'movies released')"
   ]
  },
  {
   "cell_type": "code",
   "execution_count": 24,
   "id": "58fd647d",
   "metadata": {},
   "outputs": [
    {
     "data": {
      "text/plain": [
       "{'Action': [{'title': 'The Dark Knight',\n",
       "   'year': 2008,\n",
       "   'genres': ['Action', 'Crime', 'Drama'],\n",
       "   'duration': 152,\n",
       "   'directors': ['Christopher Nolan'],\n",
       "   'actors': ['Christian Bale',\n",
       "    'Heath Ledger',\n",
       "    'Aaron Eckhart',\n",
       "    'Michael Caine'],\n",
       "   'rating': 9.0}],\n",
       " 'Horror': [{'title': 'Psycho',\n",
       "   'year': 1960,\n",
       "   'genres': ['Horror', 'Mystery', 'Thriller'],\n",
       "   'duration': 109,\n",
       "   'directors': ['Alfred Hitchcock'],\n",
       "   'actors': ['Anthony Perkins', 'Vera Miles', 'John Gavin'],\n",
       "   'rating': 8.5}],\n",
       " 'Sci-Fi': [{'title': 'Inception',\n",
       "   'year': 2010,\n",
       "   'genres': ['Action', 'Adventure', 'Sci-Fi'],\n",
       "   'duration': 148,\n",
       "   'directors': ['Christopher Nolan'],\n",
       "   'actors': ['Leonardo DiCaprio',\n",
       "    'Joseph Gordon-Levitt',\n",
       "    'Ellen Page',\n",
       "    'Tom Hardy'],\n",
       "   'rating': 8.8}],\n",
       " 'Crime': [{'title': 'The Godfather',\n",
       "   'year': 1972,\n",
       "   'genres': ['Crime', 'Drama'],\n",
       "   'duration': 175,\n",
       "   'directors': ['Francis Ford Coppola'],\n",
       "   'actors': ['Marlon Brando', 'Al Pacino'],\n",
       "   'rating': 9.2}],\n",
       " 'Thriller': [{'title': 'The Transcendents',\n",
       "   'year': 2018,\n",
       "   'genres': ['Music', 'Mystery', 'Thriller'],\n",
       "   'duration': 96,\n",
       "   'directors': ['Derek Ahonen'],\n",
       "   'actors': ['Rob Franco',\n",
       "    'Savannah Welch',\n",
       "    'Kathy Valentine',\n",
       "    'William Leroy',\n",
       "    'Derek Ahonen'],\n",
       "   'rating': 9.2}],\n",
       " 'Comedy': [{'title': 'The Moving on Phase',\n",
       "   'year': 2020,\n",
       "   'genres': ['Comedy'],\n",
       "   'duration': 85,\n",
       "   'directors': ['Don Tjernagel'],\n",
       "   'actors': ['Matt Anderson',\n",
       "    'Clint Boevers',\n",
       "    'Jillian Brown',\n",
       "    'Cody Croskrey',\n",
       "    'Skott Green'],\n",
       "   'rating': 9.5}],\n",
       " 'Drama': [{'title': 'Hopeful Notes',\n",
       "   'year': 2010,\n",
       "   'genres': ['Drama'],\n",
       "   'duration': 94,\n",
       "   'directors': ['Valerio Zanoli'],\n",
       "   'actors': ['Walter Nudo', 'Colin Ross', 'Ian Poland'],\n",
       "   'rating': 9.7}],\n",
       " 'Romance': [{'title': 'As I Am',\n",
       "   'year': 2019,\n",
       "   'genres': ['Drama', 'Fantasy', 'Romance'],\n",
       "   'duration': 62,\n",
       "   'directors': ['Anthony Bawn'],\n",
       "   'actors': ['Andre Myers', 'Jerimiyah Dunbar'],\n",
       "   'rating': 9.3}],\n",
       " 'History': [{'title': \"Schindler's List\",\n",
       "   'year': 1993,\n",
       "   'genres': ['Biography', 'Drama', 'History'],\n",
       "   'duration': 195,\n",
       "   'directors': ['Steven Spielberg'],\n",
       "   'actors': ['Liam Neeson',\n",
       "    'Ben Kingsley',\n",
       "    'Ralph Fiennes',\n",
       "    'Caroline Goodall',\n",
       "    'Jonathan Sagall'],\n",
       "   'rating': 8.9}],\n",
       " 'Adventure': [{'title': 'The Lord of the Rings: The Return of the King',\n",
       "   'year': 2003,\n",
       "   'genres': ['Action', 'Adventure', 'Drama'],\n",
       "   'duration': 201,\n",
       "   'directors': ['Peter Jackson'],\n",
       "   'actors': ['Sean Astin', 'John Bach', 'Sean Bean', 'Cate Blanchett'],\n",
       "   'rating': 8.9}],\n",
       " 'Western': [{'title': \"C'era una volta il West\",\n",
       "   'year': 1968,\n",
       "   'genres': ['Western'],\n",
       "   'duration': 165,\n",
       "   'directors': ['Sergio Leone'],\n",
       "   'actors': ['Claudia Cardinale', 'Henry Fonda', 'Jason Robards'],\n",
       "   'rating': 8.5}],\n",
       " 'Family': [{'title': 'All You Can Dream',\n",
       "   'year': 2012,\n",
       "   'genres': ['Comedy', 'Drama', 'Family'],\n",
       "   'duration': 79,\n",
       "   'directors': ['Valerio Zanoli'],\n",
       "   'actors': ['Anastacia', 'Hali Mason'],\n",
       "   'rating': 8.8}],\n",
       " 'Fantasy': [{'title': 'As I Am',\n",
       "   'year': 2019,\n",
       "   'genres': ['Drama', 'Fantasy', 'Romance'],\n",
       "   'duration': 62,\n",
       "   'directors': ['Anthony Bawn'],\n",
       "   'actors': ['Andre Myers', 'Jerimiyah Dunbar'],\n",
       "   'rating': 9.3}],\n",
       " 'War': [{'title': 'Saving Private Ryan',\n",
       "   'year': 1998,\n",
       "   'genres': ['Drama', 'War'],\n",
       "   'duration': 169,\n",
       "   'directors': ['Steven Spielberg'],\n",
       "   'actors': ['Tom Hanks',\n",
       "    'Tom Sizemore',\n",
       "    'Edward Burns',\n",
       "    'Barry Pepper',\n",
       "    'Adam Goldberg'],\n",
       "   'rating': 8.6}],\n",
       " 'Sport': [{'title': 'The Nomads',\n",
       "   'year': 2019,\n",
       "   'genres': ['Drama', 'Sport'],\n",
       "   'duration': 97,\n",
       "   'directors': ['Brandon Eric Kamin'],\n",
       "   'actors': ['Andrea Barnes', 'Erik Blachford', 'Jennifer Butler'],\n",
       "   'rating': 8.2},\n",
       "  {'title': 'Raging Bull',\n",
       "   'year': 1980,\n",
       "   'genres': ['Biography', 'Drama', 'Sport'],\n",
       "   'duration': 129,\n",
       "   'directors': ['Martin Scorsese'],\n",
       "   'actors': ['Robert De Niro', 'Cathy Moriarty'],\n",
       "   'rating': 8.2},\n",
       "  {'title': 'Warrior',\n",
       "   'year': 2011,\n",
       "   'genres': ['Action', 'Drama', 'Sport'],\n",
       "   'duration': 140,\n",
       "   'directors': [\"Gavin O'Connor\"],\n",
       "   'actors': ['Joel Edgerton', 'Tom Hardy', 'Nick Nolte'],\n",
       "   'rating': 8.2}],\n",
       " 'Biography': [{'title': \"Schindler's List\",\n",
       "   'year': 1993,\n",
       "   'genres': ['Biography', 'Drama', 'History'],\n",
       "   'duration': 195,\n",
       "   'directors': ['Steven Spielberg'],\n",
       "   'actors': ['Liam Neeson',\n",
       "    'Ben Kingsley',\n",
       "    'Ralph Fiennes',\n",
       "    'Caroline Goodall',\n",
       "    'Jonathan Sagall'],\n",
       "   'rating': 8.9}],\n",
       " 'Mystery': [{'title': 'The Transcendents',\n",
       "   'year': 2018,\n",
       "   'genres': ['Music', 'Mystery', 'Thriller'],\n",
       "   'duration': 96,\n",
       "   'directors': ['Derek Ahonen'],\n",
       "   'actors': ['Rob Franco',\n",
       "    'Savannah Welch',\n",
       "    'Kathy Valentine',\n",
       "    'William Leroy',\n",
       "    'Derek Ahonen'],\n",
       "   'rating': 9.2}],\n",
       " 'Film-Noir': [{'title': 'Sunset Blvd.',\n",
       "   'year': 1950,\n",
       "   'genres': ['Drama', 'Film-Noir'],\n",
       "   'duration': 110,\n",
       "   'directors': ['Billy Wilder'],\n",
       "   'actors': ['William Holden', 'Gloria Swanson', 'Erich von Stroheim'],\n",
       "   'rating': 8.4}],\n",
       " 'Music': [{'title': 'The Transcendents',\n",
       "   'year': 2018,\n",
       "   'genres': ['Music', 'Mystery', 'Thriller'],\n",
       "   'duration': 96,\n",
       "   'directors': ['Derek Ahonen'],\n",
       "   'actors': ['Rob Franco',\n",
       "    'Savannah Welch',\n",
       "    'Kathy Valentine',\n",
       "    'William Leroy',\n",
       "    'Derek Ahonen'],\n",
       "   'rating': 9.2}],\n",
       " 'Animation': [{'title': 'Doraleous and Associates',\n",
       "   'year': 2010,\n",
       "   'genres': ['Animation'],\n",
       "   'duration': 100,\n",
       "   'directors': ['Brent Triplett'],\n",
       "   'actors': ['Jon Etheridge', 'Bryan Mahoney', 'Nate Panning', 'Tony Schnur'],\n",
       "   'rating': 8.6}],\n",
       " 'Musical': [{'title': 'Spies Are Forever',\n",
       "   'year': 2016,\n",
       "   'genres': ['Musical'],\n",
       "   'duration': 159,\n",
       "   'directors': ['Corey Lubowich'],\n",
       "   'actors': ['Curt Mega',\n",
       "    'Mary Kate Wiles',\n",
       "    'Joey Richter',\n",
       "    'Brian Rosenthal'],\n",
       "   'rating': 8.7},\n",
       "  {'title': \"The Guy Who Didn't Like Musicals\",\n",
       "   'year': 2018,\n",
       "   'genres': ['Comedy', 'Musical'],\n",
       "   'duration': 112,\n",
       "   'directors': ['Nick Lang'],\n",
       "   'actors': ['Jon Matteson', 'Lauren Lopez', 'Joey Richter'],\n",
       "   'rating': 8.7}],\n",
       " 'Reality-TV': [{'title': 'Human Zoo',\n",
       "   'year': 2020,\n",
       "   'genres': ['Horror', 'Reality-TV', 'Thriller'],\n",
       "   'duration': 109,\n",
       "   'directors': ['John E Seymore'],\n",
       "   'actors': ['Robert Carradine', 'Jose Rosete', 'Rachel Amanda Bryant'],\n",
       "   'rating': 2.1}],\n",
       " 'Documentary': [{'title': 'This Is Elvis',\n",
       "   'year': 1981,\n",
       "   'genres': ['Documentary', 'Biography', 'Music'],\n",
       "   'duration': 101,\n",
       "   'directors': ['Malcolm Leo', 'Andrew Solt'],\n",
       "   'actors': ['David Scott',\n",
       "    'Paul Boensch III',\n",
       "    'Johnny Harra',\n",
       "    'Larry Raspberry'],\n",
       "   'rating': 7.5}],\n",
       " 'News': [{'title': 'A Fighting Season',\n",
       "   'year': 2015,\n",
       "   'genres': ['Drama', 'News', 'War'],\n",
       "   'duration': 82,\n",
       "   'directors': ['Oden Roberts'],\n",
       "   'actors': ['Clayne Crawford', 'Lew Temple'],\n",
       "   'rating': 6.4}]}"
      ]
     },
     "execution_count": 24,
     "metadata": {},
     "output_type": "execute_result"
    }
   ],
   "source": [
    "#Q11: Find the highest rated movies for each genre.\n",
    "high_rate_genre = {}\n",
    "for genre in genre_buckets:\n",
    "    if genre not in high_rate_genre:\n",
    "        high_rate_genre[genre] = None\n",
    "    if genre in high_rate_genre:\n",
    "        high_rate_genre[genre] = max_rated_movies(genre_buckets[genre])\n",
    "\n",
    "high_rate_genre"
   ]
  },
  {
   "cell_type": "code",
   "execution_count": 25,
   "id": "c3bf494b",
   "metadata": {},
   "outputs": [
    {
     "data": {
      "text/plain": [
       "{'Action': 5.5,\n",
       " 'Horror': 4.6,\n",
       " 'Sci-Fi': 4.9,\n",
       " 'Crime': 6.0,\n",
       " 'Thriller': 5.1,\n",
       " 'Comedy': 5.9,\n",
       " 'Drama': 6.1,\n",
       " 'Romance': 6.2,\n",
       " 'History': 6.5,\n",
       " 'Adventure': 6.0,\n",
       " 'Western': 6.2,\n",
       " 'Family': 5.9,\n",
       " 'Fantasy': 5.7,\n",
       " 'War': 6.4,\n",
       " 'Sport': 6.1,\n",
       " 'Biography': 6.7,\n",
       " 'Mystery': 5.8,\n",
       " 'Film-Noir': 6.6,\n",
       " 'Music': 6.2,\n",
       " 'Animation': 6.4,\n",
       " 'Musical': 6.2,\n",
       " 'Reality-TV': 2.1,\n",
       " 'Documentary': 7.5,\n",
       " 'News': 6.4}"
      ]
     },
     "execution_count": 25,
     "metadata": {},
     "output_type": "execute_result"
    }
   ],
   "source": [
    "#Q12: Find the median rating of movies from each genre.\n",
    "median_rating = {}\n",
    "for genre in genre_buckets:\n",
    "    rating_list = []\n",
    "    for movie in genre_buckets[genre]:\n",
    "        current_rating = movie[\"rating\"]\n",
    "        rating_list.append(current_rating)\n",
    "    if genre not in median_rating:\n",
    "        median_rating[genre] = None\n",
    "    if genre in median_rating:\n",
    "        median_rating[genre] = median(rating_list)\n",
    "median_rating\n",
    "    "
   ]
  },
  {
   "cell_type": "code",
   "execution_count": 26,
   "id": "cc6d9cae",
   "metadata": {},
   "outputs": [
    {
     "data": {
      "image/png": "[encoded data removed]",
      "text/plain": [
       "<Figure size 432x288 with 1 Axes>"
      ]
     },
     "metadata": {
      "needs_background": "light"
     },
     "output_type": "display_data"
    }
   ],
   "source": [
    "#Q13: Plot the median ratings of movies in each genre as a bar graph.\n",
    "plot_dict(median_rating, \"median rating\")"
   ]
  },
  {
   "cell_type": "code",
   "execution_count": 27,
   "id": "825d93b5",
   "metadata": {},
   "outputs": [
    {
     "data": {
      "text/plain": [
       "['Documentary',\n",
       " 'Biography',\n",
       " 'Film-Noir',\n",
       " 'History',\n",
       " 'War',\n",
       " 'Animation',\n",
       " 'News',\n",
       " 'Romance',\n",
       " 'Western',\n",
       " 'Music',\n",
       " 'Musical',\n",
       " 'Drama',\n",
       " 'Sport',\n",
       " 'Crime',\n",
       " 'Adventure',\n",
       " 'Comedy',\n",
       " 'Family',\n",
       " 'Mystery',\n",
       " 'Fantasy',\n",
       " 'Action',\n",
       " 'Thriller',\n",
       " 'Sci-Fi',\n",
       " 'Horror',\n",
       " 'Reality-TV']"
      ]
     },
     "execution_count": 27,
     "metadata": {},
     "output_type": "execute_result"
    }
   ],
   "source": [
    "#Q14: Produce a list of genres sorted in decreasing order of their median rating.\n",
    "ratings = dict(sorted(median_rating.items(), key=lambda r:r[1], reverse=True))\n",
    "list(ratings.keys())"
   ]
  },
  {
   "cell_type": "code",
   "execution_count": 28,
   "id": "c33dc599",
   "metadata": {},
   "outputs": [
    {
     "data": {
      "text/plain": [
       "[{'title': 'Shrek',\n",
       "  'year': 2001,\n",
       "  'genres': ['Animation', 'Adventure', 'Comedy'],\n",
       "  'duration': 90,\n",
       "  'directors': ['Andrew Adamson', 'Vicky Jenson'],\n",
       "  'actors': ['Mike Myers', 'Eddie Murphy'],\n",
       "  'rating': 7.8},\n",
       " {'title': 'Shrek 2',\n",
       "  'year': 2004,\n",
       "  'genres': ['Animation', 'Adventure', 'Comedy'],\n",
       "  'duration': 93,\n",
       "  'directors': ['Andrew Adamson', 'Kelly Asbury'],\n",
       "  'actors': ['Mike Myers', 'Eddie Murphy'],\n",
       "  'rating': 7.2},\n",
       " {'title': 'Shrek the Third',\n",
       "  'year': 2007,\n",
       "  'genres': ['Animation', 'Adventure', 'Comedy'],\n",
       "  'duration': 93,\n",
       "  'directors': ['Chris Miller', 'Raman Hui'],\n",
       "  'actors': ['Mike Myers', 'Eddie Murphy', 'Cameron Diaz', 'Antonio Banderas'],\n",
       "  'rating': 6.1},\n",
       " {'title': 'Shrek Forever After',\n",
       "  'year': 2010,\n",
       "  'genres': ['Animation', 'Adventure', 'Comedy'],\n",
       "  'duration': 93,\n",
       "  'directors': ['Mike Mitchell'],\n",
       "  'actors': ['Mike Myers', 'Eddie Murphy', 'Cameron Diaz', 'Antonio Banderas'],\n",
       "  'rating': 6.3},\n",
       " {'title': 'Shrek the Musical',\n",
       "  'year': 2013,\n",
       "  'genres': ['Comedy', 'Family', 'Fantasy'],\n",
       "  'duration': 130,\n",
       "  'directors': ['Michael John Warren'],\n",
       "  'actors': [\"Brian d'Arcy James\", 'Sutton Foster', 'Christopher Sieber'],\n",
       "  'rating': 7.0},\n",
       " {'title': 'Shrek Retold',\n",
       "  'year': 2018,\n",
       "  'genres': ['Animation', 'Adventure', 'Comedy'],\n",
       "  'duration': 90,\n",
       "  'directors': ['Grant Duffrin'],\n",
       "  'actors': ['Harry Antonucci', 'Russell Bailey'],\n",
       "  'rating': 7.5}]"
      ]
     },
     "execution_count": 28,
     "metadata": {},
     "output_type": "execute_result"
    }
   ],
   "source": [
    "#Q15: Produce a list of Shrek movies sorted in increasing order of their year of release.\n",
    "shrek_movies = find_specific_movies(movies,\"Shrek\")\n",
    "sorted_shrek = list(sorted(shrek_movies, key=lambda movie: movie[\"year\"]))\n",
    "sorted_shrek"
   ]
  },
  {
   "cell_type": "code",
   "execution_count": 29,
   "id": "d7684a00",
   "metadata": {},
   "outputs": [
    {
     "data": {
      "text/plain": [
       "[{'title': 'Little Man Tate',\n",
       "  'year': 1991,\n",
       "  'genres': ['Drama'],\n",
       "  'duration': 99,\n",
       "  'directors': ['Jodie Foster'],\n",
       "  'actors': ['Jodie Foster', 'Alex Lee', 'Adam Hann-Byrd'],\n",
       "  'rating': 6.6}]"
      ]
     },
     "execution_count": 29,
     "metadata": {},
     "output_type": "execute_result"
    }
   ],
   "source": [
    "#Q16: Find a list of all movies in which 'Jodie Foster' is both an actor and director.\n",
    "jodie_act_dir = []\n",
    "jodie_movies = actors_buckets[\"Jodie Foster\"]\n",
    "# for movie in jodie_movies:\n",
    "#     director = movie[\"directors\"]\n",
    "#     if \"Jodie Foster\" in director:\n",
    "#         jodie_act_dir.append(movie)\n",
    "# jodie_act_dir\n",
    "[movie for movie in jodie_movies if \"Jodie Foster\" in movie[\"directors\"]]"
   ]
  },
  {
   "cell_type": "code",
   "execution_count": 30,
   "id": "fbf656ee",
   "metadata": {},
   "outputs": [
    {
     "data": {
      "text/plain": [
       "'A Perfect World'"
      ]
     },
     "execution_count": 30,
     "metadata": {},
     "output_type": "execute_result"
    }
   ],
   "source": [
    "#Q17: What is the title of the longest movie both acted and directed by 'Clint Eastwood'?\n",
    "eastwood_act = actors_buckets[\"Clint Eastwood\"]\n",
    "eastwood_both = [movie for movie in eastwood_act if \"Clint Eastwood\" in movie[\"directors\"]]\n",
    "longest_movie_title = None\n",
    "longest_movie_min = 0\n",
    "for movie in eastwood_both:\n",
    "    current_title = movie[\"title\"]\n",
    "    current_length = movie[\"duration\"]\n",
    "    if current_length > longest_movie_min:\n",
    "        longest_movie_min = current_length\n",
    "        longest_movie_title = current_title\n",
    "longest_movie_title"
   ]
  },
  {
   "cell_type": "code",
   "execution_count": 34,
   "id": "f6b0bbef",
   "metadata": {},
   "outputs": [
    {
     "data": {
      "text/plain": [
       "[{'title': 'The Matrix Reloaded',\n",
       "  'year': 2003,\n",
       "  'genres': ['Action', 'Sci-Fi'],\n",
       "  'duration': 138,\n",
       "  'directors': ['Lana Wachowski', 'Lilly Wachowski'],\n",
       "  'actors': ['Ray Anthony', 'Helmut Bakaitis', 'Steve Bastoni'],\n",
       "  'rating': 7.2},\n",
       " {'title': 'Jupiter Ascending',\n",
       "  'year': 2015,\n",
       "  'genres': ['Action', 'Adventure', 'Sci-Fi'],\n",
       "  'duration': 127,\n",
       "  'directors': ['Lana Wachowski', 'Lilly Wachowski'],\n",
       "  'actors': ['Mila Kunis', 'Channing Tatum', 'Sean Bean', 'Eddie Redmayne'],\n",
       "  'rating': 5.3},\n",
       " {'title': 'Bound',\n",
       "  'year': 1996,\n",
       "  'genres': ['Crime', 'Romance', 'Thriller'],\n",
       "  'duration': 109,\n",
       "  'directors': ['Lana Wachowski', 'Lilly Wachowski'],\n",
       "  'actors': ['Jennifer Tilly', 'Gina Gershon', 'Joe Pantoliano'],\n",
       "  'rating': 7.3},\n",
       " {'title': 'Cloud Atlas',\n",
       "  'year': 2012,\n",
       "  'genres': ['Action', 'Drama', 'Mystery'],\n",
       "  'duration': 172,\n",
       "  'directors': ['Tom Tykwer', 'Lana Wachowski'],\n",
       "  'actors': ['Tom Hanks', 'Halle Berry', 'Jim Broadbent', 'Hugo Weaving'],\n",
       "  'rating': 7.4},\n",
       " {'title': 'The Matrix',\n",
       "  'year': 1999,\n",
       "  'genres': ['Action', 'Sci-Fi'],\n",
       "  'duration': 136,\n",
       "  'directors': ['Lana Wachowski', 'Lilly Wachowski'],\n",
       "  'actors': ['Keanu Reeves', 'Laurence Fishburne', 'Carrie-Anne Moss'],\n",
       "  'rating': 8.7},\n",
       " {'title': 'Speed Racer',\n",
       "  'year': 2008,\n",
       "  'genres': ['Action', 'Adventure', 'Comedy'],\n",
       "  'duration': 135,\n",
       "  'directors': ['Lana Wachowski', 'Lilly Wachowski'],\n",
       "  'actors': ['Emile Hirsch',\n",
       "   'Nicholas Elia',\n",
       "   'Susan Sarandon',\n",
       "   'Ariel Winter'],\n",
       "  'rating': 6.0},\n",
       " {'title': 'The Matrix Revolutions',\n",
       "  'year': 2003,\n",
       "  'genres': ['Action', 'Sci-Fi'],\n",
       "  'duration': 129,\n",
       "  'directors': ['Lana Wachowski', 'Lilly Wachowski'],\n",
       "  'actors': ['Mary Alice', 'Helmut Bakaitis'],\n",
       "  'rating': 6.8},\n",
       " [{'title': 'The Matrix Reloaded',\n",
       "   'year': 2003,\n",
       "   'genres': ['Action', 'Sci-Fi'],\n",
       "   'duration': 138,\n",
       "   'directors': ['Lana Wachowski', 'Lilly Wachowski'],\n",
       "   'actors': ['Ray Anthony', 'Helmut Bakaitis', 'Steve Bastoni'],\n",
       "   'rating': 7.2},\n",
       "  {'title': 'Jupiter Ascending',\n",
       "   'year': 2015,\n",
       "   'genres': ['Action', 'Adventure', 'Sci-Fi'],\n",
       "   'duration': 127,\n",
       "   'directors': ['Lana Wachowski', 'Lilly Wachowski'],\n",
       "   'actors': ['Mila Kunis', 'Channing Tatum', 'Sean Bean', 'Eddie Redmayne'],\n",
       "   'rating': 5.3},\n",
       "  {'title': 'Bound',\n",
       "   'year': 1996,\n",
       "   'genres': ['Crime', 'Romance', 'Thriller'],\n",
       "   'duration': 109,\n",
       "   'directors': ['Lana Wachowski', 'Lilly Wachowski'],\n",
       "   'actors': ['Jennifer Tilly', 'Gina Gershon', 'Joe Pantoliano'],\n",
       "   'rating': 7.3},\n",
       "  {'title': 'The Matrix',\n",
       "   'year': 1999,\n",
       "   'genres': ['Action', 'Sci-Fi'],\n",
       "   'duration': 136,\n",
       "   'directors': ['Lana Wachowski', 'Lilly Wachowski'],\n",
       "   'actors': ['Keanu Reeves', 'Laurence Fishburne', 'Carrie-Anne Moss'],\n",
       "   'rating': 8.7},\n",
       "  {'title': 'Speed Racer',\n",
       "   'year': 2008,\n",
       "   'genres': ['Action', 'Adventure', 'Comedy'],\n",
       "   'duration': 135,\n",
       "   'directors': ['Lana Wachowski', 'Lilly Wachowski'],\n",
       "   'actors': ['Emile Hirsch',\n",
       "    'Nicholas Elia',\n",
       "    'Susan Sarandon',\n",
       "    'Ariel Winter'],\n",
       "   'rating': 6.0},\n",
       "  {'title': 'The Matrix Revolutions',\n",
       "   'year': 2003,\n",
       "   'genres': ['Action', 'Sci-Fi'],\n",
       "   'duration': 129,\n",
       "   'directors': ['Lana Wachowski', 'Lilly Wachowski'],\n",
       "   'actors': ['Mary Alice', 'Helmut Bakaitis'],\n",
       "   'rating': 6.8}]]"
      ]
     },
     "execution_count": 34,
     "metadata": {},
     "output_type": "execute_result"
    }
   ],
   "source": [
    "\n"
   ]
  },
  {
   "cell_type": "code",
   "execution_count": 43,
   "id": "88caf921",
   "metadata": {},
   "outputs": [],
   "source": [
    "#Q18: What are the titles of the movies directed by the Wachowskis contain both 'Action' \n",
    "#and 'Adventure' in their genre?\n",
    "\n",
    "Wachowski_movies = directors_buckets['Lana Wachowski'] \n",
    "Wachowski_movies.append(directors_buckets['Lilly Wachowski'])\n",
    "wach_movies = []\n",
    "for movie in Wachowski_movies:\n",
    "#     current_movie_genre = movie[\"genres\"]\n",
    "#     if \"Action\" in current_movie_genre and \"Adventure\" in current_movie_genre:\n",
    "#         wach_movies.append(movie)\n",
    "# wach_movies\n",
    "        "
   ]
  },
  {
   "cell_type": "code",
   "execution_count": null,
   "id": "5c11b06e",
   "metadata": {},
   "outputs": [],
   "source": []
  }
 ],
 "metadata": {
  "kernelspec": {
   "display_name": "Python 3 (ipykernel)",
   "language": "python",
   "name": "python3"
  },
  "language_info": {
   "codemirror_mode": {
    "name": "ipython",
    "version": 3
   },
   "file_extension": ".py",
   "mimetype": "text/x-python",
   "name": "python",
   "nbconvert_exporter": "python",
   "pygments_lexer": "ipython3",
   "version": "3.11.4"
  }
 },
 "nbformat": 4,
 "nbformat_minor": 5
}

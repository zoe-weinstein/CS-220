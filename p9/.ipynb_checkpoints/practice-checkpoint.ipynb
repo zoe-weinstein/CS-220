{
 "cells": [
  {
   "cell_type": "markdown",
   "id": "5fd6667d",
   "metadata": {},
   "source": [
    "# Lab-P9:  Plotting and Sorting"
   ]
  },
  {
   "cell_type": "markdown",
   "id": "4d6449ae",
   "metadata": {},
   "source": [
    "In this lab, you will use two new packages: `matplotlib` and `pandas`. Import them below."
   ]
  },
  {
   "cell_type": "code",
   "execution_count": 1,
   "id": "bc8a46b0",
   "metadata": {},
   "outputs": [],
   "source": [
    "import pandas \n",
    "import matplotlib \n",
    "\n",
    "import copy "
   ]
  },
  {
   "cell_type": "markdown",
   "id": "b9dd26f9",
   "metadata": {},
   "source": [
    "## Segment 1: Plotting Dictionaries"
   ]
  },
  {
   "cell_type": "markdown",
   "id": "8f131837",
   "metadata": {},
   "source": [
    "### Task 1.1: Understand how `plot_dict` works\n",
    "Creating a dictionary will often be the first step towards creating a bar plot in Python. In particular, each dictionary key might correspond to a category (along the x-axis), and each value might correspond to an amount (along the y-axis). To setup plotting in Python, run the following cell:"
   ]
  },
  {
   "cell_type": "code",
   "execution_count": 2,
   "id": "2f712722",
   "metadata": {},
   "outputs": [],
   "source": [
    "def plot_dict(d, label=\"Grade Percent\"):\n",
    "    ax = pandas.Series(d).sort_index().plot.bar(color=\"black\", fontsize=16)\n",
    "    ax.set_ylabel(label, fontsize=16)"
   ]
  },
  {
   "cell_type": "markdown",
   "id": "e18a7a36",
   "metadata": {},
   "source": [
    "Let's try creating a simple dictionary and using it to create a bar plot with the `plot_dict` function:"
   ]
  },
  {
   "cell_type": "code",
   "execution_count": 3,
   "id": "7417551b",
   "metadata": {},
   "outputs": [
    {
     "data": {
      "image/png": "[encoded data removed]",
      "text/plain": [
       "<Figure size 432x288 with 1 Axes>"
      ]
     },
     "metadata": {
      "needs_background": "light"
     },
     "output_type": "display_data"
    }
   ],
   "source": [
    "goals = {\"Ada Lovelace\": 5, \"Rose Lavelle\": 22, \"Marta Vieira da Silva\": 113}\n",
    "plot_dict(goals)"
   ]
  },
  {
   "cell_type": "markdown",
   "id": "d20cbf7a",
   "metadata": {},
   "source": [
    "Now, we'll use a different version of the variable `small_movies_data` defined in P8, simply called `movies_data`. If you haven't completed P8, don't worry! The variable has been defined below and you do not need to copy any P8 code over. Run the cell below.\n",
    "\n",
    "**Important**: We define the variable directly in order to save time and simplify the lab exercises. Do NOT hardcode values of variables storing the dataset in the project. Instead use the appropriate functions to load the data from the corresponding CSV file."
   ]
  },
  {
   "cell_type": "code",
   "execution_count": 4,
   "id": "34b3a404",
   "metadata": {},
   "outputs": [],
   "source": [
    "movies_data = [{'title': 'Zoolander',\n",
    "  'year': 2001,\n",
    "  'genres': ['Comedy'],\n",
    "  'duration': 90,\n",
    "  'directors': ['Ben Stiller'],\n",
    "  'actors': ['Ben Stiller', 'Owen Wilson'],\n",
    "  'rating': 6.5},\n",
    "{'title': 'Tower Heist',\n",
    "  'year': 2011,\n",
    "  'genres': ['Action', 'Comedy', 'Crime'],\n",
    "  'duration': 104,\n",
    "  'directors': ['Brett Ratner'],\n",
    "  'actors': ['Ben Stiller', 'Eddie Murphy', 'Casey Affleck'],\n",
    "  'rating': 6.2},\n",
    "{'title': 'Shrek 2',\n",
    "  'year': 2004,\n",
    "  'genres': ['Animation', 'Adventure', 'Comedy'],\n",
    "  'duration': 93,\n",
    "  'directors': ['Andrew Adamson', 'Kelly Asbury'],\n",
    "  'actors': ['Mike Myers', 'Eddie Murphy'],\n",
    "  'rating': 7.2},\n",
    "{'title': 'The Nutty Professor',\n",
    "  'year': 1996,\n",
    "  'genres': ['Comedy', 'Romance', 'Sci-Fi'],\n",
    "  'duration': 95,\n",
    "  'directors': ['Tom Shadyac'],\n",
    "  'actors': ['Eddie Murphy', 'Jada Pinkett Smith'],\n",
    "  'rating': 6.1}]    "
   ]
  },
  {
   "cell_type": "markdown",
   "id": "6dd4b72a",
   "metadata": {},
   "source": [
    "### Task 1.2: Map necessary details into a dictionary\n",
    "As you can see, `movies_data` is a list of dictionaries where each dictionary stores information on a particular movie. Now, use the `plot_dict` function to create a bar plot that compares the duration of each movie in `movies_data`.\n",
    "\n",
    "Your x-axis should contain the titles of each movie and your y-axis should be the duration. \n",
    "\n",
    "You will need to define and create a new dictionary `plot_movies_data` and use it as input to the `plot_dict` function. Do NOT hardcode the value of this new dictionary. Instead, derive the value from the original `movies_data` dictionary by iterating over it."
   ]
  },
  {
   "cell_type": "code",
   "execution_count": 5,
   "id": "bd3fe4f9",
   "metadata": {},
   "outputs": [
    {
     "data": {
      "text/plain": [
       "[{'title': 'Zoolander',\n",
       "  'year': 2001,\n",
       "  'genres': ['Comedy'],\n",
       "  'duration': 90,\n",
       "  'directors': ['Ben Stiller'],\n",
       "  'actors': ['Ben Stiller', 'Owen Wilson'],\n",
       "  'rating': 6.5},\n",
       " {'title': 'Tower Heist',\n",
       "  'year': 2011,\n",
       "  'genres': ['Action', 'Comedy', 'Crime'],\n",
       "  'duration': 104,\n",
       "  'directors': ['Brett Ratner'],\n",
       "  'actors': ['Ben Stiller', 'Eddie Murphy', 'Casey Affleck'],\n",
       "  'rating': 6.2},\n",
       " {'title': 'Shrek 2',\n",
       "  'year': 2004,\n",
       "  'genres': ['Animation', 'Adventure', 'Comedy'],\n",
       "  'duration': 93,\n",
       "  'directors': ['Andrew Adamson', 'Kelly Asbury'],\n",
       "  'actors': ['Mike Myers', 'Eddie Murphy'],\n",
       "  'rating': 7.2},\n",
       " {'title': 'The Nutty Professor',\n",
       "  'year': 1996,\n",
       "  'genres': ['Comedy', 'Romance', 'Sci-Fi'],\n",
       "  'duration': 95,\n",
       "  'directors': ['Tom Shadyac'],\n",
       "  'actors': ['Eddie Murphy', 'Jada Pinkett Smith'],\n",
       "  'rating': 6.1}]"
      ]
     },
     "execution_count": 5,
     "metadata": {},
     "output_type": "execute_result"
    }
   ],
   "source": [
    "movies_data"
   ]
  },
  {
   "cell_type": "code",
   "execution_count": 6,
   "id": "d81a47b8",
   "metadata": {},
   "outputs": [
    {
     "data": {
      "image/png": "[encoded data removed]",
      "text/plain": [
       "<Figure size 432x288 with 1 Axes>"
      ]
     },
     "metadata": {
      "needs_background": "light"
     },
     "output_type": "display_data"
    }
   ],
   "source": [
    "# Your code goes in this cell. \n",
    "# Create a new dictionary plot_movies_data with \n",
    "# keys as movie titles and values as movie durations. \n",
    "\n",
    "# Pass the newly created dictionary to the plot_dict function\n",
    "\n",
    "plot_movies_data = {}\n",
    "for movie in movies_data:\n",
    "    movie_titles = movie[\"title\"]\n",
    "    movie_durations = movie[\"duration\"]\n",
    "    plot_movies_data[movie_titles] = (movie_durations)\n",
    "plot_movies_data\n",
    "\n",
    "plot_dict(plot_movies_data)\n",
    "\n"
   ]
  },
  {
   "cell_type": "markdown",
   "id": "1924cc8a",
   "metadata": {},
   "source": [
    "Notice that in the first plot, the y-axis is missing a label; that can be specified with an optional second argument to `plot_dict`. This time, specify \"Duration\" as the label for the y-axis. Plot the graph again with this new label."
   ]
  },
  {
   "cell_type": "code",
   "execution_count": 7,
   "id": "4914b598",
   "metadata": {},
   "outputs": [
    {
     "data": {
      "image/png": "[encoded data removed]",
      "text/plain": [
       "<Figure size 432x288 with 1 Axes>"
      ]
     },
     "metadata": {
      "needs_background": "light"
     },
     "output_type": "display_data"
    }
   ],
   "source": [
    "#Your code goes in this cell\n",
    "def plot_dict(d, label=\"Duration\"):\n",
    "    ax = pandas.Series(d).sort_index().plot.bar(color=\"black\", fontsize=16)\n",
    "    ax.set_ylabel(label, fontsize=16)\n",
    "    \n",
    "plot_dict(plot_movies_data)\n"
   ]
  },
  {
   "cell_type": "markdown",
   "id": "5eac8c2f",
   "metadata": {},
   "source": [
    "Your final output should look like this:"
   ]
  },
  {
   "attachments": {
    "expected_plot.PNG": {
     "image/png": "[encoded data removed]"
    }
   },
   "cell_type": "markdown",
   "id": "27cca2b2",
   "metadata": {},
   "source": [
    "![expected_plot.PNG](attachment:expected_plot.PNG)"
   ]
  },
  {
   "cell_type": "markdown",
   "id": "e5ab82b2",
   "metadata": {},
   "source": [
    "## Segment 2: Creating a Dictionary with Custom Keys"
   ]
  },
  {
   "cell_type": "markdown",
   "id": "710114db",
   "metadata": {},
   "source": [
    "### Task 2.1: Convert years to their decades\n",
    "\n",
    "Recall in p5, we organized hurricanes by decade.\n",
    "We are going to use that same idea to create custom keys for a dictionary of frequencies.\n",
    "\n",
    "First, we are going to write the `year_to_decade` function. Given a year, this function returns a string that represents the decade that year belongs to. Here are some sample calls and the expected output:\n",
    "\n",
    "- year_to_decade(2003) will return '2001 to 2010'\n",
    "- year_to_decade(2000) will return '1991 to 2000'\n",
    "\n",
    "Complete the code below. "
   ]
  },
  {
   "cell_type": "code",
   "execution_count": 8,
   "id": "8f48a9cd",
   "metadata": {},
   "outputs": [],
   "source": [
    "def year_to_decade(year):\n",
    "    if year % 10 == 0:\n",
    "         #Complete this line/lines\n",
    "        decade_start = (year - 9)\n",
    "        decade = (str(decade_start) + \" to \" + str(year))\n",
    "    else:\n",
    "        decade_start = year - (year % 10) + 1\n",
    "        decade = (str(decade_start) + \" to \" + str(decade_start+9))\n",
    "         #Complete this line/lines\n",
    "        \n",
    "    # you can either return here, or delete this return statement\n",
    "    # and return above this line\n",
    "    return decade"
   ]
  },
  {
   "cell_type": "code",
   "execution_count": 9,
   "id": "6d16f37c",
   "metadata": {},
   "outputs": [
    {
     "name": "stdout",
     "output_type": "stream",
     "text": [
      "Expected: 1991 to 2000 \t Actual:  1991 to 2000\n",
      "Expected: 1841 to 1850 \t Actual:  1841 to 1850\n",
      "Expected: 2011 to 2020 \t Actual:  2011 to 2020\n"
     ]
    }
   ],
   "source": [
    "#Test your function\n",
    "print(\"Expected: 1991 to 2000 \\t Actual: \", year_to_decade(2000))\n",
    "print(\"Expected: 1841 to 1850 \\t Actual: \", year_to_decade(1843))\n",
    "print(\"Expected: 2011 to 2020 \\t Actual: \", year_to_decade(2013))"
   ]
  },
  {
   "cell_type": "markdown",
   "id": "81265413",
   "metadata": {},
   "source": [
    "### Task 2.2: Create new dictionary with custom keys and values\n",
    "\n",
    "Create a new dictionary `movies_with_decade` that has the title of each movie in `movies_data` as a key and the decade it was released in as a value. Use the `year_to_decade` function you created in the previous task."
   ]
  },
  {
   "cell_type": "code",
   "execution_count": 10,
   "id": "8c2e73b1",
   "metadata": {},
   "outputs": [
    {
     "data": {
      "text/plain": [
       "{'Zoolander': '2001 to 2010',\n",
       " 'Tower Heist': '2011 to 2020',\n",
       " 'Shrek 2': '2001 to 2010',\n",
       " 'The Nutty Professor': '1991 to 2000'}"
      ]
     },
     "execution_count": 10,
     "metadata": {},
     "output_type": "execute_result"
    }
   ],
   "source": [
    "# Your code goes here\n",
    "movies_with_decade = {}\n",
    "for movie in movies_data:\n",
    "    movie_titles = movie[\"title\"]\n",
    "    movie_year = movie[\"year\"]\n",
    "    movie_decade = year_to_decade(movie_year)\n",
    "    movies_with_decade[movie_titles] = (movie_decade)\n",
    "movies_with_decade"
   ]
  },
  {
   "cell_type": "code",
   "execution_count": 11,
   "id": "eeaacc2b",
   "metadata": {},
   "outputs": [
    {
     "name": "stdout",
     "output_type": "stream",
     "text": [
      "Expected: 2001 to 2010 \t Actual:  2001 to 2010\n",
      "Expected: 2011 to 2020 \t Actual:  2011 to 2020\n",
      "Expected: 1991 to 2000 \t Actual:  1991 to 2000\n"
     ]
    }
   ],
   "source": [
    "# Test your implementation\n",
    "print(\"Expected: 2001 to 2010 \\t Actual: \", movies_with_decade[\"Shrek 2\"])\n",
    "print(\"Expected: 2011 to 2020 \\t Actual: \", movies_with_decade['Tower Heist'])\n",
    "print(\"Expected: 1991 to 2000 \\t Actual: \", movies_with_decade['The Nutty Professor'])"
   ]
  },
  {
   "cell_type": "markdown",
   "id": "f13a76e4",
   "metadata": {},
   "source": [
    "## Segment 3: Sorting a Dictionary"
   ]
  },
  {
   "cell_type": "markdown",
   "id": "3c639f20",
   "metadata": {},
   "source": [
    "### Task 3.1: Sort `plot_movies_data` by title\n",
    "One way to sort a dictionary is to convert it into a list of tuples, sort the tuples, and then convert the sorted tuples back to a dictionary.\n",
    "\n",
    "Here's what `plot_movies_data.items()` looks like:\n",
    "```python\n",
    "[('Zoolander', 90), ('Tower Heist', 104), ('Shrek 2', 93), ('The Nutty Professor', 95)]\n",
    "```\n",
    "\n",
    "Sort the `plot_movies_data` dictionary you defined earlier (Task 1.2), using the `sorted` function."
   ]
  },
  {
   "cell_type": "code",
   "execution_count": 12,
   "id": "03c721e8",
   "metadata": {},
   "outputs": [
    {
     "data": {
      "text/plain": [
       "[('Shrek 2', 93),\n",
       " ('The Nutty Professor', 95),\n",
       " ('Tower Heist', 104),\n",
       " ('Zoolander', 90)]"
      ]
     },
     "execution_count": 12,
     "metadata": {},
     "output_type": "execute_result"
    }
   ],
   "source": [
    "# Your code here\n",
    "sorted(plot_movies_data.items())"
   ]
  },
  {
   "cell_type": "markdown",
   "id": "cccd3d27",
   "metadata": {},
   "source": [
    "### Task 3.2: Sort `plot_movies_data` by duration\n",
    "The tuples were sorted by their first item, which was the key. This time, we'll sort the dictionary by values. i.e. The movies will be ordered in ascending order of their durations.\n",
    "\n",
    "To sort by values, use a keyword argument to identify a function reference. We can either use `lambda` function or write an extract / get function to specify which field inside the tuple to consider for sorting. Recall that the `lambda` or extract / get function should deal with a single movie tuple."
   ]
  },
  {
   "cell_type": "code",
   "execution_count": 13,
   "id": "dcb23f95",
   "metadata": {
    "scrolled": true
   },
   "outputs": [
    {
     "data": {
      "text/plain": [
       "[('Zoolander', 90),\n",
       " ('Shrek 2', 93),\n",
       " ('The Nutty Professor', 95),\n",
       " ('Tower Heist', 104)]"
      ]
     },
     "execution_count": 13,
     "metadata": {},
     "output_type": "execute_result"
    }
   ],
   "source": [
    "sorted(plot_movies_data.items(), key=lambda movie:movie[1])"
   ]
  },
  {
   "cell_type": "markdown",
   "id": "c1b0e616",
   "metadata": {},
   "source": [
    "## Segement 4: Sorting a List of Dictionaries by any key"
   ]
  },
  {
   "cell_type": "markdown",
   "id": "4053d8fc",
   "metadata": {},
   "source": [
    "Given our `movies_data` list of dictionaries, let's sort it based on different keys. Create a new list `sorted_movies_data` that contains the movies in `movies_data` sorted based on the year of release of each movie, in descending order (starting with the most recent release and ending with the least). Make sure to not modify the original value of `movies_data` in any way. "
   ]
  },
  {
   "cell_type": "code",
   "execution_count": 14,
   "id": "a2dffde7",
   "metadata": {},
   "outputs": [
    {
     "data": {
      "text/plain": [
       "[{'title': 'Tower Heist',\n",
       "  'year': 2011,\n",
       "  'genres': ['Action', 'Comedy', 'Crime'],\n",
       "  'duration': 104,\n",
       "  'directors': ['Brett Ratner'],\n",
       "  'actors': ['Ben Stiller', 'Eddie Murphy', 'Casey Affleck'],\n",
       "  'rating': 6.2},\n",
       " {'title': 'Shrek 2',\n",
       "  'year': 2004,\n",
       "  'genres': ['Animation', 'Adventure', 'Comedy'],\n",
       "  'duration': 93,\n",
       "  'directors': ['Andrew Adamson', 'Kelly Asbury'],\n",
       "  'actors': ['Mike Myers', 'Eddie Murphy'],\n",
       "  'rating': 7.2},\n",
       " {'title': 'Zoolander',\n",
       "  'year': 2001,\n",
       "  'genres': ['Comedy'],\n",
       "  'duration': 90,\n",
       "  'directors': ['Ben Stiller'],\n",
       "  'actors': ['Ben Stiller', 'Owen Wilson'],\n",
       "  'rating': 6.5},\n",
       " {'title': 'The Nutty Professor',\n",
       "  'year': 1996,\n",
       "  'genres': ['Comedy', 'Romance', 'Sci-Fi'],\n",
       "  'duration': 95,\n",
       "  'directors': ['Tom Shadyac'],\n",
       "  'actors': ['Eddie Murphy', 'Jada Pinkett Smith'],\n",
       "  'rating': 6.1}]"
      ]
     },
     "execution_count": 14,
     "metadata": {},
     "output_type": "execute_result"
    }
   ],
   "source": [
    "# Your code here\n",
    "sorted_movies_data = sorted(movies_data, key=lambda movie:movie[\"year\"], reverse=True)\n",
    "sorted_movies_data"
   ]
  },
  {
   "cell_type": "code",
   "execution_count": 15,
   "id": "078d169c",
   "metadata": {},
   "outputs": [
    {
     "name": "stdout",
     "output_type": "stream",
     "text": [
      "Expected: Tower Heist \t Actual:  Tower Heist\n",
      "Expected: Shrek 2 \t Actual:  Shrek 2\n",
      "Expected: Zoolander \t Actual:  Zoolander\n"
     ]
    }
   ],
   "source": [
    "# Test your implementation\n",
    "print(\"Expected: Tower Heist \\t Actual: \", sorted_movies_data[0]['title'])\n",
    "print(\"Expected: Shrek 2 \\t Actual: \", sorted_movies_data[1]['title'])\n",
    "print(\"Expected: Zoolander \\t Actual: \", sorted_movies_data[2]['title'])"
   ]
  },
  {
   "cell_type": "markdown",
   "id": "aa74b2ca",
   "metadata": {},
   "source": [
    "## Segment 5: Bucketizing\n",
    "\n",
    "### Task 5.1: Create `movies_by_actor` dictionary"
   ]
  },
  {
   "cell_type": "markdown",
   "id": "d5d3ef72",
   "metadata": {},
   "source": [
    "Now, let's make a bucketized dictionary `movies_by_actor` that has the name of each actor mentioned in `movies_data` as a key and a list of movies they featured in as values. By list of movies, we mean a list of dictionaries - each dictionary represents a movie. \n",
    "\n",
    "You should be familiar with the steps to write code for this. We recommend that you try that on your own first. If you really need a hint, please see the suggested approach below."
   ]
  },
  {
   "cell_type": "code",
   "execution_count": 16,
   "id": "a1eea171",
   "metadata": {},
   "outputs": [
    {
     "data": {
      "text/plain": [
       "{'Ben Stiller': [{'title': 'Zoolander',\n",
       "   'year': 2001,\n",
       "   'genres': ['Comedy'],\n",
       "   'duration': 90,\n",
       "   'directors': ['Ben Stiller'],\n",
       "   'actors': ['Ben Stiller', 'Owen Wilson'],\n",
       "   'rating': 6.5},\n",
       "  {'title': 'Tower Heist',\n",
       "   'year': 2011,\n",
       "   'genres': ['Action', 'Comedy', 'Crime'],\n",
       "   'duration': 104,\n",
       "   'directors': ['Brett Ratner'],\n",
       "   'actors': ['Ben Stiller', 'Eddie Murphy', 'Casey Affleck'],\n",
       "   'rating': 6.2}],\n",
       " 'Owen Wilson': [{'title': 'Zoolander',\n",
       "   'year': 2001,\n",
       "   'genres': ['Comedy'],\n",
       "   'duration': 90,\n",
       "   'directors': ['Ben Stiller'],\n",
       "   'actors': ['Ben Stiller', 'Owen Wilson'],\n",
       "   'rating': 6.5}],\n",
       " 'Eddie Murphy': [{'title': 'Tower Heist',\n",
       "   'year': 2011,\n",
       "   'genres': ['Action', 'Comedy', 'Crime'],\n",
       "   'duration': 104,\n",
       "   'directors': ['Brett Ratner'],\n",
       "   'actors': ['Ben Stiller', 'Eddie Murphy', 'Casey Affleck'],\n",
       "   'rating': 6.2},\n",
       "  {'title': 'Shrek 2',\n",
       "   'year': 2004,\n",
       "   'genres': ['Animation', 'Adventure', 'Comedy'],\n",
       "   'duration': 93,\n",
       "   'directors': ['Andrew Adamson', 'Kelly Asbury'],\n",
       "   'actors': ['Mike Myers', 'Eddie Murphy'],\n",
       "   'rating': 7.2},\n",
       "  {'title': 'The Nutty Professor',\n",
       "   'year': 1996,\n",
       "   'genres': ['Comedy', 'Romance', 'Sci-Fi'],\n",
       "   'duration': 95,\n",
       "   'directors': ['Tom Shadyac'],\n",
       "   'actors': ['Eddie Murphy', 'Jada Pinkett Smith'],\n",
       "   'rating': 6.1}],\n",
       " 'Casey Affleck': [{'title': 'Tower Heist',\n",
       "   'year': 2011,\n",
       "   'genres': ['Action', 'Comedy', 'Crime'],\n",
       "   'duration': 104,\n",
       "   'directors': ['Brett Ratner'],\n",
       "   'actors': ['Ben Stiller', 'Eddie Murphy', 'Casey Affleck'],\n",
       "   'rating': 6.2}],\n",
       " 'Mike Myers': [{'title': 'Shrek 2',\n",
       "   'year': 2004,\n",
       "   'genres': ['Animation', 'Adventure', 'Comedy'],\n",
       "   'duration': 93,\n",
       "   'directors': ['Andrew Adamson', 'Kelly Asbury'],\n",
       "   'actors': ['Mike Myers', 'Eddie Murphy'],\n",
       "   'rating': 7.2}],\n",
       " 'Jada Pinkett Smith': [{'title': 'The Nutty Professor',\n",
       "   'year': 1996,\n",
       "   'genres': ['Comedy', 'Romance', 'Sci-Fi'],\n",
       "   'duration': 95,\n",
       "   'directors': ['Tom Shadyac'],\n",
       "   'actors': ['Eddie Murphy', 'Jada Pinkett Smith'],\n",
       "   'rating': 6.1}]}"
      ]
     },
     "execution_count": 16,
     "metadata": {},
     "output_type": "execute_result"
    }
   ],
   "source": [
    "movies_by_actor = {}\n",
    "for movie in movies_data:\n",
    "    for actor in movie[\"actors\"]:\n",
    "        if actor not in movies_by_actor:\n",
    "            movies_by_actor[actor] = []\n",
    "        movies_by_actor[actor].append(movie)\n",
    "movies_by_actor\n",
    "\n",
    "# Suggested Approach:\n",
    "# 1. Iterate over each dictionary in movies_data.\n",
    "    # 2. Iterate over the list of actors in each dictionary. \n",
    "        # For each actor, check if they are already present in movies_by_actor. \n",
    "        # If they are not present, initialize their value as an empty list. \n",
    "        # The key will be the name of the actor.\n",
    "    # 3. For each actor, append the current movie in movies_data \n",
    "    #    to the corresponding list in movies_by_actor\n"
   ]
  },
  {
   "cell_type": "code",
   "execution_count": 17,
   "id": "d56dcb97",
   "metadata": {},
   "outputs": [
    {
     "name": "stdout",
     "output_type": "stream",
     "text": [
      "Expected: Zoolander   \t Actual:  Zoolander\n",
      "Expected: Tower Heist \t Actual:  Tower Heist\n",
      "Expected: 3           \t Actual:  3\n"
     ]
    }
   ],
   "source": [
    "# Test your implementation\n",
    "print(\"Expected: Zoolander   \\t Actual: \", movies_by_actor['Ben Stiller'][0]['title'])\n",
    "print(\"Expected: Tower Heist \\t Actual: \", movies_by_actor['Casey Affleck'][0]['title'])\n",
    "print(\"Expected: 3           \\t Actual: \", len(movies_by_actor['Eddie Murphy']))"
   ]
  },
  {
   "cell_type": "markdown",
   "id": "ad3d5505",
   "metadata": {},
   "source": [
    "## Segment 6: Comprehensions"
   ]
  },
  {
   "cell_type": "markdown",
   "id": "b1f10799",
   "metadata": {},
   "source": [
    "We can write comprehensions on dictionaries to form lists or to form new dictionaries. For example, let's compute the median ratings of the movies in `movies_data`."
   ]
  },
  {
   "cell_type": "markdown",
   "id": "9c529a81",
   "metadata": {},
   "source": [
    "### Task 6.1: Write the `median` function\n",
    "\n",
    "First, write a function to compute the median, and be sure the test code runs correctly. Recall that you implemented such a function in Lab-P6."
   ]
  },
  {
   "cell_type": "code",
   "execution_count": 18,
   "id": "280dcba4",
   "metadata": {},
   "outputs": [],
   "source": [
    "def median(items):\n",
    "    items.sort()\n",
    "    len(items)  \n",
    "    if len(items)%2 !=0:\n",
    "        return items[len(items)//2]\n",
    "    else:\n",
    "        first_middle = items[len(items) // 2-1] # use appropriate indexing\n",
    "        second_middle = items[len(items) // 2] # use appropriate indexing\n",
    "        median = (first_middle + second_middle) / 2\n",
    "        return median"
   ]
  },
  {
   "cell_type": "code",
   "execution_count": 19,
   "id": "729c5b6b",
   "metadata": {},
   "outputs": [
    {
     "name": "stdout",
     "output_type": "stream",
     "text": [
      "Expected value: 42 Actual value:  42\n",
      "Expected value: 18.5 Actual value:  18.5\n"
     ]
    }
   ],
   "source": [
    "# Test your implementation\n",
    "print(\"Expected value: 42 Actual value: \",median([44, 40, 45, 38, 42]))\n",
    "print(\"Expected value: 18.5 Actual value: \",median([17, 18, 20, 19]))"
   ]
  },
  {
   "cell_type": "markdown",
   "id": "bab37947",
   "metadata": {},
   "source": [
    "### Task 6.2: Create a list of ratings using list comprehension\n",
    "Now that you have the median function working, let's make a list by iterating through a dictionary. Create a list `movie_ratings` containing the rating of each movie in `movies_data`. Then, use the median function to compute the median rating and store the result in a `median_rating` variable.\n",
    "\n",
    "You must use list comprehension to create the list."
   ]
  },
  {
   "cell_type": "code",
   "execution_count": 24,
   "id": "4491fafb",
   "metadata": {},
   "outputs": [],
   "source": [
    "# This cell should contain exactly two lines of code:\n",
    "# The first line creates the list, and the second will compute the median.\n",
    "# Solving it using multiple lines of code won't give you practice for list comprehensions.\n",
    "\n",
    "movie_ratings = [movie[\"rating\"] for movie in movies_data]\n",
    "median_rating = median(movie_ratings)"
   ]
  },
  {
   "cell_type": "code",
   "execution_count": 25,
   "id": "aa3ec319",
   "metadata": {},
   "outputs": [
    {
     "name": "stdout",
     "output_type": "stream",
     "text": [
      "Expected: [6.1, 6.2, 6.5, 7.2]       \t Actual:  [6.1, 6.2, 6.5, 7.2]\n",
      "Expected: 6.35                       \t Actual:  6.35\n"
     ]
    }
   ],
   "source": [
    "# Test your implementation\n",
    "print(\"Expected: [6.1, 6.2, 6.5, 7.2]       \\t Actual: \", movie_ratings)\n",
    "print(\"Expected: 6.35                       \\t Actual: \", median_rating)"
   ]
  },
  {
   "cell_type": "markdown",
   "id": "57a3ec79",
   "metadata": {},
   "source": [
    "### Task 6.3: Create a dictionary of actors and their movie ratings using list comprehension\n",
    "Now, we'll attempt to find the median ratings for each actor. Use the `movies_by_actor` dictionary you created in Task 5.1. Create a dictionary `ratings_by_actor` with the names of the actors as keys and a list of ratings as a value. \n",
    "\n",
    "You must use list comprehension to create the list. The list comprehension will be inside a traditional for loop."
   ]
  },
  {
   "cell_type": "code",
   "execution_count": 35,
   "id": "93230a2a",
   "metadata": {},
   "outputs": [
    {
     "data": {
      "text/plain": [
       "{'Ben Stiller': [{'title': 'Zoolander',\n",
       "   'year': 2001,\n",
       "   'genres': ['Comedy'],\n",
       "   'duration': 90,\n",
       "   'directors': ['Ben Stiller'],\n",
       "   'actors': ['Ben Stiller', 'Owen Wilson'],\n",
       "   'rating': 6.5},\n",
       "  {'title': 'Tower Heist',\n",
       "   'year': 2011,\n",
       "   'genres': ['Action', 'Comedy', 'Crime'],\n",
       "   'duration': 104,\n",
       "   'directors': ['Brett Ratner'],\n",
       "   'actors': ['Ben Stiller', 'Eddie Murphy', 'Casey Affleck'],\n",
       "   'rating': 6.2}],\n",
       " 'Owen Wilson': [{'title': 'Zoolander',\n",
       "   'year': 2001,\n",
       "   'genres': ['Comedy'],\n",
       "   'duration': 90,\n",
       "   'directors': ['Ben Stiller'],\n",
       "   'actors': ['Ben Stiller', 'Owen Wilson'],\n",
       "   'rating': 6.5}],\n",
       " 'Eddie Murphy': [{'title': 'Tower Heist',\n",
       "   'year': 2011,\n",
       "   'genres': ['Action', 'Comedy', 'Crime'],\n",
       "   'duration': 104,\n",
       "   'directors': ['Brett Ratner'],\n",
       "   'actors': ['Ben Stiller', 'Eddie Murphy', 'Casey Affleck'],\n",
       "   'rating': 6.2},\n",
       "  {'title': 'Shrek 2',\n",
       "   'year': 2004,\n",
       "   'genres': ['Animation', 'Adventure', 'Comedy'],\n",
       "   'duration': 93,\n",
       "   'directors': ['Andrew Adamson', 'Kelly Asbury'],\n",
       "   'actors': ['Mike Myers', 'Eddie Murphy'],\n",
       "   'rating': 7.2},\n",
       "  {'title': 'The Nutty Professor',\n",
       "   'year': 1996,\n",
       "   'genres': ['Comedy', 'Romance', 'Sci-Fi'],\n",
       "   'duration': 95,\n",
       "   'directors': ['Tom Shadyac'],\n",
       "   'actors': ['Eddie Murphy', 'Jada Pinkett Smith'],\n",
       "   'rating': 6.1}],\n",
       " 'Casey Affleck': [{'title': 'Tower Heist',\n",
       "   'year': 2011,\n",
       "   'genres': ['Action', 'Comedy', 'Crime'],\n",
       "   'duration': 104,\n",
       "   'directors': ['Brett Ratner'],\n",
       "   'actors': ['Ben Stiller', 'Eddie Murphy', 'Casey Affleck'],\n",
       "   'rating': 6.2}],\n",
       " 'Mike Myers': [{'title': 'Shrek 2',\n",
       "   'year': 2004,\n",
       "   'genres': ['Animation', 'Adventure', 'Comedy'],\n",
       "   'duration': 93,\n",
       "   'directors': ['Andrew Adamson', 'Kelly Asbury'],\n",
       "   'actors': ['Mike Myers', 'Eddie Murphy'],\n",
       "   'rating': 7.2}],\n",
       " 'Jada Pinkett Smith': [{'title': 'The Nutty Professor',\n",
       "   'year': 1996,\n",
       "   'genres': ['Comedy', 'Romance', 'Sci-Fi'],\n",
       "   'duration': 95,\n",
       "   'directors': ['Tom Shadyac'],\n",
       "   'actors': ['Eddie Murphy', 'Jada Pinkett Smith'],\n",
       "   'rating': 6.1}]}"
      ]
     },
     "execution_count": 35,
     "metadata": {},
     "output_type": "execute_result"
    }
   ],
   "source": [
    "#Your code here\n",
    "#ratings_by_actor = {movies_by_actor.keys() : movies_by_actor for movie in movies_by_actor}\n",
    "movies_by_actor"
   ]
  },
  {
   "cell_type": "code",
   "execution_count": 23,
   "id": "90fa8a43",
   "metadata": {},
   "outputs": [
    {
     "ename": "NameError",
     "evalue": "name 'ratings_by_actor' is not defined",
     "output_type": "error",
     "traceback": [
      "\u001b[0;31m---------------------------------------------------------------------------\u001b[0m",
      "\u001b[0;31mNameError\u001b[0m                                 Traceback (most recent call last)",
      "\u001b[0;32m/var/folders/s6/lgwcjwgx4jn0bkqxh9b7nwb40000gn/T/ipykernel_23542/1960423763.py\u001b[0m in \u001b[0;36m<module>\u001b[0;34m\u001b[0m\n\u001b[1;32m      1\u001b[0m \u001b[0;31m# Test your implementation\u001b[0m\u001b[0;34m\u001b[0m\u001b[0;34m\u001b[0m\u001b[0m\n\u001b[0;32m----> 2\u001b[0;31m \u001b[0mprint\u001b[0m\u001b[0;34m(\u001b[0m\u001b[0;34m\"Expected: [6.5, 6.2]       \\t Actual: \"\u001b[0m\u001b[0;34m,\u001b[0m \u001b[0mratings_by_actor\u001b[0m\u001b[0;34m[\u001b[0m\u001b[0;34m'Ben Stiller'\u001b[0m\u001b[0;34m]\u001b[0m\u001b[0;34m)\u001b[0m\u001b[0;34m\u001b[0m\u001b[0;34m\u001b[0m\u001b[0m\n\u001b[0m\u001b[1;32m      3\u001b[0m \u001b[0mprint\u001b[0m\u001b[0;34m(\u001b[0m\u001b[0;34m\"Expected: [6.2, 7.2, 6.1]  \\t Actual: \"\u001b[0m\u001b[0;34m,\u001b[0m \u001b[0mratings_by_actor\u001b[0m\u001b[0;34m[\u001b[0m\u001b[0;34m'Eddie Murphy'\u001b[0m\u001b[0;34m]\u001b[0m\u001b[0;34m)\u001b[0m\u001b[0;34m\u001b[0m\u001b[0;34m\u001b[0m\u001b[0m\n",
      "\u001b[0;31mNameError\u001b[0m: name 'ratings_by_actor' is not defined"
     ]
    }
   ],
   "source": [
    "# Test your implementation\n",
    "print(\"Expected: [6.5, 6.2]       \\t Actual: \", ratings_by_actor['Ben Stiller'])\n",
    "print(\"Expected: [6.2, 7.2, 6.1]  \\t Actual: \", ratings_by_actor['Eddie Murphy'])"
   ]
  },
  {
   "cell_type": "markdown",
   "id": "95daf5c9",
   "metadata": {},
   "source": [
    "### Task 6.4: Create a dictionary of medians using dictionary comprehension\n",
    "Given the dictionary `ratings_by_actor` obtained in Task 6.3, let's make a new dictionary `median_ratings_by_actor` where the key is the actor name and the value is the median. \n",
    "\n",
    "You must use dictionary comprehension to build the dictionary in a single statement."
   ]
  },
  {
   "cell_type": "code",
   "execution_count": null,
   "id": "a5b1ff77",
   "metadata": {},
   "outputs": [],
   "source": [
    "# Your code here"
   ]
  },
  {
   "cell_type": "code",
   "execution_count": null,
   "id": "adc2bfdb",
   "metadata": {},
   "outputs": [],
   "source": [
    "# Test your implementation\n",
    "print(\"Expected: 6.5  \\t Actual: \", median_ratings_by_actor['Owen Wilson'])\n",
    "print(\"Expected: 6.2  \\t Actual: \", median_ratings_by_actor['Casey Affleck'])\n",
    "print(\"Expected: 6.1  \\t Actual: \", median_ratings_by_actor['Jada Pinkett Smith'])"
   ]
  },
  {
   "cell_type": "markdown",
   "id": "72159a8d",
   "metadata": {},
   "source": [
    "### Task 6.5 (Optional) Create `median_ratings_by_actor` in one step using dictionary and list comprehension\n",
    "\n",
    "Here's an **optional** challenge for you to get more practice on comprehensions, you may choose to skip this task and start the project. \n",
    "\n",
    "Let's try to combine Task 6.3 and 6.4 into a single comprehension step. Starting with the `movies_by_actor` dictionary created in Task 5.1, create a dictionary `median_ratings_by_actor2` that contains the names of each actor as keys and the median rating of their movies as values. \n",
    "\n",
    "You must do this in a single statement that uses both dictionary and list comprehension. You should only use the `movies_by_actor` dictionary and no other previously created data structures.\n",
    "\n",
    "**Hint**: You will need to pass the result of a list comprehension as an argument to the median function and use dictionary comprehension to build the dictionary.\n",
    "\n",
    "Compare your answer to the value you got in Task 6.4."
   ]
  },
  {
   "cell_type": "code",
   "execution_count": null,
   "id": "01e8c557",
   "metadata": {},
   "outputs": [],
   "source": [
    "##Only complete the line below, do not add any other lines of code.\n",
    "median_ratings_by_actor2 = ???\n",
    "\n",
    "median_ratings_by_actor2"
   ]
  },
  {
   "cell_type": "markdown",
   "id": "20e37682",
   "metadata": {},
   "source": [
    "## Great work! You are now ready to start P9."
   ]
  }
 ],
 "metadata": {
  "kernelspec": {
   "display_name": "Python 3 (ipykernel)",
   "language": "python",
   "name": "python3"
  },
  "language_info": {
   "codemirror_mode": {
    "name": "ipython",
    "version": 3
   },
   "file_extension": ".py",
   "mimetype": "text/x-python",
   "name": "python",
   "nbconvert_exporter": "python",
   "pygments_lexer": "ipython3",
   "version": "3.9.7"
  }
 },
 "nbformat": 4,
 "nbformat_minor": 5
}

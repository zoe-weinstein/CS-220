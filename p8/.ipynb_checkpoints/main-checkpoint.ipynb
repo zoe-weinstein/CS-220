{
 "cells": [
  {
   "cell_type": "code",
   "execution_count": 1,
   "id": "cc5ed05b",
   "metadata": {},
   "outputs": [],
   "source": [
    "# project: p8\n",
    "# submitter: zlweinstein\n",
    "# partner: mhyoung3\n",
    "# hours: 4"
   ]
  },
  {
   "cell_type": "code",
   "execution_count": 2,
   "id": "7c8fbc3d",
   "metadata": {},
   "outputs": [],
   "source": [
    "import csv\n",
    "import copy\n",
    "\n",
    "def process_csv(filename):\n",
    "    example_file = open(filename, encoding=\"utf-8\")\n",
    "    example_reader = csv.reader(example_file)\n",
    "    example_data = list(example_reader)\n",
    "    example_file.close()\n",
    "    return example_data"
   ]
  },
  {
   "cell_type": "code",
   "execution_count": 3,
   "id": "8ad0210e",
   "metadata": {},
   "outputs": [],
   "source": [
    "def get_mapping(path):\n",
    "    mapping_rows = process_csv(path)\n",
    "    mapping_dict = {}\n",
    "    for i in range(len(mapping_rows)):\n",
    "        col_val = mapping_rows[i][0]\n",
    "        row_val = mapping_rows[i][1]\n",
    "        if col_val not in mapping_dict:\n",
    "            mapping_dict[col_val] = None\n",
    "        if col_val in mapping_dict:\n",
    "            mapping_dict[col_val] = row_val\n",
    "            \n",
    "    return mapping_dict\n"
   ]
  },
  {
   "cell_type": "code",
   "execution_count": 4,
   "id": "c972dd63",
   "metadata": {},
   "outputs": [
    {
     "data": {
      "text/plain": [
       "{'tt3104988': 'Crazy Rich Asians',\n",
       " 'nm0160840': 'Jon M. Chu',\n",
       " 'nm2090422': 'Constance Wu',\n",
       " 'nm6525901': 'Henry Golding',\n",
       " 'nm0000706': 'Michelle Yeoh',\n",
       " 'nm2110418': 'Gemma Chan',\n",
       " 'nm0523734': 'Lisa Lu',\n",
       " 'tt4846340': 'Hidden Figures',\n",
       " 'nm0577647': 'Theodore Melfi',\n",
       " 'nm0378245': 'Taraji P. Henson',\n",
       " 'nm0818055': 'Octavia Spencer',\n",
       " 'nm1847117': 'Janelle Monáe'}"
      ]
     },
     "execution_count": 4,
     "metadata": {},
     "output_type": "execute_result"
    }
   ],
   "source": [
    "#Q1: What is returned by get_mapping(\"small_mapping.csv\")?\n",
    "ids_to_names = get_mapping(\"small_mapping.csv\")\n",
    "ids_to_names"
   ]
  },
  {
   "cell_type": "code",
   "execution_count": 5,
   "id": "03423894",
   "metadata": {},
   "outputs": [
    {
     "data": {
      "text/plain": [
       "'Henry Golding'"
      ]
     },
     "execution_count": 5,
     "metadata": {},
     "output_type": "execute_result"
    }
   ],
   "source": [
    "#Q2: What is the value associated with the key \"nm6525901\"?\n",
    "ids_to_names[\"nm6525901\"]"
   ]
  },
  {
   "cell_type": "code",
   "execution_count": 6,
   "id": "07e968c5",
   "metadata": {},
   "outputs": [
    {
     "data": {
      "text/plain": [
       "['Jon M. Chu',\n",
       " 'Constance Wu',\n",
       " 'Henry Golding',\n",
       " 'Michelle Yeoh',\n",
       " 'Gemma Chan',\n",
       " 'Lisa Lu',\n",
       " 'Theodore Melfi',\n",
       " 'Taraji P. Henson',\n",
       " 'Octavia Spencer',\n",
       " 'Janelle Monáe']"
      ]
     },
     "execution_count": 6,
     "metadata": {},
     "output_type": "execute_result"
    }
   ],
   "source": [
    "#Q3: What are the values associated with keys that begin with \"nm\"?\n",
    "nm_list = []\n",
    "for keys in ids_to_names:\n",
    "    if \"nm\" in keys:\n",
    "        nm_list.append(ids_to_names[keys])\n",
    "nm_list"
   ]
  },
  {
   "cell_type": "code",
   "execution_count": 7,
   "id": "9bab03a7",
   "metadata": {},
   "outputs": [],
   "source": [
    "def get_key_from_last_name(target_lastname):\n",
    "    list_last_name = []\n",
    "    for keys in ids_to_names:\n",
    "        if \"nm\" in keys:\n",
    "            if target_lastname in ids_to_names[keys]:\n",
    "                list_last_name.append(keys)                \n",
    "    return list_last_name\n",
    "\n",
    "assert get_key_from_last_name('Spencer') == ['nm0818055']\n",
    "assert get_key_from_last_name('Chan') == ['nm2110418']    "
   ]
  },
  {
   "cell_type": "code",
   "execution_count": 8,
   "id": "2114c9d9",
   "metadata": {},
   "outputs": [
    {
     "data": {
      "text/plain": [
       "['nm0378245']"
      ]
     },
     "execution_count": 8,
     "metadata": {},
     "output_type": "execute_result"
    }
   ],
   "source": [
    "#Q4: Find the keys of the people (keys beginning with \"nm\") whose last name is \"Henson\".\n",
    "get_key_from_last_name(\"Henson\")"
   ]
  },
  {
   "cell_type": "code",
   "execution_count": 9,
   "id": "9c3e17a0",
   "metadata": {},
   "outputs": [],
   "source": [
    "csv_rows = process_csv(\"small_movies.csv\")\n",
    "csv_header = csv_rows[0]\n",
    "csv_data = csv_rows[1:]"
   ]
  },
  {
   "cell_type": "code",
   "execution_count": 10,
   "id": "25b32546",
   "metadata": {},
   "outputs": [],
   "source": [
    "def get_raw_movies(path):\n",
    "    \"\"\"\n",
    "    Converts movies csv list of lists data into a dict with keys as column names and values as corresponding type converted values.\n",
    "    \"\"\"\n",
    "    # Task 2.1 and 2.3c of Lab-P8 have all the necessary steps to complete this function.\n",
    "    # You just need to copy/paste the relevant code, identify the input and output of the function.\n",
    "    csv_rows = process_csv(path)\n",
    "    csv_header = csv_rows[0]\n",
    "    csv_data = csv_rows[1:]\n",
    "    final_movie_list = []\n",
    "    for movie in range(len(csv_data)):\n",
    "\n",
    "        movie_dict = {}\n",
    "        for header in csv_header:\n",
    "            movie_dict[header] = csv_data[movie][csv_header.index(header)]\n",
    "            if header == \"year\" or header == \"duration\":\n",
    "                movie_dict[header] = int(csv_data[movie][csv_header.index(header)])\n",
    "            elif header == \"rating\":\n",
    "                movie_dict[header] = float(csv_data[movie][csv_header.index(header)])\n",
    "            elif header == \"genres\" or header == \"directors\" or header == \"actors\":\n",
    "                new_list = csv_data[movie][csv_header.index(header)].split(\", \")\n",
    "                movie_dict[header] = new_list\n",
    "            else:\n",
    "                movie_dict[header] = csv_data[movie][csv_header.index(header)]\n",
    "        final_movie_list.append(movie_dict)\n",
    "\n",
    "    return final_movie_list"
   ]
  },
  {
   "cell_type": "code",
   "execution_count": 11,
   "id": "69dc3bdf",
   "metadata": {},
   "outputs": [
    {
     "data": {
      "text/plain": [
       "[{'title': 'tt3104988',\n",
       "  'year': 2018,\n",
       "  'genres': ['Comedy', 'Drama', 'Romance'],\n",
       "  'duration': 120,\n",
       "  'directors': ['nm0160840'],\n",
       "  'actors': ['nm2090422', 'nm6525901', 'nm0000706', 'nm2110418', 'nm0523734'],\n",
       "  'rating': 6.9},\n",
       " {'title': 'tt4846340',\n",
       "  'year': 2016,\n",
       "  'genres': ['Biography', 'Drama', 'History'],\n",
       "  'duration': 127,\n",
       "  'directors': ['nm0577647'],\n",
       "  'actors': ['nm0378245', 'nm0818055', 'nm1847117'],\n",
       "  'rating': 7.8}]"
      ]
     },
     "execution_count": 11,
     "metadata": {},
     "output_type": "execute_result"
    }
   ],
   "source": [
    "#Q5: What does get_raw_movies(\"small_movies.csv\") return?\n",
    "dict_movies = get_raw_movies(\"small_movies.csv\")\n",
    "dict_movies"
   ]
  },
  {
   "cell_type": "code",
   "execution_count": 12,
   "id": "9bdabe68",
   "metadata": {},
   "outputs": [
    {
     "data": {
      "text/plain": [
       "5"
      ]
     },
     "execution_count": 12,
     "metadata": {},
     "output_type": "execute_result"
    }
   ],
   "source": [
    "#Q6: How many actors does the movie at index 0 have?\n",
    "len(dict_movies[0][\"actors\"])"
   ]
  },
  {
   "cell_type": "code",
   "execution_count": 13,
   "id": "effdef38",
   "metadata": {},
   "outputs": [
    {
     "data": {
      "text/plain": [
       "'nm2090422'"
      ]
     },
     "execution_count": 13,
     "metadata": {},
     "output_type": "execute_result"
    }
   ],
   "source": [
    "#Q7: What is the ID of the first actor listed for the first movie of the dataset?\n",
    "dict_movies[0][\"actors\"][0]"
   ]
  },
  {
   "cell_type": "code",
   "execution_count": 14,
   "id": "e8a4389c",
   "metadata": {},
   "outputs": [
    {
     "data": {
      "text/plain": [
       "[{'title': 'tt3104988',\n",
       "  'year': 2018,\n",
       "  'genres': ['Comedy', 'Drama', 'Romance'],\n",
       "  'duration': 120,\n",
       "  'directors': ['nm0160840'],\n",
       "  'actors': ['nm2090422', 'nm6525901', 'nm0000706', 'nm2110418', 'nm0523734'],\n",
       "  'rating': 6.9},\n",
       " {'title': 'tt4846340',\n",
       "  'year': 2016,\n",
       "  'genres': ['Biography', 'Drama', 'History'],\n",
       "  'duration': 127,\n",
       "  'directors': ['nm0577647'],\n",
       "  'actors': ['nm0378245', 'nm0818055', 'nm1847117'],\n",
       "  'rating': 7.8}]"
      ]
     },
     "execution_count": 14,
     "metadata": {},
     "output_type": "execute_result"
    }
   ],
   "source": [
    "dict_movies"
   ]
  },
  {
   "cell_type": "code",
   "execution_count": 15,
   "id": "2821bbd7",
   "metadata": {},
   "outputs": [],
   "source": [
    "def get_movies(movies_path, mapping_path):\n",
    "    \"\"\"\n",
    "    Creates a new movies list of dict data by using the mapping dictionary,\n",
    "    to convert IDs into actual names for title, actors, and directors.\n",
    "    \"\"\"\n",
    "    raw_movies = get_raw_movies(movies_path)\n",
    "    map_list = get_mapping(mapping_path)\n",
    "    \n",
    "    copy_list = copy.deepcopy(raw_movies)\n",
    "    for movie in copy_list:\n",
    "        for j in range(len(movie[\"actors\"])):\n",
    "            movie[\"actors\"][j] = map_list[movie[\"actors\"][j]]\n",
    "        for j in range(len(movie[\"directors\"])):\n",
    "            movie[\"directors\"][j] = map_list[movie[\"directors\"][j]]\n",
    "\n",
    "        movie[\"title\"] = map_list[movie[\"title\"]]\n",
    "\n",
    "    return copy_list"
   ]
  },
  {
   "cell_type": "code",
   "execution_count": 16,
   "id": "85f0f106",
   "metadata": {},
   "outputs": [
    {
     "data": {
      "text/plain": [
       "[{'title': 'Crazy Rich Asians',\n",
       "  'year': 2018,\n",
       "  'genres': ['Comedy', 'Drama', 'Romance'],\n",
       "  'duration': 120,\n",
       "  'directors': ['Jon M. Chu'],\n",
       "  'actors': ['Constance Wu',\n",
       "   'Henry Golding',\n",
       "   'Michelle Yeoh',\n",
       "   'Gemma Chan',\n",
       "   'Lisa Lu'],\n",
       "  'rating': 6.9},\n",
       " {'title': 'Hidden Figures',\n",
       "  'year': 2016,\n",
       "  'genres': ['Biography', 'Drama', 'History'],\n",
       "  'duration': 127,\n",
       "  'directors': ['Theodore Melfi'],\n",
       "  'actors': ['Taraji P. Henson', 'Octavia Spencer', 'Janelle Monáe'],\n",
       "  'rating': 7.8}]"
      ]
     },
     "execution_count": 16,
     "metadata": {},
     "output_type": "execute_result"
    }
   ],
   "source": [
    "#Q8: What is small_movies_data?\n",
    "small_movies_data = get_movies(\"small_movies.csv\", \"small_mapping.csv\")\n",
    "small_movies_data"
   ]
  },
  {
   "cell_type": "code",
   "execution_count": 17,
   "id": "874f8f5c",
   "metadata": {},
   "outputs": [
    {
     "data": {
      "text/plain": [
       "'Hidden Figures'"
      ]
     },
     "execution_count": 17,
     "metadata": {},
     "output_type": "execute_result"
    }
   ],
   "source": [
    "#Q9: What is title of the second movie in small_movies_data?\n",
    "small_movies_data[1][\"title\"]"
   ]
  },
  {
   "cell_type": "code",
   "execution_count": 18,
   "id": "729db0ab",
   "metadata": {},
   "outputs": [
    {
     "data": {
      "text/plain": [
       "['Constance Wu', 'Henry Golding', 'Michelle Yeoh', 'Gemma Chan', 'Lisa Lu']"
      ]
     },
     "execution_count": 18,
     "metadata": {},
     "output_type": "execute_result"
    }
   ],
   "source": [
    "#Q10: Who are all the actors of the first movie in small_movies_data?\n",
    "small_movies_data[0][\"actors\"]"
   ]
  },
  {
   "cell_type": "code",
   "execution_count": 19,
   "id": "7f7d2d7a",
   "metadata": {},
   "outputs": [
    {
     "data": {
      "text/plain": [
       "['Theodore Melfi']"
      ]
     },
     "execution_count": 19,
     "metadata": {},
     "output_type": "execute_result"
    }
   ],
   "source": [
    "#Q11: Who are all the directors of the last movie in small_movies_data?\n",
    "small_movies_data[-1][\"directors\"]"
   ]
  },
  {
   "cell_type": "code",
   "execution_count": 20,
   "id": "08ddc111",
   "metadata": {},
   "outputs": [],
   "source": [
    "movies = get_movies(\"movies.csv\", \"mapping.csv\")"
   ]
  },
  {
   "cell_type": "code",
   "execution_count": 21,
   "id": "7f77e5d6",
   "metadata": {},
   "outputs": [
    {
     "data": {
      "text/plain": [
       "33102"
      ]
     },
     "execution_count": 21,
     "metadata": {},
     "output_type": "execute_result"
    }
   ],
   "source": [
    "#Q12: What is the length of movies?\n",
    "len(movies)"
   ]
  },
  {
   "cell_type": "code",
   "execution_count": 22,
   "id": "edd66296",
   "metadata": {},
   "outputs": [
    {
     "data": {
      "text/plain": [
       "[{'title': 'Battle Bots',\n",
       "  'year': 2018,\n",
       "  'genres': ['Action', 'Adventure', 'Sci-Fi'],\n",
       "  'duration': 67,\n",
       "  'directors': ['Mark Polonia'],\n",
       "  'actors': ['Danielle Donahue', 'Jeff Kirkendall', 'Marie DeLorenzo'],\n",
       "  'rating': 1.9},\n",
       " {'title': 'Inescapable',\n",
       "  'year': 2003,\n",
       "  'genres': ['Drama'],\n",
       "  'duration': 82,\n",
       "  'directors': ['Helen Lesnick'],\n",
       "  'actors': ['Natalie Anderson', 'Tanna Frederick', 'Athena Demos'],\n",
       "  'rating': 4.2}]"
      ]
     },
     "execution_count": 22,
     "metadata": {},
     "output_type": "execute_result"
    }
   ],
   "source": [
    "#Q13: What are the contents of the last 2 rows in movies?\n",
    "movies[-2:]"
   ]
  },
  {
   "cell_type": "code",
   "execution_count": 23,
   "id": "ee73bdad",
   "metadata": {},
   "outputs": [],
   "source": [
    "def find_specific_movies(movies, keyword):\n",
    "    \"\"\"\n",
    "    Given a list of movie dictionaries and a keyword, returns a list of movies that contain the keyword\n",
    "    in either its title, genre, actors or directors.\n",
    "    \"\"\"\n",
    "    idx = 0\n",
    "    while idx < len(movies):\n",
    "        movie = movies[idx]\n",
    "        # Note: \\ enables you split a long line of code into two lines\n",
    "        if (keyword not in movie['title']) and (keyword not in movie[\"genres\"]) \\\n",
    "        and (keyword not in movie[\"directors\"]) and (keyword not in movie[\"actors\"]):\n",
    "            movies.pop(idx)\n",
    "        else:\n",
    "            idx += 1\n",
    "    return movies"
   ]
  },
  {
   "cell_type": "code",
   "execution_count": 24,
   "id": "91dfcbc2",
   "metadata": {},
   "outputs": [
    {
     "data": {
      "text/plain": [
       "[{'title': 'Lady Bird',\n",
       "  'year': 2017,\n",
       "  'genres': ['Comedy', 'Drama'],\n",
       "  'duration': 94,\n",
       "  'directors': ['Greta Gerwig'],\n",
       "  'actors': ['Saoirse Ronan', 'Laurie Metcalf'],\n",
       "  'rating': 7.4},\n",
       " {'title': 'Little Women',\n",
       "  'year': 2019,\n",
       "  'genres': ['Drama', 'Romance'],\n",
       "  'duration': 135,\n",
       "  'directors': ['Greta Gerwig'],\n",
       "  'actors': ['Saoirse Ronan', 'Emma Watson', 'Florence Pugh', 'Eliza Scanlen'],\n",
       "  'rating': 7.8},\n",
       " {'title': 'Nights and Weekends',\n",
       "  'year': 2008,\n",
       "  'genres': ['Drama', 'Romance'],\n",
       "  'duration': 80,\n",
       "  'directors': ['Greta Gerwig', 'Joe Swanberg'],\n",
       "  'actors': ['Joe Swanberg', 'Jay Duplass', 'Elizabeth Donius'],\n",
       "  'rating': 6.1}]"
      ]
     },
     "execution_count": 24,
     "metadata": {},
     "output_type": "execute_result"
    }
   ],
   "source": [
    "#Q14: List all the movies in the dataset that Greta Gerwig has directed.\n",
    "movies_copy = copy.deepcopy(movies)\n",
    "greta_movies = find_specific_movies(movies_copy, \"Greta Gerwig\")\n",
    "greta_directed = []\n",
    "for movie in greta_movies:\n",
    "    director = movie[\"directors\"]\n",
    "    if \"Greta Gerwig\" in director:\n",
    "        greta_directed.append(movie)\n",
    "greta_directed"
   ]
  },
  {
   "cell_type": "code",
   "execution_count": 25,
   "id": "c6ccbaf5",
   "metadata": {},
   "outputs": [
    {
     "data": {
      "text/plain": [
       "['Crime',\n",
       " 'Drama',\n",
       " 'Adventure',\n",
       " 'Thriller',\n",
       " 'Action',\n",
       " 'Biography',\n",
       " 'Sci-Fi',\n",
       " 'Mystery',\n",
       " 'Romance',\n",
       " 'Comedy',\n",
       " 'Western']"
      ]
     },
     "execution_count": 25,
     "metadata": {},
     "output_type": "execute_result"
    }
   ],
   "source": [
    "#Q15: Which genres of movies did Leonardo DiCaprio ever appear in?\n",
    "movies_new_copy = copy.deepcopy(movies)\n",
    "leo_movies = find_specific_movies(movies_new_copy, \"Leonardo DiCaprio\")\n",
    "leo_genres = []\n",
    "for movie in leo_movies:\n",
    "    genres = movie[\"genres\"]\n",
    "    for genre in genres:\n",
    "        if genre not in leo_genres:\n",
    "            leo_genres.append(genre)\n",
    "leo_genres\n",
    "        "
   ]
  },
  {
   "cell_type": "code",
   "execution_count": 26,
   "id": "21a4d065",
   "metadata": {},
   "outputs": [],
   "source": [
    "def bucketize_by_genre(movies):\n",
    "    \"\"\"Given a list of movie dictionaries,\n",
    "    returns a dict in which the key is the genre and\n",
    "    the value is a list of all movies that contain that genre\"\"\"\n",
    "    #TODO: initialize a dictionary\n",
    "    #TODO: loop through all movies\n",
    "    #TODO: loop through all genres in this movie\n",
    "    #TODO: if this genre is not a key in our dictionary, set the value associated with this genre to an empty list\n",
    "    #TODO: if we already have this genre in our dictionary, add the movie to the list associated with this genre\n",
    "\n",
    "    dict_by_genre = {}\n",
    "    for movie in movies:\n",
    "        genres = movie[\"genres\"]\n",
    "        for genre in genres:\n",
    "            if genre not in dict_by_genre:\n",
    "                dict_by_genre[genre] = []\n",
    "            if genre in dict_by_genre:\n",
    "                dict_by_genre[genre].append(movie)\n",
    "    return dict_by_genre\n",
    "movies = get_movies(\"movies.csv\", \"mapping.csv\")\n",
    "bucket = bucketize_by_genre(movies)"
   ]
  },
  {
   "cell_type": "code",
   "execution_count": 27,
   "id": "ef8a02c3",
   "metadata": {},
   "outputs": [
    {
     "data": {
      "text/plain": [
       "['Action',\n",
       " 'Horror',\n",
       " 'Sci-Fi',\n",
       " 'Crime',\n",
       " 'Thriller',\n",
       " 'Comedy',\n",
       " 'Drama',\n",
       " 'Romance',\n",
       " 'History',\n",
       " 'Adventure',\n",
       " 'Western',\n",
       " 'Family',\n",
       " 'Fantasy',\n",
       " 'War',\n",
       " 'Sport',\n",
       " 'Biography',\n",
       " 'Mystery',\n",
       " 'Film-Noir',\n",
       " 'Music',\n",
       " 'Animation',\n",
       " 'Musical',\n",
       " 'Reality-TV',\n",
       " 'Documentary',\n",
       " 'News']"
      ]
     },
     "execution_count": 27,
     "metadata": {},
     "output_type": "execute_result"
    }
   ],
   "source": [
    "#Q16: List the unique genres present in the movies dataset.\n",
    "unique_genres = list(bucket.keys())\n",
    "unique_genres"
   ]
  },
  {
   "cell_type": "code",
   "execution_count": 28,
   "id": "a8bbab9f",
   "metadata": {},
   "outputs": [
    {
     "data": {
      "text/plain": [
       "11130"
      ]
     },
     "execution_count": 28,
     "metadata": {},
     "output_type": "execute_result"
    }
   ],
   "source": [
    "#Q17: How many Comedy movies do we have in the movies dataset?\n",
    "len(bucket[\"Comedy\"])"
   ]
  },
  {
   "cell_type": "code",
   "execution_count": 29,
   "id": "723e9f87",
   "metadata": {},
   "outputs": [
    {
     "data": {
      "text/plain": [
       "'Hopeful Notes'"
      ]
     },
     "execution_count": 29,
     "metadata": {},
     "output_type": "execute_result"
    }
   ],
   "source": [
    "#Q18: What is the title of the Drama movie has the highest rating in the movies dataset?\n",
    "highest_rating = 0\n",
    "highest_title = None\n",
    "drama_movies = bucket[\"Drama\"]\n",
    "for movie in drama_movies:\n",
    "    current_rating = movie[\"rating\"]\n",
    "    if current_rating > highest_rating:\n",
    "        highest_rating = current_rating\n",
    "        highest_title = movie[\"title\"]\n",
    "highest_title"
   ]
  },
  {
   "cell_type": "code",
   "execution_count": 30,
   "id": "beb384fa",
   "metadata": {},
   "outputs": [
    {
     "data": {
      "text/plain": [
       "['Drama',\n",
       " 'Horror',\n",
       " 'Sci-Fi',\n",
       " 'Biography',\n",
       " 'Romance',\n",
       " 'Thriller',\n",
       " 'Action',\n",
       " 'Crime',\n",
       " 'Comedy',\n",
       " 'Adventure',\n",
       " 'Family',\n",
       " 'Fantasy']"
      ]
     },
     "execution_count": 30,
     "metadata": {},
     "output_type": "execute_result"
    }
   ],
   "source": [
    "#Q19: List all the genres of movies that Daniel Radcliffe has ever acted in.\n",
    "radcliffe_copy = copy.copy(movies)\n",
    "radcliffe_movies = find_specific_movies(radcliffe_copy, \"Daniel Radcliffe\")\n",
    "radcliffe_genres = list(bucketize_by_genre(radcliffe_movies).keys())\n",
    "radcliffe_genres"
   ]
  },
  {
   "cell_type": "code",
   "execution_count": 37,
   "id": "05a4377e",
   "metadata": {},
   "outputs": [
    {
     "data": {
      "text/plain": [
       "'Music'"
      ]
     },
     "execution_count": 37,
     "metadata": {},
     "output_type": "execute_result"
    }
   ],
   "source": [
    "#Q20: Which movie genre does the actress Jennifer Aniston play the least?\n",
    "least_movies = None\n",
    "least_movie_genre = None\n",
    "aniston_copy = copy.copy(movies)\n",
    "aniston_movies = find_specific_movies(aniston_copy, \"Jennifer Aniston\")\n",
    "aniston_genre = bucketize_by_genre(aniston_movies)\n",
    "\n",
    "for genre in aniston_genre:\n",
    "    current_played = len(genre)\n",
    "    if least_movies == None or current_played <= least_movies:\n",
    "        least_movies = current_played\n",
    "        least_movie_genre = genre\n",
    "least_movie_genre\n",
    "        \n",
    "    \n",
    "\n"
   ]
  }
 ],
 "metadata": {
  "kernelspec": {
   "display_name": "Python 3 (ipykernel)",
   "language": "python",
   "name": "python3"
  },
  "language_info": {
   "codemirror_mode": {
    "name": "ipython",
    "version": 3
   },
   "file_extension": ".py",
   "mimetype": "text/x-python",
   "name": "python",
   "nbconvert_exporter": "python",
   "pygments_lexer": "ipython3",
   "version": "3.9.7"
  }
 },
 "nbformat": 4,
 "nbformat_minor": 5
}

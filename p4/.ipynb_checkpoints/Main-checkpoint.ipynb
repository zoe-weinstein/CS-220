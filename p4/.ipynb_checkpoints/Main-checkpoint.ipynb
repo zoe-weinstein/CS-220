{
 "cells": [
  {
   "cell_type": "code",
   "execution_count": 1,
   "id": "119b55f3",
   "metadata": {},
   "outputs": [],
   "source": [
    "# project: p4\n",
    "# submitter: zlweinstein\n",
    "# partner: mhyoung3\n",
    "# hours: 3"
   ]
  },
  {
   "cell_type": "code",
   "execution_count": 2,
   "id": "a7d51140",
   "metadata": {},
   "outputs": [
    {
     "name": "stdout",
     "output_type": "stream",
     "text": [
      "Help on module project:\n",
      "\n",
      "NAME\n",
      "    project\n",
      "\n",
      "FUNCTIONS\n",
      "    __init__()\n",
      "        This function loads the data from 'pokemon_stats.csv' and 'type_effectiveness_stats.csv'. This function runs automatically, when the module is imported\n",
      "    \n",
      "    get_attack(pkmn)\n",
      "        get_attack(pkmn) returns the Attack of the Pokémon with the name 'pkmn'\n",
      "    \n",
      "    get_defense(pkmn)\n",
      "        get_defense(pkmn) returns the Defense of the Pokémon with the name 'pkmn'\n",
      "    \n",
      "    get_hp(pkmn)\n",
      "        get_hp(pkmn) returns the HP of the Pokémon with the name 'pkmn'\n",
      "    \n",
      "    get_region(pkmn)\n",
      "        get_region(pkmn) returns the region of the Pokémon with the name 'pkmn'\n",
      "    \n",
      "    get_sp_atk(pkmn)\n",
      "        get_sp_atk(pkmn) returns the Special Attack of the Pokémon with the name 'pkmn'\n",
      "    \n",
      "    get_sp_def(pkmn)\n",
      "        get_sp_def(pkmn) returns the Special Defense of the Pokémon with the name 'pkmn'\n",
      "    \n",
      "    get_speed(pkmn)\n",
      "        get_speed(pkmn) returns the Speed of the Pokémon with the name 'pkmn'\n",
      "    \n",
      "    get_type1(pkmn)\n",
      "        get_type1(pkmn) returns Type 1 of the Pokémon with the name 'pkmn'\n",
      "    \n",
      "    get_type2(pkmn)\n",
      "        get_type2(pkmn) returns Type 2 of the Pokémon with the name 'pkmn'\n",
      "    \n",
      "    get_type_effectiveness(attacker_type, defender_type)\n",
      "        get_type_effectiveness(attacker_type, defender_type) returns the effectiveness of attacker's type against defender's type\n",
      "    \n",
      "    print_stats(pkmn)\n",
      "        print_stats(pkmn) prints all the statistics of the Pokémon with the name 'pkmn'\n",
      "\n",
      "DATA\n",
      "    __effectiveness__ = {'Bug': {'Bug': 1.0, 'Dark': 2.0, 'Dragon': 1.0, '...\n",
      "    __pokemon__ = {'Abomasnow': {'Attack': 92, 'Defense': 75, 'HP': 90, 'N...\n",
      "\n",
      "FILE\n",
      "    /Users/zoeweinstein/Documents/cs220/p4/project.py\n",
      "\n",
      "\n",
      "Help on built-in function ceil in module math:\n",
      "\n",
      "ceil(x, /)\n",
      "    Return the ceiling of x as an Integral.\n",
      "    \n",
      "    This is the smallest integer >= x.\n",
      "\n"
     ]
    }
   ],
   "source": [
    "import project \n",
    "import math\n",
    "help(project)\n",
    "help(math.ceil)"
   ]
  },
  {
   "cell_type": "code",
   "execution_count": 3,
   "id": "e48e30f5",
   "metadata": {},
   "outputs": [],
   "source": [
    "def damage(attacker, defender):\n",
    "    physical_damage = 10 * project.get_attack(attacker) / project.get_defense(defender)\n",
    "    special_damage = 10 * project.get_sp_atk(attacker) / project.get_sp_def(defender)\n",
    "    if physical_damage > special_damage:\n",
    "        return physical_damage\n",
    "    else:\n",
    "        return special_damage"
   ]
  },
  {
   "cell_type": "code",
   "execution_count": 4,
   "id": "cca0e501",
   "metadata": {},
   "outputs": [
    {
     "data": {
      "text/plain": [
       "4.545454545454546"
      ]
     },
     "execution_count": 4,
     "metadata": {},
     "output_type": "execute_result"
    }
   ],
   "source": [
    "#Q1: How much damage does Kakuna do to Paras?\n",
    "damage(\"Kakuna\", \"Paras\")"
   ]
  },
  {
   "cell_type": "code",
   "execution_count": 5,
   "id": "2e086dfe",
   "metadata": {},
   "outputs": [
    {
     "data": {
      "text/plain": [
       "16.25"
      ]
     },
     "execution_count": 5,
     "metadata": {},
     "output_type": "execute_result"
    }
   ],
   "source": [
    "#Q2: How much damage does Delcatty do to Fennekin?\n",
    "damage(\"Delcatty\", \"Fennekin\")"
   ]
  },
  {
   "cell_type": "code",
   "execution_count": 6,
   "id": "584727f5",
   "metadata": {},
   "outputs": [],
   "source": [
    "def type_bonus(attack_type, defender):\n",
    "    defender_type1 = project.get_type1(defender)\n",
    "    defender_type2 = project.get_type2(defender)\n",
    "    bonus = project.get_type_effectiveness(attack_type, defender_type1)\n",
    "    if defender_type2 != \"None\":\n",
    "        bonus = bonus * project.get_type_effectiveness(attack_type, defender_type2)\n",
    "    return bonus"
   ]
  },
  {
   "cell_type": "code",
   "execution_count": 7,
   "id": "c1eb945f",
   "metadata": {},
   "outputs": [
    {
     "data": {
      "text/plain": [
       "1.0"
      ]
     },
     "execution_count": 7,
     "metadata": {},
     "output_type": "execute_result"
    }
   ],
   "source": [
    "#Q3: How effective is Poison-type against Pikachu?\n",
    "type_bonus(\"Poison\", \"Pikachu\")"
   ]
  },
  {
   "cell_type": "code",
   "execution_count": 8,
   "id": "aa1eb958",
   "metadata": {},
   "outputs": [
    {
     "data": {
      "text/plain": [
       "0.5"
      ]
     },
     "execution_count": 8,
     "metadata": {},
     "output_type": "execute_result"
    }
   ],
   "source": [
    "#Q4: How effective is Water-type against Slowbro?\n",
    "type_bonus(\"Water\", \"Slowbro\")"
   ]
  },
  {
   "cell_type": "code",
   "execution_count": 9,
   "id": "5d987486",
   "metadata": {},
   "outputs": [],
   "source": [
    "def get_num_types(attacker):\n",
    "    if project.get_type1(attacker) == 'None':\n",
    "        return 0\n",
    "    elif project.get_type2(attacker) == 'None':\n",
    "        return 1\n",
    "    else:\n",
    "        return 2\n",
    "\n",
    "def effective_damage(attacker, defender):\n",
    "    #TODO: check if attacker has two types; you must invoke the relevant function you defined in lab-p4\n",
    "    check_types = get_num_types(attacker)\n",
    "\n",
    "    \n",
    "    #TODO: compute the bonus of attacker's type(s) against defender\n",
    "    if check_types == 2:\n",
    "        bonus = max(type_bonus(project.get_type1(attacker), defender), type_bonus(project.get_type2(attacker), defender))\n",
    "    else:\n",
    "        bonus = type_bonus(project.get_type1(attacker), defender)\n",
    "        \n",
    "   \n",
    "    #TODO: compute the damage caused by attack, considering the higher bonus and return it\n",
    "    damage_caused = (damage(attacker, defender)) * bonus\n",
    "    return damage_caused\n"
   ]
  },
  {
   "cell_type": "code",
   "execution_count": 10,
   "id": "c89c0a7e",
   "metadata": {
    "scrolled": true
   },
   "outputs": [
    {
     "data": {
      "text/plain": [
       "12.222222222222221"
      ]
     },
     "execution_count": 10,
     "metadata": {},
     "output_type": "execute_result"
    }
   ],
   "source": [
    "#Q5: How much damage does Pikachu do to Haunter?\n",
    "effective_damage(\"Pikachu\", \"Haunter\")"
   ]
  },
  {
   "cell_type": "code",
   "execution_count": 11,
   "id": "4123c4ea",
   "metadata": {},
   "outputs": [
    {
     "data": {
      "text/plain": [
       "30.90909090909091"
      ]
     },
     "execution_count": 11,
     "metadata": {},
     "output_type": "execute_result"
    }
   ],
   "source": [
    "#Q6: How much damage does Quagsire do to Raichu?\n",
    "effective_damage(\"Quagsire\", \"Raichu\")"
   ]
  },
  {
   "cell_type": "code",
   "execution_count": 12,
   "id": "d9ac0bc5",
   "metadata": {},
   "outputs": [
    {
     "data": {
      "text/plain": [
       "12.380952380952381"
      ]
     },
     "execution_count": 12,
     "metadata": {},
     "output_type": "execute_result"
    }
   ],
   "source": [
    "#Q7: How much damage does Slowpoke do to Gligar?\n",
    "effective_damage(\"Slowpoke\", \"Gligar\")"
   ]
  },
  {
   "cell_type": "code",
   "execution_count": 13,
   "id": "8f04d844",
   "metadata": {},
   "outputs": [],
   "source": [
    "def num_hits(attacker, defender):\n",
    "    return math.ceil(project.get_hp(defender) / effective_damage(attacker, defender))"
   ]
  },
  {
   "cell_type": "code",
   "execution_count": 14,
   "id": "8475fcb0",
   "metadata": {},
   "outputs": [
    {
     "data": {
      "text/plain": [
       "1"
      ]
     },
     "execution_count": 14,
     "metadata": {},
     "output_type": "execute_result"
    }
   ],
   "source": [
    "#Q8: How many hits can the defending pokemon Bulbasaur take from Flareon (attacker)?\n",
    "num_hits(\"Flareon\", \"Bulbasaur\")"
   ]
  },
  {
   "cell_type": "code",
   "execution_count": 15,
   "id": "8b954bed",
   "metadata": {},
   "outputs": [
    {
     "data": {
      "text/plain": [
       "8"
      ]
     },
     "execution_count": 15,
     "metadata": {},
     "output_type": "execute_result"
    }
   ],
   "source": [
    "#Q9: How many hits can the defending pokemon Blastoise take from Charizard (attacker)?\n",
    "num_hits(\"Charizard\", \"Blastoise\")"
   ]
  },
  {
   "cell_type": "code",
   "execution_count": 16,
   "id": "b139e603",
   "metadata": {},
   "outputs": [],
   "source": [
    "def battle(pkmn1, pkmn2):\n",
    "    #TODO: Return the name of the pkmn that can take more hits from the other\n",
    "    if abs(num_hits(pkmn1, pkmn2)-(num_hits(pkmn2, pkmn1))) >= 10:\n",
    "        if num_hits(pkmn1, pkmn2) > num_hits(pkmn2, pkmn1):\n",
    "            return (pkmn1 + \" ran away\")\n",
    "        else:\n",
    "            return (pkmn2 + \" ran away\")\n",
    "           \n",
    "    \n",
    "    elif num_hits(pkmn1, pkmn2) == num_hits(pkmn2, pkmn1):\n",
    "        if project.get_speed(pkmn1) > project.get_speed(pkmn2):\n",
    "            name_of_winner = pkmn1\n",
    "            return name_of_winner\n",
    "        elif project.get_speed(pkmn1) < project.get_speed(pkmn2):\n",
    "            name_of_winner = pkmn2\n",
    "            return name_of_winner\n",
    "        else:\n",
    "            return \"Draw\"\n",
    "    \n",
    "    else:\n",
    "        if num_hits(pkmn1, pkmn2) < num_hits(pkmn2, pkmn1):\n",
    "            name_of_winner = pkmn1\n",
    "            return name_of_winner\n",
    "        else:\n",
    "            name_of_winner = pkmn2\n",
    "            return name_of_winner\n",
    "\n",
    "    # pkmn. If both pkmn faint within the same number of moves, return the\n",
    "    # string 'Draw'"
   ]
  },
  {
   "cell_type": "code",
   "execution_count": 17,
   "id": "f3b4a37f",
   "metadata": {},
   "outputs": [
    {
     "data": {
      "text/plain": [
       "'Flareon'"
      ]
     },
     "execution_count": 17,
     "metadata": {},
     "output_type": "execute_result"
    }
   ],
   "source": [
    "#Q10: What is the output of battle('Bulbasaur', 'Flareon')?\n",
    "battle(\"Bulbasaur\", \"Flareon\")"
   ]
  },
  {
   "cell_type": "code",
   "execution_count": 18,
   "id": "91f92886",
   "metadata": {},
   "outputs": [
    {
     "data": {
      "text/plain": [
       "'Blastoise'"
      ]
     },
     "execution_count": 18,
     "metadata": {},
     "output_type": "execute_result"
    }
   ],
   "source": [
    "#Q11: What is the output of battle('Charizard', 'Blastoise')?\n",
    "battle(\"Charizard\", \"Blastoise\")"
   ]
  },
  {
   "cell_type": "code",
   "execution_count": 19,
   "id": "bd2a1052",
   "metadata": {},
   "outputs": [
    {
     "data": {
      "text/plain": [
       "'Starly'"
      ]
     },
     "execution_count": 19,
     "metadata": {},
     "output_type": "execute_result"
    }
   ],
   "source": [
    "#Q12: What is the output of battle('Pidgey', 'Starly')?\n",
    "battle(\"Pidgey\", \"Starly\")"
   ]
  },
  {
   "cell_type": "code",
   "execution_count": 20,
   "id": "be508824",
   "metadata": {},
   "outputs": [
    {
     "data": {
      "text/plain": [
       "'Draw'"
      ]
     },
     "execution_count": 20,
     "metadata": {},
     "output_type": "execute_result"
    }
   ],
   "source": [
    "#Q13: What is the output of battle('Mudkip', 'Gulpin')?\n",
    "battle(\"Mudkip\", \"Gulpin\")"
   ]
  },
  {
   "cell_type": "code",
   "execution_count": 21,
   "id": "0ec6d10f",
   "metadata": {},
   "outputs": [
    {
     "data": {
      "text/plain": [
       "'Charizard'"
      ]
     },
     "execution_count": 21,
     "metadata": {},
     "output_type": "execute_result"
    }
   ],
   "source": [
    "#Q14: What is the output of battle('Charizard', 'Bellsprout')?\n",
    "battle(\"Charizard\", \"Bellsprout\")"
   ]
  },
  {
   "cell_type": "code",
   "execution_count": 22,
   "id": "8a34f3e2",
   "metadata": {},
   "outputs": [
    {
     "data": {
      "text/plain": [
       "'Pikachu ran away'"
      ]
     },
     "execution_count": 22,
     "metadata": {},
     "output_type": "execute_result"
    }
   ],
   "source": [
    "#Q15: What is the output of battle('Mewtwo', 'Pikachu')?\n",
    "battle(\"Mewtwo\", \"Pikachu\")"
   ]
  },
  {
   "cell_type": "code",
   "execution_count": 23,
   "id": "39e3381d",
   "metadata": {},
   "outputs": [
    {
     "data": {
      "text/plain": [
       "'Magikarp ran away'"
      ]
     },
     "execution_count": 23,
     "metadata": {},
     "output_type": "execute_result"
    }
   ],
   "source": [
    "#Q16: What is the output of battle('Slowpoke', 'Magikarp')?\n",
    "battle(\"Slowpoke\", \"Magikarp\")"
   ]
  },
  {
   "cell_type": "code",
   "execution_count": 24,
   "id": "38f84e35",
   "metadata": {},
   "outputs": [],
   "source": [
    "def same_region(pkmn1, pkmn2):\n",
    "    #TODO: Return True if pkmn1 and pkmn2 belong to the same region\n",
    "    # Return False otherwise\n",
    "    if (project.get_region(pkmn1) == project.get_region(pkmn2)): \n",
    "        return True\n",
    "    else: \n",
    "        False\n",
    "        \n",
    "def luap_battle(pkmn1, pkmn2):\n",
    "    pkmn1_type = project.get_type1(pkmn1)\n",
    "    pkmn2_type = project.get_type1(pkmn2)\n",
    "    #TODO: determine if Pokémons are from the same region; you must invoke the relevant function you defined in lab-p4\n",
    "    if same_region(pkmn1, pkmn2) == True or ((pkmn1_type == \"Fire\" and pkmn2_type == \"Bug\") or (pkmn1_type == \"Bug\" and pkmn2_type == \"Fire\")):\n",
    "        return \"Forbidden\"\n",
    "    else: \n",
    "        return battle(pkmn1, pkmn2)\n",
    "    # TODO: Return the output of battle(pkmn1, pkmn2) only when the battle follows the LUAP guidelines.\n",
    "    # TODO: If it does not follow the guidelines, output \"Forbidden\"."
   ]
  },
  {
   "cell_type": "code",
   "execution_count": 25,
   "id": "a4fa9623",
   "metadata": {},
   "outputs": [
    {
     "data": {
      "text/plain": [
       "'Forbidden'"
      ]
     },
     "execution_count": 25,
     "metadata": {},
     "output_type": "execute_result"
    }
   ],
   "source": [
    "#Q17: What is the output of luap_battle('Paras', 'Arcanine')?\n",
    "luap_battle(\"Paras\", \"Arcanine\")"
   ]
  },
  {
   "cell_type": "code",
   "execution_count": 26,
   "id": "bab8037d",
   "metadata": {},
   "outputs": [
    {
     "data": {
      "text/plain": [
       "'Forbidden'"
      ]
     },
     "execution_count": 26,
     "metadata": {},
     "output_type": "execute_result"
    }
   ],
   "source": [
    "#Q18: What is the output of luap_battle('Magby', 'Venomoth')?\n",
    "luap_battle(\"Magby\", \"Venomoth\")"
   ]
  },
  {
   "cell_type": "code",
   "execution_count": 27,
   "id": "d1c9c48f",
   "metadata": {},
   "outputs": [
    {
     "data": {
      "text/plain": [
       "'Arcanine'"
      ]
     },
     "execution_count": 27,
     "metadata": {},
     "output_type": "execute_result"
    }
   ],
   "source": [
    "#Q19: What is the output of luap_battle('Electivire', 'Arcanine')?\n",
    "luap_battle(\"Electivire\", \"Arcanine\")"
   ]
  },
  {
   "cell_type": "code",
   "execution_count": 28,
   "id": "fa7e40ea",
   "metadata": {},
   "outputs": [
    {
     "data": {
      "text/plain": [
       "'Forbidden'"
      ]
     },
     "execution_count": 28,
     "metadata": {},
     "output_type": "execute_result"
    }
   ],
   "source": [
    "#Q20: What is the output of luap_battle('Flygon', 'Sceptile')?\n",
    "luap_battle(\"Flygon\", \"Sceptile\")"
   ]
  }
 ],
 "metadata": {
  "kernelspec": {
   "display_name": "Python 3 (ipykernel)",
   "language": "python",
   "name": "python3"
  },
  "language_info": {
   "codemirror_mode": {
    "name": "ipython",
    "version": 3
   },
   "file_extension": ".py",
   "mimetype": "text/x-python",
   "name": "python",
   "nbconvert_exporter": "python",
   "pygments_lexer": "ipython3",
   "version": "3.9.7"
  }
 },
 "nbformat": 4,
 "nbformat_minor": 5
}

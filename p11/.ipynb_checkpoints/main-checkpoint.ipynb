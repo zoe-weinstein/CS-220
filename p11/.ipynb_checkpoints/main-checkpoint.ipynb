{
 "cells": [
  {
   "cell_type": "code",
   "execution_count": 1,
   "id": "9f7bcf0f",
   "metadata": {},
   "outputs": [],
   "source": [
    "# project: p11\n",
    "# submitter: zlweinstein\n",
    "# partner: none\n",
    "# hours: 6"
   ]
  },
  {
   "cell_type": "code",
   "execution_count": 2,
   "id": "3d53b520",
   "metadata": {},
   "outputs": [],
   "source": [
    "import os\n",
    "import csv\n",
    "import json\n",
    "import pandas \n",
    "import matplotlib\n",
    "from collections import namedtuple \n",
    "from datetime import datetime as dt #this is for a time_delta only\n",
    "from questions import view_plot_data, verify_bar, verify_scatter\n",
    "import copy"
   ]
  },
  {
   "cell_type": "code",
   "execution_count": 3,
   "id": "173b4cd3",
   "metadata": {},
   "outputs": [],
   "source": [
    "%matplotlib inline"
   ]
  },
  {
   "cell_type": "code",
   "execution_count": 4,
   "id": "98a965f2",
   "metadata": {},
   "outputs": [],
   "source": [
    "def read_json(path):\n",
    "    with open(path, encoding='utf-8') as f:\n",
    "        return json.load(f)\n",
    "    \n",
    "#opens a file that we're calling path \n",
    "    \n",
    "def get_mapping(pathname):\n",
    "    try:\n",
    "        return read_json(pathname)\n",
    "    except(json.JSONDecodeError):\n",
    "        empty_dict = {}\n",
    "        return empty_dict\n",
    "    \n",
    "    \n",
    "#opening a file called path and if it's not a json file them it's returning an empty dict, otherwise it's opening a file called pathname\n",
    "\n",
    "\n",
    "Comment = namedtuple(\"Comment\", [\"video_id\", \"comment_length\", \"author_id\", \"likes\", \"published_at\"])\n",
    "#creating a namedtuple that has certain characteristics\n",
    "\n",
    "\n",
    "def get_comment_data(comment_file):\n",
    "    csv_data = process_csv(comment_file)\n",
    "    header = csv_data[0]\n",
    "    comment_rows = csv_data[1:]\n",
    "#opening up a CSV file, assigning header to the header, and the data to comment_rows\n",
    "    \n",
    "    comment_id_idx = header.index(\"comment_id\")\n",
    "    video_id_idx = header.index(\"video_id\")\n",
    "    comment_length_idx = header.index(\"comment_length\")\n",
    "    author_id_idx = header.index(\"author_id\")\n",
    "    likes_idx = header.index(\"likes\")\n",
    "    published_at_idx = header.index(\"published_at\")\n",
    "    \n",
    "    comment_dict = {}\n",
    "    for row in comment_rows:\n",
    "#         if row == \"\" or len(row) != len(header):\n",
    "#             continue\n",
    "#         try:\n",
    "#             r = Comment(row[video_id_idx], int(row[comment_length_idx]), row[author_id_idx], int(row[likes_idx]), row[published_at_idx])\n",
    "#         except:\n",
    "#             continue\n",
    "#         comment_dict[row[comment_id_idx]] = r\n",
    "        if \"\" not in row: \n",
    "            try :\n",
    "                comment_data = Comment(row[video_id_idx], int(row[comment_length_idx]), row[author_id_idx], int(row[likes_idx]), row[published_at_idx])\n",
    "                comment_dict[row[comment_id_idx]] = comment_data\n",
    "            except (IndexError, ValueError) :\n",
    "                continue \n",
    "    return comment_dict\n",
    "\n",
    "#using a try except to fill in the named tuple with the certain characteristics\n",
    "\n",
    "\n",
    "def bucketize(attribute, videos):\n",
    "    bucket_dict = {}\n",
    "    for video in videos:\n",
    "        attributes = videos[video][attribute]\n",
    "        if type(attributes) == list:\n",
    "            for item in attributes:\n",
    "                if item not in bucket_dict:\n",
    "                    bucket_dict[item] = []\n",
    "                if item in bucket_dict:\n",
    "                    bucket_dict[item].append(video)\n",
    "        else:\n",
    "            if attributes not in bucket_dict:\n",
    "                bucket_dict[attributes] = []\n",
    "            if attributes in bucket_dict:\n",
    "                bucket_dict[attributes].append(video)\n",
    "    return bucket_dict\n",
    "\n",
    "#creates an empty dict, for all the IDs in videos it assigns the varable attributes to whatever the user inputs as attribute\n",
    "#if the attribute is a list then turns it into a dictionary with each item in the list as the key and the value as the video\n",
    "#if the item is not a list then it just adds the item as the key and the video as the value \n",
    "\n",
    "\n",
    "def plot_dict(d, label=\"Please Label Me!!!\"):\n",
    "    ax = pandas.Series(d).sort_index().plot.bar(color=\"black\", fontsize=16)\n",
    "    ax.set_ylabel(label, fontsize=16)\n",
    "    \n",
    "def process_csv(filename):\n",
    "    exampleFile = open(filename, encoding=\"utf-8\")  \n",
    "    exampleReader = csv.reader(exampleFile) \n",
    "    exampleData = list(exampleReader)        \n",
    "    exampleFile.close()  \n",
    "    return exampleData\n",
    "\n",
    "## From lab-p10\n",
    "def list_files_in(pathname):\n",
    "    list_at_location = []\n",
    "    for files in os.listdir(pathname):\n",
    "        if not files.startswith(\".\"):\n",
    "            list_at_location.append(files)\n",
    "    return sorted(list_at_location)\n",
    "   \n",
    "\n",
    "def list_paths_in(pathname):\n",
    "    list_at_location = []\n",
    "    for files in os.listdir(pathname):\n",
    "        if not files.startswith(\".\"):\n",
    "            pname_dir = os.path.join(\"data\", files)\n",
    "            list_at_location.append(pname_dir)\n",
    "    return sorted(list_at_location)\n",
    "\n",
    "all_paths = list_paths_in(\"data\")\n",
    "\n",
    "comment_paths = []\n",
    "for files in all_paths:\n",
    "    if \"comment_data\" in files:\n",
    "        comment_paths.append(files)\n",
    "        \n",
    "channel_paths = []\n",
    "for files in all_paths:\n",
    "    if \"channel_ids\" in files:\n",
    "        channel_paths.append(files)\n",
    "\n",
    "channel_dict = {}\n",
    "for path in channel_paths:\n",
    "    current_path = get_mapping(path)\n",
    "    for channel in current_path:\n",
    "        channel_dict[channel] = current_path[channel]\n",
    "        \n",
    "comments = {}\n",
    "for file in comment_paths:\n",
    "    comments.update(get_comment_data(file))\n",
    "\n",
    "\n",
    "## From p10 (Q12)\n",
    "## Code to populate `comment_buckets` \n",
    "comment_buckets = {}\n",
    "for i in comments:\n",
    "    video_id = comments[i].video_id\n",
    "    if video_id not in comment_buckets:\n",
    "        comment_buckets[video_id] = []\n",
    "    if video_id in comment_buckets:\n",
    "        comment_buckets[video_id].append(i)\n",
    "\n",
    "\n",
    "## From p10\n",
    "def get_videos(data_file, video_mapping_file):\n",
    "    data = process_csv(data_file)\n",
    "    header = data[0]\n",
    "    all_videos = data[1:]\n",
    "    video_mapping = get_mapping(video_mapping_file)\n",
    "    videos_dict = dict()\n",
    " \n",
    "    for video in all_videos:\n",
    "        new_dict = {}\n",
    "        \n",
    "        try:\n",
    "            video_id = video[header.index('video_id')]\n",
    "            title = read_json(video_mapping_file)[video_id]            \n",
    "        except:\n",
    "            continue\n",
    "            \n",
    "        new_dict['title'] = title\n",
    "        for row in header[1:]:\n",
    "            try:\n",
    "                if row == \"likes\" or row == \"dislikes\":\n",
    "                    if video[header.index(\"likes\")] == \"\" or video[header.index(\"dislikes\")] == \"\":\n",
    "                        new_dict['ratings_enabled'] = False\n",
    "                        new_dict['likes'] = None\n",
    "                        new_dict['dislikes'] = None\n",
    "                    else:\n",
    "                        new_dict['ratings_enabled'] = True\n",
    "                        new_dict['likes'] = int(video[header.index(\"likes\")])\n",
    "                        new_dict['dislikes'] = int(video[header.index(\"dislikes\")])\n",
    "                elif row == \"views\":\n",
    "                    new_dict[row] = int(video[header.index(\"views\")])\n",
    "                elif row == \"tags\":\n",
    "                    new_dict[row] = (video[header.index(row)]).split(\"|\")\n",
    "                elif row == \"channel_id\":\n",
    "                    new_dict['channel_name'] = channel_dict[video[header.index('channel_id')]]\n",
    "                else:\n",
    "                    new_dict['comments'] = comment_buckets[video[header.index('video_id')]]\n",
    "                    new_dict[row] = video[header.index(row)]\n",
    "            except:\n",
    "                continue\n",
    "                \n",
    "        videos_dict[video_id] = new_dict\n",
    "\n",
    "    return videos_dict\n",
    "\n",
    "videos = get_videos(os.path.join('data','video_data.csv'), os.path.join('data','video_ids.json'))\n",
    "videos_copy = copy.deepcopy(videos)\n",
    "    \n",
    "def plot_dict(d, label=\"Please Label Me!!!\"):\n",
    "    ax = pandas.Series(d).sort_index().plot.bar(color=\"black\", fontsize=16)\n",
    "    ax.set_ylabel(label, fontsize=16)\n",
    "    \n",
    "def scatter(x, y, xlabel=\"please label me!\", ylabel=\"please label me!\"):\n",
    "    df = pandas.DataFrame({\"x\":x, \"y\":y})\n",
    "    ax = df.plot.scatter(x=\"x\", y=\"y\", color=\"black\", fontsize=16, ylim=0)\n",
    "    ax.set_ylabel(ylabel, fontsize=16)\n",
    "    ax.set_xlabel(xlabel, fontsize=16)\n"
   ]
  },
  {
   "cell_type": "code",
   "execution_count": 5,
   "id": "7dbc1a18",
   "metadata": {},
   "outputs": [
    {
     "name": "stdout",
     "output_type": "stream",
     "text": [
      "0\n",
      "25\n"
     ]
    }
   ],
   "source": [
    "def process_duration(duration_str):\n",
    "\n",
    "    duration = int(duration_str[0:2]) * 3600 + int(duration_str[3:5]) * 60 + int(duration_str[6:8])\n",
    "    value = (duration // 300) * 5\n",
    "\n",
    "    return value\n",
    "\n",
    "print(process_duration('00:04:12'))\n",
    "print(process_duration('00:28:21'))"
   ]
  },
  {
   "cell_type": "code",
   "execution_count": 6,
   "id": "9eb972aa",
   "metadata": {},
   "outputs": [],
   "source": [
    "from questions import view_plot_data, verify_bar, verify_scatter"
   ]
  },
  {
   "cell_type": "code",
   "execution_count": 7,
   "id": "52aa1940",
   "metadata": {},
   "outputs": [],
   "source": [
    "videos_copy = copy.deepcopy(videos)\n",
    "#videos_copy"
   ]
  },
  {
   "cell_type": "code",
   "execution_count": 8,
   "id": "fb6e65ff",
   "metadata": {},
   "outputs": [
    {
     "data": {
      "image/png": "[encoded data removed]",
      "text/plain": [
       "<Figure size 432x288 with 1 Axes>"
      ]
     },
     "metadata": {
      "needs_background": "light"
     },
     "output_type": "display_data"
    }
   ],
   "source": [
    "#Q1: Plot the distribution of video durations as a histogram.\n",
    "for video in videos_copy:\n",
    "    current_time = videos_copy[video][\"duration\"]\n",
    "    new_duration = process_duration(current_time)\n",
    "    videos_copy[video][\"duration\"] = new_duration\n",
    "duration_buckets = bucketize(\"duration\", videos_copy)\n",
    "\n",
    "new_dict = {}\n",
    "for keys in duration_buckets:\n",
    "    new_dict[keys] = len(duration_buckets[keys])\n",
    "\n",
    "new_dict\n",
    "plot_dict(new_dict, label=\"Number of Videos\")"
   ]
  },
  {
   "cell_type": "code",
   "execution_count": 9,
   "id": "a1b24e26",
   "metadata": {},
   "outputs": [
    {
     "data": {
      "text/plain": [
       "True"
      ]
     },
     "execution_count": 9,
     "metadata": {},
     "output_type": "execute_result"
    }
   ],
   "source": [
    "#q1.1\n",
    "verify_bar(new_dict, 1)"
   ]
  },
  {
   "cell_type": "code",
   "execution_count": 10,
   "id": "7c5a82f4",
   "metadata": {},
   "outputs": [
    {
     "data": {
      "image/png": "[encoded data removed]",
      "text/plain": [
       "<Figure size 432x288 with 1 Axes>"
      ]
     },
     "metadata": {
      "needs_background": "light"
     },
     "output_type": "display_data"
    }
   ],
   "source": [
    "#Q2: Plot the correlation between duration of video (x-axis) and average views (y-axis) as a histogram.\n",
    "\n",
    "avg_views_dict = {}\n",
    "videos_copy\n",
    "for keys in duration_buckets:\n",
    "    views_list = []\n",
    "    for ids in duration_buckets[keys]:\n",
    "        views_list.append(videos_copy[ids][\"views\"])\n",
    "    avg = sum(views_list) / len(views_list)\n",
    "\n",
    "    avg_views_dict[keys] = avg\n",
    "avg_views_dict\n",
    "\n",
    "\n",
    "plot_dict(avg_views_dict, label=\"Average Views\")"
   ]
  },
  {
   "cell_type": "code",
   "execution_count": 11,
   "id": "3effea85",
   "metadata": {},
   "outputs": [
    {
     "data": {
      "text/plain": [
       "True"
      ]
     },
     "execution_count": 11,
     "metadata": {},
     "output_type": "execute_result"
    }
   ],
   "source": [
    "#q2.1\n",
    "verify_bar(avg_views_dict, 2)"
   ]
  },
  {
   "cell_type": "code",
   "execution_count": 12,
   "id": "4367ff2f",
   "metadata": {},
   "outputs": [
    {
     "data": {
      "image/png": "[encoded data removed]",
      "text/plain": [
       "<Figure size 432x288 with 1 Axes>"
      ]
     },
     "metadata": {
      "needs_background": "light"
     },
     "output_type": "display_data"
    }
   ],
   "source": [
    "#Q3: Plot the correlation between the hour at which the video is published (x-axis) and the average number of views (y-axis) across all videos in that hour as a histogram.\n",
    "videos_copy\n",
    "\n",
    "time_views_dict = {} #key time cdt value list of views\n",
    "\n",
    "for video_ids in videos_copy:\n",
    "    utc_hour = int(videos_copy[video_ids][\"published_at\"][11:13])\n",
    "    cdt_hour = (utc_hour-5)%24\n",
    "    if cdt_hour not in time_views_dict:\n",
    "        time_views_dict[cdt_hour] = []\n",
    "    if cdt_hour in time_views_dict:\n",
    "        time_views_dict[cdt_hour].append(videos_copy[video_ids][\"views\"])\n",
    "\n",
    "time_views_dict[cdt_hour]\n",
    "\n",
    "time_views_dict = {time:sum(views_list)/len(views_list) for time, views_list in time_views_dict.items()}\n",
    "plot_dict(time_views_dict, label=\"views\")\n"
   ]
  },
  {
   "cell_type": "code",
   "execution_count": 13,
   "id": "9f7d5568",
   "metadata": {},
   "outputs": [
    {
     "data": {
      "text/plain": [
       "True"
      ]
     },
     "execution_count": 13,
     "metadata": {},
     "output_type": "execute_result"
    }
   ],
   "source": [
    "#Q3.1 Verify your plot using verify_bar\n",
    "verify_bar(time_views_dict, 3)"
   ]
  },
  {
   "cell_type": "code",
   "execution_count": 14,
   "id": "0f5bcb6a",
   "metadata": {},
   "outputs": [
    {
     "data": {
      "image/png": "[encoded data removed]",
      "text/plain": [
       "<Figure size 432x288 with 1 Axes>"
      ]
     },
     "metadata": {
      "needs_background": "light"
     },
     "output_type": "display_data"
    }
   ],
   "source": [
    "#Q4: Plot the correlation between the views (x-axis) and likes (y-axis) on a video.\n",
    "views = []\n",
    "likes = []\n",
    "\n",
    "for vid_ids in videos_copy:\n",
    "    if videos_copy[vid_ids][\"ratings_enabled\"] == False:\n",
    "        continue\n",
    "    else:\n",
    "        all_views = videos_copy[vid_ids][\"views\"]\n",
    "        views.append(all_views)\n",
    "        all_likes = videos_copy[vid_ids][\"likes\"]\n",
    "        likes.append(all_likes)\n",
    "    \n",
    "\n",
    "scatter(views, likes, xlabel=\"views\", ylabel=\"likes\")"
   ]
  },
  {
   "cell_type": "code",
   "execution_count": 15,
   "id": "4c14c1cb",
   "metadata": {},
   "outputs": [
    {
     "data": {
      "text/plain": [
       "True"
      ]
     },
     "execution_count": 15,
     "metadata": {},
     "output_type": "execute_result"
    }
   ],
   "source": [
    "#Q4.1 Verify your plot using verify_scatter\n",
    "verify_scatter(views, likes, 4)"
   ]
  },
  {
   "cell_type": "code",
   "execution_count": 16,
   "id": "8c41ff77",
   "metadata": {},
   "outputs": [
    {
     "data": {
      "image/png": "[encoded data removed]",
      "text/plain": [
       "<Figure size 432x288 with 1 Axes>"
      ]
     },
     "metadata": {
      "needs_background": "light"
     },
     "output_type": "display_data"
    }
   ],
   "source": [
    "#Q5: Plot the correlation between the views (x-axis) and likes (y-axis) on a video with the outliers removed.\n",
    "views = []\n",
    "likes = []\n",
    "\n",
    "for vid_ids in videos_copy:\n",
    "    if videos_copy[vid_ids][\"ratings_enabled\"] == False:\n",
    "        continue\n",
    "    else: \n",
    "        all_views = videos_copy[vid_ids][\"views\"]\n",
    "        if all_views > 10**7:\n",
    "            continue\n",
    "        views.append(all_views)\n",
    "        all_likes = videos_copy[vid_ids][\"likes\"]\n",
    "        likes.append(all_likes)\n",
    "\n",
    "scatter(views, likes, xlabel=\"views\", ylabel=\"likes\")"
   ]
  },
  {
   "cell_type": "code",
   "execution_count": 17,
   "id": "ef5f199d",
   "metadata": {},
   "outputs": [
    {
     "data": {
      "text/plain": [
       "True"
      ]
     },
     "execution_count": 17,
     "metadata": {},
     "output_type": "execute_result"
    }
   ],
   "source": [
    "#Q5.1 Verify your plot using verify_scatter\n",
    "verify_scatter(views, likes, 5)"
   ]
  },
  {
   "cell_type": "code",
   "execution_count": 18,
   "id": "269eacd0",
   "metadata": {},
   "outputs": [
    {
     "data": {
      "image/png": "[encoded data removed]",
      "text/plain": [
       "<Figure size 432x288 with 1 Axes>"
      ]
     },
     "metadata": {
      "needs_background": "light"
     },
     "output_type": "display_data"
    }
   ],
   "source": [
    "#Q6: Plot the correlation between the views (x-axis) and audience engagement (y-axis) on a video.\n",
    "views = []\n",
    "audiance_engagement = []\n",
    "\n",
    "for vid_ids in videos_copy:\n",
    "    all_views = videos_copy[vid_ids][\"views\"]\n",
    "    views.append(all_views)\n",
    "    com_view_ration = len(videos_copy[vid_ids][\"comments\"])/(videos_copy[vid_ids][\"views\"])\n",
    "    audiance_engagement.append(com_view_ration)\n",
    "    \n",
    "\n",
    "scatter(views, audiance_engagement, xlabel=\"views\", ylabel=\"engagement\")"
   ]
  },
  {
   "cell_type": "code",
   "execution_count": 19,
   "id": "84b8ee42",
   "metadata": {},
   "outputs": [
    {
     "data": {
      "text/plain": [
       "True"
      ]
     },
     "execution_count": 19,
     "metadata": {},
     "output_type": "execute_result"
    }
   ],
   "source": [
    "#Q6.1 Verify your plot using verify_scatter\n",
    "verify_scatter(views, audiance_engagement, 6)"
   ]
  },
  {
   "cell_type": "code",
   "execution_count": 20,
   "id": "c5dfe95b",
   "metadata": {},
   "outputs": [
    {
     "data": {
      "image/png": "[encoded data removed]",
      "text/plain": [
       "<Figure size 432x288 with 1 Axes>"
      ]
     },
     "metadata": {
      "needs_background": "light"
     },
     "output_type": "display_data"
    }
   ],
   "source": [
    "#Q7: Plot the correlation between the views (x-axis) and audience engagement (y-axis) on a video with the outliers removed.\n",
    "views = []\n",
    "audiance_engagement = []\n",
    "\n",
    "for vid_ids in videos_copy:\n",
    "    all_views = videos_copy[vid_ids][\"views\"]\n",
    "    if all_views > 10**7:\n",
    "        continue\n",
    "    views.append(all_views)\n",
    "    com_view_ration = len(videos_copy[vid_ids][\"comments\"])/(videos_copy[vid_ids][\"views\"])\n",
    "    audiance_engagement.append(com_view_ration)\n",
    "    \n",
    "scatter(views, audiance_engagement, xlabel=\"views\", ylabel=\"engagement\")"
   ]
  },
  {
   "cell_type": "code",
   "execution_count": 21,
   "id": "fc4141c0",
   "metadata": {},
   "outputs": [
    {
     "data": {
      "text/plain": [
       "True"
      ]
     },
     "execution_count": 21,
     "metadata": {},
     "output_type": "execute_result"
    }
   ],
   "source": [
    "#Q7.1 Verify your plot using verify_scatter\n",
    "verify_scatter(views, audiance_engagement, 7)"
   ]
  },
  {
   "cell_type": "code",
   "execution_count": 22,
   "id": "d454a33f",
   "metadata": {},
   "outputs": [
    {
     "data": {
      "image/png": "[encoded data removed]",
      "text/plain": [
       "<Figure size 432x288 with 1 Axes>"
      ]
     },
     "metadata": {
      "needs_background": "light"
     },
     "output_type": "display_data"
    }
   ],
   "source": [
    "#Q8: Plot the correlation between the length of a comment text (x-axis) and the number of likes on the comment (y-axis).\n",
    "len_of_comment = []\n",
    "num_comment_likes = []\n",
    "\n",
    "for comment_id in comments:\n",
    "    num_likes = comments[comment_id].likes\n",
    "    len_comment = comments[comment_id].comment_length\n",
    "    len_of_comment.append(len_comment)\n",
    "    num_comment_likes.append(num_likes)\n",
    "\n",
    "scatter(len_of_comment, num_comment_likes, xlabel=\"comment length\", ylabel=\"likes\")\n"
   ]
  },
  {
   "cell_type": "code",
   "execution_count": 23,
   "id": "dcefb9f4",
   "metadata": {},
   "outputs": [
    {
     "data": {
      "text/plain": [
       "True"
      ]
     },
     "execution_count": 23,
     "metadata": {},
     "output_type": "execute_result"
    }
   ],
   "source": [
    "#Q8.1 Verify your plot using verify_scatter\n",
    "verify_scatter(len_of_comment, num_comment_likes, 8)"
   ]
  },
  {
   "cell_type": "code",
   "execution_count": 24,
   "id": "b38b7a50",
   "metadata": {
    "scrolled": true
   },
   "outputs": [
    {
     "data": {
      "image/png": "[encoded data removed]",
      "text/plain": [
       "<Figure size 432x288 with 1 Axes>"
      ]
     },
     "metadata": {
      "needs_background": "light"
     },
     "output_type": "display_data"
    }
   ],
   "source": [
    "#Q9: Plot the correlation between the length of a comment text (x-axis) and the number of likes on the comment (y-axis) with the outliers removed.\n",
    "len_of_comment = []\n",
    "num_comment_likes = []\n",
    "\n",
    "for comment_id in comments:\n",
    "    num_likes = comments[comment_id].likes\n",
    "    len_comment = comments[comment_id].comment_length\n",
    "    if len_comment > 500:\n",
    "        continue\n",
    "    len_of_comment.append(len_comment)\n",
    "    num_comment_likes.append(num_likes)\n",
    "\n",
    "scatter(len_of_comment, num_comment_likes, xlabel=\"comment length\", ylabel=\"likes\")\n",
    "\n"
   ]
  },
  {
   "cell_type": "code",
   "execution_count": 25,
   "id": "a6b2adc6",
   "metadata": {
    "scrolled": true
   },
   "outputs": [
    {
     "data": {
      "text/plain": [
       "True"
      ]
     },
     "execution_count": 25,
     "metadata": {},
     "output_type": "execute_result"
    }
   ],
   "source": [
    "#Q9.1 Verify your plot using verify_scatter\n",
    "verify_scatter(len_of_comment, num_comment_likes, 9)"
   ]
  },
  {
   "cell_type": "code",
   "execution_count": 26,
   "id": "57f9e7aa",
   "metadata": {},
   "outputs": [],
   "source": [
    "def sort_comments_by_published_time(video_title):\n",
    "    comment_id_by_published_time = {}\n",
    "    for video_ids in videos:\n",
    "        if video_title == videos[video_ids][\"title\"]:\n",
    "            comment_ids = videos[video_ids][\"comments\"]\n",
    "            for comment in comments:\n",
    "                if comment in comment_ids:\n",
    "                    published_time = comments[comment].published_at\n",
    "                    comment_id_by_published_time[published_time] = comment\n",
    "    sorted_comment_dict = dict(sorted(comment_id_by_published_time.items()))\n",
    "    return list(sorted_comment_dict.values())"
   ]
  },
  {
   "cell_type": "code",
   "execution_count": 27,
   "id": "bcfe6221",
   "metadata": {},
   "outputs": [],
   "source": [
    "assert sort_comments_by_published_time(\"Out of pocket tik toks 4\")[0] == \"UgxI96cloxd04ldEkv94AaABAg\""
   ]
  },
  {
   "cell_type": "code",
   "execution_count": 28,
   "id": "a73469df",
   "metadata": {},
   "outputs": [
    {
     "data": {
      "text/plain": [
       "66"
      ]
     },
     "execution_count": 28,
     "metadata": {},
     "output_type": "execute_result"
    }
   ],
   "source": [
    "#Q10: What is the length of the first comment under the video \"If I lose a boss fight, the video ends 2 (Genshin Impact)\"?\n",
    "first_comment = sort_comments_by_published_time(\"If I lose a boss fight, the video ends 2 (Genshin Impact)\")[0]\n",
    "comments[first_comment].comment_length    \n"
   ]
  },
  {
   "cell_type": "code",
   "execution_count": 29,
   "id": "00f9bb3a",
   "metadata": {},
   "outputs": [
    {
     "data": {
      "text/plain": [
       "478.6"
      ]
     },
     "execution_count": 29,
     "metadata": {},
     "output_type": "execute_result"
    }
   ],
   "source": [
    "#Q11: What is the average number of likes for the first 5 comments under the video 'Facebook, Instagram and WhatsApp down in global outage'?\n",
    "facebook_video = sort_comments_by_published_time(\"Facebook, Instagram and WhatsApp down in global outage\")[0:5]\n",
    "total_likes = 0 \n",
    "num = len(facebook_video)\n",
    "for comment_id in facebook_video:\n",
    "    like = comments[comment_id].likes\n",
    "    total_likes += like\n",
    "total_likes/num"
   ]
  },
  {
   "cell_type": "code",
   "execution_count": 30,
   "id": "e0f815c3",
   "metadata": {},
   "outputs": [],
   "source": [
    "def time_delta(start, end):\n",
    "    '''takes in start and end times in \"yyyy-mm-dd hh:mm:ss\" format and returns the number of days (as a float) between the two times '''\n",
    "    start_dt = dt.strptime(start,'%Y-%m-%d %H:%M:%S')\n",
    "    end_dt = dt.strptime(end, '%Y-%m-%d %H:%M:%S')\n",
    "    return (end_dt-start_dt).total_seconds()/86400"
   ]
  },
  {
   "cell_type": "code",
   "execution_count": 31,
   "id": "e0c4787b",
   "metadata": {},
   "outputs": [],
   "source": [
    "assert time_delta('2021-11-16 10:00:15', '2021-11-18 08:30:00') == 1.937326388888889"
   ]
  },
  {
   "cell_type": "code",
   "execution_count": 32,
   "id": "19de40d0",
   "metadata": {},
   "outputs": [
    {
     "data": {
      "image/png": "[encoded data removed]",
      "text/plain": [
       "<Figure size 432x288 with 1 Axes>"
      ]
     },
     "metadata": {
      "needs_background": "light"
     },
     "output_type": "display_data"
    }
   ],
   "source": [
    "#Q12: Plot the correlation between when a comment is published relative to video publish time (x-axis) and the number of likes on the comment (y-axis).\n",
    "time_diff = []\n",
    "comm_likes = []\n",
    "\n",
    "for video in videos:\n",
    "    video_time = videos[video][\"published_at\"]\n",
    "    comment_list = videos[video]['comments']\n",
    "    \n",
    "    for comment_id in comment_list:\n",
    "        comment_time = comments[comment_id].published_at\n",
    "        likes = comments[comment_id].likes\n",
    "        time_diff.append(time_delta(video_time, comment_time)) \n",
    "        comm_likes.append(likes)\n",
    "scatter(time_diff, comm_likes, xlabel = 'days after video was published', ylabel = 'likes' )\n"
   ]
  },
  {
   "cell_type": "code",
   "execution_count": 33,
   "id": "fc55447f",
   "metadata": {},
   "outputs": [
    {
     "data": {
      "text/plain": [
       "True"
      ]
     },
     "execution_count": 33,
     "metadata": {},
     "output_type": "execute_result"
    }
   ],
   "source": [
    "#Q12.1 Verify your plot using verify_scatter\n",
    "verify_scatter(time_diff, comm_likes, 12)"
   ]
  },
  {
   "cell_type": "code",
   "execution_count": 34,
   "id": "36627cd8",
   "metadata": {},
   "outputs": [
    {
     "data": {
      "image/png": "[encoded data removed]",
      "text/plain": [
       "<Figure size 432x288 with 1 Axes>"
      ]
     },
     "metadata": {
      "needs_background": "light"
     },
     "output_type": "display_data"
    }
   ],
   "source": [
    "#Q13: Plot the correlation between when a comment is published relative to video publish time (x-axis) and the length of the comment (y-axis).\n",
    "comm_length = []\n",
    "time_diff = []\n",
    "for video in videos:\n",
    "    video_time = (videos[video]['published_at'])\n",
    "    comment_list = videos[video]['comments']\n",
    "    for comment_id in comment_list:\n",
    "        comment_time = (comments[comment_id].published_at)\n",
    "        length = comments[comment_id].comment_length\n",
    "        time_diff.append(time_delta(video_time, comment_time))\n",
    "        comm_length.append(length)\n",
    "scatter(time_diff, comm_length, xlabel = 'days after video was published', ylabel = 'length of the comment' )\n"
   ]
  },
  {
   "cell_type": "code",
   "execution_count": 35,
   "id": "da546831",
   "metadata": {},
   "outputs": [
    {
     "data": {
      "text/plain": [
       "True"
      ]
     },
     "execution_count": 35,
     "metadata": {},
     "output_type": "execute_result"
    }
   ],
   "source": [
    "#Q13.1 Verify your plot using verify_scatter\n",
    "verify_scatter(time_diff, comm_length, 13)"
   ]
  },
  {
   "cell_type": "code",
   "execution_count": 36,
   "id": "90ce2c4f",
   "metadata": {},
   "outputs": [
    {
     "data": {
      "text/plain": [
       "['broken_file/english_lowercase/a_to_m/a_to_m.json',\n",
       " 'broken_file/english_lowercase/rest.json',\n",
       " 'broken_file/english_uppercase/A_to_E/A/A.json',\n",
       " 'broken_file/english_uppercase/A_to_E/E.json',\n",
       " 'broken_file/english_uppercase/A_to_E/rest/rest.json',\n",
       " 'broken_file/english_uppercase/F_to_K/F_to_H.json',\n",
       " 'broken_file/english_uppercase/F_to_K/I_to_K/I/I.json',\n",
       " 'broken_file/english_uppercase/F_to_K/I_to_K/rest.json',\n",
       " 'broken_file/english_uppercase/L_to_Q/O.json',\n",
       " 'broken_file/english_uppercase/L_to_Q/rest/L_to_N/M.json',\n",
       " 'broken_file/english_uppercase/L_to_Q/rest/L_to_N/rest/rest.json',\n",
       " 'broken_file/english_uppercase/L_to_Q/rest/P_to_Q.json',\n",
       " 'broken_file/english_uppercase/R_to_W.json',\n",
       " 'broken_file/english_uppercase/rest.json',\n",
       " 'broken_file/non_english/korean.json',\n",
       " 'broken_file/non_english/rest/japanese/japanese.json',\n",
       " 'broken_file/non_english/rest/rest.json',\n",
       " 'broken_file/non_english/russian/russian.json',\n",
       " 'broken_file/number.json',\n",
       " 'broken_file/special/special.json']"
      ]
     },
     "execution_count": 36,
     "metadata": {},
     "output_type": "execute_result"
    }
   ],
   "source": [
    "def get_all_paths_in(directory):\n",
    "    file_list = []\n",
    "    directory_contents = sorted(os.listdir(directory))\n",
    "    for item in directory_contents:\n",
    "        path_to_item = os.path.join(directory, item)\n",
    "        if os.path.isfile(path_to_item) == True:\n",
    "            file_list.append(path_to_item)\n",
    "        else:    \n",
    "            file_list.extend(get_all_paths_in(path_to_item))\n",
    "    return sorted(file_list)\n",
    "\n",
    "get_all_paths_in('broken_file')"
   ]
  },
  {
   "cell_type": "code",
   "execution_count": 37,
   "id": "dd2ec5a7",
   "metadata": {},
   "outputs": [
    {
     "data": {
      "text/plain": [
       "['broken_file/special/special.json']"
      ]
     },
     "execution_count": 37,
     "metadata": {},
     "output_type": "execute_result"
    }
   ],
   "source": [
    "#Q14: What are the paths of the files in the special directory of the broken_file directory?\n",
    "special_paths = os.path.join('broken_file', 'special')\n",
    "get_all_paths_in(special_paths)"
   ]
  },
  {
   "cell_type": "code",
   "execution_count": 38,
   "id": "c11b3d0d",
   "metadata": {},
   "outputs": [
    {
     "data": {
      "text/plain": [
       "['broken_file/non_english/rest/japanese/japanese.json',\n",
       " 'broken_file/non_english/rest/rest.json']"
      ]
     },
     "execution_count": 38,
     "metadata": {},
     "output_type": "execute_result"
    }
   ],
   "source": [
    "#Q15: What are the paths of the files in the rest directory of the non_english directory of the broken_file directory?\n",
    "non_eng_paths = os.path.join('broken_file', 'non_english')\n",
    "rest_paths = os.path.join(non_eng_paths, 'rest')\n",
    "get_all_paths_in(rest_paths)\n"
   ]
  },
  {
   "cell_type": "code",
   "execution_count": 39,
   "id": "38d3d4f3",
   "metadata": {},
   "outputs": [
    {
     "data": {
      "text/plain": [
       "['broken_file/english_uppercase/L_to_Q/O.json',\n",
       " 'broken_file/english_uppercase/L_to_Q/rest/L_to_N/M.json',\n",
       " 'broken_file/english_uppercase/L_to_Q/rest/L_to_N/rest/rest.json',\n",
       " 'broken_file/english_uppercase/L_to_Q/rest/P_to_Q.json']"
      ]
     },
     "execution_count": 39,
     "metadata": {},
     "output_type": "execute_result"
    }
   ],
   "source": [
    "#Q16: What are the paths of the files in the L_to_Q directory of the english_uppercase directory of the broken_file directory?\n",
    "eng_uppercase_paths = os.path.join('broken_file', 'english_uppercase')\n",
    "L_Q_paths = os.path.join(eng_uppercase_paths, 'L_to_Q')\n",
    "get_all_paths_in(L_Q_paths)\n"
   ]
  },
  {
   "cell_type": "code",
   "execution_count": 40,
   "id": "65a34978",
   "metadata": {},
   "outputs": [
    {
     "data": {
      "text/plain": [
       "['broken_file/english_lowercase/a_to_m/a_to_m.json',\n",
       " 'broken_file/english_lowercase/rest.json',\n",
       " 'broken_file/english_uppercase/A_to_E/A/A.json',\n",
       " 'broken_file/english_uppercase/A_to_E/E.json',\n",
       " 'broken_file/english_uppercase/A_to_E/rest/rest.json',\n",
       " 'broken_file/english_uppercase/F_to_K/F_to_H.json',\n",
       " 'broken_file/english_uppercase/F_to_K/I_to_K/I/I.json',\n",
       " 'broken_file/english_uppercase/F_to_K/I_to_K/rest.json',\n",
       " 'broken_file/english_uppercase/L_to_Q/O.json',\n",
       " 'broken_file/english_uppercase/L_to_Q/rest/L_to_N/M.json',\n",
       " 'broken_file/english_uppercase/L_to_Q/rest/L_to_N/rest/rest.json',\n",
       " 'broken_file/english_uppercase/L_to_Q/rest/P_to_Q.json',\n",
       " 'broken_file/english_uppercase/R_to_W.json',\n",
       " 'broken_file/english_uppercase/rest.json',\n",
       " 'broken_file/non_english/korean.json',\n",
       " 'broken_file/non_english/rest/japanese/japanese.json',\n",
       " 'broken_file/non_english/rest/rest.json',\n",
       " 'broken_file/non_english/russian/russian.json',\n",
       " 'broken_file/number.json',\n",
       " 'broken_file/special/special.json']"
      ]
     },
     "execution_count": 40,
     "metadata": {},
     "output_type": "execute_result"
    }
   ],
   "source": [
    "#Q17: What are the paths of the files in the broken_file directory?\n",
    "all_broken_paths = get_all_paths_in('broken_file')\n",
    "all_broken_paths"
   ]
  },
  {
   "cell_type": "code",
   "execution_count": 41,
   "id": "ab08de05",
   "metadata": {},
   "outputs": [
    {
     "data": {
      "text/plain": [
       "18519"
      ]
     },
     "execution_count": 41,
     "metadata": {},
     "output_type": "execute_result"
    }
   ],
   "source": [
    "#Q18: How many channel mappings are in the files in the broken_file directory?\n",
    "broken_mapping = {}\n",
    "for path in all_broken_paths:\n",
    "    current_path = get_mapping(path)\n",
    "    for channel in current_path:\n",
    "        broken_mapping[channel] = current_path[channel]\n",
    "len(broken_mapping)"
   ]
  },
  {
   "cell_type": "code",
   "execution_count": 42,
   "id": "6e997cee",
   "metadata": {},
   "outputs": [
    {
     "data": {
      "text/plain": [
       "{'UCQkxVP87dkLxDPkeECeySLA': 'bad_ben01',\n",
       " 'UCZFTugUXB0VPuDtJPFvdTRg': 'burnt toast',\n",
       " 'UCePY7BTTSGXGTk5v-uh2-xw': 'bl ank',\n",
       " 'UCtoCOjYg9J0JkZ8ay6EEKhQ': 'bakayaro',\n",
       " 'UCy8ndHYGpnFj7wrH7gEkwug': 'bigfoot3555',\n",
       " 'UCfjCfdyRhjpAvgarHcBZcMQ': 'brenda gallagher',\n",
       " 'UCpiLL24nM3vnI4YK5FX6B5A': 'blaZe_bray6969',\n",
       " 'UCRVX-R7voQft2M56rBIfe9Q': 'billie beck',\n",
       " 'UCT35bVOHt0XvfzfRU13ZYsw': 'brianna lore-flores',\n",
       " 'UCW8K9boMhdgnTYqR4X7bzUA': 'brayden McKay',\n",
       " 'UC1sMoA6E7i6LUgxcPZFvSGQ': 'brisette maribelle',\n",
       " 'UCVoPzbKbftj4CM19bRy68yg': 'britney padarath',\n",
       " 'UCy0wn8d-fS2qZvcr3CELWmA': 'black sheep hebrew',\n",
       " 'UCIz6sbdbvy-y1kvmR5poA3g': 'borisxbg',\n",
       " 'UCAh0mlMH-oCMJKOHYsg4HJg': 'braija',\n",
       " 'UCSC_VIKb0XrmmaCcxmtiMqQ': 'britt',\n",
       " 'UCGPmTb78fzEHhHr_fVGpSIQ': 'bryan del mundo',\n",
       " 'UC0XirRZ-dJn9VuHFx9_G8uw': 'biskuit',\n",
       " 'UCnqrdbsd7S8d4eqeLE2Ddog': 'blue;',\n",
       " 'UCZP8_XuSMIMXZUaN8cXmPtA': 'bkupniewski',\n",
       " 'UCXVqzloH9P-5oO99ZDBGOQw': 'blue_is_not_sad',\n",
       " 'UCp7sSCpFCe6Su6to8d97FVw': 'bangtans.army♡♡',\n",
       " 'UCB-h-m4DptFzHl-WMQw9phQ': 'billy staples',\n",
       " 'UCbFlHwHfLspoQhvwq2jLdqQ': 'brie',\n",
       " 'UCUZovXwuo4wZae-HjBihR5A': 'briargoatkilla',\n",
       " 'UCpddvMR2wlZwrOrlbPJGG2A': 'bean bean',\n",
       " 'UC79lqGGngaYAX9sllhfl8ZA': 'bookswithadollarsign',\n",
       " 'UCYEJn-G8lpEzDvEDmb-b1mA': 'brr',\n",
       " 'UCbk_1Afvks5RBxSpGJt1lPw': 'bad token',\n",
       " 'UCO6kd7Dmau-lE4HQjeZBcWQ': 'bones',\n",
       " 'UC-zs7UoRTswlW5lvz3av_Tg': 'bzrkmaniac',\n",
       " 'UCk1JNANvIrYuLA2LQP2ifow': 'brooke love',\n",
       " 'UCRInJh4yAPU2UW5DybFZFfw': 'bludrag0n',\n",
       " 'UCnd5IJq4sTNLz4pobnbglmA': 'browndada',\n",
       " 'UCJo-OJIfgIV5L3YAZ_IA3TQ': 'blahhlucy',\n",
       " 'UCd-NA0-TOh1kmb5CwiTmxvQ': 'brenda hulker',\n",
       " 'UCOQA7fAw7s-Sa7dF9ck9bYQ': 'bobby norwood',\n",
       " 'UCv0iCrIxUlGArAiuQL9z9fg': 'burningpixl',\n",
       " 'UCTS-H_2Zi563NwKNDWD3idA': 'basilrose',\n",
       " 'UC6z6_lvGMAWlUjd7vfzj9Zw': 'bruna machado',\n",
       " 'UCLTQ1K4FPx80R7MKJSovXCw': 'bare dogs',\n",
       " 'UCHS7NIyeZlLNjxFBGi-gPvw': 'blue_mondays',\n",
       " 'UCTG2_QEfOVGEJqY6NbWrYyw': 'baaadddeee',\n",
       " 'UCnmpJbZ5nIu9SApw08C28dg': 'bstone 1193',\n",
       " 'UC6ptkU02oBGBJzpJNKOz_2g': 'bhaddiemadi',\n",
       " 'UCwtr3Quc79-8-ifhpHSHETw': 'bader alharf',\n",
       " 'UCLCX66YHe_GdghaCygSUj9Q': 'b Kewl',\n",
       " 'UCFsO2mbIit-StKU4ER1730A': 'bekahhh',\n",
       " 'UCsxm13_zWoW8hTOPFQ7aXMA': 'brody gray',\n",
       " 'UCNBk82_ria8e3qPXrBk8SEQ': 'braydenbassfishing',\n",
       " 'UC3sC300AxU03gRR9RD7U7rQ': 'brainflash1',\n",
       " 'UCRtyO2C74P3idGrROsA1TNg': 'branzombie',\n",
       " 'UCo_XpldNgOSs5U_Q4Nikbdg': 'b gatty',\n",
       " 'UCez7WrtfAcgOdUWDEAqwrng': 'badger',\n",
       " 'UCSKgZgqub612dlBgXTq2-NA': 'btcharlie',\n",
       " 'UCUXLlBCjiL6jM7R662GKGKQ': 'baaren 65',\n",
       " 'UCUvKCjkupKZgevXzpCQKfcw': 'bananahira',\n",
       " 'UCRTcw3EuJGKNYE-HUDXnjqg': 'beep boop...',\n",
       " 'UCIE9PE2u9z3VnK-6fy3_-ZQ': 'bladeisnoob',\n",
       " 'UCE8QUIGOOyzuePAzPINEI3g': 'bh_dolphin',\n",
       " 'UC1UcytZO24jlvCmZYjShsIg': 'billy kuo',\n",
       " 'UCyra2Kyf7htrkfVSUgNbdFg': 'boogieC',\n",
       " 'UCRbf04D_MP7yKFjKX_s_iLg': 'bronte1987',\n",
       " 'UCOZpBC0bTF_j7HNUbSj4OBA': 'bLanK_Ninjastarj',\n",
       " 'UCs1UeXkuwrRfrcKTaMM8q4A': 'bro row to 10 subs please do it!',\n",
       " 'UCvyNWn647bs9ng3DsMabT5w': 'billdale1',\n",
       " 'UCE-jlP1ZjH5KEXMRNgOzKXg': 'bud',\n",
       " 'UCbyGawElOseo6UT8F2muTNw': 'brakmaster',\n",
       " 'UCKZWVutkBx-HiGF9lyBfJ3Q': 'bryan aquino',\n",
       " 'UCebOQDpgdjoe5hveBN6vt5w': 'bacon',\n",
       " 'UC1RYV1zNFxQe8o5eNYtplkw': 'b swogger',\n",
       " 'UCQUtKzc8H4e6LJpumw4O-4Q': 'blackvial',\n",
       " 'UCkO0-tRT1psFj2GMkB5lQBg': 'brendalou58',\n",
       " 'UCXChkuDA7YGQk-IKK9wQahA': 'bmello2583',\n",
       " 'UCv3fzsAMN_lkNg17RHjur1w': 'boucephales',\n",
       " 'UCYKcQq7fqPwOer2jut-ggNg': 'bulletproof tiger',\n",
       " 'UCGYI0UXp4FOqP52MrhK80Qg': 'biggmoneymobb',\n",
       " 'UCZTfOteHPNDLOfC-Xwr2jqA': 'bravado7',\n",
       " 'UCjfR0Nc488LJtCQt0JR1qAQ': 'blake_nikeairmaxtn1👌💢💯🍑🍑',\n",
       " 'UCmqDegwh36dD6DM5mzW-Dow': 'benjamin',\n",
       " 'UChHAeWjpMaGeVhoawbtk0SA': 'bro tube _',\n",
       " 'UCHttMD3USD2PWIoE_D4iUrg': 'bruh moment',\n",
       " 'UCDNHgA5ucuTiDR0_Tg10kkA': 'bob the fish',\n",
       " 'UCeVPQh0tc-UDJbxWGgXWrKA': 'bow twins',\n",
       " 'UCLxMNxb6_bbXsLU27d5PQnA': 'bradanz',\n",
       " 'UCPXjUH06zQ6TaT8wNg12iRA': 'bernard steele-dadzie',\n",
       " 'UC5TX2XgrMtGaM2a43Kt6Vmg': 'bun bun',\n",
       " 'UCgB3roazaBi-lNhhyk4rrrw': 'bua becky',\n",
       " 'UCbtHrkVkXAPcoCCfz1n5caA': 'bob bob',\n",
       " 'UCJMjPi2yWQVWz8dNdjnG6lA': 'burito hoover',\n",
       " 'UCWI3ibYf0e1DjV3SeTlzBfw': 'bernardo pereira',\n",
       " 'UCdUmJkl9rl4McQIEHd4fgAQ': 'belovedrm',\n",
       " 'UCxhNUCBKY5pbIv5eCOklFOw': 'backend kiddo',\n",
       " 'UCc7tHJjrou3MIKOKf5pDgzA': 'bradyn Anderson',\n",
       " 'UC_R6RD2wxHkzjOv3ONJ3v7g': 'bacolando',\n",
       " 'UCW_eYVxgFgUfkMm_bVcXwjw': 'barbiehouse',\n",
       " 'UChzKfg2IwbpLBJ6TIvqb2nw': 'beni Sapp',\n",
       " 'UCyg0HWR1cf9cmV8qk8Hskfg': 'b smoove',\n",
       " 'UCbGKSJHxtVotiWSnMRHCbuQ': 'bombb',\n",
       " 'UClGCG-24g6DZppIj1kv0ukA': 'blackwolfbg',\n",
       " 'UC-G-GSTx3e2LuymMUd_lU_w': 'brian',\n",
       " 'UCg3uZkRtOvJhkcHeDLPXO_Q': 'bill nye',\n",
       " 'UC-dJEa9ybZNS-ZaMSj8hEdw': 'bunny bee',\n",
       " 'UCugip4QA0evAOBckPHSKVsA': \"boy' In ♪\",\n",
       " 'UCmpRbJexizuup05H4_swYbA': 'brandon leblanc',\n",
       " 'UCFeS0K8YxhOUPRlg84S1rYg': 'beet rice',\n",
       " 'UCT3tHOM6-HUKwMXpzR5eC9Q': 'bubblezz 4444',\n",
       " 'UCfextFYZh3rRDciJ658UmvA': 'ben luck',\n",
       " 'UCRn2bv6uMCyVWMgOq6r3XKg': 'balsher singh',\n",
       " 'UC5zrJ8YETA0jfNcH-RU8qRw': 'binaryalgorithm',\n",
       " 'UCPaNH-w9Gi4cI33U8P-cXpQ': 'bunnyroo!',\n",
       " 'UCZnbN-sLuvG40DKr_pmlfng': 'b',\n",
       " 'UCTwhKfWPv-B8LQnoi1QF8_w': 'basti and sans',\n",
       " 'UCNNb7hOvBMdDAg4Vk-VdL7g': 'bert dicker ',\n",
       " 'UCuwpMbd5OkzCvIRBVB3N59A': 'bunartist',\n",
       " 'UC_TZTt5jHQoFU14-VMQzZaA': 'bibasik7',\n",
       " 'UC4hs3HcEamtVtzgGijHLHPQ': 'bruh i know u see the link what r u waiting 4',\n",
       " 'UCU7rrya9zEGFmYkLPv9bLmg': 'bbbritish hh',\n",
       " 'UCn0fLJOFYXXSpwW6mN-CilQ': 'bill hollinger',\n",
       " 'UCz9DPxM3OnuBZjlZGIq1CwA': 'bR3tT',\n",
       " 'UCxfN26fiEi9nDNudForsU7w': 'bellablu66',\n",
       " 'UCh-FnP7XCu1_EKKxztWjuSg': 'blackz!!!!',\n",
       " 'UCmykFXLwsHZFail2amEDquA': 'bassket case',\n",
       " 'UCZyI1mU3NZWANDb5YuqZjaA': 'boiboiboi',\n",
       " 'UC7gILuHev-bc9HsjmkAvjvw': 'blugobln85',\n",
       " 'UC_3mToj2hqkI11JWQbVhvag': 'bellplaysroblox',\n",
       " 'UCOsEUnnmaTSXUd2Wbnbc1Wg': 'brandonb72',\n",
       " 'UCBlPtpSHm3uESS3-ZdSg3SQ': 'budi santoso',\n",
       " 'UCFRE4nD_kd2Cge6zPaNqUHw': 'blueskiofficial5',\n",
       " 'UCb9Q4YVEWUewcWkF8xmBW6Q': 'bella.🧑\\u200d🦲',\n",
       " 'UCjPh1Fy-YrPnWHzj204JsAQ': 'bilguun togs',\n",
       " 'UCox1Y1p-9n2Iy0fciFejqsg': 'bimblaq',\n",
       " 'UCjU1gYMDIMoNjSGSoFercdQ': 'bill cipher',\n",
       " 'UCOMAiUpFQGENcO57q-9POPQ': 'boba queen says hi',\n",
       " 'UChxPJUwGSNocdHXDQyQVrzQ': 'bigdaddy cain',\n",
       " 'UC8pnw8_2GHiLq14OWgG8Xmw': 'bernice banta',\n",
       " 'UCEfaxKhZPplqwhZHlIWl01g': 'big reds',\n",
       " 'UCO4TrfYbxUiiYPrTCEN8pUA': 'blitzs',\n",
       " 'UCtBXDiEEzef4uUXGdX37VZw': 'bassmith448 bassist',\n",
       " 'UCFYWkaDL3NEEOQ6QlnW01CA': 'beth c',\n",
       " 'UCNgltas5seoa1JJaxWvaQSQ': 'brownie003',\n",
       " 'UCq0FQ_NLTjwjuOmWuXny5cQ': 'barry dingle',\n",
       " 'UCavUwxQGjt8GSWQ0BCVd7uw': 'baby',\n",
       " 'UCKZ18GVp2_pRAiMZtxa0-7w': 'bofo85',\n",
       " 'UCSChzp5W7xRPghE61UDrWEw': 'bukasa jonathan',\n",
       " 'UCnrb7nnYHJNN7-HRsHAArLQ': 'bambooknight jk',\n",
       " 'UCPu4tds_brORBgCWX3D_WTg': 'bruh. ',\n",
       " 'UC48yI76kLL0xD0_bMTmgaGQ': 'b1ngu5',\n",
       " 'UCjrLDRWwpHrBSB2GPz5q-Lg': 'bxt_ahmed',\n",
       " 'UCQUpgyq8zGsTcbRBSfcxlhQ': 'bacon king',\n",
       " 'UCOQKOy8JgGSMQFKLY0NdgFA': 'marika oakley',\n",
       " 'UCGYxLYrSK-FhloQksvG0YbQ': 'mylifeasleenoo',\n",
       " 'UCc6d_lRDZtRqUQYBykSnV6w': 'maddie r',\n",
       " 'UCZBXrsDo4glYiyq1TcceOdg': 'mayi360',\n",
       " 'UCP1_4bdQf0oXOon0I6thSMw': 'muwumuza annet',\n",
       " 'UCs51D6dZOw3KvdTEO5D214A': 'mexican crusader',\n",
       " 'UCXecL2It9zclNORM7iV8Y-Q': 'mai',\n",
       " 'UC-j8mMCaBrl4aAbRJdrQZrw': 'madhatten00',\n",
       " 'UCVKQqnOSQUE1zOaoBgvOgNA': 'moisha',\n",
       " 'UCBhpQXa8KC4mSuLWoBX_RJg': 'mark aratom',\n",
       " 'UCFzFXZtdkc6XT87GuCjsB1g': 'm adi',\n",
       " 'UCexOiry9hIEt8L-JlZIHbLw': 'mozartmozi',\n",
       " 'UC6OFeLsaH1E7H9jW5EFrRsQ': 'mike bar',\n",
       " 'UCBfXdL6GSGiSUm-hDKxYLoQ': 'my.brooklyn.flora.forest Brooklyn',\n",
       " 'UC4A4-QxG9hQbD99Ux3xlc7Q': 'mamilou loverita',\n",
       " 'UCCu9XpK5JrO8XA_8IOJ9Nfw': 'mccorama',\n",
       " 'UCCJQ6lxrE5GahuFUaTfiifw': 'mariz nuguid',\n",
       " 'UCMksifDabFg2xNiuUoxZRyg': 'm8s1',\n",
       " 'UCXEsOo440iyHdsT6-WQfjKQ': 'maddison-yandare stuff',\n",
       " 'UCTRh5z5zZU-Lsl4d84KRM-w': 'mit sulu',\n",
       " 'UCtbPbkELpUO8IqVnKHjetEg': 'matt wilson',\n",
       " 'UCogzLNcPb1HB64vUZ3i2srw': 'mia bobia',\n",
       " 'UCZeeuEeS_e210Ejy7LJ84xw': 'me',\n",
       " 'UC1224cj_b7FbXOMLqhl12cA': 'mindlessfashion 21',\n",
       " 'UCpD8ZwQVKVBdkmL0nlz5FrQ': 'michelle camtemic',\n",
       " 'UC0fmKNiDDtFJvKtQg8x6p7g': 'meg',\n",
       " 'UCCYbCdK4X05eEbOUpM-kwkg': 'mathewpist4',\n",
       " 'UCG-LjEWdafUC2Ob67gKVKnA': 'majestic Mesa 🦄',\n",
       " 'UC-GH-JeXRy3cAlSRrDy-nwg': 'marcy419',\n",
       " 'UCqOiavemODGVHQyf7L2PRPA': 'musicandmagic909',\n",
       " 'UCbXlsdwYEgaZkX_5vlAwWCA': 'mohammed troy',\n",
       " 'UCmy9lF15qhmPdkh2gbM1-Zw': 'momof3 forever',\n",
       " 'UCIfRAaICNlOLmyC1_D8_tCA': 'matthew howie',\n",
       " 'UCQ92_NoGnsbqtgc3iK0i_dQ': 'monserrat gomez mathey',\n",
       " 'UCpl_CflnAe_tBeETUyEecCw': 'mounir tohme',\n",
       " 'UCkeD6ocnBGq0oPIbQnrsplw': 'mathew sargent',\n",
       " 'UC_pNwLr9ZIQ6jpDVxbcsMrQ': 'mdb831',\n",
       " 'UCh25AcGn6hweWkq6cIBFCww': 'mrs Ramirez',\n",
       " 'UCmuqcE1Dz0hGlcX3wOKK-Iw': 'mSiDraKo',\n",
       " 'UCk81JTq1cHmXN0K-7t7sWGA': 'matthew fanous',\n",
       " 'UCV1x0BJTkVkfNBJnP8QFp8Q': 'mani harran',\n",
       " 'UCpPPpt-pKx2OZKDouU-fANQ': 'madisen snively',\n",
       " 'UC_MA59fhje0-2EwOZfIo2LA': 'mikrobatery 13',\n",
       " 'UCyTneEura2yyYaJgH_Pw_lw': 'milkmandave66',\n",
       " 'UCpuylMrSc0Sio56tPLUYp_w': 'maruzencentral',\n",
       " 'UCIuKbzGT6AEseACAexhYK-w': 'mark tito',\n",
       " 'UCmNRzssPrbTbf2kISjAxpiw': 'mignight snack',\n",
       " 'UCZ7KN7EAgi_IXuYMCdY6ZXw': 'minnowpanda',\n",
       " 'UCyOACnV51mWeqTTZp2zQ0pg': 'mrcabdriver',\n",
       " 'UC1FVKDWer3r0FFuy8F2cONg': 'manusia',\n",
       " 'UCGHiRjemzJLJ2XAoTK68p_A': 'mr_random',\n",
       " 'UCxmrV3Ifv4g9YSTUwVjSx1g': 'mrogface',\n",
       " 'UCjqhCiMZi6UNLAbTJQ9dDQw': 'maria gabriela Farias',\n",
       " 'UCWqUet0UDaHlm70Wmt9umpA': 'matina kyr',\n",
       " 'UCVecEPPTtu4pQcwvAemkZDw': 'mrkonsu',\n",
       " 'UCBkxpjTtODa4sKTZfUHdV9w': 'monster2slayer',\n",
       " 'UCuuYA3pGddXkWYyFM03B-cg': 'murdamechanik',\n",
       " 'UCqqRMGGsDpeQUkWe2fsFMJQ': 'mikey Dobson',\n",
       " 'UCk28eorbJkXtVEKHFdzrfiA': 'mystix',\n",
       " 'UCWBQVo0L2KvT7B-2BDc2tJw': 'masterwindu1234',\n",
       " 'UCObfsLnIhQCc-4zgZ1YOs-g': 'medhat mahmoud',\n",
       " 'UCTjq2UBvBqSjAyg_lGQR3iQ': 'momma4na',\n",
       " 'UCjxexjCJwa3cGN4cgTlEjdw': 'mei',\n",
       " 'UCshiVxZ7qse82Yuuc6Yu0Sw': 'mia1shooter',\n",
       " 'UC2Wy_yxz2mMoFCcrghmcpmA': 'mr fox',\n",
       " 'UCHF1E50dJLWJq4Didhpr-6Q': 'matti tenney',\n",
       " 'UCkjEE1wWgMP5TxagM1SUPpQ': 'mannan gamerz',\n",
       " 'UCtPjM3etCwuuqT7ZhTeaKYw': 'maddox Zimmerman',\n",
       " 'UCBG0tkeYnY6s1WTupyFqc9Q': 'moist critical with drip',\n",
       " 'UC5fVMQkW1gzsFQb_SfbgTCQ': 'megstar',\n",
       " 'UCi9GvhQ7zhPqs5Hyjm72ggw': 'melanin butterfly',\n",
       " 'UC7R5L_xN3LbBeX1onWNT1ow': 'max cusumano',\n",
       " 'UC1LMllJIa67pt_RsGX1RyhA': 'morpheues2127',\n",
       " 'UComDhWjsxwCW8vJ5qKgtRyw': 'minecraft boy',\n",
       " 'UC9VD3g7l4qOD9QtTXP4CppQ': 'majica',\n",
       " 'UCUQbZeeg9PsPd0xrKYzU4yw': 'mochihearts',\n",
       " 'UCpH52sag70VBBWtX0So5NCA': 'mo makes vids',\n",
       " 'UCI463hbVhfUH0SsDm4HnYUQ': 'malleswari madala',\n",
       " 'UCGn4XxaB1DmLqLyKjWSefSA': 'mikah rocke',\n",
       " 'UCWAy3teFK6uGo97bRw-gc_w': 'mike mills',\n",
       " 'UC8prZaoMR0rTx-1iuJ3nVzQ': 'majoranna',\n",
       " 'UC_JhCK1zN3Bjo0IthsQLPnA': 'minot60',\n",
       " 'UCb_Uis_NiXao4sWwIIqW_WQ': 'manboy TPOT',\n",
       " 'UCtM-UfIxI0CYOvyGf1rDMrw': 'maria chantal',\n",
       " 'UC1Z6huvoS83UNhzFPLdy-hA': 'memelord21 3',\n",
       " 'UChsPhdmNP9fO2yCG1saBU4g': 'mike wilson',\n",
       " 'UCPZC06iydQ_0tQ3gttFqAOw': 'mamta pandey',\n",
       " 'UCqv-Tic0J92fG1rnisDQKQw': 'mark babb',\n",
       " 'UC1t8ogyLENX-gAYZytCbkhQ': 'mel 🐀',\n",
       " 'UCFp2rOX4ycghpy1Dij4fSDg': 'michal akram',\n",
       " 'UCMS3NOLAmiUj28Vt3iNI60w': 'mae',\n",
       " 'UC-SfdRw6Y_8llAMU0kFeJgA': 'mike',\n",
       " 'UCBqtCS1V57XoSGGXiIikTVQ': 'mike klaene',\n",
       " 'UC1bwtyhEDFrmZoBF424Nqaw': 'monstermash807',\n",
       " 'UCpV6FQ5Ov8eyG6-YdQyKb_g': 'msjingles1',\n",
       " 'UCl5_g1Z-AwE1P8D5x09brsA': 'mandycardeni',\n",
       " 'UCbqhXeRlGl8JJaY64lTHjFw': 'minecraft tips',\n",
       " 'UCrGOZcddWXR1dVkKmr3oUKA': 'mindless',\n",
       " 'UCPwSvnm9MljFOs9EiimwJXg': 'meme the memestar 69',\n",
       " 'UCcGHg56M5j1hUPTFPM5Xrtw': 'manoffewords1',\n",
       " 'UCYYUj7D_g_hG2fef_p72VUQ': 'monlifes',\n",
       " 'UCIzVMV7uX-dRLC9tllc0Fww': 'mahdi 478',\n",
       " 'UCVl8PtsiWCasaPXbekPp6VQ': 'musak ing',\n",
       " 'UCnmYEGROOy8Oses7vc0mW1w': 'memeslong891',\n",
       " 'UCj6FyEKHxUPkttOLY9a2vDg': 'millenniumf1138',\n",
       " 'UCoH8hB6rfsleZMrbn8eqEGA': 'micla 62',\n",
       " 'UCtrNjYoXkUG3kHuU8q7yVAw': 'melany lizbeth',\n",
       " 'UCiFXxEhO0MzMGd7RWgEIdPw': 'marcus gonzalez',\n",
       " 'UCXzqmVtwCTw53tIOGKU7EFA': 'martin wilby',\n",
       " 'UCAddx9ACVZeKpE9HptbYKFA': 'marcmmclellan',\n",
       " 'UCrqnqs-eL-nT5Dm16SBiwUA': 'ming yan',\n",
       " 'UCAqUT2ZRwaLrwj9623ZIaLQ': 'mellisakuntz',\n",
       " 'UCw7Tf05hehRkX3XloSXA8hQ': 'mentalmelt',\n",
       " 'UCW218DSaZs52xlwx1NRiYRQ': 'melvxn',\n",
       " 'UCkVpfp8LF0LZaxgf-fb1YEg': 'mario and the bois',\n",
       " 'UCUOpqz8_ucE4Wq0NtdYaSDg': 'mihajlo kiss',\n",
       " 'UC0mv53V7MG7P76XLKS-DxnQ': 'mykheL tresE',\n",
       " 'UCa06lIqRXMCyxsjJnGD_4Ig': 'mohd faisal awang',\n",
       " 'UCFm4jfhjTxYCHu4hTj-V0Tg': 'msh3loon',\n",
       " 'UCF_xhg57asiJMuTIvGyiTYw': 'mdptg',\n",
       " 'UC8zN_zCXHOkYpTEKslNRpoA': 'marchi fleming',\n",
       " 'UCKJ0z-gMcAKBudQySliTyaQ': 'makayla',\n",
       " 'UC4i3VZu9SNSJe8DdWVco4GA': 'mootjedoet',\n",
       " 'UCwLkijt8HuApSh3-VX671NQ': 'marwood1969',\n",
       " 'UCel-FcaMlh1PABB_5dDAbvw': 'miggy silva',\n",
       " 'UCrd694yqX3BanpYL0gQr5Yg': 'meloD30',\n",
       " 'UCE4khFz3Sa5onK3EVaBRkJQ': 'matt hazelby',\n",
       " 'UC7ixjCJnZLM_-akjToTGRow': 'marty47',\n",
       " 'UCKO_5JRjrGpulTJVVb2B3nA': 'mrshoutz',\n",
       " 'UCu_YfU3CTpfc1HhpEzn9vnA': 'ms. Aayoo',\n",
       " 'UChM0Y-aUG5s-LFo5JObcZiA': 'madihah masdi',\n",
       " 'UCAXtA-TydHA4DX8B4Mem9Ng': 'moonstruckfaye',\n",
       " 'UC45PWd6dk_x9nHmUTEWat2w': 'mr gamer',\n",
       " 'UCcy1TCQ1_G-_v933bptXKrw': 'mattnjaycee',\n",
       " 'UCmkbM19_ZsMkaDb1n3Lk7lA': 'milk',\n",
       " 'UCyXw9e1eC0FaqFDoAH8sqeA': 'markas mitkus',\n",
       " 'UCX0b8n7V6Bexrf8_CI1oO4w': 'mouth suction gangster',\n",
       " 'UCB1SyWsC-kbkG8ceggZCNVQ': 'mike severino',\n",
       " 'UCKYSruza8COYdOoqiXiUyhg': 'markyishere1',\n",
       " 'UCvrcjW5crvuHe4J0WYKAlCQ': 'madi-eliza',\n",
       " 'UCpzalh66IdoSQHFjWz2t32Q': 'madanime',\n",
       " 'UCdI7Sfk3nX5XRVW7OrrDwGg': 'mikah rocke',\n",
       " 'UCZVG1KHjlnDaSDM1zZ_wI-Q': 'marcus liew',\n",
       " 'UCWCkIGYgAG-L4b_Gj67cDpQ': 'moscardo',\n",
       " 'UCrao2He-q9gf2gSEKVqmYyw': 'marlon wimberly',\n",
       " 'UCt6AlT-2wl50910JES1Z8gQ': 'mikecw24',\n",
       " 'UCkqisWDe71suzeuxgKVMneg': 'maxwellsinfinitygaming 2020',\n",
       " 'UC9Ts3mGxJbzNGA7YWbwIFKQ': 'maya chojnowski',\n",
       " 'UCZRKU8DtGHBMyT1_5wiRclQ': 'mikeruck2888',\n",
       " 'UCAWN1o2vT2vRRV97bcZ3Xpw': 'maricela alvarado',\n",
       " 'UCPIxd8YqYp1T5M1Vktyd_zA': 'marianne navarro',\n",
       " 'UCL3keZyhxF1yCHvqf7KtqDQ': 'mzurilove',\n",
       " 'UC_0xhd-jPhGDN2B_fuXCrhw': 'marinaleemeow',\n",
       " 'UCVzC0G-6c7v-jyKeXnGsfCQ': 'mark northern sr',\n",
       " 'UCCJfoA8-Gfc1Rv9ArxFldbw': 'moh vlogs',\n",
       " 'UC9Zgj6OcqQxbUQdllqWncsw': 'mark thomas keller',\n",
       " 'UCR418jXM-ZgGl56xurwpMNQ': 'mr x',\n",
       " 'UC_bEaSQttlVHa0L__q_aAvw': 'mobetter25',\n",
       " 'UC1ufCVKSZjMvCnPINiBAHuQ': 'mckenna random',\n",
       " 'UCbIRy6Tdh8A9V4_S6FXdc4Q': 'melanie magana',\n",
       " 'UCIW4jtEnMXsHCUoOYeMe_UQ': 'me when my boyfriend wears grey sweatpants',\n",
       " 'UCr_jGh4jNRPMpWWAv6PspGQ': 'malachi rhodes',\n",
       " 'UCc_BfS_k7HE118V_FRNlOuw': 'maorihuskies gaming',\n",
       " 'UCd9PiEEaBATw97Xt-1IKf7g': 'mad sav',\n",
       " 'UCKEEORA8fQsU6URHBWb7Qyg': 'macfacers',\n",
       " 'UCGNm4W1fyHh98nCC2Q9vlTg': 'margaret neanover',\n",
       " 'UCp7cSiGP3F42ucOAGZPwyrg': 'markpkessinger',\n",
       " 'UCFezZVzhgo-h6DUpItTLEPw': 'marshall solis',\n",
       " 'UCsSVAES35C_8XTL3FtbLP6Q': 'mjarboesdf',\n",
       " 'UCfL49R_sFl_xI8vdLWX1AVA': 'marielle smith',\n",
       " 'UCpToWXxmdDtluHDTCqKewxQ': 'mount d3w',\n",
       " 'UCD_Qbn0uR5QXWjmmwNJpF5A': 'monkeychife',\n",
       " 'UC3roWZ5jPe7JUxYR7KzL44w': 'marzipanmenthol',\n",
       " 'UCVzFl3hHGP3HhU8z4WwMXYA': 'majestic1979',\n",
       " 'UCbHREY6aVJiP8MWapEdb1Zw': 'mike james',\n",
       " 'UCGzpBw7NFC6uMXWLW9k_4Cg': 'mrcheesemunch',\n",
       " 'UC21jM-Ls1w_AYxWEnnUYQ6A': 'matt!!',\n",
       " 'UC_3PWdXVY9Zf94ZMD6sPo4w': 'merRr',\n",
       " 'UCKbXIfMugQJY5qemvwm_fbA': 'maya and the homies',\n",
       " 'UCXVrb3-LBWiAuJyNdg-O4og': 'mr string',\n",
       " 'UCKbNJeyR4P9L9FaW18flaUQ': 'mikgus',\n",
       " 'UChHTDIIn56xQir8YkwGrFag': 'momoshoe',\n",
       " 'UCRAk_5uvLMjlWV2dqd2X8vQ': 'melvin2351',\n",
       " 'UCzrEvXPIEWttB08yiJOYk9Q': 'marie Orr',\n",
       " 'UCYhcpSmZoNXlqwj7YBnXcrw': 'miriam mukami',\n",
       " 'UConUfyVKqteYP9VZgmLoNQw': 'ma bo',\n",
       " 'UCd36xMV28tsOYpNG9fDxXcQ': 'mi neg',\n",
       " 'UC0a2aLjP2ZgGPGopsLjvhhQ': 'mister koneko',\n",
       " 'UCxtg8UFIomyI3c2Ey9ISEyw': 'malevol3nt',\n",
       " 'UCNZId5M-8b073468SOD8lKQ': 'moadtouhami',\n",
       " 'UCPMJjsJyXvGW1P8DikAkCOA': 'mreo mohamed',\n",
       " 'UC3QKB-ZRt4X02-0C8qIuIhA': 'madison hickey',\n",
       " 'UCOIOWMKu2mR8WRWEBumon9Q': 'manji',\n",
       " 'UC_QezLcRoR7z6uqI7cXRf8w': 'mushfiqa hartley',\n",
       " 'UCOCSxJM9a5NCctsrdQgfnjg': 'mcm',\n",
       " 'UC3zdpy4AC4ysByn5_tdewgw': 'mason_248',\n",
       " 'UCD8FEd5x1hOnecKd9Ce9i0Q': 'mr. goods',\n",
       " 'UCBlzIaOlzEe1Ni5P8gZStiw': 'mm ricci',\n",
       " 'UCqhp4IFIK7bW69DKZBYvaxw': \"melorg o'molox\",\n",
       " 'UCD1oTjZfDmT0giK5DIe4Djg': 'märkl',\n",
       " 'UC8t5P4m1_LOecgzgAX4QcsQ': 'mROABLOX',\n",
       " 'UC3-Z3qowGSRMWE2u2GwXN8w': 'marcus lewis',\n",
       " 'UCx8WQtOwSiNNeQLoeR9t8kw': 'midnightniki',\n",
       " 'UCMQCHGrG-g-ydJSx2xBjb9g': 'masterspy007',\n",
       " 'UCfM_3724My77TzwJsQ0pJYQ': 'mr420',\n",
       " 'UCstaEo4SVIfmPzGsOHSJnBQ': 'mexican Perro',\n",
       " 'UCMpk-IgfJSVJ1-gf064Wbxw': 'mindofmyown333',\n",
       " 'UCKeHKPmA18ApmToNauAHPjw': 'michaelbuddy',\n",
       " 'UCRoKFgU15Kgi7h5yoPw8Fpg': 'mrconcept',\n",
       " 'UClC4H7PdgKjkTJWJMyt-Ujw': 'mystic mungus',\n",
       " 'UCZWH5WZbw2b8uQ19aG2Tdtg': 'mobgma',\n",
       " 'UCtVirdsWOw5oXXhguIZU_HQ': 'marissa juarez',\n",
       " 'UCbLOKThmXz76txR8clXlALA': 'mik 02910',\n",
       " 'UCRxAD1YGIbsILzSt4u2-25w': 'moksha patel',\n",
       " 'UCDlXW7QmXVkh_IUpz6FOQ1g': 'music994ever',\n",
       " 'UC4eEoZwhtJ2wjh7c7PmYitg': 'mallory dagreatest',\n",
       " 'UCtFifYgoEqHj8yTkbOMpPVg': 'meh meh meh',\n",
       " 'UCtbPoUu40i3i7D_IZtx_XQg': 'mictlanian',\n",
       " 'UCGRki6irfkVeG10OgDYUwwA': 'monkey tits',\n",
       " 'UCsCeIMaKcrXrwOGfnAH9tww': 'maga7960',\n",
       " 'UC73RElaVJIbCOYTLxhbv_gg': 'lighterthieff',\n",
       " 'UCp99XqavQF807ZeC1ti5cMw': 'loredana gabriela Panciu',\n",
       " 'UCR9YQV2_SDSB5MFDkN49EBQ': 'luka machabeli',\n",
       " 'UCa5cstcFWmdtVd3VK-QIt-Q': 'lh9591',\n",
       " 'UCPncT9tDT4JFKIBWgCbuPzg': 'lps mavis beauty',\n",
       " 'UCYbHDQpq13wp2xDcj0yfjlQ': 'lil - potato47',\n",
       " 'UCE708FnaboPEsUrjZ1NSS2Q': 'laura Simanjuntak',\n",
       " 'UCQtCxYoXZ877YElEGhyTEFw': 'laken mahara',\n",
       " 'UCUcDCV1R9QhD5NNBhVdgq7A': 'lj.grand3',\n",
       " 'UCBTuNxpd3JsmVscGa6ee8cg': 'luis ruiz',\n",
       " 'UCDK0Md4GClEnPmiN0Fpbnsw': 'lego gonk droid',\n",
       " 'UCbxVQOC0DQuDhUZHiJ0KKcg': 'lory vanburen',\n",
       " 'UCRdjoD2vh8WnqJO9Nrf0jlw': 'lucy scott',\n",
       " 'UCcr1_5Z_jsjlRk5US0s6ahQ': 'letysalas',\n",
       " 'UCH3AK4YPkDaNs7emOA4QySg': 'lover of music',\n",
       " 'UCF8-rEuihJyG7OuawkzYkbg': 'lpvmens',\n",
       " 'UC_STOqT_T5gD5a_A068Z7OA': 'lex vdotto',\n",
       " 'UCoULr1IKyc7x8cXEv0QaMxA': 'lee won',\n",
       " 'UCCbG63lnuAHPr5X4kroDJdQ': 'lonely hotdog',\n",
       " 'UCrPJIYw2zo2tRUYgm_GrLXQ': 'legomotion77',\n",
       " 'UCt_AA3tVHdu-ULWltznVQSg': 'little qb',\n",
       " 'UCXHSeNroPk4Gow2P9sLhQaA': 'leahvv',\n",
       " 'UCrUG89Dzsnf_Mx1UV86F26g': 'lucas thibodaux',\n",
       " 'UCHS7ZocYw3_SEQVWazjRxHw': 'lifeiseasy69',\n",
       " 'UCxWigA5bZ1qO3ABffvfDOtQ': 'luis flores',\n",
       " 'UC0XXIzepdJr7ijLnxPzPcBA': 'leya',\n",
       " 'UCCqg7cAvWIj8hiDDn00wTag': 'l',\n",
       " 'UChcbuj9SkaeCaCAhgQ3yOFw': 'lord_god_aternos',\n",
       " 'UC_AbbPJypEipIoePd7appyQ': 'lolz',\n",
       " 'UCa33FxGa34dZLpMlyvT072w': 'liam',\n",
       " 'UCLCLI5EnvRjlMFrn9W-bUaw': 'laura chamberlain',\n",
       " 'UCbozwWetIfSLzhUp0wmZglQ': 'las travesuras de mili',\n",
       " 'UCG_A1laKGZ_9FvpWsu4JzlQ': 'lar son',\n",
       " 'UCv_ln4TbrqDo5lkNrKrTbiQ': 'lizzymol T',\n",
       " 'UCFCo4xAMPDFRea-l1_TUUpQ': 'little gang',\n",
       " 'UCtRGZDILgFNhmKBrGFeZ1xw': 'leekedleek',\n",
       " 'UCIdYCKR3QrgNdqkRgZc8VNg': 'letyouryesbeyesandnobeno',\n",
       " 'UCQpP5wtQ3A1Nm7S_mZepMRA': 'lexki01',\n",
       " 'UCyHMBqDlsdm-0utQYMKNiig': 'lepidoptery',\n",
       " 'UCC92vWQz4hcjLbbHyqWAhqA': 'l paterson',\n",
       " 'UC7h844yw1oRxvkg_Yvdm-hg': 'leijie w u',\n",
       " 'UCKHE-zFofAOh4liCvRqpNKQ': 'lageri',\n",
       " 'UC8_-o-W84MbdSGHNd48Vg1g': 'lim ext',\n",
       " 'UCw2MZNAC6Jz5UT16U6IBnag': 'lazyjoe99',\n",
       " 'UCj6EesylZ0cHZDHs9M2AUCQ': 'lugh einsfield',\n",
       " 'UC8FLgfnddP0-OXJyz-ckkEQ': 'lin ^^',\n",
       " 'UCqpVx8pRq7RJChcWpoAAtkA': 'lakshalovesgaming',\n",
       " 'UCFedHuV3zeR0IC0BfDZalQg': 'landon estes',\n",
       " 'UCvekzK6JiMr2_PK_TkoxcKg': 'lupini12',\n",
       " 'UC7YOFUPoekpwoAZjXft-HfQ': 'liz',\n",
       " 'UCps11_zhPTGRYTZEYg3vZSg': 'lorayne perez',\n",
       " 'UCvADX8v7eE-DHs-040AtrxQ': 'liarah U_U',\n",
       " 'UCqN8CH-ZztSNrpGEqICRRvA': 'lightningjuniorsuper',\n",
       " 'UCRzyvQ0SO_QbCLBHKUTC0Uw': 'linksey',\n",
       " 'UCjz_RkXsiUqkq_aU7H5qOwA': 'luissuazo31',\n",
       " 'UCd5HddjYQ7Gna58xCHE1-KQ': 'lian valdivieso',\n",
       " 'UC_avOCJ1hLkTsq92hdh1TBg': 'linfml',\n",
       " 'UCFoUTBPC5G_t-AECK3maRBA': 'lovethegames97',\n",
       " 'UCONlM7MCYureMw1T5R8w0Bw': 'lafan2003',\n",
       " 'UCXkm5UJUXbSi-JCNUsPCMtw': 'lucas Scotellaro',\n",
       " 'UCLKBacLTBKGI1KbY4p6ktxQ': 'lydia gutierrez',\n",
       " 'UCp5QsQs3OpJcVCF2WR5xj0w': 'lxi',\n",
       " 'UCEr3Tkl7FMshQw4ObD2eiiQ': 'lauraine',\n",
       " 'UCud_PK4qg1ycBodvaDpUtcg': 'logan 111',\n",
       " 'UCI3BkDL185AFnnopGE39mCg': 'landon gest',\n",
       " 'UCPqb763-48caSERqPM5nhqw': 'laleterest game',\n",
       " 'UCFQK-z1Wr2mJh2THW0EWqZA': 'laptop',\n",
       " 'UCWMe4MyJcx1B6WFNaK4DVBA': 'lovebug',\n",
       " 'UC1N5b5qxnUl_C3VGSHQskig': 'lights00',\n",
       " 'UCJ4zHxyo0PMYz_Supm9tppA': 'lele. nawle',\n",
       " 'UCW9dmDKHX19okLoWC8RGeKQ': 'letate3 Productions',\n",
       " 'UCmWEYctVJo_aONTa2LfgNuA': 'lollol',\n",
       " 'UCrhq41JrlOFMRVVYkbf3yTg': 'lidenvey business solutions',\n",
       " 'UCuPjDXxd74MAZWx3HBlQP9g': 'lisarenee3505',\n",
       " 'UCY9tWKs_AxKc12qllu9E63w': 'littlemissxflydog',\n",
       " 'UCQSgDtkucUXQSRcYnAe1jfA': 'lilwill6985',\n",
       " 'UConQgxW4Fk-ltHZc1PEUrhA': 'logan leach',\n",
       " 'UCwsjqNFhiWdcVqXSNegUM9g': 'lizard legend',\n",
       " 'UC5Q-Fpz8nM7g5-tYVUbKPnQ': 'leap duong',\n",
       " 'UCJlTEMv74qu0iVVToXo9rxA': 'luis llanas',\n",
       " 'UCoeOD5flyi33eV_EAnsa1iA': 'lukqz⁁',\n",
       " 'UCU1FFffpL5IklkDq1nYlM7g': 'lxtteral',\n",
       " 'UCsalZIUMHR4DrWZihdog_tw': 'lxser_lxl',\n",
       " 'UCZAUb6ySzr32D99ZCV8J2Pg': 'louis reniers',\n",
       " 'UCtculGkqs34lXksosXMDsuA': 'leah angel',\n",
       " 'UCkta68VcVM5Ry3wEyTIsgLw': 'lazy potato',\n",
       " 'UC6_s5j0CEhjFfrbxohwhRvw': 'laila loja',\n",
       " 'UCwBLm_Gjd_O4C2o1GQDN7gA': 'luceropuentes',\n",
       " 'UCW3aAQSaAFSEi8JdpvohdPQ': 'lexro',\n",
       " 'UCXUsE6K4LvFESlk01_gcHVQ': 'locklear308',\n",
       " 'UCe7DfeKN6uoobfKQoTWhjJQ': 'lynn craig',\n",
       " 'UC0M0vUFMESz-_gqtp54HhLw': 'lorelei whitcombe',\n",
       " 'UCIJLXip8hh0_7QTopHogYoA': 'lsweed',\n",
       " 'UC_XdY_otT4aHhcZGg71Ahhw': 'lars',\n",
       " 'UCLudEXgl9HU-8K58EcxbGiA': 'looney toons',\n",
       " 'UC-dtNZJcQ_xYtRJLT3_Ua1Q': 'lsonorasl',\n",
       " 'UCAErBuDduka9CoZtn12zlkw': 'lightred itami',\n",
       " 'UCpPz3oVH8mJR0I7fg4OoE0w': 'luna',\n",
       " 'UCqD2clgbWrcILv0HssDPVqg': 'lulupuppie',\n",
       " 'UClmayueM_0Z9x5LfXWXm0JA': 'little Amila',\n",
       " 'UCaFrVGHbxjOfsEc0QaIJc8Q': 'lester james dela victoria',\n",
       " 'UCubNiUNXDyC-xIKRJxKBrWQ': 'letsgosurfing 1',\n",
       " 'UCTI3HMPGF5x1M_5lrrIxHFw': 'lucas parachnowitsch',\n",
       " 'UC0ZJ9VpMAjKOOBgrZMUeGiw': 'lily',\n",
       " 'UC8YSyqpeUbpS5I5V92ucU1A': 'loveableterror',\n",
       " 'UCTOoh66lpZ1UevzF9lbUf2g': 'lali',\n",
       " 'UCZpyBVCREdm0ZFdmv9TosxA': 'lamont hamilton',\n",
       " 'UC3a0956UX59j2aKYwGBFAcA': 'lemons',\n",
       " 'UC_WQ_tVlxc5JIlDosdtwdrw': 'lother cooter',\n",
       " 'UCEZzKjkMsRiZkbcswvgAA9w': 'lslhlalnl',\n",
       " 'UC2juym6fqMrOd90nmdKkXXw': 'loganthegriefer',\n",
       " 'UCsbmnJvCWiZDx4S2k6qlJdg': 'linkswords10',\n",
       " 'UCTaCv2EFjinPQPRfvETbHow': 'lisssers',\n",
       " 'UC20cLx58nXriiSGYuLg7QtQ': 'leave me alone please',\n",
       " 'UCfQef69fwR2z-JaEH_O7-QQ': 'lord electron',\n",
       " 'UCOkiZIbn6FwxWcj8GpgOzbw': 'le chillin arts',\n",
       " 'UCCnkWTRi9iEoJqwsNT2jqdQ': 'lethabo mofolo',\n",
       " 'UCt0Wrk__975-psNZ8Iat30w': 'laveturner jones',\n",
       " 'UCBEIVpNlHvkZY-3bsK3KRWw': 'cocorocho',\n",
       " 'UCWBJPjTQlUviOgR0RGNhDrA': 'cнeeмѕιтa ᴅᴇ ʟᴀ ɢᴀʀᴢᴀ シ',\n",
       " 'UC5JAP20BRJHPtjo57aej_Vw': 'cooper cooper',\n",
       " 'UCLvMeeMSUmlljRcmg1YaymA': 'crosshatch .',\n",
       " 'UC6tQVPETXJj-NaM6fiXPeNg': 'cute cuddle',\n",
       " 'UCOXr80w4VuDcBdLKc8H5otw': 'chandra bharat',\n",
       " 'UCFVlwdZDQLEkYckhVLGon_w': 'chris smith',\n",
       " 'UCL9LJK0xgIBixFarwP6Idwg': 'caroline',\n",
       " 'UCA4C9KnGWjGvtijchL4PeRQ': 'carl de wet',\n",
       " 'UCqk-usu8j-XFFfJTwbJm8TA': 'chatzkel cuddy esmeres',\n",
       " 'UC0AuA9pH_hi6uGjw1261URQ': 'computer',\n",
       " 'UC20a79esUhyvcWzl-alBqmg': 'coolelectronics',\n",
       " 'UCzms1SliWTnfHqMaUD_j8bg': 'champ01',\n",
       " 'UC97cpDxQwLmctg_kCuSP1uQ': 'chris copeland',\n",
       " 'UCrwXYxbTYcdrw3nVSfyfUCw': 'charlie limpin',\n",
       " 'UCSsZ7yW-pyxrAcYOvIPDSxQ': 'coolbeans',\n",
       " 'UC1GeYG4b4lHISjfIdaeoqag': 'cynthia brewer',\n",
       " 'UCvCpFE5Bfre4zfx9Ztn6AHA': 'cellphone',\n",
       " 'UC62JvKf9G0wRUp0zBmZsdhg': 'creeping Thingz',\n",
       " 'UCI6qNURicKRBBoqA8YwefxQ': 'c̑̈🄰n͜͡d̆̈🇾\\u200a 𝘴Ҝi̾e̥ͦꌚ',\n",
       " 'UCf0272rMYB6-MRYV0_3EJ1Q': 'catprog',\n",
       " 'UCueEfuJq2mIiUr-qb7Rka4w': 'cyberwalkerYT',\n",
       " 'UCJIAhFVB8xSNaThcmdtP6AQ': 'creeper izak',\n",
       " 'UCLD7GVye_3_1PrYMBDUavag': 'christiane Orzschig',\n",
       " 'UCWCQPAYyzK5A4K9XAgmkZCA': 'cheezwheez',\n",
       " 'UCKhWVXsRswvP-ekcu8GoDIw': 'charles farrell',\n",
       " 'UC__TSteObwOyJ6P93coas4g': 'candicenuts',\n",
       " 'UCYteGgIdwS2f1TWA3tAxbbw': 'chapman2001',\n",
       " 'UCI3w7uiSGqTKUGBlMXIu3Bw': 'cosmocrash',\n",
       " 'UCqvd4x7Pmo1UP7XHtq-D0lA': 'carrot yep',\n",
       " 'UCfvei3nm4o8Eql7wzi9FpFw': 'cdfv4',\n",
       " 'UCXaWfRdXcEdfJcuui6tmstA': 'calaka 388',\n",
       " 'UC53UyE6Fly_6f3_sHREu1mA': 'clancy',\n",
       " 'UC-mX6VGQ0Q8Fip0H6WOs8XA': 'cane',\n",
       " 'UCKl_zwWOpIUHphhxS4HvGQQ': 'chaine',\n",
       " 'UCMXInAFXql42C6UIso3zSug': 'caster',\n",
       " 'UCzSvffl3FOKRpGHrDYLr_0A': 'carl wheezer',\n",
       " 'UC5YS0Likn0nyalxFZMIjL6Q': 'carlos rodriges',\n",
       " 'UCWXK4L35u7wXHlTdOdzH4JA': 'crisbella Bazar',\n",
       " 'UC1IRS42Ftt9AM9SRErGPxFQ': 'cristy_maple',\n",
       " 'UC-ag1M_Bl8uFG9GyNMrbYtQ': 'coolcat x47',\n",
       " 'UCnbYrk4Me99biT7wAZm6Tdw': 'collecter343',\n",
       " 'UCRK_uykwQ6mN0-zF20rLnGQ': 'cpuburnout',\n",
       " 'UC-ZIEwswostBGNoIIzdX2xQ': 'cat jay',\n",
       " 'UC16opeLcVyPjhsxEw6YwZjA': 'crazyOscar1234',\n",
       " 'UCwmEQlaYd_doZgr36zrAy3w': 'cheapshotninja',\n",
       " 'UCIrswmjiDaBfXfZ71sNjEtA': 'chelseatheblues1905',\n",
       " 'UCkKylAPL3VnJ-mXANrJu5bg': 'crispy says dow',\n",
       " 'UC2NBdywi3NrSO6I6Gs4Xz7w': 'crs',\n",
       " 'UCX_4qkGnOaG2YdUPF9g2h8g': 'carlokrenzelak',\n",
       " 'UCFqS8-9aeWlTui5dW17VPrA': 'clips',\n",
       " 'UCZ-YlT08V8BoXdfjnv3XlmQ': 'cathleen kasenda',\n",
       " 'UCYLdE3XaJGqPcVLIN1jiNrg': 'colourful skull',\n",
       " 'UCUyrJgr4AeSf9_6dzSneZaA': 'commentator',\n",
       " 'UCGT8ZvLMJU3gyRukPO65n9Q': 'crab',\n",
       " 'UC9OCcqIj5Hs-FtryId2hRNw': 'cc cinnamon',\n",
       " 'UCJtxISXad79_GPnp3B_n5Hw': 'chickenalpaca03',\n",
       " 'UC8pwGJlbpl2Zv2-k2DgSvRA': 'cl1ent',\n",
       " 'UCcUHXtiBqZ9YAGxp5kddMkA': \"copper'cats\",\n",
       " 'UCB1qz2bXaoLblNGlue7gf2Q': 'chiyyavaram Satya',\n",
       " 'UCCISHwcDtTpTrc05n3qcxRg': 'carlos castillo',\n",
       " 'UCbi6s_d4jZDtV4PZJBNpNZw': 'carissa wiesenborn',\n",
       " 'UCJOfwQSwHt3cYqIXlV7ToFw': 'cyborg fleegle 2',\n",
       " 'UCWNr4BlFp0U5aif4hIaX8kw': 'crunchy_ crop',\n",
       " 'UCx_qKpHtl8vBDBEqRfzkb8A': 'carlmcblox',\n",
       " 'UCtEieKxzDdLth28ij_LcBYQ': 'cracked',\n",
       " 'UC8mAp-cta3Ob8iYNdODLEZQ': 'classic life',\n",
       " 'UCcUBWSyjW8ePxfJBFpk6NFw': 'cMaC',\n",
       " 'UCpCkwxMrlZ8PQGR4Hq7aZRA': 'caureum',\n",
       " 'UCuKOCx3E-7XfWu_1alHldRw': 'cool games',\n",
       " 'UC7O5fdJomjFwy5XgQmENrdg': 'clarkekrnstns',\n",
       " 'UCeIns1KzePkAqC4FFRGNjDg': 'cryptsub',\n",
       " 'UCJtDyvWhWXv9LWBlSzpZyng': 'ccmaster235',\n",
       " 'UCTC6wwM6oukI6tw7rC1qFXQ': 'chrisa88151',\n",
       " 'UCQ_j2Al24-vavCis0AJVztA': 'carjelgan noseimaj',\n",
       " 'UCQL4Dla_nHd6Oj_4_3IQqLg': 'chapel976',\n",
       " 'UCu2WokXW5Up876sNQSdOG_A': 'cMarcucraft En accion',\n",
       " 'UCX-fT2mG_n9lO8I9J0khO3g': 'chayala nachum',\n",
       " 'UCa7UZ37tE-L-swe6FdD1FQg': 'charles montgomery',\n",
       " 'UCkeVrTFRraVgbfVxndnBq7w': 'catt1003',\n",
       " 'UC_BbqKFHl9azVEgUD7xODqQ': 'cris studios HALLOWEN',\n",
       " 'UCgCn6mggctgBdiLJkv1SuTg': 'chiaki nii',\n",
       " 'UCQkeJHaEHvxITaNwSbHjhfw': 'ccRask',\n",
       " 'UCAFwSk6znPc0S_yASmqSL4A': 'chris s',\n",
       " 'UCEhOtJaC8CmLIos8Ge2Fu6A': 'cazmodragon',\n",
       " 'UCuzwrkWubOm5K463MnvuWRw': 'cash carti YT:p',\n",
       " 'UCF_25Mhmc0XxLUDg8gYYijg': 'claire diersing',\n",
       " 'UC6ciiHlDJu7co-FShe6PZzw': 'curse-ten not kyersten',\n",
       " 'UCTqvAps2aVQdrUdH7qfeieQ': 'chris',\n",
       " 'UClAIu588CqO4I_Y85tj1RKA': 'cherrie6868',\n",
       " 'UCW0CHSgYJfdiNJOLpaD8btg': 'chae死神',\n",
       " 'UCSDTQeLd9jNWbboQDFustjA': 'caiden forster',\n",
       " 'UCi7VR1X3URlHF4xwhSvtmDg': 'chatzida',\n",
       " 'UCiv4wJUhcoJEa6bXAtYIIrw': 'clint Jones',\n",
       " 'UCV066pAJe1hRDxMfQCo1bog': 'curxing-',\n",
       " 'UCWjLar4qVu0yRIgTPKDI48w': 'crazy kid',\n",
       " 'UCkfUM-BhFvPlP6HklNippjw': 'charvik pathivada',\n",
       " 'UCI7QnPdW7BZzUxJnnic4LIw': 'cinta ramadhani',\n",
       " 'UCUWy3EZlDh9N5bHxm9L-XuA': 'cjmorere',\n",
       " 'UCjuxyTi8QFloX0zZQbZpW3g': 'chube',\n",
       " 'UCWpE3L4xB9nDn1qMsIAMO3w': 'christos markopoulos',\n",
       " 'UCv0sRa7n0aF7f1y2wHQnmCg': 'clay jack',\n",
       " 'UC_8FjixKDCH-wMJTWCerfUQ': 'craftsmanm',\n",
       " 'UCIUeR7tYuSw9lojJn48PbjA': 'crewgnutt',\n",
       " 'UC_MLfT2jqO9i3vCd4_sJkqg': 'chinoel Deejay',\n",
       " 'UC-Mqt40VxWRxipil2Isaq0Q': 'caturiges joga',\n",
       " 'UCQDO7ckeWxxaEQ5YKHn2bPw': 'citrixman',\n",
       " 'UCKCrFChh1NfF091WFPWU77A': 'carlos gonzalez',\n",
       " 'UCbs1R-mqXJzmZqCJMYpJgeg': 'chyll',\n",
       " 'UCapjsPBLE1dVk4Q_SpU7RRA': 'ca na',\n",
       " 'UCYo2WYyigHztzG-8onkGJ8A': 'chrisb',\n",
       " 'UCne_DvGSTmB3ZzMF-BkMh_Q': 'chris wegman',\n",
       " 'UCGNp0UOydaoM661fIDtPeUg': 'care dragen',\n",
       " 'UCeCuvSbStVLBm--R4xSs5Lw': 'chanise bailey',\n",
       " 'UCK5RQo1Txl4GkW78R5k3ljA': 'colton williges',\n",
       " 'UChjIyYaTJ1hpVw1xSNy3EMA': 'chambo chubs',\n",
       " 'UChJspq7zdzqYjPLDmdr3Ueg': 'chill',\n",
       " 'UCeQ8408zkM75mw6O91BgV5g': 'cwtrain',\n",
       " 'UCXFhoCv7e0BbXE8gYIiZcIA': 'char char',\n",
       " 'UCepPIDXg3L1pvJiJ5uRLThQ': 'cloudy',\n",
       " 'UCTAbsTOajQ9pq3XgpOxRbkA': 'chinnowah',\n",
       " 'UCsZpUmsQePornsoF9adBm1w': 'chloe king',\n",
       " 'UCMpQRvQVfRZCZyZMf35pOUw': 'ctc149',\n",
       " 'UCXZ5wNbRr13GHsyJ_w5SQew': 'cool brother',\n",
       " 'UCatJlXjssAYqo6L1uh50iFQ': 'charabeth',\n",
       " 'UCBEl9sH63rMrZ1GI24PFLPg': 'cinnamon girl',\n",
       " 'UCJyyD5hQ5VuKoeP1Jg9oR1w': 'christophe Patillot',\n",
       " 'UCxQcR2z9egMdYQOMT_L3kxg': 'chaotic kpop fan',\n",
       " 'UCk_F78dLsxbyFyDLZQYr8rg': 'cool1503',\n",
       " 'UCFwbMOYLdjvx196D0UfIuXA': 'chxrry',\n",
       " 'UCePEaVA3FbQPUXX4u07t0hg': 'capalot 1400',\n",
       " 'UCAML2GeRPh1jYpgjLGaN7jQ': 'chanpon',\n",
       " 'UCQ1kJRiiaA_ezpDuVth0PwQ': 'caitlin marie reacts',\n",
       " 'UCXH09fS0gsbrzrZtBHa_vEw': 'cohen / detective',\n",
       " 'UCcVPZf0GrZGUw-GPl2MJlXg': 'curtis jones',\n",
       " 'UCfRAueUZXZTcgLAM9a6InZw': 'charlotteshimmer',\n",
       " 'UChee1mxJaYyMuEWehYgi2NQ': 'changemeansmoney',\n",
       " 'UCDqd1lZ6uOU_filgmAvFNow': 'chipsthedog1',\n",
       " 'UCqln4R8zloPUU5wwuNzTrKA': 'cZcheeZZy456',\n",
       " 'UCz57TGAeG8tWvjhWRLnQScg': 'chetan jaldhari',\n",
       " 'UCxgzJCVscjfn5CW6ACnO-uA': 'crossfire081771',\n",
       " 'UCcu5-maMLoxeoHySKS-5tOg': 'chris johnson',\n",
       " 'UCf5y9TFs-ozWMEf9YsbMt_g': 'con',\n",
       " 'UCcqNZNC6voB_mqNlCdJ488A': 'cheesy productions',\n",
       " 'UCSrtkcrrbrYQpmnusDExqBw': 'charlie tv',\n",
       " 'UCogOZ3j5qnUuDa1IS4oPDog': 'collin341',\n",
       " 'UC5jPW9DIoby5ZgV9pKTpv9Q': 'clumzycore',\n",
       " 'UCtfmKZzG38JKabKFc67ayfA': 'crowded crow',\n",
       " 'UCWVoRHjKFvFEgP6aIY-a-JQ': 'coda creator',\n",
       " 'UCSYS8yHe4-W48iS6foXF0zw': 'constellationpegasus',\n",
       " 'UCYPMHN55dfwJNHBxIWiizlA': 'cat unknown',\n",
       " 'UCWl4nUdTuHgkji3LtwBO3gg': 'fr0zenintimeee',\n",
       " 'UCA34kGw73T7a7awZpnfeuwA': 'free speech',\n",
       " 'UC-S7epIPMQP9LexmJzn5WeQ': 'full time',\n",
       " 'UCB_5x0YPpA_LcpHlq_5_Qnw': 'francomms',\n",
       " 'UCQ8x6EpghrKUJNI93x7WpwQ': 'fanciella mylove',\n",
       " 'UCcmhqm5_zWPbb8qGXQjFRlw': 'floo8',\n",
       " 'UCv8Ou9QweVD_3negmHqRwSQ': 'forbidden_channel. exe',\n",
       " 'UCLD3n8gw50uI109yH6O1JKQ': 'frenetic vema',\n",
       " 'UCrxOlsz3jrFP2U5JZup2MyQ': 'foxy gamer',\n",
       " 'UC4NMvBkG6TeBrhbhOo5BuZw': 'freaky-Deek',\n",
       " 'UCiouLVFy16ONfYdidVzJsog': 'ferrari3098',\n",
       " 'UCcTqB8nPoNHDBS33Ax9MzFA': 'froggy girl',\n",
       " 'UCFQjfXidtpCDtR67MZJ65bw': 'franco wtf',\n",
       " 'UCUa9NCusQTvna9eALbjz5_Q': 'fngf3501',\n",
       " 'UCpa2e5Qr6X3e9YgCf0E5QVQ': 'fruit',\n",
       " 'UCe4Lt7lS43PIT9n5EioYmzA': 'felixcatnapping',\n",
       " 'UC0qoK3Jzu3W4ZqovCqSd8Jw': 'filipo viñedo',\n",
       " 'UCz5N_oxRz9EWrvrsxMBvGyA': 'folumb',\n",
       " 'UC_UoUHkezT7SLGnzV_0RkbA': 'fraz ahsan',\n",
       " 'UCfhazUFYoT_AnXbwzhBjySg': 'franketa76',\n",
       " 'UCx0RuF8uY0zz0XklMkw7orA': 'further bound',\n",
       " 'UCRVqsuwOyforoK19464fSxg': 'feonixfox9',\n",
       " 'UCW_QSyjmKkwSF9xM79NUsHw': 'fcfdroid',\n",
       " 'UCWiS5ZDS733pdZmyl7llWjw': 'friddilly Ridley',\n",
       " 'UCoWQTFAmPEgt31gInMlDzmQ': 'faboo2001',\n",
       " 'UClJq7Yvzr9LZMYk0k5KeYxg': 'fruitys do stuff',\n",
       " 'UCTgG3ZMLRAlkruuJzY_p39Q': 'foysal ahmed',\n",
       " 'UCWm4GfWGuXu0wDkjqRODNTQ': 'frais',\n",
       " 'UC382tZL2tpd8mK9fabNhIBA': \"f'Azhdwol\",\n",
       " 'UCDj3Q57oMCDYNnsqr5Swz0g': 'fakebanks',\n",
       " 'UCAOVxxJD1OhNJLI1zPS7bvg': 'fortnite boss',\n",
       " 'UCqH02Z85c8pJZZGyP1XZnMQ': 'father please return',\n",
       " 'UCUG4f6Tk6CDGzVlHNHyLPUw': 'ferdinand awn',\n",
       " 'UC0DFJb5px7OXch57vQFvmQA': 'fine',\n",
       " 'UCDHfZR48vdJd-QBU7ry7e8g': 'fer',\n",
       " 'UCzxSm89ZJZm5RH0K1MJcqPQ': 'fox Egypt فوكس مصر',\n",
       " 'UC22FOgmZA563wggr_qv5GPg': 'frantzfanon',\n",
       " 'UC7y9syfcCfcjOmwtS_uwLAQ': 'felixyphy',\n",
       " 'UCSHxjobEvcn8IFpI3Wo4Xvw': 'flamelily',\n",
       " 'UCKyiXf86chTKKJYqQsENWeg': 'freedm7.62',\n",
       " 'UCCpOOWqDPqm4nqU6FlMqB6w': 'fireking 05',\n",
       " 'UCRWSsWlTEWxbrZVtdEQRckg': 'film-makergamer',\n",
       " 'UC_lR_qcX_oo6ReAusy-gAjA': 'fraxb nezl',\n",
       " 'UCnrfUVaX9crEn115dJdu_ww': 'fernanda vazquez',\n",
       " 'UCitmnbnzH-n3c4mx7rR6DIg': 'freedom789',\n",
       " 'UCum08e0Z_pbJkbuTjwCMvQA': 'football8897',\n",
       " 'UC90z0pTYmgF6hnfJqxKPrDg': 'forever peace',\n",
       " 'UC6eCnR_SEuWFQRlEO8X259g': 'frut snacks',\n",
       " 'UC6rkJzbFhSfKR2fgtZ0wo9A': 'fredbearcraft',\n",
       " 'UCgvFea0_m8l_VZH6mXNM3IA': 'freeze fm',\n",
       " 'UCDVyUacG3AnhUgkM3puEtrw': 'f f',\n",
       " 'UCIvnus9pWDvwA42ZAddXDkA': 'ferusaurus',\n",
       " 'UCrGxSUB7qioH0gXpin31QXQ': 'fana bot 404',\n",
       " 'UCJagqlEA5V7gd5D0VQ4YziQ': 'fabian cantu',\n",
       " 'UCIWK0Mav85oU4_-HHAdawNg': 'fallred1991',\n",
       " 'UCemPJToL2AKv4igZNi9ESrg': 'fatima sefid',\n",
       " 'UCny5jsk06f3zSz2pRJAgCqw': 'f f',\n",
       " 'UCCM9zMry_vDWeM-SAwgvuhg': 'foolish kai',\n",
       " 'UCPOZ5L9-HODvhdzC3_PMIyQ': 'frank ferter',\n",
       " 'UCwc2Y1M45UD2Z-uIZY5iKjw': 'fatima saiyed',\n",
       " 'UCBpqqrun4Sd5OktUGXDbgug': 'fitness cafe',\n",
       " 'UCIVESHj0MlB09j8R0RdS9PQ': 'francisco miramontes',\n",
       " 'UC7CaQqRj9sTLqLE_1vdFnJg': 'fahid hassan',\n",
       " 'UCIzggedWiNwWSg5Q2nVCyaQ': 'feet',\n",
       " 'UCFTnT9VOG9d5ZQbTODPvyLw': 'flappydat',\n",
       " 'UCDDVLJomomEZpcT328_pADQ': 'funi',\n",
       " 'UCbLCP9Ya-kaliioahJrxWsg': 'franko skate',\n",
       " 'UCuCx6kdLU0bJ1ml-75CDQNw': 'fajar bangun',\n",
       " 'UCcPIYJohG-4OtlOL5K0Xvcg': 'flamewave64',\n",
       " 'UCmpeTO-fzqep5HQfTHZxi4A': 'feyza yasamsal',\n",
       " 'UCeOxc3-cfuRcTg_SzKm97uA': 'fred6059',\n",
       " 'UCccT9_ajJN3u6s0cTmsS2kQ': 'freddies and snoopies gaming',\n",
       " 'UCO2OcqkQt_u2Kx1FnN80FpA': 'flo rida',\n",
       " 'UC49RESAPQn_oPpBIBj6u_ag': 'frights',\n",
       " 'UCZvWurbUkVDXhRCNrCs-aRg': 'french frie',\n",
       " 'UCXrdSFDwjyEZaj3hIHbj42w': 'fried4',\n",
       " 'UCZLI36rtErd-13medXMSZsw': 'fun stuff',\n",
       " 'UCK04jgIxEE0jJcBgEB2sOEw': 'fae!',\n",
       " 'UC-xWPuTj5m1LQGdEighGjag': 'frozenaorta',\n",
       " 'UCF6t8J6EyyseKNe6Vnwv2UA': 'froggy',\n",
       " 'UCNfjhr4tkQ5n-uln7D5Wb0A': 'forward momentum',\n",
       " 'UCkGCN60mpFnCfIYnd1KdtMg': 'felipe 458',\n",
       " 'UCBgjfELQQx-vN8YHoprE5EA': 'felix mendoza',\n",
       " 'UCQevBggSdImRsYNzVvA8XhA': 'fuck fuck',\n",
       " 'UCRJ1h_RneVKBuu6WM5SKB1g': 'f a',\n",
       " 'UCynRpbSFzkgnZeS1Ad2aLbg': 'fck stfu',\n",
       " 'UCvADLDavzJFpaHjtGUUFNRw': 'flamshiz',\n",
       " 'UCeRom9J7YOEdZ-ZXjHDSmqw': 'faureamour',\n",
       " 'UC7_4NwEsFwumF9ENkiRN__g': 'ido udo',\n",
       " 'UC-og7Yl6HrmJRv13Zo_M4Zw': 'idgafjuslisten',\n",
       " 'UCEZDYlkeemk18gqTV-JNESg': 'iknowlinda',\n",
       " 'UCzahZDcyb7N0G5iJ-P5nFyg': 'indomitable reasoning',\n",
       " 'UCmIjmAM3i6CU46fANopNXUw': 'idk',\n",
       " 'UCaGn2lLgAESCUmPXYmEKxOw': 'indiechic09',\n",
       " 'UCuBQxOia8TzxuxuCZjXObBA': 'ispeakfangirl',\n",
       " 'UCJLFfgcAm3whd0johFmyZqA': \"i really don't know\",\n",
       " 'UCxvbUMh_hw715nUXCrHE_zQ': 'ian rietveld',\n",
       " 'UC-z9-zxFv93Idke8rXQhE9g': 'irishred081375',\n",
       " 'UCX6swQYi7BEZVj3OHeEBkRg': 'iPlayAdCarry',\n",
       " 'UCE8A_Irc-1NfwL78sms6faA': 'iLupi',\n",
       " 'UCVpD0pwvVEuEM9Aq7TnaJ3w': 'iKing.SixTwo',\n",
       " 'UCBnie3Gf0VgeDEkBsx39bVA': 'ivoscache',\n",
       " 'UCQY5c9DJPjHZkrL7GpylpiA': \"it's Me\",\n",
       " 'UCLo6XVchqvreQd_7ErervcQ': 'ipurpleBTS z',\n",
       " 'UCCM9grrQPpcFKD74U9q-ptg': 'islamo sallouma',\n",
       " 'UCsxFsv__N8YWmG3uzKdsZtQ': 'ieatdogs',\n",
       " 'UC_l8WyjQovykPJzFQ0SEhaA': 'illdee1',\n",
       " 'UCDsgN0pcqYQdQ17eJ9Adjdw': \"izone's hoe\",\n",
       " 'UCY-nbsA94LfuRFk1dPQG0pA': 'izuku midoriya',\n",
       " 'UCfGAVzbieogcAdiMB1Vzx6g': 'iluckybeuplaz',\n",
       " 'UCCEo8mbOpEI3fLEpc7DfXPA': 'icarothomas94',\n",
       " 'UCM9YVhdbEDEHsjcsr_HCwqg': 'ivanterrell',\n",
       " 'UC-P3_2ayNdcxKkAzYrBHkuA': 'iok21a',\n",
       " 'UCu1QKZGVfCtEHZV-k160ClA': 'ign toxim',\n",
       " 'UCvdhz9Te39HTpHLioEZ1i6w': 'itzyogurljade',\n",
       " 'UCi1lUpXTwFSG1ud8nwo6LMQ': 'i like cAKE',\n",
       " 'UC2GdX0DOr_B_rWYLmx9o4lg': 'iluvcats2',\n",
       " 'UCXDndejky15fHSDnT2_OzAQ': 'its2three4',\n",
       " 'UCHNKFZNpX-2oQ9oKr-A98dw': 'iJay Rizzy',\n",
       " 'UC_WMB5HT0vjTeI-S4_WF9eg': 'imagery',\n",
       " 'UCo5dMDJ7JxO-Dtlpm6SmqFw': 'internet user',\n",
       " 'UCmR1rdV2RH1YDaOLCxXWPXQ': 'its_231 its_231',\n",
       " 'UChNIdqzQJ9kuDRnEpdVaa_Q': 'isacc brown',\n",
       " 'UChCbcbgX1_jE0BgM-Y04h0A': 'indokarasan',\n",
       " 'UCPsQemPnqaJAEbWpn77mdCQ': 'iron boy 2008',\n",
       " 'UCLg11POUEK_Kdc37Of00dPQ': 'idk a name',\n",
       " 'UCQ1Fcx9KLDi-HeepXIFEDxA': 'icefiredragon94',\n",
       " 'UCUPWkQweRRsh33ol-ZinebA': 'iPhoneBreaker',\n",
       " 'UCJHeSP60y2lejKdowjF2O-g': 'ikamfuey',\n",
       " 'UCKWDWqZCg2gbfPsyY8QtsCA': 'iAmWilliamDavis',\n",
       " 'UCcJ-wdhQAeAjioTfclPiD1A': 'iTheMooster',\n",
       " 'UC8Hr936mIWggavqD24hnPtw': 'iDontkissBoiis',\n",
       " 'UC8tPCigbcCSEXGFTc7y52Gw': 'its lexi howyoudoing',\n",
       " 'UCcQaO6UB8p7nZ4-Sy2-7mMg': 'itsmoonlightgrnde',\n",
       " 'UCwcWL7I7FTwyPdemBGp7y4w': 'izzati._wasfound',\n",
       " 'UC1PySSBLPXePyND6wEbekdg': 'imWiinter',\n",
       " 'UCp49hValJ-O6kJQMHx-zi4w': 'i aint gonna tell u my name',\n",
       " 'UCvoXb1qIuyITysC0fxCcpPA': 'itsvoid',\n",
       " 'UCD6NJXOtgEmZZjdLweqbO7g': 'its deepthï 사랑해',\n",
       " 'UCtPpf4AOImiFfGpUQHs2nhA': 'internallogic',\n",
       " 'UCS-f5egAau1_2I9eanMcVNg': 'iradook.koodari ?',\n",
       " 'UCjk-L3RmfUUUzUnadzYn9mg': 'iiAmeliaxTofu',\n",
       " 'UCbbGJhMpYtgWGbmbI-wDmhg': 'immer zkey channel',\n",
       " 'UC0gaqC9coRylZ2q4PGCWA5Q': 'izaac_thebeast',\n",
       " 'UC_jb8rwxgjj-0P_FttnYemw': 'isha malik',\n",
       " 'UCIVpMp1WFGbbuggsYFrAAhg': 'information not neccesary',\n",
       " 'UC57DaEWbsgaRyW1OhT8uvXg': 'ioun_qt',\n",
       " 'UCN1RbypualYTOAMcBBGuspw': 'infinityproductions',\n",
       " 'UCl1-DS8TAtZY-6sidMI4f9g': 'i.c prod.',\n",
       " 'UCAvVr8svVfBXANFtpEpac-Q': 'ieath0twheels',\n",
       " 'UCORvCe19OkAaXlIcG4oadGQ': 'i like to sleep 10hrs a day.',\n",
       " 'UClx2IZ2rtJ7bW-wUVX29WJA': 'iStormYT',\n",
       " 'UCRbQsqBqhfOAZJ67WspH9RA': 'inci Cəlilli',\n",
       " 'UCa1gghS_qGNLdj4sQhP3sbQ': 'ibaxterrwoof',\n",
       " 'UCQ3syfJlG8t6gmOYNpdxyEg': 'inf blox',\n",
       " 'UC2wGx5RAOygcUALjK1vd3cQ': \"i'm always hungry\",\n",
       " 'UCqtySuvfwHEQyeoLwCKMkxw': 'implyStrangeContent',\n",
       " 'UCfzGPSJjHVa8x9jS42dARNQ': 'isaac eve',\n",
       " 'UC_gKM8-5l6pFybX5_zohS6Q': 'inchara k',\n",
       " 'UCTMp4IAIizNUO9v0OVEjJ5w': 'itscience',\n",
       " 'UCiPGlkVZCk6hgcQ2zREXAZg': 'iamdalibor',\n",
       " 'UCT_rEVjxhg2-5cHnmZY9b1Q': 'ivar sandberg',\n",
       " 'UCS8G_fppF6LUx2KQMXEcqhA': 'immcintosh',\n",
       " 'UCLT9EpVtOB2Bw6_NXCUMrYQ': 'ili nabihah mohamad nasir',\n",
       " 'UCY2wCzLTgZZRa76IvIjJpGw': 'if only',\n",
       " 'UCbPgudm3BD6vPyXs_3KFEHQ': 'invisibilius',\n",
       " 'UCsjqln0z29-oXpt77kjslOg': 'ioakdeezkasdfiu',\n",
       " 'UCeU_pRaJ9yz3HfmKbZaXgzA': \"it'z cookie🍪\",\n",
       " 'UCUbS-B9te1r4KfuvDRqQWQA': 'itzcahd',\n",
       " 'UClYtRb2TuJFQiUoukcX3Ogg': 'iFael',\n",
       " 'UCbQqH1wuZBKTrndqdOWei4g': 'iamm sarah',\n",
       " 'UCRsfx6qh2IBh7dUKhBxaarg': 'iris_isswag',\n",
       " 'UCCFM0cMZxQteD8BBbkSByZA': 'itznerdist :p',\n",
       " 'UC7JmkQCP7O-Am95P6z8WcpA': 'iT IS mE',\n",
       " 'UCcWYTwfOy_j_ClElU6K7lMQ': 'joecaragoog',\n",
       " 'UC5KedIZVrozU20nWPGQTqug': 'jose jalapeno',\n",
       " 'UCW-0-PrOLFCaYsYlHlq7tqA': 'jacoby simpson',\n",
       " 'UCMLggTWn9RoU_q1dyN9Z9Uw': 'julian sanchez',\n",
       " 'UCkAe97HetCcXfFVKLlN5PXg': 'jlo juan',\n",
       " 'UC4DSVdPTgrSZEDrndRD_zNQ': 'je SUS',\n",
       " 'UC4LVG33XktU1Jj2X5y3Wvbg': 'johan mprakash',\n",
       " 'UCfLi7uQg-PMfSPXNQic6ECg': 'jiana Parikh',\n",
       " 'UCs4rgXc3NZLVPYgbyHYEpRg': 'jason ault',\n",
       " 'UCzXh9In8jVCo-jTFoS06W0w': 'jony quiah',\n",
       " 'UCfVnlJdF2hS1VZU0GxhK9wg': 'jaylen johnson',\n",
       " 'UC9ACmObsZ63hYmb8-m0qXnQ': 'jack stam',\n",
       " 'UCfDCDIhVcQ9u7_G3VZ4-6ag': 'jorday40',\n",
       " 'UCvkzasvBvaIghFnRWZfvB1A': 'j,',\n",
       " 'UCuJwRPMvCFcWEzVT1C1moCw': 'jocke berg',\n",
       " 'UCAK5s-9JgF1fvZ4Lyq7CqEQ': 'jrozai_Gaming',\n",
       " 'UCYtsvAvR0nV8hmhMg3--8JA': 'jasmy company',\n",
       " 'UCpCIhogcrvj1rCixXfx0H_w': 'jhansen610',\n",
       " 'UC1TDVworsM3k7yCZcAlgV5w': 'jephry degamo',\n",
       " 'UCxvdoW7SNGA9z8DYnc1_58g': 'jan kristopher arco',\n",
       " 'UC_Aw0Truy8ljusk7Y4aZE8Q': 'jerrylight',\n",
       " 'UCZXyTY9eUQej8tdTsNytGrw': 'jeluMINEreality',\n",
       " 'UCgYDqpBZMX9mUH1x8wMQuRw': 'jotaro',\n",
       " 'UCq1a2TdecVDFcWUt3IJGAtg': 'jexus',\n",
       " 'UC-FRfOOOkcAGHWSz0sBhgYA': 'john burt',\n",
       " 'UCVxufymUGNK23mTHjyEmDHg': 'jon skitch',\n",
       " 'UCfIqksZrGakMslcIGgrGdig': 'jennyredbeans',\n",
       " 'UC4hizJI2JoLjFwHV6hvG_mQ': 'jasmin5689',\n",
       " 'UCYE3E9EAF3-FcXHcUfgchuw': 'jiv32',\n",
       " 'UCFjzB7UwdB76N_skGTJrQnA': 'junior cenatus',\n",
       " 'UC94dpFEvQmZSukeZYulsM_g': 'jejsmerfnosc1',\n",
       " 'UChWn3v_UJH8UW05-Ck728iA': 'justSammy',\n",
       " 'UCmtyEz--7u2baETqPwCVcow': 'javierh35',\n",
       " 'UCcJW14D8EMh79_kLOiZgVrg': 'jake richards',\n",
       " 'UCh6gq3SXvCBIAwfXD9yudYA': 'josh pro 121',\n",
       " 'UCSNSojCwzqFse0aNFDgoZkw': 'james shinobi',\n",
       " 'UCmrxMc1w2l9AT5SYRaUAClA': 'joe quevedo',\n",
       " 'UCZzAJyatp0PdRd6hpLo1QGg': 'james cox',\n",
       " 'UCYgrFDi1OwsklsGeYmxE3JA': 'janeve castillo',\n",
       " 'UCbnaO78xU7KlfvqaO8QMw7w': 'jake augustine',\n",
       " 'UCRapgrPMXBFPnI7P9Doaang': 'jann xander balderama',\n",
       " 'UCcQ7CTE_NWpCR1HYrMQx5sg': 'james montgomery',\n",
       " 'UCmf6ozARXguSeOAIJR51GqA': 'joshua lawrence',\n",
       " 'UCx3gdvjsrVZDSIe7-OHLdqQ': 'jnub',\n",
       " 'UCkLYvXbKvxp2xp78KCXh0Jw': 'ja xx',\n",
       " 'UCY_FEvay1seAeb_ke3JscIQ': 'joana 1996',\n",
       " 'UCPcz7fQ_Z5XJB1UUvHtE3uQ': 'joshua kim',\n",
       " 'UCZTCKi2A_CL2MtTvI36mpxA': 'jordan pippenger',\n",
       " 'UCnxzrENIaZ0pM9UU9LEftBA': 'just a happy face',\n",
       " 'UCQ486XHSZBgsZzGjq4MjlsA': 'jung cookies♡°',\n",
       " 'UCzAy1HfsCmo6nQXTEBYC9oQ': 'justaTR45Hgamer',\n",
       " 'UCb3O5OsVTxO_ahirP-0VH2A': 'jakeanimetor',\n",
       " 'UCX0Xjaqx9xTRLJIEBLSxCHQ': 'joao henrique ribeiro',\n",
       " 'UCs8fwgQD_318pHq12d8jIsw': 'jorge espinha',\n",
       " 'UCDkZEYC-QdmfXvKaSwFrWmA': 'javier yst',\n",
       " 'UCyxvj1wOsFL2YJoFFQ8Pbyg': 'jane falsa',\n",
       " 'UCYquESc8Rk-FoRbK3Gkezyw': 'jumi060',\n",
       " 'UC5QZTHQdTEZJIgLhpWUTibw': 'jaaro `',\n",
       " 'UCdQrhtvrojOYwKJ0MukCWew': 'jmccvalentine',\n",
       " 'UCvQg6p0MyFRnZOxFkupj7Jw': 'john cernada',\n",
       " 'UCJXUKqect29n-hNQF60WM9Q': 'jxa66',\n",
       " 'UCa09BE86_n0FgR9Zb8z3HMA': 'jayapradha k',\n",
       " 'UCjoBXmOlStc5lREW82BmF8A': 'just some guy that likes anime',\n",
       " 'UCbUfuiMeBgmb7DLPOqwlW-w': 'jaime smith',\n",
       " 'UCiRUR75GdjiDR09fBxxzkCQ': 'jeffrey lockhart',\n",
       " 'UC37EE5WzBpt2EWzrfC1ZpSg': 'jaye 125716',\n",
       " 'UCOYcLgr2NCXsrweEVUz0q7w': 'jello',\n",
       " 'UCYQfb5BmRn93vOHjLa_xS3w': 'jack h',\n",
       " 'UCA8mpwR-RTSONskxvFd9QyA': 'jazz4asahel',\n",
       " 'UCUyjTwFMWSZCjdn1-FgMHHQ': 'jake torres',\n",
       " 'UCErxT2Xxo6UA71C0UfPbTJw': 'justincone777',\n",
       " 'UC8lzviXLhfdXLkIEFEQJaFQ': 'juliana and. janella. and my friend Magbanua',\n",
       " 'UCdC9NheIVZAN5R8keaQXlhQ': 'just hayden-',\n",
       " 'UCjuiUOw11LYsx1Y21rPgDqg': 'jordan wilson',\n",
       " 'UCd40loeV5VCFtKhuXoX9Inw': 'jhev gainz',\n",
       " 'UC2X9Ajj8ZBU5HYNzJGwn8gQ': 'jose luis martinez flores',\n",
       " 'UCpP-rMZxDeIS9VGGa4XqSbg': 'j hi',\n",
       " 'UCuxm2eRQnQf_d119RIYcNeA': 'joey guillory',\n",
       " 'UCHURTmnIFcHFJiYMUCEzbQw': 'jack koller',\n",
       " 'UCiAYLjCTk61Q8TI1_WGHRYw': 'jessica lynn',\n",
       " 'UC53yRyKTcb2I4i3MIM-H9QQ': 'jack chase',\n",
       " 'UCe7w6T7PtWI4GnYIPCdpCwA': 'johnny45',\n",
       " 'UCH4UE3JwmqmzgeAOsDRAwdA': 'jyhývg?hghhhhhkl',\n",
       " 'UCNGvM4oN1KxkGvT6B7XKYpQ': 'jemma phillips',\n",
       " 'UCC-XO09c_z6h6TGacgtkOuw': 'jack',\n",
       " 'UCj2G8T0qcapyaNrCsoASHFA': 'jordan pook',\n",
       " 'UCXZY68Q8K-4DNZUwmmdHLXg': 'jose Santa',\n",
       " 'UCIuyAYdsoTzB88h-CBVl3KA': 'jorgeloxius',\n",
       " 'UCuVz4_DV2eR0C0ODNuU2SgA': 'just NOVA',\n",
       " 'UC8wvbKPhDgBcG5D6IFskHEg': 'john wick in YT',\n",
       " 'UCYV-PONEogrU0IvMozJEr1A': 'jen monami',\n",
       " 'UC4e57rYeBBV3zZUo7ZHUzYA': 'joseph Ben Israel',\n",
       " 'UC6VZwtbKyjzm2k-MPT45W-w': 'jay henry',\n",
       " 'UCsY_vWFzufTgPSvTMnFF-Mg': 'jess',\n",
       " 'UCzFjjgKSK2umkxUO-ltxX_A': 'john M',\n",
       " 'UCpcntIFp5Kahok-nlOOoQaA': 'joey donaldson',\n",
       " 'UCmsukMD8mRvy2E4QVWkJxEQ': 'joegdx werff',\n",
       " 'UCdaneRwose7W2fstb01OeDA': 'jiemar padaoan',\n",
       " 'UCZUiA1ffKn4qowlmMikDefw': 'johnthan pepper',\n",
       " 'UCblS7FPZUCl9xj9l-Lv16PQ': 'juan gabriel quevedo 2',\n",
       " 'UC_LYdQ4p2CVb4vkeOfATXMg': 'just something',\n",
       " 'UCeKZnThWkKT-6RhEz4q-XrQ': 'justin wu',\n",
       " 'UCi2oSPtwbmLoUnxpjfkBk1A': 'johan cedrick jayara',\n",
       " 'UC-fG48kYnbsBiWW5ZTE8aDQ': 'joseph bozarth',\n",
       " 'UCTpJFC4IvM29e6pMsXzCrXw': 'jonny96',\n",
       " 'UCmcovfFb8JRdyRFiLVLviRQ': 'jacob12s',\n",
       " 'UCSx94o9UUDlLlN8K6p2sRQw': 'john dowe',\n",
       " 'UCPfiESBabLP4k7_gro5V3sg': 'john doe',\n",
       " 'UC8NsaNS8iWEzkaJW8ALjzXQ': 'joe quesda',\n",
       " 'UCscvKl3OXhepyrWRHNKP4ZQ': 'jast dil wit it bro',\n",
       " 'UCQCf7OoIrmwfeqSA4bYWk4A': 'jstarmason06',\n",
       " 'UCJTCechv_aBO6GkBFpVsmrw': 'jayarsenal1981',\n",
       " 'UChekOQyGt0folWuLG0qM1mw': 'jiminjeong æ',\n",
       " 'UCyDUEoNbRKde1URKxDSZN3Q': 'jennjenn',\n",
       " 'UCNhsHY2B6CmRVUH2pFjmrgQ': 'john paus',\n",
       " 'UC_ICUr3992uQzL6dIDrpHwg': 'joshua sutton',\n",
       " 'UCIcxT3FWHahrAat4RTQkb7A': 'jijel',\n",
       " 'UCbWSfJnS2nztA1F0Nfadk3Q': 'jojo-jassim',\n",
       " 'UCh2VeaGbi38U_2ziV91jWdQ': 'just another guy',\n",
       " 'UCLWd7KIcBPb06qzdKMHv70A': 'jdawg3712',\n",
       " 'UCiHM2Sv2SidcwSEgyAdUw9Q': 'jj18057',\n",
       " 'UCg3UckuKwGgNj0bJjLld5Sw': 'johnmark richey',\n",
       " 'UCC-cIx_jLiLutL3Tfje-IBg': 'jetaboveclouds',\n",
       " 'UCpWeqoJd1otYY8Y26-dDqpQ': 'jager streak',\n",
       " 'UCxo3VIKz6EEud71jzyxHL7A': 'johnathon darlimh',\n",
       " 'UCKakoKuO_BZ-LIQKwIrt_hQ': 'jonathan murray',\n",
       " 'UCpCIqaSmayTPHxasU8WB1pw': 'jacob thomas',\n",
       " 'UCtMTkDp5wyk_Hj5GhBGfVHw': 'jack robbie',\n",
       " 'UCt7-JP-Cs0Qlqvsv-wzC-aQ': 'jon pin',\n",
       " 'UCeiSSxXr-hd5A_vwTHjfVVA': 'jonathan94fresh',\n",
       " 'UC5dwdw7GTfbSe4ufnSlAQgQ': 'jimmy georgiadis',\n",
       " 'UCryuFsbcDXO1RsVBdWmJ2yA': 'janek gwofatki',\n",
       " 'UC0XVgJ9FjnRst8SSkZxgf3w': 'jam dog',\n",
       " 'UCciyUjfj9mDtbHXJgsDl6AA': 'join the fist 10',\n",
       " 'UCgApd14ywJb8XsTHtKZ_0lA': 'jasmineismyhandle',\n",
       " 'UCtTIqrwab8GtBKz19BG_w3A': 'jjviolator',\n",
       " 'UC4vsa5lYR0M1IvymoaeGclg': 'juriz amistad',\n",
       " 'UCTah94mVZwGeuYzjuSzerPw': 'john thor',\n",
       " 'UC6lRXqkFA_yvVSfsZwXlRKQ': 'justAylin',\n",
       " 'UCLvI7nYQFe0pO2dHDH-E8Kw': 'just a viewer :)',\n",
       " 'UCybTAE1ibWReNAStPTl_pWw': 'justshera_',\n",
       " 'UCESIUL0TXEuAKwhUDsFLPqg': 'justarandomweeb',\n",
       " 'UC5bJuLv8soT6GPAHZ1u84NA': 'jonacreepy',\n",
       " 'UCNJJCGl2-3FvURV9oTuhPwQ': 'jago da rogue',\n",
       " 'UCPX-Q9zxNvqK1OFNqFDQUkg': 'jean012',\n",
       " 'UCG1aQ3nkqBUrRaIH9ayP4yA': 'juuy lee',\n",
       " 'UCwHgwd6Hw9uvhC0ngh7b3Kg': 'joshy the hand',\n",
       " 'UChHkeJ0I9Xyep1P3zKhCZbQ': 'junkeiryan',\n",
       " 'UCXgBuMJ5uvewHsxoOYRHzSg': 'j0epark1',\n",
       " 'UCLbBQgjj6YJL_0hDaa0AAXw': 'just a gamer',\n",
       " 'UCuPlX8cymf3KkRvymaqjWcw': 'jo613able',\n",
       " 'UCzQ_K3wibkMeg1CgjsAsw0g': 'jack Rabbit',\n",
       " 'UC7rPoDPTJMbN5SBd0MqOs1w': 'joe papi',\n",
       " 'UCoLR6guHqJf0AXG-YcFBOrw': 'jsdzx',\n",
       " 'UCRE2LUpx50RRfwoawqlodeQ': 'jinkredible hulk',\n",
       " 'UCEVJwcj4rtBr6-dlu25osqA': 'jan musekamp',\n",
       " 'UCbQewwIkcUWptM1Cl4tdV8Q': 'jkSam',\n",
       " 'UCTdopG8eVPz9z7TtxKVNLug': 'john smith',\n",
       " 'UCUehUb5ZrgVOdT2SrwjY1BA': 'jack anderson',\n",
       " 'UCeCdPOtLWGXZ5E-QU8xnTSg': 'josephtonyv',\n",
       " 'UCGjyO34UXLdcKYruhxwp1cw': 'joey mcquaide',\n",
       " 'UCWBCqFp0AOnp2fStKnJsHfA': 'jazmín Mack',\n",
       " 'UCnweCRQW3DGrYluGuWUzeYQ': 'jen-z_me',\n",
       " 'UCJ4YIrqfbUeHLejMi7qyPuw': 'jansen Via',\n",
       " 'UC1mNZywpud2tcArDcQf0m0A': 'jml191',\n",
       " 'UCWVKANpD9Hu-3ey0XM-Ei2g': 'drxwzy',\n",
       " 'UCizrcMeGl1r3xeyERzMC7Kg': 'daniel esparza',\n",
       " 'UCVzktFxpClpNEP2XK9CZI3Q': 'diRiG',\n",
       " 'UCn1cNj3loGa4uPd7wo7OIiQ': 'danny gleeson',\n",
       " 'UCiCQ7rbL7O84urXV7XEzRIA': 'dlam74',\n",
       " 'UCdbNGvGMzTBlQwf7HOXjfog': 'daffie',\n",
       " 'UCrXdBTHtwxaaq1sw2PCerHQ': 'drhowslounge',\n",
       " 'UCJVAdgooSI5DgvblBVxcKRA': 'dilapidated daffodil',\n",
       " 'UCjOooN9pGgMa9qO26TSzwmg': 'davynik0lai',\n",
       " 'UCvoCLMkSu-rrkSvdWKsvizQ': 'destasoul Potcast, [adult content]',\n",
       " 'UCuatD679hoIPHcosuatHN5g': 'dingo doggo',\n",
       " 'UCm1YseNef0GvRRHKAtDtkzw': 'dream roblox animations',\n",
       " 'UCRza3AG1TxzFu1OZRMNMTqw': 'depressed cat',\n",
       " 'UCq8PfvlqJUCDfaYP8LqdMSw': 'diya Bhandari',\n",
       " 'UCirfZJCEs8Pmmk-EvwDCXDQ': 'demonetyzacja _',\n",
       " 'UCVfMo83RQzWEDdyLzaY17qw': 'dragon Master',\n",
       " 'UCauNSn6lP75lHQtNQoz78Ew': 'dumbazz littlegirl',\n",
       " 'UCH5DdWQvgzqtcPKpP9a3LjA': 'deadpool Sparling',\n",
       " 'UC2zYUn0RitrriphrPyA3zOA': 'doubleducky',\n",
       " 'UCqVi86rF6Qw5LITMkbM_CuQ': 'dinda',\n",
       " 'UC9zRAQvyM0PCibdyxrY52CA': 'damolin77',\n",
       " 'UCaKnODbsQYaUte-y2ykZaRw': 'dominique robinson',\n",
       " ...}"
      ]
     },
     "execution_count": 42,
     "metadata": {},
     "output_type": "execute_result"
    }
   ],
   "source": [
    "broken_mapping"
   ]
  },
  {
   "cell_type": "code",
   "execution_count": 43,
   "id": "2a5fcec2",
   "metadata": {},
   "outputs": [
    {
     "data": {
      "text/plain": [
       "'Like it Matters'"
      ]
     },
     "execution_count": 43,
     "metadata": {},
     "output_type": "execute_result"
    }
   ],
   "source": [
    "#Q19: What is the name of the channel with the channel ID UCwtzSiUayocxaOHLnHe90Hw?\n",
    "broken_mapping['UCwtzSiUayocxaOHLnHe90Hw']"
   ]
  },
  {
   "cell_type": "code",
   "execution_count": 44,
   "id": "dbabda56",
   "metadata": {},
   "outputs": [
    {
     "data": {
      "text/plain": [
       "['ChippyGaming',\n",
       " 'Odin J',\n",
       " 'A comely black woman',\n",
       " 'BadBoyHalo',\n",
       " 'Nakatomino Calamari ']"
      ]
     },
     "execution_count": 44,
     "metadata": {},
     "output_type": "execute_result"
    }
   ],
   "source": [
    "#Q20: What are the names of the top 5 channels from the broken_file with the most likes on their comments?\n",
    "ids_likes = {}\n",
    "final_dict = {}\n",
    "for comment in comments:\n",
    "    authorID = comments[comment].author_id\n",
    "    likes = comments[comment].likes\n",
    "    if authorID not in ids_likes:\n",
    "        ids_likes[authorID] = 0\n",
    "    ids_likes[authorID] += likes\n",
    "for channels in ids_likes:\n",
    "    if channels in broken_mapping: \n",
    "        final_dict[channels] = ids_likes[channels]\n",
    "sorted_list = sorted(final_dict, key = lambda x: final_dict[x], reverse = True)\n",
    "sorted_list[0:5]\n",
    "\n",
    "list_names = []\n",
    "for channel_id in sorted_list[0:5]:\n",
    "    list_names.append(broken_mapping[channel_id])\n",
    "list_names"
   ]
  },
  {
   "cell_type": "code",
   "execution_count": null,
   "id": "68b7cfd9",
   "metadata": {},
   "outputs": [],
   "source": []
  }
 ],
 "metadata": {
  "kernelspec": {
   "display_name": "Python 3 (ipykernel)",
   "language": "python",
   "name": "python3"
  },
  "language_info": {
   "codemirror_mode": {
    "name": "ipython",
    "version": 3
   },
   "file_extension": ".py",
   "mimetype": "text/x-python",
   "name": "python",
   "nbconvert_exporter": "python",
   "pygments_lexer": "ipython3",
   "version": "3.9.7"
  }
 },
 "nbformat": 4,
 "nbformat_minor": 5
}

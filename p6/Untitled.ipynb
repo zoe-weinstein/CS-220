{
 "cells": [
  {
   "cell_type": "code",
   "execution_count": 4,
   "id": "bbeb5701",
   "metadata": {},
   "outputs": [
    {
     "data": {
      "text/plain": [
       "'figure'"
      ]
     },
     "execution_count": 4,
     "metadata": {},
     "output_type": "execute_result"
    }
   ],
   "source": [
    "winter_sports = [\"figure skating\", [\"downhill skiing\", \"cross-country skiing\"], \"hockey\"]\n",
    "winter_sports[0][0:6]"
   ]
  },
  {
   "cell_type": "code",
   "execution_count": null,
   "id": "ae83c424",
   "metadata": {},
   "outputs": [],
   "source": [
    "word_freq = dict()  \n",
    "sentence = input(\"enter a sentence: \")\n",
    "\n",
    "for word in word_freq:\n",
    "    word = word.lower()\n",
    "    if not (word in word_freq):\n",
    "        word_freq[word] = 1\n",
    "\n",
    "    else:\n",
    "        word_freq[word] += 1\n",
    "\n",
    "print(word_freq)\n"
   ]
  },
  {
   "cell_type": "code",
   "execution_count": null,
   "id": "19e167e4",
   "metadata": {},
   "outputs": [],
   "source": [
    "num_dict = {1:\"st\", 2:\"nd\", 3:\"rd\", 4:\"th\"}\n",
    "for key in num_dict:\n",
    "    print(str(key) + str(num_dict[key]))"
   ]
  },
  {
   "cell_type": "code",
   "execution_count": null,
   "id": "24885be0",
   "metadata": {},
   "outputs": [],
   "source": []
  },
  {
   "cell_type": "code",
   "execution_count": null,
   "id": "2e052128",
   "metadata": {},
   "outputs": [],
   "source": []
  }
 ],
 "metadata": {
  "kernelspec": {
   "display_name": "Python 3 (ipykernel)",
   "language": "python",
   "name": "python3"
  },
  "language_info": {
   "codemirror_mode": {
    "name": "ipython",
    "version": 3
   },
   "file_extension": ".py",
   "mimetype": "text/x-python",
   "name": "python",
   "nbconvert_exporter": "python",
   "pygments_lexer": "ipython3",
   "version": "3.9.7"
  }
 },
 "nbformat": 4,
 "nbformat_minor": 5
}

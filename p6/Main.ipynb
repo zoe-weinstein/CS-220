{
 "cells": [
  {
   "cell_type": "markdown",
   "id": "75e2c4ac",
   "metadata": {},
   "source": [
    "## project: p6\n",
    "# submitter: zlweinstein\n",
    "# partner: arooney3 \n",
    "# hours: 5"
   ]
  },
  {
   "cell_type": "code",
   "execution_count": 4,
   "id": "d750ccbf",
   "metadata": {},
   "outputs": [],
   "source": [
    "import csv\n",
    "import math\n",
    "def process_csv(filename):\n",
    "    example_file = open(filename, encoding=\"utf-8\")\n",
    "    example_reader = csv.reader(example_file)\n",
    "    example_data = list(example_reader)\n",
    "    example_file.close()\n",
    "    return example_data"
   ]
  },
  {
   "cell_type": "code",
   "execution_count": 5,
   "id": "4ceb4b6f",
   "metadata": {},
   "outputs": [
    {
     "data": {
      "text/plain": [
       "['room_id',\n",
       " 'name',\n",
       " 'host_id',\n",
       " 'host_name',\n",
       " 'neighborhood_group',\n",
       " 'neighborhood',\n",
       " 'latitude',\n",
       " 'longitude',\n",
       " 'room_type',\n",
       " 'price',\n",
       " 'minimum_nights',\n",
       " 'number_of_reviews',\n",
       " 'last_review',\n",
       " 'reviews_per_month',\n",
       " 'calculated_host_listings_count',\n",
       " 'availability_365']"
      ]
     },
     "execution_count": 5,
     "metadata": {},
     "output_type": "execute_result"
    }
   ],
   "source": [
    "csv_rows = process_csv(\"airbnb.csv\")\n",
    "csv_header = csv_rows[0]\n",
    "csv_data = csv_rows[1:] \n",
    "csv_header"
   ]
  },
  {
   "cell_type": "code",
   "execution_count": 6,
   "id": "d6ce7bd2",
   "metadata": {},
   "outputs": [],
   "source": [
    "def cell(row_idx, col_name):\n",
    "    col_idx = csv_header.index(col_name)\n",
    "    val = csv_data[row_idx][col_idx]\n",
    "    if val == \"\":\n",
    "        return None\n",
    "    list_int = [\"price\", \"minimum_nights\", \"number_of_reviews\", \"calculated_host_listing_count\", \"availability_365\"]\n",
    "    if col_name in list_int:\n",
    "        val = int(val)\n",
    "    list_float = [\"latitude\", \"longitude\", \"review_per_month\"]\n",
    "    if col_name in list_float:\n",
    "        return float(val)\n",
    "    return val"
   ]
  },
  {
   "cell_type": "code",
   "execution_count": 7,
   "id": "38b460e1",
   "metadata": {},
   "outputs": [
    {
     "data": {
      "text/plain": [
       "['Brooklyn', 'Bronx', 'Staten Island', 'Queens', 'Manhattan']"
      ]
     },
     "execution_count": 7,
     "metadata": {},
     "output_type": "execute_result"
    }
   ],
   "source": [
    "#Q1: What unique neighborhood groups are included in the Airbnb dataset?\n",
    "neighborhood_group = list()\n",
    "for i in range(len(csv_data)):\n",
    "    groups = cell(i, \"neighborhood_group\")\n",
    "    neighborhood_group.append(groups)\n",
    "list(set(neighborhood_group))\n"
   ]
  },
  {
   "cell_type": "code",
   "execution_count": 8,
   "id": "3bf44153",
   "metadata": {},
   "outputs": [
    {
     "data": {
      "text/plain": [
       "152"
      ]
     },
     "execution_count": 8,
     "metadata": {},
     "output_type": "execute_result"
    }
   ],
   "source": [
    "#Q2: What is the average price of rooms in the Airbnb dataset? (rounded and int)\n",
    "current_price = 0\n",
    "count = 0\n",
    "for i in range(len(csv_data)):\n",
    "    current_price += int(cell(i, \"price\"))\n",
    "    count += 1 \n",
    "average_price = current_price/count\n",
    "math.floor(average_price)"
   ]
  },
  {
   "cell_type": "code",
   "execution_count": 9,
   "id": "8e9ffa62",
   "metadata": {},
   "outputs": [
    {
     "data": {
      "text/plain": [
       "252"
      ]
     },
     "execution_count": 9,
     "metadata": {},
     "output_type": "execute_result"
    }
   ],
   "source": [
    "#Q3: How many rooms are in the neighborhood of Inwood?\n",
    "num_rooms = 0\n",
    "for i in range(len(csv_data)):\n",
    "    if cell(i, \"neighborhood\") == \"Inwood\":\n",
    "        num_rooms += 1\n",
    "num_rooms"
   ]
  },
  {
   "cell_type": "code",
   "execution_count": 10,
   "id": "22c53158",
   "metadata": {},
   "outputs": [],
   "source": [
    "def find_room_names(phrase):\n",
    "    \"\"\"\n",
    "    Returns a list of all the room names that contain the substring (case insensitive match)\n",
    "    passed as an argument to the paramenter `phrase`. \n",
    "    \"\"\"\n",
    "    # TODO: create a list\n",
    "    room_names = list()\n",
    "    for row_idx in range(len(csv_data)):\n",
    "        if cell(row_idx, \"name\") == None:\n",
    "            continue\n",
    "        if phrase.upper() in (cell(row_idx, \"name\").upper()):\n",
    "            room_names.append(cell(row_idx, \"name\"))\n",
    "    return room_names\n",
    "\n",
    "    # TODO: Ignore rooms that do not have data entry for name, as indicated by a value of None.\n",
    "    # TODO: check if the room name string contains phrase (case insensitive match)\n",
    "    # TODO: if so, add these room names to the list (the room names should not be modified)\n",
    "    # TODO: return your list of room names"
   ]
  },
  {
   "cell_type": "code",
   "execution_count": 11,
   "id": "0af0802c",
   "metadata": {},
   "outputs": [
    {
     "data": {
      "text/plain": [
       "['CBG CtyBGd HelpsHaiti rm#1:1-4',\n",
       " 'CBG Helps Haiti Room#2.5',\n",
       " 'CBG Helps Haiti Rm #2',\n",
       " 'CBG# 4Tiny room w/ huge window/AC',\n",
       " 'CBG Helps Haiti Rm #3',\n",
       " 'CBG HelpsHaiti #5 Suite']"
      ]
     },
     "execution_count": 11,
     "metadata": {},
     "output_type": "execute_result"
    }
   ],
   "source": [
    "#Q4: Find all room names that contains string \"CBG\".\n",
    "find_room_names(\"CBG\")"
   ]
  },
  {
   "cell_type": "code",
   "execution_count": 12,
   "id": "3b5fb9df",
   "metadata": {},
   "outputs": [
    {
     "data": {
      "text/plain": [
       "['Cozy studio/kitchen, bathroom',\n",
       " 'Big Kitchen, Beautiful Bathroom',\n",
       " 'JFK Studio Flat with Kitchen and Private bathroom',\n",
       " 'Pvt Room W/Pvt Bathroom; NO KITCHEN!',\n",
       " \"2 Bedrooms & 2 Bathrooms Apt in Hell's Kitchen\",\n",
       " 'Family Room/Kitchen/Shared Bathroom',\n",
       " 'Private room w/ bathroom & kitchen!',\n",
       " '2BR- Private Kitchen + Bathroom-20min to Manhattan',\n",
       " 'Cozy studio w/kitchen & bathroom. Great location',\n",
       " 'PRIVATE BATHROOM  AND KITCHEN AREA',\n",
       " '2 Bedrooms PRIVATE BATHROOM AND KITCHEN',\n",
       " 'The printing studio bedroom with garden in Bedstuy  !!Brooklyn. Historic neighborhood close to everything ! Full kitchen bathroom BBQ and porch at your disposal. Learn to print !!',\n",
       " '2 bedroom 1 bathroom kitchen and living area',\n",
       " 'Private Studio w/Bathroom & Kitchenette',\n",
       " 'Beautiful Private Bed & Bathroom (no kitchen)',\n",
       " 'Suite nearJFK with private bathroom and kitchen',\n",
       " 'Work Friendly, Private Bathroom and Kitchen',\n",
       " 'Back bedroom next to kitchen and bathroom',\n",
       " 'Private room with shared bathroom and kitchen',\n",
       " 'Cozy Room, kitchen bathroom & Patio Brooklyn NY',\n",
       " 'Private Large Bedroom Apt w/ Bathroom (NO KITCHEN)',\n",
       " 'Two Bedrooms with Four Beds, Bathroom, Kitchenette']"
      ]
     },
     "execution_count": 12,
     "metadata": {},
     "output_type": "execute_result"
    }
   ],
   "source": [
    "#Q5: Find all room names that contain both \"kitchen\" and \"bathroom\".\n",
    "kb_room = list()\n",
    "kitchen = find_room_names(\"kitchen\")\n",
    "bathroom = find_room_names(\"bathroom\")\n",
    "for i in range (len(kitchen)):\n",
    "    if kitchen[i] in bathroom:\n",
    "        kb_room.append(kitchen[i])\n",
    "kb_room"
   ]
  },
  {
   "cell_type": "code",
   "execution_count": 13,
   "id": "3382efb5",
   "metadata": {},
   "outputs": [
    {
     "data": {
      "text/plain": [
       "['Elias', 'Leisa', 'Elisa']"
      ]
     },
     "execution_count": 13,
     "metadata": {},
     "output_type": "execute_result"
    }
   ],
   "source": [
    "#Q6: Which host names are anagrams of the word \"aisle\"?\n",
    "anagram_aisle = list()\n",
    "aisle = \"aisle\"\n",
    "for row_idx in range(len(csv_data)):\n",
    "    if cell(row_idx, \"host_name\") == None:\n",
    "        continue\n",
    "    sorted_host_name = sorted(cell(row_idx, \"host_name\").upper())\n",
    "    sorted_aisle = sorted(\"aisle\".upper())\n",
    "    if sorted_host_name == sorted_aisle:\n",
    "        anagram_aisle.append(cell(row_idx, \"host_name\"))\n",
    "list(set(anagram_aisle))\n",
    "\n"
   ]
  },
  {
   "cell_type": "code",
   "execution_count": 14,
   "id": "46e6625a",
   "metadata": {},
   "outputs": [
    {
     "data": {
      "text/plain": [
       "['26785', '31994', '166172', '195233', '699472', '3474320']"
      ]
     },
     "execution_count": 14,
     "metadata": {},
     "output_type": "execute_result"
    }
   ],
   "source": [
    "#Q7: List all room ids that received more than 400 reviews in the Brooklyn neighborhood group.\n",
    "reviews_brooklyn = list()\n",
    "for row_idx in range(len(csv_data)): \n",
    "    room_ids = cell(row_idx, \"room_id\")\n",
    "    num_reviews = cell(row_idx, \"number_of_reviews\")\n",
    "    neighborhood_group = cell(row_idx, \"neighborhood_group\")\n",
    "    if num_reviews == None:\n",
    "        continue\n",
    "    if neighborhood_group == \"Brooklyn\" and int(num_reviews) > 400:\n",
    "        reviews_brooklyn.append(room_ids)\n",
    "reviews_brooklyn"
   ]
  },
  {
   "cell_type": "code",
   "execution_count": 15,
   "id": "f90bf262",
   "metadata": {},
   "outputs": [
    {
     "data": {
      "text/plain": [
       "2.21606648199446"
      ]
     },
     "execution_count": 15,
     "metadata": {},
     "output_type": "execute_result"
    }
   ],
   "source": [
    "#Q8: What percentage of rooms in Manhattan neighborhood group are of shared type (\"Shared room\")?\n",
    "percent_rooms = 0\n",
    "count_man = 0\n",
    "count_room = 0 \n",
    "for row_idx in range(len(csv_data)):\n",
    "    if cell(row_idx, \"neighborhood_group\") == \"Manhattan\":\n",
    "        count_man += 1\n",
    "        if cell(row_idx, \"room_type\") == \"Shared room\":\n",
    "            count_room += 1 \n",
    "            percent_rooms = 100*(count_room / count_man)\n",
    "percent_rooms"
   ]
  },
  {
   "cell_type": "code",
   "execution_count": 16,
   "id": "00aae1e3",
   "metadata": {},
   "outputs": [
    {
     "data": {
      "text/plain": [
       "['391948', '6072842', '7026258', '8482165', '10685496', '13040683']"
      ]
     },
     "execution_count": 16,
     "metadata": {},
     "output_type": "execute_result"
    }
   ],
   "source": [
    "#Q9: Which shared room ids in Queens neighborhood group received their last review in the year 2016 or earlier?\n",
    "room_ids = list()\n",
    "for row_idx in range(len(csv_data)): \n",
    "    if cell(row_idx, \"neighborhood_group\") == None or cell(row_idx, \"last_review\") == None:\n",
    "        continue\n",
    "    if cell(row_idx, \"neighborhood_group\") == \"Queens\" and cell(row_idx, \"room_type\") == \"Shared room\":\n",
    "        date = cell(row_idx, \"last_review\")\n",
    "        if date[0:4] <= \"2016\":\n",
    "            room_ids.append(cell(row_idx, \"room_id\"))\n",
    "room_ids"
   ]
  },
  {
   "cell_type": "code",
   "execution_count": 17,
   "id": "172a8cfb",
   "metadata": {},
   "outputs": [],
   "source": [
    "def availability_per_host_name(search_host_name, search_neighborhood = None):\n",
    "    \"\"\"\n",
    "    Returns a list of availabilities (availability_365) for the rooms with the \n",
    "    specified host_name (case insensitive match) and within the specified neighborhood. \n",
    "    If search_neighborhood is None, returns a list of availabilities for all rooms with \n",
    "    the specified host_name (case insensitive match).\n",
    "    \"\"\" \n",
    "    # TODO: create a list\n",
    "    # TODO: Ignore rooms for which `availability_365` or `host_name` data is missing, as indicated by a value of `None`.\n",
    "    # TODO: add every availability matching the host_name (cast insensitive match) and neighborhood to the list as an int. If search_neighborhood is None you should consider rooms within every neighborhood.\n",
    "    # TODO: return your list of availabilities \n",
    "    availabilities = list()\n",
    "    for row_idx in range(len(csv_data)):\n",
    "        if cell(row_idx, \"host_name\") == None or cell(row_idx, \"availability_365\") == None:\n",
    "            continue\n",
    "        if cell(row_idx, \"host_name\").lower() == search_host_name.lower(): \n",
    "            if search_neighborhood == None:\n",
    "                search_neighborhood = cell(row_idx, \"neighborhood\").lower()\n",
    "            if cell(row_idx, \"neighborhood\").lower() == search_neighborhood.lower():\n",
    "                availabilities.append(cell(row_idx, \"availability_365\"))\n",
    "                availabilities.sort(reverse=True)\n",
    "    return availabilities        \n",
    "    \n",
    "    "
   ]
  },
  {
   "cell_type": "code",
   "execution_count": 18,
   "id": "e5ff15c7",
   "metadata": {},
   "outputs": [
    {
     "data": {
      "text/plain": [
       "[301, 300, 285, 281, 279, 279, 273, 265, 229]"
      ]
     },
     "execution_count": 18,
     "metadata": {},
     "output_type": "execute_result"
    }
   ],
   "source": [
    "#Q10: What are the different availabilities of all rooms in the neighborhood \"Long Island City\" whose host name is \"Leo\"?\n",
    "availability_per_host_name(\"Leo\", \"Long Island City\")\n"
   ]
  },
  {
   "cell_type": "code",
   "execution_count": 19,
   "id": "f5205ca9",
   "metadata": {},
   "outputs": [
    {
     "data": {
      "text/plain": [
       "357"
      ]
     },
     "execution_count": 19,
     "metadata": {},
     "output_type": "execute_result"
    }
   ],
   "source": [
    "#Q11: What is the difference between the most and least availability among all rooms whose host name is \"Pauline\"?\n",
    "highest_avail = 0\n",
    "lowest_avail = highest_avail \n",
    "for row_idx in range(len(csv_data)):\n",
    "    if cell(row_idx, \"host_name\") == \"Pauline\":\n",
    "        current_avail = cell(row_idx, \"availability_365\")\n",
    "        if current_avail > highest_avail:\n",
    "            highest_avail = current_avail \n",
    "        if current_avail < lowest_avail:\n",
    "            lowest_avail = current_avail \n",
    "difference = highest_avail - lowest_avail\n",
    "difference"
   ]
  },
  {
   "cell_type": "code",
   "execution_count": 20,
   "id": "eff3db0a",
   "metadata": {},
   "outputs": [],
   "source": [
    "def find_prices_within(lat_min, lat_max, long_min, long_max):\n",
    "    \"\"\"\n",
    "    Returns a list of prices of all the rooms within the geographical location between and including\n",
    "    the latitudes lat_min and lat_max and longitudes long_min and long_max.\n",
    "    \"\"\"\n",
    "    prices = list()\n",
    "    for row_idx in range(len(csv_data)):\n",
    "        if cell(row_idx, \"price\") == None:\n",
    "            continue\n",
    "        if lat_max >= cell(row_idx, \"latitude\") >= lat_min and long_max >= cell(row_idx, \"longitude\") >= long_min:\n",
    "            prices.append(cell(row_idx, \"price\"))\n",
    "    return prices\n",
    "    \n",
    "    # TODO: create a list\n",
    "    # Ignore rooms that do not have data entry for `price`, as indicated by a value of `None`.\n",
    "    # TODO: if the room is in this region, add the price to the list\n",
    "    # TODO: return the list of prices"
   ]
  },
  {
   "cell_type": "code",
   "execution_count": 21,
   "id": "3369d5fd",
   "metadata": {},
   "outputs": [
    {
     "data": {
      "text/plain": [
       "75"
      ]
     },
     "execution_count": 21,
     "metadata": {},
     "output_type": "execute_result"
    }
   ],
   "source": [
    "#Q12: What is the lowest price room near NYU (40.729 <= latitude <= 40.73, -74.01 <= longitude <= -74.00)??\n",
    "sorted(find_prices_within(40.729, 40.73, -74.01, -74.00))[0]"
   ]
  },
  {
   "cell_type": "code",
   "execution_count": 22,
   "id": "e2544888",
   "metadata": {},
   "outputs": [],
   "source": [
    "def median(some_list):\n",
    "    some_list.sort()\n",
    "    len(some_list)\n",
    "    if len(some_list)%2 !=0:\n",
    "        return some_list[len(some_list)//2]\n",
    "    else:\n",
    "        first_middle = some_list[len(some_list) // 2-1] # use appropriate indexing\n",
    "        second_middle = some_list[len(some_list) // 2] # use appropriate indexing\n",
    "        median = (first_middle + second_middle) / 2\n",
    "        return median"
   ]
  },
  {
   "cell_type": "code",
   "execution_count": 23,
   "id": "620cd3f3",
   "metadata": {},
   "outputs": [
    {
     "data": {
      "text/plain": [
       "100"
      ]
     },
     "execution_count": 23,
     "metadata": {},
     "output_type": "execute_result"
    }
   ],
   "source": [
    "#Q13: What is the median price of the rooms near Columbia University (40.79 <= latitude <= 40.80, -73.96 <= longitude <= -73.95)?\n",
    "sorted_prices_C = sorted(find_prices_within(40.79 , 40.80, -73.96, -73.95))\n",
    "median(sorted_prices_C)\n"
   ]
  },
  {
   "cell_type": "code",
   "execution_count": 24,
   "id": "8eb65b63",
   "metadata": {},
   "outputs": [
    {
     "data": {
      "text/plain": [
       "93.10344827586206"
      ]
     },
     "execution_count": 24,
     "metadata": {},
     "output_type": "execute_result"
    }
   ],
   "source": [
    "#Q14: What percentage of rooms near Rockerfeller Center (40.749 <= latitude <= 40.75, -73.98 <= longitude <= -73.97) have a price more than $100?\n",
    "count = 0 \n",
    "for i in range(len(find_prices_within(40.749, 40.75, -73.98 , -73.97))):\n",
    "    if (find_prices_within(40.749, 40.75, -73.98 , -73.97)[i]) > 100:\n",
    "        count += 1 \n",
    "100*(count/len(find_prices_within(40.749, 40.75, -73.98 , -73.97)))\n"
   ]
  },
  {
   "cell_type": "code",
   "execution_count": 28,
   "id": "6b6e2414",
   "metadata": {},
   "outputs": [],
   "source": [
    "def average_rev_avail(neighborhood):\n",
    "    number = 0\n",
    "    count = 0\n",
    "    for row_idx in range(len(csv_data)):\n",
    "        if cell(row_idx, \"availability_365\") == 0:\n",
    "            continue \n",
    "        if neighborhood == cell(row_idx, \"neighborhood\"):\n",
    "            current_ratio = cell(row_idx, \"number_of_reviews\") / cell(row_idx, \"availability_365\")\n",
    "            number += current_ratio\n",
    "            count += 1\n",
    "            answer = number/count\n",
    "    return answer    "
   ]
  },
  {
   "cell_type": "code",
   "execution_count": 29,
   "id": "c8c34117",
   "metadata": {},
   "outputs": [
    {
     "data": {
      "text/plain": [
       "0.15472762967118855"
      ]
     },
     "execution_count": 29,
     "metadata": {},
     "output_type": "execute_result"
    }
   ],
   "source": [
    "#Q15: What is the average ratio of the number of reviews to availability in the neighborhood Arrochar?\n",
    "average_rev_avail(\"Arrochar\")"
   ]
  },
  {
   "cell_type": "code",
   "execution_count": 30,
   "id": "435cfcc5",
   "metadata": {},
   "outputs": [
    {
     "data": {
      "text/plain": [
       "0.22369125775160625"
      ]
     },
     "execution_count": 30,
     "metadata": {},
     "output_type": "execute_result"
    }
   ],
   "source": [
    "#Q16: What is the average ratio of the number of reviews to availability in the neighborhood Tompkinsville?\n",
    "average_rev_avail(\"Tompkinsville\")"
   ]
  },
  {
   "cell_type": "code",
   "execution_count": null,
   "id": "bd9cca04",
   "metadata": {},
   "outputs": [],
   "source": []
  }
 ],
 "metadata": {
  "kernelspec": {
   "display_name": "Python 3 (ipykernel)",
   "language": "python",
   "name": "python3"
  },
  "language_info": {
   "codemirror_mode": {
    "name": "ipython",
    "version": 3
   },
   "file_extension": ".py",
   "mimetype": "text/x-python",
   "name": "python",
   "nbconvert_exporter": "python",
   "pygments_lexer": "ipython3",
   "version": "3.9.7"
  }
 },
 "nbformat": 4,
 "nbformat_minor": 5
}

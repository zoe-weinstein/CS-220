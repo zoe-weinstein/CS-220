{
 "cells": [
  {
   "cell_type": "code",
   "execution_count": 1,
   "metadata": {},
   "outputs": [],
   "source": [
    "# project: p2\n",
    "# submitter: zlweinstein\n",
    "# partner: none\n",
    "# hours: 1.5                                                                                                                 "
   ]
  },
  {
   "cell_type": "markdown",
   "metadata": {},
   "source": [
    "*Before we start*, click on View->Toggle Line Numbers. You should be able to see line numbers in a margin to the left now. If you already had line numbers enabled, keep them enabled."
   ]
  },
  {
   "cell_type": "code",
   "execution_count": 2,
   "metadata": {},
   "outputs": [],
   "source": [
    "# For now, just read the code in this cell. It will come into play during q12.\n",
    "my_first_int = \"200\""
   ]
  },
  {
   "cell_type": "code",
   "execution_count": 3,
   "metadata": {},
   "outputs": [
    {
     "data": {
      "text/plain": [
       "8760"
      ]
     },
     "execution_count": 3,
     "metadata": {},
     "output_type": "execute_result"
    }
   ],
   "source": [
    "#q1: What is 365 * 24 ?\n",
    "365 * 24"
   ]
  },
  {
   "cell_type": "code",
   "execution_count": 4,
   "metadata": {},
   "outputs": [
    {
     "data": {
      "text/plain": [
       "80235"
      ]
     },
     "execution_count": 4,
     "metadata": {},
     "output_type": "execute_result"
    }
   ],
   "source": [
    "#q2: What is 12345 + 67890 ?\n",
    "12345 + 67890\n",
    "# Do not hard-code the answer, that is do not just type 80235. \n",
    "# You should be typing the expression from the above question.\n"
   ]
  },
  {
   "cell_type": "code",
   "execution_count": 5,
   "metadata": {},
   "outputs": [
    {
     "data": {
      "text/plain": [
       "int"
      ]
     },
     "execution_count": 5,
     "metadata": {},
     "output_type": "execute_result"
    }
   ],
   "source": [
    "#q3: What is the type of 123 * 321 ?\n",
    "\n",
    "# We did this one for you...\n",
    "\n",
    "type(123 * 321)"
   ]
  },
  {
   "cell_type": "code",
   "execution_count": 6,
   "metadata": {},
   "outputs": [
    {
     "data": {
      "text/plain": [
       "float"
      ]
     },
     "execution_count": 6,
     "metadata": {},
     "output_type": "execute_result"
    }
   ],
   "source": [
    "#q4: What is the type of 123.0 * 321 ?\n",
    "type(123.0 * 321)\n",
    "# Do you see the difference? Fill in the blank below:\n",
    "# \"What is different is that the first was an integer this one is a float.\"\n",
    "\n",
    "# Then answer q4 below\n"
   ]
  },
  {
   "cell_type": "code",
   "execution_count": 7,
   "metadata": {},
   "outputs": [
    {
     "data": {
      "text/plain": [
       "int"
      ]
     },
     "execution_count": 7,
     "metadata": {},
     "output_type": "execute_result"
    }
   ],
   "source": [
    "# q5: What is the type of 321 // 123 ?\n",
    "type(321//123)\n"
   ]
  },
  {
   "cell_type": "code",
   "execution_count": 8,
   "metadata": {},
   "outputs": [
    {
     "data": {
      "text/plain": [
       "7"
      ]
     },
     "execution_count": 8,
     "metadata": {},
     "output_type": "execute_result"
    }
   ],
   "source": [
    "# q6: If you have 95 eggs, and can put 12 eggs in one carton, \n",
    "# how many cartons can you fill completely?\n",
    "\n",
    "# Use the floor division (//) operator to answer this.\n",
    "95//12"
   ]
  },
  {
   "cell_type": "code",
   "execution_count": 9,
   "metadata": {},
   "outputs": [
    {
     "data": {
      "text/plain": [
       "11"
      ]
     },
     "execution_count": 9,
     "metadata": {},
     "output_type": "execute_result"
    }
   ],
   "source": [
    "#q7: Let's say the answer to q6 is C cartons.\n",
    "# If you have 95 eggs, and can put 12 eggs in one carton,\n",
    "# how many eggs will be left over after filling all C cartons?\n",
    "\n",
    "# Use the modulo (%) operator to answer this\n",
    "(95%12)"
   ]
  },
  {
   "cell_type": "code",
   "execution_count": 10,
   "metadata": {},
   "outputs": [
    {
     "data": {
      "text/plain": [
       "bool"
      ]
     },
     "execution_count": 10,
     "metadata": {},
     "output_type": "execute_result"
    }
   ],
   "source": [
    "#q8: What is the type of False ?\n",
    "type(False)\n"
   ]
  },
  {
   "cell_type": "code",
   "execution_count": 11,
   "metadata": {},
   "outputs": [
    {
     "data": {
      "text/plain": [
       "str"
      ]
     },
     "execution_count": 11,
     "metadata": {},
     "output_type": "execute_result"
    }
   ],
   "source": [
    "#q9: What is the type of \"False\" ?  \n",
    "type('False')\n"
   ]
  },
  {
   "cell_type": "code",
   "execution_count": 12,
   "metadata": {},
   "outputs": [
    {
     "data": {
      "text/plain": [
       "bool"
      ]
     },
     "execution_count": 12,
     "metadata": {},
     "output_type": "execute_result"
    }
   ],
   "source": [
    "#q10: What is the type of 220 < 320 ?\n",
    "type(220<320)\n"
   ]
  },
  {
   "cell_type": "code",
   "execution_count": 13,
   "metadata": {},
   "outputs": [
    {
     "data": {
      "text/plain": [
       "':-(:-(:-(:-(:-(:-(:-(:-(:-(:-(:-):-):-):-):-):-):-):-):-):-):-):-):-):-):-):-):-):-):-):-)'"
      ]
     },
     "execution_count": 13,
     "metadata": {},
     "output_type": "execute_result"
    }
   ],
   "source": [
    "#q11: Please fix the following to display 10 sad smileys and 20 happy smileys\n",
    "\n",
    "# You should not hard-code the expected output, by copy-pasting it into the cell. \n",
    "# You should fix the parts of the below expression to produce the output.\n",
    "\n",
    "\":-(\"*10 + \":-)\"*20"
   ]
  },
  {
   "cell_type": "code",
   "execution_count": 14,
   "metadata": {},
   "outputs": [
    {
     "data": {
      "text/plain": [
       "2000"
      ]
     },
     "execution_count": 14,
     "metadata": {},
     "output_type": "execute_result"
    }
   ],
   "source": [
    "#q12: This is a very common bug \n",
    "# that 220 students run into during later projects. \n",
    "# Let's see if you can debug this!\n",
    "\n",
    "# Alice has written some code at the bottom of this cell.\n",
    "# She wants to multiply two ints together.\n",
    "# She knows that the value of my_first_int \n",
    "# is supposed to be 200 and 200*10 is 2000... but for some reason, \n",
    "# the result is WAY off! See the code at the bottom of this cell.\n",
    "\n",
    "# Time to investigate! Where is the value of my_first_int defined?\n",
    "# I don't see it in this cell... \n",
    "# Maybe scroll up and see if you can find it!\n",
    "\n",
    "# Did you find it? Why do you think Alice is getting the wrong answer? \n",
    "# Fix the answer, by making the correct assignment for my_first_int as \n",
    "# the first line of code in this cell\n",
    "\n",
    "my_second_int = 10\n",
    "my_first_int = 200\n",
    "my_first_int * my_second_int"
   ]
  },
  {
   "cell_type": "code",
   "execution_count": 15,
   "metadata": {},
   "outputs": [
    {
     "data": {
      "text/plain": [
       "944.0761410000001"
      ]
     },
     "execution_count": 15,
     "metadata": {},
     "output_type": "execute_result"
    }
   ],
   "source": [
    "#q13: I have a cube with a side length of 9.81. What is its volume?\n",
    "# Use the exponent operator (**) to answer this.\n",
    "\n",
    "side = 9.81\n",
    "\n",
    "# Uncomment 2 lines of code below, but only edit the first line\n",
    "# By uncomment, we mean delete the \"#\" in front of the line\n",
    "volume = side**3\n",
    "volume"
   ]
  },
  {
   "cell_type": "code",
   "execution_count": 16,
   "metadata": {},
   "outputs": [
    {
     "data": {
      "text/plain": [
       "5.0"
      ]
     },
     "execution_count": 16,
     "metadata": {},
     "output_type": "execute_result"
    }
   ],
   "source": [
    "#q14: Remember slopes and intercepts from algebra?\n",
    "# Train 1 starts at the 100 mile mark and is traveling at 70mph.\n",
    "# Train 2 starts at the 150 mile mark and is traveling at 60mph.\n",
    "# In how many hours will Train 1 catch up to Train 2?\n",
    "\n",
    "# This will come in handy for p3.\n",
    "\n",
    "train1_start = 100\n",
    "train2_start = 150\n",
    "\n",
    "train1_speed = 70\n",
    "train2_speed = 60\n",
    "\n",
    "# some hints:\n",
    "# we want train1_speed*time + train1_start = train2_speed*time + train2_start\n",
    "# Use algebra to solve for time. \n",
    "# define time as an algebraic expression that uses the 4 variables above\n",
    "\n",
    "# Uncomment below lines and edit the first line\n",
    "time = abs(train1_start-train2_start)/((train1_speed-train2_speed))\n",
    "time"
   ]
  },
  {
   "cell_type": "markdown",
   "metadata": {},
   "source": [
    "## Boolean Word Problems\n",
    "\n",
    "We're now going to do a few word problems. The most important skill you're going to learn in this class is translating English to code. This will be good practice!"
   ]
  },
  {
   "cell_type": "code",
   "execution_count": 17,
   "metadata": {},
   "outputs": [
    {
     "data": {
      "text/plain": [
       "True"
      ]
     },
     "execution_count": 17,
     "metadata": {},
     "output_type": "execute_result"
    }
   ],
   "source": [
    "#q15: Let's figure out if Charlie can safely operate his truck.\n",
    "\n",
    "# The maximum trailer weight for his truck is 40000 pounds.\n",
    "TRAILER_LIMIT = 40000\n",
    "\n",
    "# Charlie's trailer weighs 20000 pounds.\n",
    "trailer_weight = 20000\n",
    "\n",
    "# Is Charlie's trailer below the weight limit? Write an expression \n",
    "# that checks and outputs True if so. \n",
    "\n",
    "# Uncomment the line below, and replace ??? with the correct comparison operator\n",
    "trailer_weight <= TRAILER_LIMIT"
   ]
  },
  {
   "cell_type": "code",
   "execution_count": 18,
   "metadata": {},
   "outputs": [
    {
     "data": {
      "text/plain": [
       "True"
      ]
     },
     "execution_count": 18,
     "metadata": {},
     "output_type": "execute_result"
    }
   ],
   "source": [
    "#q16: Great! Looks like the trailer is below weight for his truck.\n",
    "# To safely drive his truck across a bridge, \n",
    "# the sum of the weights of Charlie's truck and trailer must be \n",
    "# AT MOST 25000 pounds\n",
    "\n",
    "TOTAL_LIMIT_FOR_BRIDGE = 25000\n",
    "\n",
    "# Recall that Charlie's trailer weighs 20000 pounds\n",
    "trailer_weight = 10000 # CHANGE this value\n",
    "\n",
    "# Charlie's truck weighs 6000 pounds\n",
    "truck_weight = 6000 \n",
    "\n",
    "# Looks like the total weight is too much for the bridge! \n",
    "# Reduce trailer_weight so that the total weight is\n",
    "# below the limit! Do NOT change any other values.\n",
    "\n",
    "# DO NOT CHANGE THIS LINE\n",
    "truck_weight+trailer_weight <= TOTAL_LIMIT_FOR_BRIDGE"
   ]
  },
  {
   "cell_type": "markdown",
   "metadata": {},
   "source": [
    "Here's a rough guide for translations between English and comparison operators.\n",
    "\n",
    "\"x is at most y\", \"x is no more than y\" -> `x <= y`  \n",
    "\"x is less than y\", \"x is below y\", \"x is under y\" -> `x < y`  \n",
    "\"x is at least y\" -> `x >= y`  \n",
    "\"x is more than y\", \"x is above y\" -> `x > y`  \n",
    "\"x is equal to y\" -> `x == y`  \n",
    "\n",
    "You can use the above translations as verification for your q15 and q16 solutions."
   ]
  },
  {
   "cell_type": "code",
   "execution_count": 19,
   "metadata": {},
   "outputs": [
    {
     "data": {
      "text/plain": [
       "True"
      ]
     },
     "execution_count": 19,
     "metadata": {},
     "output_type": "execute_result"
    }
   ],
   "source": [
    "#q17: Daphne wants to go trick-or-treating.\n",
    "# To do so, she must either make a costume or buy one.\n",
    "# Also, she must walk around AND knock on doors.\n",
    "\n",
    "make_costume = False\n",
    "buy_costume = True\n",
    "\n",
    "walk_around = True\n",
    "knock_on_doors = True\n",
    "\n",
    "\n",
    "# Seems like Daphne is currently not successful at trick-or-treating. \n",
    "# What is she missing? Change ONE value above to make the expression\n",
    "# below True.\n",
    "\n",
    "# DO NOT CHANGE THIS LINE\n",
    "(make_costume or buy_costume) and (walk_around and knock_on_doors)"
   ]
  },
  {
   "cell_type": "code",
   "execution_count": 20,
   "metadata": {},
   "outputs": [
    {
     "data": {
      "text/plain": [
       "False"
      ]
     },
     "execution_count": 20,
     "metadata": {},
     "output_type": "execute_result"
    }
   ],
   "source": [
    "#q18: This question will make use of the not operator.\n",
    "\n",
    "# Edith wants to buy a shirt. She wants either a long and dark shirt or\n",
    "# a short and bright shirt.\n",
    "\n",
    "long = True\n",
    "dark = False\n",
    "\n",
    "# It seems that she found a shirt that's long and not dark.\n",
    "# Does this meet her criteria? The expression at the bottom \n",
    "# attempts to check.\n",
    "\n",
    "# It's currently outputting True, even though this shirt doesn't \n",
    "# meet her criteria. How can we change this expression to correctly\n",
    "# check the conditions specified above?\n",
    "\n",
    "# ONLY CHANGE THIS LINE\n",
    "(long and dark) or (not long and not dark)"
   ]
  },
  {
   "cell_type": "code",
   "execution_count": 21,
   "metadata": {},
   "outputs": [
    {
     "data": {
      "text/plain": [
       "False"
      ]
     },
     "execution_count": 21,
     "metadata": {},
     "output_type": "execute_result"
    }
   ],
   "source": [
    "#q19: Here's another common bug.\n",
    "\n",
    "# Francis wants to check if his lottery number is a winner.\n",
    "# Here's his number:\n",
    "\n",
    "f_num = 55\n",
    "\n",
    "# And here are all the winners:\n",
    "winner1 = -55\n",
    "winner2 = 56\n",
    "winner3 = 54\n",
    "winner4 = 550\n",
    "\n",
    "# Did Francis win? The expression below attempts to check.\n",
    "\n",
    "# Why is this outputting a number? We want a boolean value.\n",
    "# How do we fix this?\n",
    "\n",
    "# In lab-p2, there was a section on \"Correct way to write boolean expressions\" \n",
    "# Now would be a good time to go back and refresh that.\n",
    "\n",
    "# ONLY CHANGE THIS LINE\n",
    "f_num == winner1 or f_num == winner2 or f_num == winner3 or f_num == winner4"
   ]
  },
  {
   "cell_type": "code",
   "execution_count": 22,
   "metadata": {},
   "outputs": [
    {
     "data": {
      "text/plain": [
       "50.0"
      ]
     },
     "execution_count": 22,
     "metadata": {},
     "output_type": "execute_result"
    }
   ],
   "source": [
    "#q20: Let's look at one last common bug.\n",
    "\n",
    "# MegaCorp has a market share of 20%. \n",
    "# UltraCorp has a market share of 30%.\n",
    "# How much bigger is UltraCorp's market share, as a percentage of\n",
    "# MegaCorp's?\n",
    "\n",
    "mega = 20\n",
    "ultra = 30\n",
    "\n",
    "#ONLY CHANGE THIS LINE\n",
    "difference = (ultra/mega - 1)*100\n",
    "\n",
    "# We know that 30 is 50% bigger than 20. That's because 20 * 1.5 = 30.\n",
    "# So the answer is supposed to be 50, but right now the result is -98.5.\n",
    "# We have an order of operations problem! This looks like a job for \n",
    "# parentheses.\n",
    "\n",
    "# Add parentheses to line 12 to fix the problem.\n",
    "\n",
    "difference"
   ]
  },
  {
   "cell_type": "code",
   "execution_count": null,
   "metadata": {},
   "outputs": [],
   "source": []
  }
 ],
 "metadata": {
  "anaconda-cloud": {},
  "kernelspec": {
   "display_name": "Python 3 (ipykernel)",
   "language": "python",
   "name": "python3"
  },
  "language_info": {
   "codemirror_mode": {
    "name": "ipython",
    "version": 3
   },
   "file_extension": ".py",
   "mimetype": "text/x-python",
   "name": "python",
   "nbconvert_exporter": "python",
   "pygments_lexer": "ipython3",
   "version": "3.9.7"
  }
 },
 "nbformat": 4,
 "nbformat_minor": 4
}
